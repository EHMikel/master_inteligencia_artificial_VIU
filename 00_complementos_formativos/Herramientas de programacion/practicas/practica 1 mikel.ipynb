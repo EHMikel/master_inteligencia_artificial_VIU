{
 "cells": [
  {
   "cell_type": "markdown",
   "id": "abb8a73d",
   "metadata": {},
   "source": [
    "Utilizar programación modular, diseñando y usando funciones en programas con Python que\n",
    "contengan datos estructurados inmutables – strings y mutables – listas, incluyendo listas de listas."
   ]
  },
  {
   "cell_type": "markdown",
   "id": "7f3d0b50",
   "metadata": {},
   "source": [
    "# Identificador válido\n",
    "\n",
    "Para que los identificadores o nombres de las variables o funciones sean\n",
    "válidos deben comenzar e incluir letras a..z. (minúscula o mayúscula) o el guión bajo (_).\n",
    "Pueden incluir también números (0..9) pero que no sean el primer carácter del identificador.\n",
    "Diseña una función FirstChar(s) que, dado un string s (no vacío), nos devuelva True o False\n",
    "si el string es válido o no para identificar o dar nombre a una variable o función1"
   ]
  },
  {
   "cell_type": "code",
   "execution_count": 1,
   "id": "e1a4c268",
   "metadata": {},
   "outputs": [],
   "source": [
    "# >>> FirstChar('paciente001')\n",
    "# True\n",
    "# >>> FirstChar('P001')\n",
    "# True\n",
    "# >>> FirstChar('1Pac')\n",
    "# False\n",
    "# >>> FirstChar('_001')\n",
    "# True\n",
    "# >>> FirstChar(':p001')\n",
    "# False"
   ]
  },
  {
   "cell_type": "code",
   "execution_count": 2,
   "id": "ca863aa4",
   "metadata": {},
   "outputs": [],
   "source": [
    "def FirstChar(s):\n",
    "    \n",
    "    # si s esta vacio o no es de tipo str lanzara un error de input no válido\n",
    "    \n",
    "    if len(s) < 1 or type(s) != str:\n",
    "        raise ValueError('invalid input') # podría retornar directamente False también\n",
    "        \n",
    "    # importo las librerias que necesito ya que no hay garantias de que esten importadas fuera de la funcion\n",
    "        \n",
    "    from string import ascii_lowercase\n",
    "    from string import punctuation\n",
    "    \n",
    "    # meto punctuation en una lista y quito '_' de la misma ya que es el único caracter válido\n",
    "    # se le añade el espacio ' ' que tampoco es valido\n",
    "    \n",
    "    punc = list(punctuation)\n",
    "    punc.remove('_')\n",
    "    punc.append(' ')\n",
    "    \n",
    "    # intento pasar a tipo int el primer item de s, si es existoso retornara False\n",
    "    \n",
    "    try: \n",
    "        int(s[0])\n",
    "        \n",
    "    except ValueError: # si falla, que es lo que queremos, no hará nada\n",
    "        pass\n",
    "        \n",
    "    else: # si es exitoso\n",
    "        return False\n",
    "\n",
    "\n",
    "    for item in s:\n",
    "        \n",
    "        # si el item esta dentro de punctuation menos el '_' retornará False\n",
    "        \n",
    "        if item in punc: \n",
    "            return False\n",
    "    \n",
    "    # si ha llegado hasta aqui s es un identificador válido\n",
    "    return True\n",
    "\n",
    "    "
   ]
  },
  {
   "cell_type": "code",
   "execution_count": 3,
   "id": "023dd4ef",
   "metadata": {},
   "outputs": [
    {
     "data": {
      "text/plain": [
       "False"
      ]
     },
     "execution_count": 3,
     "metadata": {},
     "output_type": "execute_result"
    }
   ],
   "source": [
    "FirstChar(' ')"
   ]
  },
  {
   "cell_type": "code",
   "execution_count": 4,
   "id": "bf6a9e4e",
   "metadata": {},
   "outputs": [
    {
     "name": "stdout",
     "output_type": "stream",
     "text": [
      "True\n",
      "True\n",
      "False\n",
      "True\n",
      "False\n"
     ]
    }
   ],
   "source": [
    "print(FirstChar('paciente001'))\n",
    "print(FirstChar('P001'))\n",
    "print(FirstChar('1Pac'))\n",
    "print(FirstChar('_001'))\n",
    "print(FirstChar(':p001'))"
   ]
  },
  {
   "cell_type": "markdown",
   "id": "c584a04d",
   "metadata": {},
   "source": [
    "# Porcentaje de vocales\n",
    "\n",
    "Escribe una función porcentVocal(s) en que dado un string s, la función devuelva el porcentaje de vocales que contiene el string. Deben considerarse vocales minúsculas y mayúsculas. Devolver el resultado con un decimal de precisión. Consideraremos que las vocales están sin tilde o acento gráfico. Se valorará prever el caso que se envíe como argumento un string vacío."
   ]
  },
  {
   "cell_type": "code",
   "execution_count": 5,
   "id": "2f860e0d",
   "metadata": {},
   "outputs": [],
   "source": [
    "# >>> porcentVocal('Hola')\n",
    "# 50.0\n",
    "# >>> porcentVocal('Acacia')\n",
    "# 66.7\n",
    "# >>> porcentVocal('Brrrrrrr')\n",
    "# 0.0\n",
    "# >>> porcentVocal('aAe')\n",
    "# 100.0"
   ]
  },
  {
   "cell_type": "code",
   "execution_count": 6,
   "id": "28ab9ec4",
   "metadata": {},
   "outputs": [],
   "source": [
    "def porcentVocal(s):\n",
    "    \n",
    "    # si s esta vacio o no es de tipo str lanzara un error de input no válido\n",
    "    \n",
    "    if len(s) < 1 or type(s) != str:\n",
    "        raise ValueError('invalid input')\n",
    "        \n",
    "    contador_voc = 0\n",
    "    \n",
    "    vocales = 'aeiou'\n",
    "    \n",
    "    for item in s:\n",
    "        \n",
    "        if item.lower() in vocales:\n",
    "            \n",
    "            contador_voc += 1\n",
    "        \n",
    "    return round((contador_voc/len(s))*100, 1)\n",
    "\n",
    "# no se han tenido en cuenta espacios, ni numeros, ni caracteres especiales"
   ]
  },
  {
   "cell_type": "code",
   "execution_count": 7,
   "id": "c0023dd7",
   "metadata": {},
   "outputs": [
    {
     "name": "stdout",
     "output_type": "stream",
     "text": [
      "50.0\n",
      "66.7\n",
      "0.0\n",
      "100.0\n"
     ]
    }
   ],
   "source": [
    "print(porcentVocal('Hola'))\n",
    "print(porcentVocal('Acacia'))\n",
    "print(porcentVocal('Brrrrrrr'))\n",
    "print(porcentVocal('aAe'))"
   ]
  },
  {
   "cell_type": "markdown",
   "id": "46771c72",
   "metadata": {},
   "source": [
    "# Nuevo string\n",
    "\n",
    "Diseña una función nuevo_string (s, n) que, dado un string s y un entero\n",
    "n ≥ 0, devuelva el string resultante de repetir cada vocal de s exactamente n veces en el lugar\n",
    "donde se encuentra situada en s."
   ]
  },
  {
   "cell_type": "code",
   "execution_count": 8,
   "id": "e5618288",
   "metadata": {},
   "outputs": [],
   "source": [
    "# >>> nuevo_string('Charleston', 2)\n",
    "# 'Chaarleestoon'\n",
    "# >>> nuevo_string('RDT11', 1)\n",
    "# 'RDT11'\n",
    "# >>> nuevo_string('H2O', 3)\n",
    "# 'H2OOO'"
   ]
  },
  {
   "cell_type": "code",
   "execution_count": 9,
   "id": "7f0a43a2",
   "metadata": {},
   "outputs": [],
   "source": [
    "def nuevo_string(s, n):\n",
    "    \n",
    "    if len(s) < 1 or type(s) != str or n < 0 or type(n) != int:\n",
    "        raise ValueError('invalid input')\n",
    "        \n",
    "    vocales = 'aeiou' \n",
    "    \n",
    "    for item in s:\n",
    "        \n",
    "        if item.lower() in vocales:\n",
    "            \n",
    "            s = s.replace(item, n*item)\n",
    "            \n",
    "    return s "
   ]
  },
  {
   "cell_type": "code",
   "execution_count": 10,
   "id": "5671d4fa",
   "metadata": {},
   "outputs": [
    {
     "name": "stdout",
     "output_type": "stream",
     "text": [
      "Chaarleestoon\n",
      "RDT11\n",
      "H2OOO\n"
     ]
    }
   ],
   "source": [
    "print(nuevo_string('Charleston', 2))\n",
    "print(nuevo_string('RDT11', 1))\n",
    "print(nuevo_string('H2O', 3))"
   ]
  },
  {
   "cell_type": "markdown",
   "id": "9a7052ff",
   "metadata": {},
   "source": [
    "# Notas al pie de página\n",
    "\n",
    "Diseña una función notas_al_pie(s) que, dado un string s formado sólo por letras, signos de puntuación y asteriscos que indican una llamada a una nota al pie de página, devuelva un string donde cada asterisco es sustituido por un número entre\n",
    "paréntesis que indica el número de nota. El primer * se substituye por (1), el segundo por (2), etc."
   ]
  },
  {
   "cell_type": "code",
   "execution_count": 11,
   "id": "307e3794",
   "metadata": {},
   "outputs": [],
   "source": [
    "# >>> notas_al_pie('Esta es la primera nota*; y esta la segunda*.')\n",
    "# 'Esta es la primera nota(1); y esta la segunda(2).'\n",
    "# >>> notas_al_pie('Esta frase no tiene notas. Esta otra tampoco.')\n",
    "# 'Esta frase no tiene notas. Esta otra tampoco.'\n",
    "# >>> notas_al_pie('*,*. *.')\n",
    "# '(1),(2). (3).'\n",
    "# >>> notas_al_pie('*')\n",
    "# '(1)'\n",
    "# >>> notas_al_pie('')\n",
    "# ''"
   ]
  },
  {
   "cell_type": "code",
   "execution_count": 12,
   "id": "a9a94834",
   "metadata": {},
   "outputs": [],
   "source": [
    "def notas_al_pie(s):\n",
    "    \n",
    "    # esta función si admite strings vacíos\n",
    "    \n",
    "    if type(s) != str:\n",
    "        raise ValueError('invalid input')\n",
    "          \n",
    "    cuenta_notas = 1\n",
    "    s = list(s) # paso s a una lista\n",
    "\n",
    "    for n in range(len(s)): # lo recorro por indexación\n",
    "\n",
    "        if s[n] == '*':\n",
    "\n",
    "            s.remove('*') # elimino el asterisco\n",
    "            s.insert(n,f'({cuenta_notas})') # en la misma posicion inserto lo que quiero\n",
    "            cuenta_notas +=1\n",
    "\n",
    "    s = ''.join(s) # vuelvo a unir todo en un string\n",
    "    \n",
    "    return s"
   ]
  },
  {
   "cell_type": "code",
   "execution_count": 13,
   "id": "ac45dd4d",
   "metadata": {},
   "outputs": [
    {
     "name": "stdout",
     "output_type": "stream",
     "text": [
      "Esta es la primera nota(1); y esta la segunda(2).\n",
      "(1),(2). (3).\n",
      "\n"
     ]
    }
   ],
   "source": [
    "print(notas_al_pie('Esta es la primera nota*; y esta la segunda*.'))\n",
    "print(notas_al_pie('*,*. *.'))\n",
    "print(notas_al_pie(''))"
   ]
  },
  {
   "cell_type": "markdown",
   "id": "26967b88",
   "metadata": {},
   "source": [
    "# Calcula código\n",
    "\n",
    "Dado un string s que contiene los nombres y apellidos de una persona, diseña\n",
    "la función codigo(s) que devuelva el string ini + str(count), donde ini contiene las iniciales\n",
    "de la persona (las letras mayúsculas de s) y count es el número total de letras de sus nombres\n",
    "y apellidos (es decir, las letras de s sin contar caracteres blancos o espacios)."
   ]
  },
  {
   "cell_type": "code",
   "execution_count": 14,
   "id": "41865f13",
   "metadata": {},
   "outputs": [],
   "source": [
    "# >>> codigo('Mireia Belmonte García')\n",
    "# 'MBG20'\n",
    "# >>> codigo('Bruce Frederick Joseph Springsteen')\n",
    "# 'BFJS31'\n",
    "# >>> codigo('')\n",
    "# ''\n",
    "# >>> codigo('Gerard Piqué Bernabéu')\n",
    "# 'GPB19'\n",
    "# >>> codigo('Sergio Ramos García')\n",
    "# 'SRG17'"
   ]
  },
  {
   "cell_type": "code",
   "execution_count": 15,
   "id": "9a61c55d",
   "metadata": {},
   "outputs": [],
   "source": [
    "def codigo(s):\n",
    "    \n",
    "    if len(s) < 1 or type(s) != str:\n",
    "        raise ValueError('invalid input')\n",
    "    \n",
    "    contador = 0\n",
    "    codigo = ''\n",
    "    \n",
    "    from string import ascii_uppercase\n",
    "    \n",
    "    for item in s:\n",
    "        \n",
    "        if item != ' ':\n",
    "            \n",
    "            if item in ascii_uppercase:\n",
    "                \n",
    "                codigo += item\n",
    "        \n",
    "            contador += 1\n",
    "        \n",
    "    codigo += f'{contador}'\n",
    "    \n",
    "    return codigo"
   ]
  },
  {
   "cell_type": "code",
   "execution_count": 16,
   "id": "d6a4a6c5",
   "metadata": {},
   "outputs": [
    {
     "name": "stdout",
     "output_type": "stream",
     "text": [
      "MBG20\n",
      "BFJS31\n",
      "GPB19\n",
      "SRG17\n"
     ]
    }
   ],
   "source": [
    "print(codigo('Mireia Belmonte García'))\n",
    "print(codigo('Bruce Frederick Joseph Springsteen'))\n",
    "print(codigo('Gerard Piqué Bernabéu'))\n",
    "print(codigo('Sergio Ramos García'))"
   ]
  },
  {
   "cell_type": "markdown",
   "id": "2688b481",
   "metadata": {},
   "source": [
    "# Contador de hidrógenos\n",
    "\n",
    "Una fórmula química es una representación convencional de los\n",
    "elementos que forman un compuesto. Por ejemplo, el 1-2-butadiol sería C2H5O, que se\n",
    "representa con el string 'C2H5O'. También pueden aparecer elementos químicos de dos\n",
    "caracteres como el calcio Ca en CaCO3 ( 'CaCO3') o el hierro Fe en Fe3O4 ( 'Fe3O4'). En estos\n",
    "casos el segundo carácter del símbolo siempre es una minúscula. Diseña la función\n",
    "contar_hidrogenos(s) que, dado un string s con un compuesto como los descritos antes,\n",
    "devuelve el número de átomos de hidrógeno que contiene. Para simplificar el problema,\n",
    "limitaremos el número que puede seguir el símbolo de un elemento a un valor entre 2 y 9."
   ]
  },
  {
   "cell_type": "code",
   "execution_count": 17,
   "id": "e02098a5",
   "metadata": {},
   "outputs": [],
   "source": [
    "# >>> contar_hidrogenos('HIO')\n",
    "# 1\n",
    "# >>> contar_hidrogenos('H2O')\n",
    "# 2\n",
    "# >>> contar_hidrogenos('C2H5O')\n",
    "# 5\n",
    "# >>> contar_hidrogenos('Fe3O4')\n",
    "# 0\n",
    "# >>> contar_hidrogenos('C2OH')\n",
    "# 1"
   ]
  },
  {
   "cell_type": "code",
   "execution_count": 18,
   "id": "e07280f2",
   "metadata": {},
   "outputs": [],
   "source": [
    "def contar_hidrogenos(s):\n",
    "    \n",
    "    if len(s) < 1 or type(s) != str:\n",
    "        raise ValueError('invalid input')\n",
    "    \n",
    "    elif 'H' in s:\n",
    "        \n",
    "        pos_h = s.find('H')\n",
    "        pos_h_mas1 = pos_h + 1\n",
    "\n",
    "        try:\n",
    "\n",
    "            h = int(s[pos_h_mas1])\n",
    "\n",
    "        except ValueError: # si el try falla\n",
    "\n",
    "            return 1\n",
    "        \n",
    "        except IndexError: # si H esta en la última posicion\n",
    "            \n",
    "            return 1\n",
    "\n",
    "        else: # si el try es existoso \n",
    "\n",
    "            return h \n",
    "    \n",
    "    return 0"
   ]
  },
  {
   "cell_type": "code",
   "execution_count": 19,
   "id": "14b3aa87",
   "metadata": {},
   "outputs": [
    {
     "name": "stdout",
     "output_type": "stream",
     "text": [
      "1\n",
      "5\n",
      "0\n",
      "2\n",
      "1\n"
     ]
    }
   ],
   "source": [
    "print(contar_hidrogenos('HIO'))\n",
    "print(contar_hidrogenos('C2H5O'))\n",
    "print(contar_hidrogenos('Fe3O4'))\n",
    "print(contar_hidrogenos('H2O'))\n",
    "print(contar_hidrogenos('C2OH'))"
   ]
  },
  {
   "cell_type": "markdown",
   "id": "575bd984",
   "metadata": {},
   "source": [
    "# Diseña la función mediaTempRang(lst)\n",
    "\n",
    "en que, dada una lista lst de medidas de temperatura en ºC de un experimento, calcule y devuelva el valor medio de aquellas\n",
    "temperaturas de la lista que estén en el rango de 15 a 45 ºC, inclusive [15, 45]. Devolver el resultado redondeado a 2 cifras decimales. También considerar el caso en que ninguna medida de temperatura de la lista esté en el rango dado. En este caso la función devuelve el valor -1."
   ]
  },
  {
   "cell_type": "code",
   "execution_count": 20,
   "id": "b2ed4af1",
   "metadata": {},
   "outputs": [],
   "source": [
    "# >>> lst1 = [34.5, 12.9, 15, 43, 51.4, 23.4]\n",
    "# >>> mediaTempRang(lst1)\n",
    "# 28.98\n",
    "# >>> mediaTempRang([45.5, 12.9, 15, 32.5, 51.4, 21.2])\n",
    "# 22.9\n",
    "# >>> mediaTempRang([14.5, 12.6, 47.8])\n",
    "# -1\n",
    "# >>> mediaTempRang([15, 16, 14, 50, 17])\n",
    "# 16.0"
   ]
  },
  {
   "cell_type": "code",
   "execution_count": 21,
   "id": "9e708940",
   "metadata": {},
   "outputs": [],
   "source": [
    "def mediaTempRang(lst):\n",
    "    \n",
    "    if type(lst) != list or len(lst) < 1:\n",
    "        \n",
    "        raise ValueError('invalid input')\n",
    "        \n",
    "    temps_en_rango = [n for n in lst if 15 <= n <= 45]\n",
    "    \n",
    "    if len(temps_en_rango) == 0:\n",
    "        \n",
    "        return -1\n",
    "    \n",
    "    import numpy as np # no hay garantias de que este importada fuera de la funcion\n",
    "    \n",
    "    return np.mean(temps_en_rango).round(2) #  equivalente a: sum(temps_en_rango)/len(temps_en_rango)"
   ]
  },
  {
   "cell_type": "code",
   "execution_count": 22,
   "id": "ff147fd0",
   "metadata": {},
   "outputs": [
    {
     "name": "stdout",
     "output_type": "stream",
     "text": [
      "28.98\n",
      "22.9\n",
      "-1\n",
      "16.0\n"
     ]
    }
   ],
   "source": [
    "lst1 = [34.5, 12.9, 15, 43, 51.4, 23.4]\n",
    "print(mediaTempRang(lst1))\n",
    "print(mediaTempRang([45.5, 12.9, 15, 32.5, 51.4, 21.2]))\n",
    "print(mediaTempRang([14.5, 12.6, 47.8]))\n",
    "print(mediaTempRang([15, 16, 14, 50, 17]))"
   ]
  },
  {
   "cell_type": "markdown",
   "id": "e739c860",
   "metadata": {},
   "source": [
    "# El umbral de nivel de presión del sonido (sound pressure level, SPL)\n",
    "\n",
    "del oído humano es aproximadamente de 20 P a frecuencias medias de la voz. Este valor se considera el nivel de\n",
    "presión de sonido (SPL) de referencia, 0 dB (20log10(20/20)). La función SPL_dB(P) recibe una presión acústica en P, y devuelve su equivalente en dB. Diseñar la función detect2ndNdB(lst, N), en que dada una lista lst de valores de nivel de\n",
    "presión de sonido (SPL) en P, y un valor N (dB), busque y devuelva el valor de la segunda presión SPL que sea al menos de N dB. Por ejemplo, N = 30 dB es el nivel de un susurro en el oído, N = 50 dB es el nivel de una conversación normal, N = 80 dB es el nivel de ruido en una calle con tráfico. En caso de no encontrar una segunda presión SPL se ha de devolver -1.\n",
    "Notas: (i) Se debe usar la función SPL_dB(P) que convierte en dB la presión de entrada en P. (ii) Se debe buscar la 2ª presión de acuerdo a la ubicación en la lista original del argumento."
   ]
  },
  {
   "cell_type": "code",
   "execution_count": 23,
   "id": "834ea663",
   "metadata": {},
   "outputs": [],
   "source": [
    "# >>> detect2ndNdB([90, 590, 750, 632, 650, 660, 2000, 789, 545], 30)\n",
    "# 650\n",
    "# >>> detect2ndNdB([90,590,750,632, 650, 900, 2000, 789, 545], 30)\n",
    "# 650\n",
    "# >>> detect2ndNdB([90,590,750,632, 650, 900, 2000, 789, 545], 33)\n",
    "# 2000\n",
    "# >>> detect2ndNdB([90,590,750,632, 630, 600, 200, 589, 545], 30)\n",
    "# -1\n",
    "# >>> detect2ndNdB([9e3,1e4,1.1e5,2.2e5, 1.3e6, 2.5e6, 3.2e6], 83)\n",
    "# 2500000.0\n",
    "# >>> detect2ndNdB([2000, 2450.5, 2500 , 456.7, 1567.8], 42)\n",
    "# -1"
   ]
  },
  {
   "cell_type": "code",
   "execution_count": 24,
   "id": "dfe1bc1e",
   "metadata": {},
   "outputs": [
    {
     "data": {
      "text/plain": [
       "0.0"
      ]
     },
     "execution_count": 24,
     "metadata": {},
     "output_type": "execute_result"
    }
   ],
   "source": [
    "from math import log10\n",
    "\n",
    "20*log10(20/20) # nivel de referencia 0"
   ]
  },
  {
   "cell_type": "code",
   "execution_count": 25,
   "id": "a12af6c0",
   "metadata": {},
   "outputs": [],
   "source": [
    "# P es la presion acustica en micropascales\n",
    "# la funcion devuelve decibelios\n",
    "\n",
    "def SPL_dB(P):\n",
    "    return 20*log10(P/20)"
   ]
  },
  {
   "cell_type": "code",
   "execution_count": 26,
   "id": "d004907d",
   "metadata": {},
   "outputs": [
    {
     "data": {
      "text/plain": [
       "30.23766721957749"
      ]
     },
     "execution_count": 26,
     "metadata": {},
     "output_type": "execute_result"
    }
   ],
   "source": [
    "SPL_dB(650)"
   ]
  },
  {
   "cell_type": "code",
   "execution_count": 27,
   "id": "06d10783",
   "metadata": {},
   "outputs": [],
   "source": [
    "def detect2ndNdB(lst, N):\n",
    "    \n",
    "    if type(lst) != list or len(lst) < 1 or N <= 0: # comprobamos los inputs \n",
    "        \n",
    "        raise ValueError('invalid inputs')\n",
    "        \n",
    "    dB_sup_a_N = [presion for presion in lst if SPL_dB(presion) >= N] # metemos las presiones que superen N dBs\n",
    "    \n",
    "    if len(dB_sup_a_N) <= 1: # si hay menos o igual a 1 elemento en la lista devolvemos -1\n",
    "        return -1\n",
    "    \n",
    "    return dB_sup_a_N[1] # devolvemos el segundo item de la lista segun el orden de la lista original"
   ]
  },
  {
   "cell_type": "code",
   "execution_count": 28,
   "id": "2ac3df16",
   "metadata": {},
   "outputs": [
    {
     "name": "stdout",
     "output_type": "stream",
     "text": [
      "650\n",
      "650\n",
      "2000\n",
      "-1\n",
      "2500000.0\n",
      "-1\n"
     ]
    }
   ],
   "source": [
    "print(detect2ndNdB([90, 590, 750, 632, 650, 660, 2000, 789, 545], 30))\n",
    "print(detect2ndNdB([90,590,750,632, 650, 900, 2000, 789, 545], 30))\n",
    "print(detect2ndNdB([90,590,750,632, 650, 900, 2000, 789, 545], 33))\n",
    "print(detect2ndNdB([90,590,750,632, 630, 600, 200, 589, 545], 30))\n",
    "print(detect2ndNdB([9e3,1e4,1.1e5,2.2e5, 1.3e6, 2.5e6, 3.2e6], 83))\n",
    "print(detect2ndNdB([2000, 2450.5, 2500 , 456.7, 1567.8], 42))"
   ]
  },
  {
   "cell_type": "markdown",
   "id": "b2117ee0",
   "metadata": {},
   "source": [
    "# Primos pitagóricos\n",
    "\n",
    "Diseña la función primoPitagoric2(lst) en que, dada una lista de\n",
    "números enteros positivos no repetidos, devuelva una lista con los 2 primeros números\n",
    "primos pitagóricos. Si no hubiera al menos 2 primos pitagóricos la función devuelve -1\n",
    "Un número primo es pitagórico si se puede escribir como la suma de dos cuadrados. Por\n",
    "ejemplo 5 = 22 + 11 o 13 = 22 + 32. Fermat demostró que un primo pitagórico p es igual a 4k +\n",
    "1, para algún valor de k entero positivo. Esta condición se puede expresar como: un número\n",
    "primo p es pitagórico si p modulo 4 es igual a 1, es decir si el residuo de dividir p entre 4 es 1."
   ]
  },
  {
   "cell_type": "code",
   "execution_count": 29,
   "id": "5a698c4a",
   "metadata": {},
   "outputs": [],
   "source": [
    "# >>> primoPitagoric2([3, 4, 5, 6, 7, 8, 9, 10, 11, 12, 13])\n",
    "# [5, 13]\n",
    "# >>> primoPitagoric2([5, 9, 13, 17, 21, 25, 29, 33, 37, 41])\n",
    "# [5, 13]\n",
    "# >>> primoPitagoric2([41, 45, 49, 53, 57, 61, 65, 69, 73, 77, 81])\n",
    "# [41, 53]\n",
    "# >>> primoPitagoric2([3, 4, 5, 6, 7, 8, 9, 10])\n",
    "# -1\n",
    "# >>> lista = [81, 85, 89, 93, 97, 101, 105, 109, 113, 117, 121]\n",
    "# >>> primoPitagoric2(lista)\n",
    "# [89, 97]"
   ]
  },
  {
   "cell_type": "code",
   "execution_count": 30,
   "id": "bbcde2f2",
   "metadata": {},
   "outputs": [],
   "source": [
    "def es_primo(n):\n",
    "    if n <= 1: return False\n",
    "    \n",
    "    for d in range(2, n//2+1):\n",
    "        if n % d == 0:\n",
    "            return False\n",
    "    return True"
   ]
  },
  {
   "cell_type": "code",
   "execution_count": 31,
   "id": "96eef874",
   "metadata": {},
   "outputs": [],
   "source": [
    "def primoPitagoric2(lst):\n",
    "    \n",
    "    if type(lst) != list or len(lst) < 2:\n",
    "        \n",
    "        raise ValueError('invalid input')\n",
    "        \n",
    "    primo_pita = [num for num in lst if es_primo(num) and num%4 == 1]\n",
    "    \n",
    "    if len(primo_pita) <2:\n",
    "        \n",
    "        return -1\n",
    "    \n",
    "    return primo_pita[:2]   "
   ]
  },
  {
   "cell_type": "code",
   "execution_count": 32,
   "id": "ba68a2aa",
   "metadata": {},
   "outputs": [
    {
     "name": "stdout",
     "output_type": "stream",
     "text": [
      "[5, 13]\n",
      "[5, 13]\n",
      "[41, 53]\n",
      "-1\n",
      "[89, 97]\n"
     ]
    }
   ],
   "source": [
    "print(primoPitagoric2([3, 4, 5, 6, 7, 8, 9, 10, 11, 12, 13]))\n",
    "print(primoPitagoric2([5, 9, 13, 17, 21, 25, 29, 33, 37, 41]))\n",
    "print(primoPitagoric2([41, 45, 49, 53, 57, 61, 65, 69, 73, 77, 81]))\n",
    "print(primoPitagoric2([3, 4, 5, 6, 7, 8, 9, 10]))\n",
    "lista = [81, 85, 89, 93, 97, 101, 105, 109, 113, 117, 121]\n",
    "print(primoPitagoric2(lista))"
   ]
  },
  {
   "cell_type": "markdown",
   "id": "0d147bcb",
   "metadata": {},
   "source": [
    "# Contar positivos\n",
    "\n",
    "Dada una lista de listas que representa una matriz cuadrada m, diseña una\n",
    "función contar_pos(m), que cuente los números positivos que tiene. Ejemplo:"
   ]
  },
  {
   "cell_type": "code",
   "execution_count": 33,
   "id": "48923d04",
   "metadata": {},
   "outputs": [],
   "source": [
    "# contar_pos([[1, -2, 3],[-4,5,6],[7,8,-9]]) = 6"
   ]
  },
  {
   "cell_type": "code",
   "execution_count": 34,
   "id": "835a1352",
   "metadata": {},
   "outputs": [],
   "source": [
    "def contar_pos(lista_de_listas):\n",
    "    \n",
    "    if type(lista_de_listas) != list or len(lista_de_listas) <1:\n",
    "        \n",
    "        raise ValueError('invalid input')\n",
    "        \n",
    "    # podria comprobar si dentro de las listas hay listas tambien, pero no es el objetivo\n",
    "    \n",
    "    contador = 0\n",
    "    \n",
    "    for lista_num in lista_de_listas:\n",
    "        \n",
    "        for num in lista_num:\n",
    "            \n",
    "            if num > 0:\n",
    "                \n",
    "                contador += 1\n",
    "                \n",
    "    return contador"
   ]
  },
  {
   "cell_type": "code",
   "execution_count": 35,
   "id": "713f5618",
   "metadata": {},
   "outputs": [
    {
     "data": {
      "text/plain": [
       "6"
      ]
     },
     "execution_count": 35,
     "metadata": {},
     "output_type": "execute_result"
    }
   ],
   "source": [
    "contar_pos([[1, -2, 3],[-4,5,6],[7,8,-9]])"
   ]
  },
  {
   "cell_type": "markdown",
   "id": "c4200999",
   "metadata": {},
   "source": [
    "# Mayor densidad\n",
    "\n",
    "Se dispone del nombre, masa y volumen de un planeta almacenado en una\n",
    "lista: [nombre, masa, volumen]. Además, se tiene una lista de planetas como una lista de listas\n",
    "de la forma: [[nombre1, masa1, volumen1], [nombre2, masa2, volumen2], ...].\n",
    "Diseña la función mas_denso(Lst), en que dada una lista de planetas Lst, nos devuelva el\n",
    "nombre del planeta más denso de esa lista. Si hubiera más de uno con la misma densidad, se\n",
    "devuelve el primero que encuentre en la lista original. Ejemplo:"
   ]
  },
  {
   "cell_type": "code",
   "execution_count": 36,
   "id": "db751e0a",
   "metadata": {},
   "outputs": [],
   "source": [
    "# >>> mas_denso([['Marte', 1, 2], ['Tierra', 2, 3], ['Venus', 1, 3]])\n",
    "# 'Tierra'"
   ]
  },
  {
   "cell_type": "code",
   "execution_count": 37,
   "id": "e1773735",
   "metadata": {},
   "outputs": [],
   "source": [
    "def mas_denso(lista_de_listas):\n",
    "    \n",
    "    if type(lista_de_listas) != list or len(lista_de_listas) <1:\n",
    "        \n",
    "        raise ValueError('invalid input')\n",
    "        \n",
    "    # podria comprobar si dentro de las listas hay listas tambien, pero no es el objetivo\n",
    "    \n",
    "    mas_denso = None\n",
    "    densidad = 0\n",
    "    \n",
    "    for lista in lista_de_listas:\n",
    "        \n",
    "        if lista[1]/lista[2] > densidad:\n",
    "            \n",
    "            mas_denso = lista[0]\n",
    "            densidad = lista[1]/lista[2]\n",
    "            \n",
    "    return mas_denso"
   ]
  },
  {
   "cell_type": "code",
   "execution_count": 38,
   "id": "2fd534dd",
   "metadata": {},
   "outputs": [
    {
     "data": {
      "text/plain": [
       "'Tierra'"
      ]
     },
     "execution_count": 38,
     "metadata": {},
     "output_type": "execute_result"
    }
   ],
   "source": [
    "mas_denso([['Marte', 1, 2], ['Tierra', 2, 3], ['Venus', 1, 3]])"
   ]
  },
  {
   "cell_type": "markdown",
   "id": "b1ced0a6",
   "metadata": {},
   "source": [
    "# Fútbol\n",
    "\n",
    "Se dispone en una lista (equipo) de listas (jugadores) con los registros de los\n",
    "jugadores. En cada registro se guarda: su número de dorsal, nombre, si es comunitario o no\n",
    "(booleano, comunitario: True), edad y la distancia recorrida en kilómetros en los partidos\n",
    "jugados en el último mes.\n",
    "No todos los jugadores han jugado todos los partidos del mes, por lo que aparecerá solo la\n",
    "distancia recorrida de los partidos jugados.\n",
    "\n",
    "Diseñar una función jugComKm(equipo, x) en que, dada una lista de un equipo de futbol y\n",
    "un número x de kilómetros recorridos, nos devuelva la lista de nombres de los jugadores\n",
    "comunitarios que han recorrido de media (promedio) más de x km en los partidos jugados.\n",
    "De no encontrarse jugadores con este recorrido, se devolverá la lista vacía.\n",
    "Notas: pudiera haber algún jugador sin partidos jugados y en este caso el promedio lo\n",
    "consideramos 0.\n",
    "Se valorará devolver la lista de nombres ordenada alfabéticamente."
   ]
  },
  {
   "cell_type": "code",
   "execution_count": 39,
   "id": "e7c084a6",
   "metadata": {},
   "outputs": [],
   "source": [
    "# lst_equipo = [[3, 'Pique', True, 33, 10.2, 9.0], \\\n",
    "# [4, 'Ramos', True, 34, 11.0, 11.1, 9.8, 8.5], \\\n",
    "# [6, 'Koke', True, 27, 7.5, 9.6, 10.3, 6.5, 5.6], \\\n",
    "# [7, 'Joao', True, 25, 10.5, 8.4, 9.0, 8.6], \\\n",
    "# [8, 'Saul', True, 24, 9.5, 8.9, 10.0, 9.6], \\\n",
    "# [9, 'Suarez', False, 33, 8.6, 7.5], \\\n",
    "# [10, 'Lionel', False, 33, 10.0, 11.1, 9.8, 8.5,10.1], \\\n",
    "# [19, 'Odriozola', True, 25, 9.5], \\\n",
    "# [14, 'Araujo', False, 21, 8.9, 9.5], \\\n",
    "# [15, 'Valverde', False, 22, 9.9, 10.2], \\\n",
    "# [16, 'Pedri', True, 18, 10.5, 11, 9.5, 10.6], \\\n",
    "# [22, 'Hermoso', False, 23, 10, 7.5, 6.6], \\\n",
    "# [23, 'Iago', True, 33, 11.1, 9.0, 9.3, 8.8]]\n",
    "# >>> jugComKm(lst_equipo, 10)\n",
    "# ['Pedri', 'Ramos']\n",
    "# >>> jugComKm(lst_equipo, 10.2)\n",
    "# ['Pedri']\n",
    "# >>> jugComKm(lst_equipo, 10.5)\n",
    "# []\n",
    "# >>> jugComKm(lst_equipo, 9.5)\n",
    "# ['Iago', 'Pedri', 'Pique', 'Ramos']\n",
    "# >>> jugComKm(lst_equipo, 9.4)\n",
    "# ['Iago', 'Odriozola', 'Pedri', 'Pique', 'Ramos', 'Saul']"
   ]
  },
  {
   "cell_type": "code",
   "execution_count": 40,
   "id": "34d444ec",
   "metadata": {},
   "outputs": [],
   "source": [
    "def jugComKm(lst, x):\n",
    "    \n",
    "    if type(lst) != list or len(lst) <1:\n",
    "        \n",
    "        raise ValueError('invalid input')\n",
    "        \n",
    "    import numpy as np\n",
    "    \n",
    "    jug_y_km_prom = [[jugador[1], np.mean(jugador[4:])] for jugador in lst]\n",
    "    \n",
    "    jug_mas_de_x_km = [item[0] for item in jug_y_km_prom if item[1] >= x]\n",
    "    \n",
    "    jug_mas_de_x_km.sort()\n",
    "    \n",
    "    return jug_mas_de_x_km"
   ]
  },
  {
   "cell_type": "code",
   "execution_count": 41,
   "id": "92293fde",
   "metadata": {},
   "outputs": [
    {
     "name": "stdout",
     "output_type": "stream",
     "text": [
      "['Pedri', 'Ramos', 'Valverde']\n",
      "['Pedri']\n",
      "[]\n",
      "['Iago', 'Lionel', 'Odriozola', 'Pedri', 'Pique', 'Ramos', 'Saul', 'Valverde']\n",
      "['Iago', 'Lionel', 'Odriozola', 'Pedri', 'Pique', 'Ramos', 'Saul', 'Valverde']\n"
     ]
    }
   ],
   "source": [
    "lst_equipo = [[3, 'Pique', True, 33, 10.2, 9.0], \\\n",
    "[4, 'Ramos', True, 34, 11.0, 11.1, 9.8, 8.5], \\\n",
    "[6, 'Koke', True, 27, 7.5, 9.6, 10.3, 6.5, 5.6], \\\n",
    "[7, 'Joao', True, 25, 10.5, 8.4, 9.0, 8.6], \\\n",
    "[8, 'Saul', True, 24, 9.5, 8.9, 10.0, 9.6], \\\n",
    "[9, 'Suarez', False, 33, 8.6, 7.5], \\\n",
    "[10, 'Lionel', False, 33, 10.0, 11.1, 9.8, 8.5,10.1], \\\n",
    "[19, 'Odriozola', True, 25, 9.5], \\\n",
    "[14, 'Araujo', False, 21, 8.9, 9.5], \\\n",
    "[15, 'Valverde', False, 22, 9.9, 10.2], \\\n",
    "[16, 'Pedri', True, 18, 10.5, 11, 9.5, 10.6], \\\n",
    "[22, 'Hermoso', False, 23, 10, 7.5, 6.6], \\\n",
    "[23, 'Iago', True, 33, 11.1, 9.0, 9.3, 8.8]]\n",
    "\n",
    "\n",
    "print(jugComKm(lst_equipo, 10))\n",
    "\n",
    "print(jugComKm(lst_equipo, 10.2))\n",
    "\n",
    "print(jugComKm(lst_equipo, 10.5))\n",
    "\n",
    "print(jugComKm(lst_equipo, 9.5))\n",
    "\n",
    "print(jugComKm(lst_equipo, 9.4))"
   ]
  },
  {
   "cell_type": "markdown",
   "id": "3766bf94",
   "metadata": {},
   "source": [
    "## no cuadran los resultados mostrados"
   ]
  },
  {
   "cell_type": "code",
   "execution_count": 42,
   "id": "9a804f98",
   "metadata": {},
   "outputs": [],
   "source": [
    "import numpy as np"
   ]
  },
  {
   "cell_type": "code",
   "execution_count": 43,
   "id": "0b9cb0de",
   "metadata": {},
   "outputs": [
    {
     "name": "stdout",
     "output_type": "stream",
     "text": [
      "km promedio de lionel = 9.9\n",
      "km promedio de valverde = 10.05\n"
     ]
    }
   ],
   "source": [
    "# no cuadran los nombres lionel y valverde, voy a calcular la media de su kilometraje para cada uno\n",
    "\n",
    "lionel = [10.0, 11.1, 9.8, 8.5,10.1]\n",
    "valverde = [9.9, 10.2]\n",
    "\n",
    "\n",
    "\n",
    "print(f'km promedio de lionel = {np.mean(lionel).round(2)}')\n",
    "print(f'km promedio de valverde = {np.mean(valverde).round(2)}')"
   ]
  },
  {
   "cell_type": "markdown",
   "id": "9379808a",
   "metadata": {},
   "source": [
    "Parece que mi resultados son los correctos"
   ]
  }
 ],
 "metadata": {
  "kernelspec": {
   "display_name": "Python 3 (ipykernel)",
   "language": "python",
   "name": "python3"
  },
  "language_info": {
   "codemirror_mode": {
    "name": "ipython",
    "version": 3
   },
   "file_extension": ".py",
   "mimetype": "text/x-python",
   "name": "python",
   "nbconvert_exporter": "python",
   "pygments_lexer": "ipython3",
   "version": "3.10.6"
  },
  "toc": {
   "base_numbering": 1,
   "nav_menu": {},
   "number_sections": true,
   "sideBar": true,
   "skip_h1_title": false,
   "title_cell": "Table of Contents",
   "title_sidebar": "Contents",
   "toc_cell": false,
   "toc_position": {},
   "toc_section_display": true,
   "toc_window_display": true
  }
 },
 "nbformat": 4,
 "nbformat_minor": 5
}
