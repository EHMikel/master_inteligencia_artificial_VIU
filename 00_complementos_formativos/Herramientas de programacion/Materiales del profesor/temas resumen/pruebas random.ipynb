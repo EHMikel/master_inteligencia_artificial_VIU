{
 "cells": [
  {
   "cell_type": "code",
   "execution_count": 7,
   "id": "62d6142d",
   "metadata": {},
   "outputs": [],
   "source": [
    "class cuadrado:\n",
    "    \n",
    "    def __init__(self, diagonal):\n",
    "        #self.__diagonal = diagonal\n",
    "        self.cuadrado = diagonal\n",
    "    \n",
    "    @property\n",
    "    def cuadrado(self):\n",
    "        print(\"Estoy dando la diagonal\")\n",
    "        return self.diagonal\n",
    "\n",
    "    @cuadrado.setter\n",
    "    def cuadrado(self, diagonal):\n",
    "        if diagonal >= 0:\n",
    "            self.diagonal = diagonal\n",
    "        else:\n",
    "            print(\"La diagonal debe ser positiva\")\n",
    "            self.diagonal = 0"
   ]
  },
  {
   "cell_type": "code",
   "execution_count": 9,
   "id": "af0b2b32",
   "metadata": {},
   "outputs": [
    {
     "name": "stdout",
     "output_type": "stream",
     "text": [
      "Estoy dando la diagonal\n",
      "2\n"
     ]
    }
   ],
   "source": [
    "x = cuadrado(2)\n",
    "print(x.cuadrado)"
   ]
  },
  {
   "cell_type": "code",
   "execution_count": 10,
   "id": "1a871979",
   "metadata": {},
   "outputs": [
    {
     "name": "stdout",
     "output_type": "stream",
     "text": [
      "La diagonal debe ser positiva\n",
      "Estoy dando la diagonal\n",
      "0\n"
     ]
    }
   ],
   "source": [
    "y = cuadrado(-2)\n",
    "print(y.cuadrado)"
   ]
  },
  {
   "cell_type": "code",
   "execution_count": null,
   "id": "f627f59e",
   "metadata": {},
   "outputs": [],
   "source": []
  }
 ],
 "metadata": {
  "kernelspec": {
   "display_name": "Python 3 (ipykernel)",
   "language": "python",
   "name": "python3"
  },
  "language_info": {
   "codemirror_mode": {
    "name": "ipython",
    "version": 3
   },
   "file_extension": ".py",
   "mimetype": "text/x-python",
   "name": "python",
   "nbconvert_exporter": "python",
   "pygments_lexer": "ipython3",
   "version": "3.9.13"
  },
  "toc": {
   "base_numbering": 1,
   "nav_menu": {},
   "number_sections": true,
   "sideBar": true,
   "skip_h1_title": false,
   "title_cell": "Table of Contents",
   "title_sidebar": "Contents",
   "toc_cell": false,
   "toc_position": {},
   "toc_section_display": true,
   "toc_window_display": false
  }
 },
 "nbformat": 4,
 "nbformat_minor": 5
}
