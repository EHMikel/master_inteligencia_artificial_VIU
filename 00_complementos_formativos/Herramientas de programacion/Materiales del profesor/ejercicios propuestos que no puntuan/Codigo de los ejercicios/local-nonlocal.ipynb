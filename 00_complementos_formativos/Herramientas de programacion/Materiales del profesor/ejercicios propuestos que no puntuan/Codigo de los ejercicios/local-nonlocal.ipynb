{
 "cells": [
  {
   "cell_type": "code",
   "execution_count": 9,
   "id": "2db6b968",
   "metadata": {},
   "outputs": [],
   "source": [
    "# aqui es el espacio de nombres global\n",
    "\n",
    "def scope_test():\n",
    "    \n",
    "    # aqui es el espacio de nombres non local\n",
    "    \n",
    "    \n",
    "    def do_local():\n",
    "        spam = \"local spam\"\n",
    "        \n",
    "        # aqui es el espacio de nombres local\n",
    "        \n",
    "    def do_nonlocal():\n",
    "        nonlocal spam\n",
    "        spam =\"nonlocal spam\"\n",
    "\n",
    "    def do_global():\n",
    "        global spam\n",
    "        spam = \"global spam\"\n",
    "    \n",
    "    spam = \"test spam\" # este es el non local\n",
    "    do_local()\n",
    "    print((\"After local assignment:\",spam)) # aqui va a printear el de non local\n",
    "\n",
    "    do_nonlocal()\n",
    "    print((\"After nonlocal assignment:\",spam)) # aqui hemos cambiado el spam de non local\n",
    "\n",
    "    do_global()\n",
    "    print((\"After global assignment:\", spam)) \n",
    "    # aqui hemos asignado el espacio de nombres global, pero no altera en non local"
   ]
  },
  {
   "cell_type": "code",
   "execution_count": 10,
   "id": "f47d7f34",
   "metadata": {},
   "outputs": [
    {
     "name": "stdout",
     "output_type": "stream",
     "text": [
      "('After local assignment:', 'test spam')\n",
      "('After nonlocal assignment:', 'nonlocal spam')\n",
      "('After global assignment:', 'nonlocal spam')\n",
      "('In global scope:', 'global spam')\n"
     ]
    }
   ],
   "source": [
    "scope_test()\n",
    "print((\"In global scope:\", spam))"
   ]
  },
  {
   "cell_type": "code",
   "execution_count": null,
   "id": "5246740a",
   "metadata": {},
   "outputs": [],
   "source": []
  }
 ],
 "metadata": {
  "kernelspec": {
   "display_name": "Python 3 (ipykernel)",
   "language": "python",
   "name": "python3"
  },
  "language_info": {
   "codemirror_mode": {
    "name": "ipython",
    "version": 3
   },
   "file_extension": ".py",
   "mimetype": "text/x-python",
   "name": "python",
   "nbconvert_exporter": "python",
   "pygments_lexer": "ipython3",
   "version": "3.10.6"
  },
  "toc": {
   "base_numbering": 1,
   "nav_menu": {},
   "number_sections": true,
   "sideBar": true,
   "skip_h1_title": false,
   "title_cell": "Table of Contents",
   "title_sidebar": "Contents",
   "toc_cell": false,
   "toc_position": {},
   "toc_section_display": true,
   "toc_window_display": false
  }
 },
 "nbformat": 4,
 "nbformat_minor": 5
}
