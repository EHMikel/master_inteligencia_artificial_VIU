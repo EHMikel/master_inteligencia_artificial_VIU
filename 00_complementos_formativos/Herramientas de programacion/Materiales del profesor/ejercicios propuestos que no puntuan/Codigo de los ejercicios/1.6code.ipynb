{
 "cells": [
  {
   "cell_type": "markdown",
   "id": "fcf674ac",
   "metadata": {},
   "source": [
    "# 1. Determinar el valor de las expresiones aritméticas siguientes (y luego comprobar el resultado en el intérprete de Python):\n",
    "\n",
    "- 2 + 7 // 3 * 2 – 15\n",
    "- 32 % 4 + 12 – 4 * 3\n",
    "- 42 // 8 – 3 * 14 + 6\n",
    "- 24/5**2 – 0.96\n",
    "- 3 * 5 % 4 + 11 // 4 * 3"
   ]
  },
  {
   "cell_type": "code",
   "execution_count": 1,
   "id": "d9e0137e",
   "metadata": {},
   "outputs": [
    {
     "data": {
      "text/plain": [
       "-9"
      ]
     },
     "execution_count": 1,
     "metadata": {},
     "output_type": "execute_result"
    }
   ],
   "source": [
    "2 + 7 // 3 * 2 -15 # -9"
   ]
  },
  {
   "cell_type": "code",
   "execution_count": 2,
   "id": "de6b9c02",
   "metadata": {},
   "outputs": [
    {
     "data": {
      "text/plain": [
       "0"
      ]
     },
     "execution_count": 2,
     "metadata": {},
     "output_type": "execute_result"
    }
   ],
   "source": [
    "32 % 4 + 12 - 4 * 3 # 0"
   ]
  },
  {
   "cell_type": "code",
   "execution_count": 3,
   "id": "f1e06cd0",
   "metadata": {},
   "outputs": [
    {
     "data": {
      "text/plain": [
       "-31"
      ]
     },
     "execution_count": 3,
     "metadata": {},
     "output_type": "execute_result"
    }
   ],
   "source": [
    "42 // 8 - 3 * 14 + 6 #-30"
   ]
  },
  {
   "cell_type": "code",
   "execution_count": 4,
   "id": "36c6572e",
   "metadata": {},
   "outputs": [
    {
     "data": {
      "text/plain": [
       "0.0"
      ]
     },
     "execution_count": 4,
     "metadata": {},
     "output_type": "execute_result"
    }
   ],
   "source": [
    "24/5**2 - 0.96 #0"
   ]
  },
  {
   "cell_type": "code",
   "execution_count": 5,
   "id": "69b2bd3d",
   "metadata": {},
   "outputs": [
    {
     "data": {
      "text/plain": [
       "9"
      ]
     },
     "execution_count": 5,
     "metadata": {},
     "output_type": "execute_result"
    }
   ],
   "source": [
    "3 * 5 % 4 + 11 // 4 * 3 #18"
   ]
  },
  {
   "cell_type": "markdown",
   "id": "771d31ed",
   "metadata": {},
   "source": [
    "# Determinar el valor de las expresiones lógicas siguientes (y luego comprobar el resultado en el intérprete de Python):\n",
    "- True and not False or False\n",
    "-  False or False or True\n",
    "-  not (False or False) and True\n",
    "-  not False and not False and True"
   ]
  },
  {
   "cell_type": "code",
   "execution_count": 6,
   "id": "44ac341e",
   "metadata": {},
   "outputs": [
    {
     "data": {
      "text/plain": [
       "True"
      ]
     },
     "execution_count": 6,
     "metadata": {},
     "output_type": "execute_result"
    }
   ],
   "source": [
    "True and not False or False # True"
   ]
  },
  {
   "cell_type": "code",
   "execution_count": 7,
   "id": "73d894e4",
   "metadata": {},
   "outputs": [
    {
     "data": {
      "text/plain": [
       "True"
      ]
     },
     "execution_count": 7,
     "metadata": {},
     "output_type": "execute_result"
    }
   ],
   "source": [
    "False or False or True # True"
   ]
  },
  {
   "cell_type": "code",
   "execution_count": 8,
   "id": "64ea822b",
   "metadata": {},
   "outputs": [
    {
     "data": {
      "text/plain": [
       "True"
      ]
     },
     "execution_count": 8,
     "metadata": {},
     "output_type": "execute_result"
    }
   ],
   "source": [
    "not (False or False) and True # True"
   ]
  },
  {
   "cell_type": "code",
   "execution_count": 9,
   "id": "04f4c8ef",
   "metadata": {},
   "outputs": [
    {
     "data": {
      "text/plain": [
       "True"
      ]
     },
     "execution_count": 9,
     "metadata": {},
     "output_type": "execute_result"
    }
   ],
   "source": [
    "not False and not False and True # True"
   ]
  },
  {
   "cell_type": "markdown",
   "id": "668d4e94",
   "metadata": {},
   "source": [
    "# Determinar si las expresiones tienen sintaxis correcta. En caso de que sea válida la sintaxis, determinar su valor, y en el caso contrario justificar el error:\n",
    "- 1 + 2 * 3 % 2 – 1\n",
    "- 1 >= 7 % 2\n",
    "- 1 % 2 > 0.5\n",
    "- True or not and (2 > 1)\n",
    "- (7.5 – 3) // 3 == 1.5\n",
    "- (3 // 2) > (3 % 2) and not True\n",
    "- (3 // 3 > 3 % 3) or not True\n",
    "- p == (4 % 3 + 1 > 0) and not p"
   ]
  },
  {
   "cell_type": "code",
   "execution_count": 10,
   "id": "46904741",
   "metadata": {},
   "outputs": [
    {
     "data": {
      "text/plain": [
       "0"
      ]
     },
     "execution_count": 10,
     "metadata": {},
     "output_type": "execute_result"
    }
   ],
   "source": [
    "1 + 2 * 3 % 2 - 1 # correcta , 0"
   ]
  },
  {
   "cell_type": "code",
   "execution_count": 11,
   "id": "096cef40",
   "metadata": {},
   "outputs": [
    {
     "data": {
      "text/plain": [
       "True"
      ]
     },
     "execution_count": 11,
     "metadata": {},
     "output_type": "execute_result"
    }
   ],
   "source": [
    "1 >= 7  % 2 # incorrecta, no se pueden mezclar operaciones aritmeticcas con booleanas # me equivoque xd"
   ]
  },
  {
   "cell_type": "code",
   "execution_count": 12,
   "id": "d1c864a5",
   "metadata": {},
   "outputs": [
    {
     "data": {
      "text/plain": [
       "True"
      ]
     },
     "execution_count": 12,
     "metadata": {},
     "output_type": "execute_result"
    }
   ],
   "source": [
    "(1 % 2) > 0.5 # correcta , False "
   ]
  },
  {
   "cell_type": "code",
   "execution_count": 13,
   "id": "f1602ff3",
   "metadata": {},
   "outputs": [
    {
     "ename": "SyntaxError",
     "evalue": "invalid syntax (3997682118.py, line 1)",
     "output_type": "error",
     "traceback": [
      "\u001b[1;36m  Cell \u001b[1;32mIn[13], line 1\u001b[1;36m\u001b[0m\n\u001b[1;33m    True or not and (2 > 1) # incorrecto\u001b[0m\n\u001b[1;37m                ^\u001b[0m\n\u001b[1;31mSyntaxError\u001b[0m\u001b[1;31m:\u001b[0m invalid syntax\n"
     ]
    }
   ],
   "source": [
    "True or not and (2 > 1) # incorrecto"
   ]
  },
  {
   "cell_type": "code",
   "execution_count": 14,
   "id": "2d78dab5",
   "metadata": {},
   "outputs": [
    {
     "data": {
      "text/plain": [
       "False"
      ]
     },
     "execution_count": 14,
     "metadata": {},
     "output_type": "execute_result"
    }
   ],
   "source": [
    "(7.5 - 3) // 3 == 1.5 # correcto, false"
   ]
  },
  {
   "cell_type": "code",
   "execution_count": 15,
   "id": "e9774fe4",
   "metadata": {},
   "outputs": [
    {
     "data": {
      "text/plain": [
       "False"
      ]
     },
     "execution_count": 15,
     "metadata": {},
     "output_type": "execute_result"
    }
   ],
   "source": [
    "(3 // 2) > (3 % 2) and not True # correcto, false"
   ]
  },
  {
   "cell_type": "code",
   "execution_count": 16,
   "id": "e61b93ec",
   "metadata": {},
   "outputs": [
    {
     "data": {
      "text/plain": [
       "True"
      ]
     },
     "execution_count": 16,
     "metadata": {},
     "output_type": "execute_result"
    }
   ],
   "source": [
    "(3 // 3 > 3 % 3) or not True # correcto, True"
   ]
  },
  {
   "cell_type": "code",
   "execution_count": 17,
   "id": "ea15bafe",
   "metadata": {},
   "outputs": [
    {
     "ename": "NameError",
     "evalue": "name 'p' is not defined",
     "output_type": "error",
     "traceback": [
      "\u001b[1;31m---------------------------------------------------------------------------\u001b[0m",
      "\u001b[1;31mNameError\u001b[0m                                 Traceback (most recent call last)",
      "Cell \u001b[1;32mIn[17], line 1\u001b[0m\n\u001b[1;32m----> 1\u001b[0m \u001b[43mp\u001b[49m \u001b[38;5;241m==\u001b[39m (\u001b[38;5;241m4\u001b[39m \u001b[38;5;241m%\u001b[39m \u001b[38;5;241m3\u001b[39m \u001b[38;5;241m+\u001b[39m \u001b[38;5;241m1\u001b[39m \u001b[38;5;241m>\u001b[39m \u001b[38;5;241m0\u001b[39m) \u001b[38;5;129;01mand\u001b[39;00m \u001b[38;5;129;01mnot\u001b[39;00m p \u001b[38;5;66;03m# incorrecto, p no esta definida, y ademas no tiene ningun sentido\u001b[39;00m\n",
      "\u001b[1;31mNameError\u001b[0m: name 'p' is not defined"
     ]
    }
   ],
   "source": [
    "p == (4 % 3 + 1 > 0) and not p # incorrecto, p no esta definida, y ademas no tiene ningun sentido"
   ]
  },
  {
   "cell_type": "markdown",
   "id": "be2f356b",
   "metadata": {},
   "source": [
    "# Obtener las expresiones booleanas equivalentes de los enunciados siguientes:\n",
    "- a no está entre –1 y 1 ni entre 2 y 3.\n",
    "- a y b no son mayores a 5.\n",
    "- a es un múltiplo de 10 ubicado entre 3000 y 4000.\n",
    "- a está entre [5.0 y 10.0) o entre (15.0 y 20.0].\n",
    "- a es un número impar múltiplo de 5, o par acabado en 0.\n",
    "- a no el mayor ni el menor número entre a, b, y c.\n",
    "- a, b, y c son todas ciertas o todas falsas.\n",
    "- Los números a, b, y c están incluidos en un intervalo menor a la unidad.\n",
    "- El menor de a y b está entre 0 y 1."
   ]
  },
  {
   "cell_type": "code",
   "execution_count": 18,
   "id": "2d8e4607",
   "metadata": {},
   "outputs": [
    {
     "data": {
      "text/plain": [
       "False"
      ]
     },
     "execution_count": 18,
     "metadata": {},
     "output_type": "execute_result"
    }
   ],
   "source": [
    "# a no está entre –1 y 1 ni entre 2 y 3.\n",
    "\n",
    "a = 2.4\n",
    "\n",
    "not((-1 <= a <= 1) or (2<= a <=3))"
   ]
  },
  {
   "cell_type": "code",
   "execution_count": 19,
   "id": "df0a3f10",
   "metadata": {},
   "outputs": [
    {
     "data": {
      "text/plain": [
       "True"
      ]
     },
     "execution_count": 19,
     "metadata": {},
     "output_type": "execute_result"
    }
   ],
   "source": [
    "# a y b no son mayores a 5\n",
    "\n",
    "a, b = 1, 1\n",
    "\n",
    "a < 5 and b < 5 # esto funciona \n",
    "\n",
    "# 5 > (a and b) # esto no funciona cuando a es mayor a 5\n",
    "\n",
    "#5 > (b or a) # esto no funiona es lo mismo que antes\n",
    "\n",
    "# parece que con el or me coje solo la primera leyendo desde la izquierda y el and me coge la última"
   ]
  },
  {
   "cell_type": "code",
   "execution_count": 20,
   "id": "96d12a83",
   "metadata": {},
   "outputs": [
    {
     "data": {
      "text/plain": [
       "False"
      ]
     },
     "execution_count": 20,
     "metadata": {},
     "output_type": "execute_result"
    }
   ],
   "source": [
    "# a es un múltiplo de 10 ubicado entre 3000 y 4000.\n",
    "\n",
    "a = 2000\n",
    "\n",
    "a%10 == 0 and 3000 <= a <= 4000\n",
    "\n",
    "# los operadores logicos ><= tienen prioridad sobre and"
   ]
  },
  {
   "cell_type": "code",
   "execution_count": 21,
   "id": "1256f758",
   "metadata": {},
   "outputs": [
    {
     "data": {
      "text/plain": [
       "False"
      ]
     },
     "execution_count": 21,
     "metadata": {},
     "output_type": "execute_result"
    }
   ],
   "source": [
    "# a está entre [5.0 y 10.0) o entre (15.0 y 20.0].\n",
    "\n",
    "a = 30\n",
    "\n",
    "5.0 <= a <= 10.0 or 15 <= a <= 20"
   ]
  },
  {
   "cell_type": "code",
   "execution_count": 22,
   "id": "4ddcfa7a",
   "metadata": {},
   "outputs": [
    {
     "data": {
      "text/plain": [
       "True"
      ]
     },
     "execution_count": 22,
     "metadata": {},
     "output_type": "execute_result"
    }
   ],
   "source": [
    "# a es un número impar múltiplo de 5, o par acabado en 0.\n",
    "\n",
    "a = 200\n",
    "\n",
    "a % 2 !=0 and a % 5 == 0 or a % 2 == 0 and a % 10 == 0\n",
    "\n",
    "# no hacen falta las parentesis por lo que and tiene prioridad sobre or"
   ]
  },
  {
   "cell_type": "code",
   "execution_count": 23,
   "id": "da4c85d3",
   "metadata": {},
   "outputs": [
    {
     "data": {
      "text/plain": [
       "True"
      ]
     },
     "execution_count": 23,
     "metadata": {},
     "output_type": "execute_result"
    }
   ],
   "source": [
    "# a no el mayor ni el menor número entre a, b, y c.\n",
    "\n",
    "a, b, c = 2,1,3\n",
    "\n",
    "b < a < c"
   ]
  },
  {
   "cell_type": "code",
   "execution_count": 24,
   "id": "710a56c4",
   "metadata": {},
   "outputs": [
    {
     "data": {
      "text/plain": [
       "True"
      ]
     },
     "execution_count": 24,
     "metadata": {},
     "output_type": "execute_result"
    }
   ],
   "source": [
    "# a, b, y c son todas ciertas o todas falsas.\n",
    "\n",
    "a, b, c = False, False, False\n",
    "\n",
    "# (a and b and c) == True or (a and b and c) == False # esto no funciona\n",
    "\n",
    "(a == True and b == True and c == True) or (a == False and b == False and c == False) # las parentesis no hacen falta"
   ]
  },
  {
   "cell_type": "code",
   "execution_count": 25,
   "id": "518f9c27",
   "metadata": {},
   "outputs": [
    {
     "data": {
      "text/plain": [
       "True"
      ]
     },
     "execution_count": 25,
     "metadata": {},
     "output_type": "execute_result"
    }
   ],
   "source": [
    "# Los números a, b, y c están incluidos en un intervalo menor a la unidad.\n",
    "\n",
    "a,b,c = 0,0,0 \n",
    "\n",
    "a < 1 and b < 1 and c < 1"
   ]
  },
  {
   "cell_type": "code",
   "execution_count": 26,
   "id": "01e36dd6",
   "metadata": {},
   "outputs": [
    {
     "data": {
      "text/plain": [
       "False"
      ]
     },
     "execution_count": 26,
     "metadata": {},
     "output_type": "execute_result"
    }
   ],
   "source": [
    "# El menor de a y b está entre 0 y 1.\n",
    "\n",
    "a, b = 1,2 \n",
    "\n",
    "# 0 <= min(a,b) <= 1\n",
    "\n",
    "min(a,b) in range(1,0)"
   ]
  },
  {
   "cell_type": "markdown",
   "id": "ed345340",
   "metadata": {},
   "source": [
    "# De las expresiones aritméticas siguientes, escribir expresiones algorítmicas equivalentes en lenguaje Python. Intentar usar el mínimo de paréntesis posible"
   ]
  },
  {
   "cell_type": "code",
   "execution_count": 27,
   "id": "77888ea4",
   "metadata": {},
   "outputs": [],
   "source": [
    "import math"
   ]
  },
  {
   "cell_type": "code",
   "execution_count": 31,
   "id": "a4fbf619",
   "metadata": {},
   "outputs": [],
   "source": [
    "x, y, z, a = 1, 1, 1, 1"
   ]
  },
  {
   "attachments": {
    "imagen.png": {
     "image/png": "[encoded data removed]"
    }
   },
   "cell_type": "markdown",
   "id": "9bd85067",
   "metadata": {},
   "source": [
    "## \n",
    "![imagen.png](attachment:imagen.png)"
   ]
  },
  {
   "cell_type": "code",
   "execution_count": 32,
   "id": "718a3b96",
   "metadata": {},
   "outputs": [
    {
     "data": {
      "text/plain": [
       "0.0"
      ]
     },
     "execution_count": 32,
     "metadata": {},
     "output_type": "execute_result"
    }
   ],
   "source": [
    "math.sqrt(1-(1+x)/2*a) # o esto (1-(1+x)/2*a)**0,5"
   ]
  },
  {
   "attachments": {
    "imagen.png": {
     "image/png": "[encoded data removed]"
    }
   },
   "cell_type": "markdown",
   "id": "e5bb8b84",
   "metadata": {},
   "source": [
    "## \n",
    "![imagen.png](attachment:imagen.png)"
   ]
  },
  {
   "cell_type": "code",
   "execution_count": 33,
   "id": "e84335c3",
   "metadata": {},
   "outputs": [
    {
     "data": {
      "text/plain": [
       "0.5"
      ]
     },
     "execution_count": 33,
     "metadata": {},
     "output_type": "execute_result"
    }
   ],
   "source": [
    "(1 + x*(y-1)/z)/(0.5*(x+3))"
   ]
  },
  {
   "attachments": {
    "imagen.png": {
     "image/png": "[encoded data removed]"
    }
   },
   "cell_type": "markdown",
   "id": "1c59c6b3",
   "metadata": {},
   "source": [
    "## \n",
    "![imagen.png](attachment:imagen.png)"
   ]
  },
  {
   "cell_type": "code",
   "execution_count": 45,
   "id": "783f0ae0",
   "metadata": {},
   "outputs": [
    {
     "data": {
      "text/plain": [
       "2.0"
      ]
     },
     "execution_count": 45,
     "metadata": {},
     "output_type": "execute_result"
    }
   ],
   "source": [
    "a = 26\n",
    "b = 1/26\n",
    "\n",
    "(1 + a)**(1/3)/2 + 1/(2*a*b)"
   ]
  },
  {
   "attachments": {
    "imagen.png": {
     "image/png": "[encoded data removed]"
    }
   },
   "cell_type": "markdown",
   "id": "63951f43",
   "metadata": {},
   "source": [
    "## \n",
    "![imagen.png](attachment:imagen.png)"
   ]
  },
  {
   "cell_type": "code",
   "execution_count": 46,
   "id": "c5322f9b",
   "metadata": {},
   "outputs": [
    {
     "data": {
      "text/plain": [
       "0.5"
      ]
     },
     "execution_count": 46,
     "metadata": {},
     "output_type": "execute_result"
    }
   ],
   "source": [
    "1/x**(1/3) - x**2/(y+1)"
   ]
  },
  {
   "attachments": {
    "imagen.png": {
     "image/png": "[encoded data removed]"
    }
   },
   "cell_type": "markdown",
   "id": "f4e1ab11",
   "metadata": {},
   "source": [
    "## \n",
    "![imagen.png](attachment:imagen.png)"
   ]
  },
  {
   "cell_type": "code",
   "execution_count": 47,
   "id": "ded0e2cf",
   "metadata": {},
   "outputs": [
    {
     "data": {
      "text/plain": [
       "-2.0"
      ]
     },
     "execution_count": 47,
     "metadata": {},
     "output_type": "execute_result"
    }
   ],
   "source": [
    "(1/x**(1/3) + math.sqrt(y))/-z"
   ]
  },
  {
   "attachments": {
    "imagen-2.png": {
     "image/png": "[encoded data removed]"
    }
   },
   "cell_type": "markdown",
   "id": "695240b1",
   "metadata": {},
   "source": [
    "## \n",
    "![imagen-2.png](attachment:imagen-2.png)"
   ]
  },
  {
   "cell_type": "code",
   "execution_count": 48,
   "id": "7cfed76e",
   "metadata": {},
   "outputs": [
    {
     "data": {
      "text/plain": [
       "1.7937005259840997"
      ]
     },
     "execution_count": 48,
     "metadata": {},
     "output_type": "execute_result"
    }
   ],
   "source": [
    "1 + 1/(x**2 + 1)**(1/3)"
   ]
  },
  {
   "cell_type": "markdown",
   "id": "ec3d9355",
   "metadata": {},
   "source": [
    "# Dadas dos variables reales x e y, escribir una expresión booleana que valide que x está fuera del intervalo [100, 200] e y está dentro del intervalo (20,40]."
   ]
  },
  {
   "cell_type": "code",
   "execution_count": 61,
   "id": "04678d49",
   "metadata": {},
   "outputs": [
    {
     "data": {
      "text/plain": [
       "True"
      ]
     },
     "execution_count": 61,
     "metadata": {},
     "output_type": "execute_result"
    }
   ],
   "source": [
    "x, y = 20, 40\n",
    "\n",
    "x not in range(100,201) and y in range(21,41)"
   ]
  },
  {
   "cell_type": "markdown",
   "id": "55dbc534",
   "metadata": {},
   "source": [
    "# Sean A, B y C tres variables enteras que representan las ventas de tres productos respectivamente, escribir expresiones lógicas (booleanas) que representen las siguientes afirmaciones:\n",
    "\n",
    "a. Las ventas del producto A son las más elevadas.\n",
    "\n",
    "b. Ningún producto tiene unas ventas inferiores a 200.\n",
    "\n",
    "c. Algún producto tiene unas ventas superiores a 400.\n",
    "\n",
    "d. La media de ventas es superior a 500.\n",
    "\n",
    "e. El producto B no es el más vendido"
   ]
  },
  {
   "cell_type": "code",
   "execution_count": 62,
   "id": "9981b17b",
   "metadata": {},
   "outputs": [],
   "source": [
    "A, B, C = 1000, 400, 800"
   ]
  },
  {
   "cell_type": "code",
   "execution_count": 65,
   "id": "a19c6b08",
   "metadata": {},
   "outputs": [
    {
     "data": {
      "text/plain": [
       "True"
      ]
     },
     "execution_count": 65,
     "metadata": {},
     "output_type": "execute_result"
    }
   ],
   "source": [
    "A is max(A, B, C) # a"
   ]
  },
  {
   "cell_type": "code",
   "execution_count": 66,
   "id": "18b173c3",
   "metadata": {},
   "outputs": [
    {
     "data": {
      "text/plain": [
       "True"
      ]
     },
     "execution_count": 66,
     "metadata": {},
     "output_type": "execute_result"
    }
   ],
   "source": [
    "200 <= min(A, B, C) # b"
   ]
  },
  {
   "cell_type": "code",
   "execution_count": 67,
   "id": "917444bb",
   "metadata": {},
   "outputs": [
    {
     "data": {
      "text/plain": [
       "True"
      ]
     },
     "execution_count": 67,
     "metadata": {},
     "output_type": "execute_result"
    }
   ],
   "source": [
    "A > 400 or B > 400 or c > 400"
   ]
  },
  {
   "cell_type": "code",
   "execution_count": 69,
   "id": "085944c3",
   "metadata": {},
   "outputs": [
    {
     "data": {
      "text/plain": [
       "True"
      ]
     },
     "execution_count": 69,
     "metadata": {},
     "output_type": "execute_result"
    }
   ],
   "source": [
    "(A + B + C)/3 > 500"
   ]
  },
  {
   "cell_type": "code",
   "execution_count": 70,
   "id": "da9a9e98",
   "metadata": {},
   "outputs": [
    {
     "data": {
      "text/plain": [
       "True"
      ]
     },
     "execution_count": 70,
     "metadata": {},
     "output_type": "execute_result"
    }
   ],
   "source": [
    "B is not max(A,B,C)"
   ]
  },
  {
   "cell_type": "markdown",
   "id": "57209c03",
   "metadata": {},
   "source": [
    "# Las edades de tres primos se guardan en las variables a, b, c. Escribir una expresión booleana que evalúe True si solamente 2 de los 3 primos tienen la misma edad y, además, la suma de las 3 edades sea múltiplo de 3."
   ]
  },
  {
   "cell_type": "code",
   "execution_count": 78,
   "id": "761982b0",
   "metadata": {},
   "outputs": [
    {
     "data": {
      "text/plain": [
       "True"
      ]
     },
     "execution_count": 78,
     "metadata": {},
     "output_type": "execute_result"
    }
   ],
   "source": [
    "a, b, c = 10, 1, 10\n",
    "\n",
    "(a == b or a == c or b == c) and (a + b + c)%3 == 0"
   ]
  },
  {
   "cell_type": "markdown",
   "id": "7a8c8f34",
   "metadata": {},
   "source": [
    "# 9. Obtener las expresiones booleanas equivalentes a los enunciados siguientes:\n",
    "\n",
    "h) La más pequeña de las variables a y b de tipo real está entre 0 y 1.\n",
    "\n",
    "i) a de tipo entero pertenece al conjunto de los números menores de 100 o mayores de 200 y además es un impar múltiplo de 3.\n",
    "\n",
    "j) x, y, z de tipo entero son todas impares o todas pares.\n",
    "\n",
    "k) ξ de tipo real es mayor que la distancia entre x e y de tipo real.\n",
    "\n",
    "Solución:\n",
    "xi**2 > (x-y)**2 # Debe usarse un identificador válido (xi), no ξ\n",
    "\n",
    "l) Alguno de los valores absolutos de a, b o c de tipo real es menor que 1.\n",
    "\n",
    "o) No se cumple una persona trabaja (trabaja de tipo booleano) o sueldo de tipo entero está entre 1000 y 2000."
   ]
  },
  {
   "cell_type": "markdown",
   "id": "2821e6f7",
   "metadata": {},
   "source": [
    "## a) No se cumple z de tipo booleano o que x e y sean positivas y su suma múltiplo de 7."
   ]
  },
  {
   "cell_type": "code",
   "execution_count": 97,
   "id": "7238eaf8",
   "metadata": {},
   "outputs": [
    {
     "data": {
      "text/plain": [
       "True"
      ]
     },
     "execution_count": 97,
     "metadata": {},
     "output_type": "execute_result"
    }
   ],
   "source": [
    "x, y, z = 1,6,True\n",
    "\n",
    "(type(z) is not bool) or (x > 0 and y >0 and (x + y)%7 == 0)"
   ]
  },
  {
   "cell_type": "markdown",
   "id": "6099687c",
   "metadata": {},
   "source": [
    "## b) La suma de a y b, de tipo entero, es múltiplo de 5 y al menos una de ellas es par."
   ]
  },
  {
   "cell_type": "code",
   "execution_count": 101,
   "id": "4be05f9e",
   "metadata": {},
   "outputs": [
    {
     "data": {
      "text/plain": [
       "True"
      ]
     },
     "execution_count": 101,
     "metadata": {},
     "output_type": "execute_result"
    }
   ],
   "source": [
    "a, b, c = 1,4, a + b\n",
    "\n",
    "type(c) == int and c%5 == 0 and (a%2 == 0 or b%2 == 0)"
   ]
  },
  {
   "cell_type": "markdown",
   "id": "1a370359",
   "metadata": {},
   "source": [
    "## c) x no es la más grande ni la más pequeña de entre x, y, z de tipo real."
   ]
  },
  {
   "cell_type": "code",
   "execution_count": 104,
   "id": "fe0fc364",
   "metadata": {},
   "outputs": [
    {
     "data": {
      "text/plain": [
       "True"
      ]
     },
     "execution_count": 104,
     "metadata": {},
     "output_type": "execute_result"
    }
   ],
   "source": [
    "x, y, z = 2.0, 1.0, 3.0\n",
    "\n",
    "x is not max(x, y, z) and x is not min(x, y, z)"
   ]
  },
  {
   "cell_type": "markdown",
   "id": "c61270b0",
   "metadata": {},
   "source": [
    "##  d) La suma de a y b, de tipo entero, es múltiplo de 5 y ambas son impares."
   ]
  },
  {
   "cell_type": "code",
   "execution_count": 107,
   "id": "ff876f8f",
   "metadata": {},
   "outputs": [
    {
     "data": {
      "text/plain": [
       "True"
      ]
     },
     "execution_count": 107,
     "metadata": {},
     "output_type": "execute_result"
    }
   ],
   "source": [
    "a, b, c = 1,9, a + b\n",
    "\n",
    "type(c) == int and c%5 == 0 and a%2 !=0 and b%2 != 0 "
   ]
  },
  {
   "cell_type": "markdown",
   "id": "a91aadf4",
   "metadata": {},
   "source": [
    "## e) Exactamente dos de entre x, y, z son positivas."
   ]
  },
  {
   "cell_type": "code",
   "execution_count": 120,
   "id": "b7ffef6d",
   "metadata": {},
   "outputs": [
    {
     "data": {
      "text/plain": [
       "True"
      ]
     },
     "execution_count": 120,
     "metadata": {},
     "output_type": "execute_result"
    }
   ],
   "source": [
    "x, y, z = 1,1,-1\n",
    "\n",
    "(int(x > 0) + int(y > 0) + int(z > 0))%2 == 0"
   ]
  },
  {
   "cell_type": "markdown",
   "id": "86325bf7",
   "metadata": {},
   "source": [
    "## f) x, y, z de tipo booleano son todas ciertas o todas falsas."
   ]
  },
  {
   "cell_type": "code",
   "execution_count": 124,
   "id": "98a12061",
   "metadata": {},
   "outputs": [
    {
     "data": {
      "text/plain": [
       "True"
      ]
     },
     "execution_count": 124,
     "metadata": {},
     "output_type": "execute_result"
    }
   ],
   "source": [
    "x, y, z = True, True, True\n",
    "\n",
    "x == True and y == True and z == True or x == False and y == False and z == False"
   ]
  },
  {
   "cell_type": "markdown",
   "id": "6d630972",
   "metadata": {},
   "source": [
    "## g) El cociente de a entre b, de tipo entero, es igual a su resto (módulo)."
   ]
  },
  {
   "cell_type": "code",
   "execution_count": 130,
   "id": "9f0fd82f",
   "metadata": {},
   "outputs": [
    {
     "data": {
      "text/plain": [
       "True"
      ]
     },
     "execution_count": 130,
     "metadata": {},
     "output_type": "execute_result"
    }
   ],
   "source": [
    "a, b = 3, 2\n",
    "\n",
    "(type(a//b) == int) and (a%b == a // b)"
   ]
  },
  {
   "cell_type": "markdown",
   "id": "d77216d8",
   "metadata": {},
   "source": [
    "## m) Alguno de los valores de a, b o c de tipo real está en medio del intervalo formado por los otros dos."
   ]
  },
  {
   "cell_type": "code",
   "execution_count": 138,
   "id": "a1400afe",
   "metadata": {},
   "outputs": [
    {
     "data": {
      "text/plain": [
       "True"
      ]
     },
     "execution_count": 138,
     "metadata": {},
     "output_type": "execute_result"
    }
   ],
   "source": [
    "a, b, c = 1,3,5\n",
    "\n",
    "a!=b and a!=c and c!=b and (abs(a-b) == abs(a-c) or abs(b-a) == abs(b-c) or abs(c-a) == abs(c-b))"
   ]
  },
  {
   "cell_type": "markdown",
   "id": "2360958e",
   "metadata": {},
   "source": [
    "## n) x, y, z de tipo real pueden ser los lados de un triángulo. Los valores podrán ser un triángulo cuando el valor más grande sea menor que la suma de los otros dos."
   ]
  },
  {
   "cell_type": "code",
   "execution_count": 148,
   "id": "47a3ed93",
   "metadata": {},
   "outputs": [
    {
     "data": {
      "text/plain": [
       "True"
      ]
     },
     "execution_count": 148,
     "metadata": {},
     "output_type": "execute_result"
    }
   ],
   "source": [
    "x, y, z = 5.0, 4.1, 9\n",
    "\n",
    "max(x,y,z) < (x*(x is not max(x,y,z)) + y*(y is not max(x,y,z)) + z*(z is not max(x,y,z)))"
   ]
  },
  {
   "cell_type": "code",
   "execution_count": null,
   "id": "e2eb4ec7",
   "metadata": {},
   "outputs": [],
   "source": []
  }
 ],
 "metadata": {
  "kernelspec": {
   "display_name": "Python 3 (ipykernel)",
   "language": "python",
   "name": "python3"
  },
  "language_info": {
   "codemirror_mode": {
    "name": "ipython",
    "version": 3
   },
   "file_extension": ".py",
   "mimetype": "text/x-python",
   "name": "python",
   "nbconvert_exporter": "python",
   "pygments_lexer": "ipython3",
   "version": "3.10.6"
  },
  "toc": {
   "base_numbering": 1,
   "nav_menu": {},
   "number_sections": true,
   "sideBar": true,
   "skip_h1_title": false,
   "title_cell": "Table of Contents",
   "title_sidebar": "Contents",
   "toc_cell": false,
   "toc_position": {
    "height": "calc(100% - 180px)",
    "left": "10px",
    "top": "150px",
    "width": "198.333px"
   },
   "toc_section_display": true,
   "toc_window_display": true
  }
 },
 "nbformat": 4,
 "nbformat_minor": 5
}
