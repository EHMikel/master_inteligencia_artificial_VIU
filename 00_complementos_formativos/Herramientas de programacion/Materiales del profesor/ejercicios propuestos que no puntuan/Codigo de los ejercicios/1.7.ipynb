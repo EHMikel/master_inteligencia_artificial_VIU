{
 "cells": [
  {
   "cell_type": "markdown",
   "id": "494d0a21",
   "metadata": {},
   "source": [
    "# Triángulo rectángulo.\n",
    "\n",
    "Diseña un programa que reciba la base y la altura de un triángulo rectángulo, y devuelve su área. Presenta el resultado con hasta 2 decimales (función round(value, digitos)."
   ]
  },
  {
   "cell_type": "code",
   "execution_count": 1,
   "id": "979a8aeb",
   "metadata": {},
   "outputs": [
    {
     "data": {
      "text/plain": [
       "1.0"
      ]
     },
     "execution_count": 1,
     "metadata": {},
     "output_type": "execute_result"
    }
   ],
   "source": [
    "def triangulo_rect(*,base,altura):\n",
    "    \n",
    "    return base*altura*0.5\n",
    "\n",
    "triangulo_rect(base=1, altura=2)"
   ]
  },
  {
   "cell_type": "markdown",
   "id": "02c52a59",
   "metadata": {},
   "source": [
    "# Bisiesto\n",
    "\n",
    "Escribe un programa que incluya la función bisiesto(n), que indique si un año es o no es un año bisiesto (devuelve valor Booleano). Un año bisiesto tiene 366 días. Después de la reforma gregoriana, los años bisiestos son los múltiples de cuatro que no terminan con dos ceros, y también los años que terminan con dos ceros que, después de eliminar estos dos ceros, son divisibles por cuatro. Así, 1800 y 1900, aunque eran múltiplos de cuatro, no eran años bisiestos; Por el contrario, 2000 fue un año bisiesto. Dicho en formalismo lógico: un año bisiesto es divisible por 400 o bien divisible por 4 exceptuando los divisibles por 100. Ejemplo:"
   ]
  },
  {
   "cell_type": "code",
   "execution_count": 12,
   "id": "ea0a84ed",
   "metadata": {},
   "outputs": [
    {
     "name": "stdout",
     "output_type": "stream",
     "text": [
      "el año 396 es bisnieto\n",
      "el año 1900 no es bisnieto\n"
     ]
    }
   ],
   "source": [
    "def bisnieto(year):\n",
    "    \n",
    "    if year >=400:\n",
    "        if year%400 == 0:\n",
    "            return f'el año {year} es bisnieto'\n",
    "        else:\n",
    "            return f'el año {year} no es bisnieto'\n",
    "        \n",
    "    else:\n",
    "        if year%4 == 0 and year%100 !=0:\n",
    "            return f'el año {year} es bisnieto'\n",
    "\n",
    "print(bisnieto(396))\n",
    "print(bisnieto(1900))"
   ]
  },
  {
   "cell_type": "markdown",
   "id": "e679ef49",
   "metadata": {},
   "source": [
    "# Coordenadas cartesianas\n",
    "\n",
    "Diseña una función cartesianas(mod, ang) que reciba el valor del módulo y de su ángulo en grados y devuelva sus coordenadas cartesianas (x, y) ajustados a 4 dígitos decimales, usando la función round(value, digitos). Ejemplo:\n",
    "\n",
    ">>from math import sin, cos, pi\n",
    "\n",
    ">>cartesianas(1,pi/3)\n",
    "--->(0.5, 0.866)\n",
    "\n",
    ">>cartesianas(1.4142,pi/4)\n",
    "--->(1.0, 1.0)"
   ]
  },
  {
   "cell_type": "code",
   "execution_count": 18,
   "id": "6044ceda",
   "metadata": {},
   "outputs": [
    {
     "data": {
      "text/plain": [
       "(-0.7071, 0.7071)"
      ]
     },
     "execution_count": 18,
     "metadata": {},
     "output_type": "execute_result"
    }
   ],
   "source": [
    "from math import sin, cos, pi\n",
    "\n",
    "def cartesianas(*, modulo, angulo):\n",
    "    \n",
    "    return round(modulo*cos(angulo),4), round(modulo*sin(angulo),4)\n",
    "\n",
    "cartesianas(modulo = 1, angulo = 3*pi/4)"
   ]
  },
  {
   "cell_type": "markdown",
   "id": "297bbb63",
   "metadata": {},
   "source": [
    "# Descomponer segundos\n",
    "\n",
    "Escriba una función decompose(n) que reciba como argumento una cantidad de segundos n, y devuelva cuántos días d, horas h, minutos m y segundos s representa. Ejemplo, 3661 segundos son 0 días, 1 hora, 1 min y 1 s.\n",
    "\n",
    ">>decompose(147)\n",
    "--->(0, 0, 2, 27)\n",
    "\n",
    ">>decompose(3661)\n",
    "--->(0, 1, 1, 1)"
   ]
  },
  {
   "cell_type": "code",
   "execution_count": 41,
   "id": "5ab05f55",
   "metadata": {},
   "outputs": [
    {
     "data": {
      "text/plain": [
       "(1, 14, 0, 0)"
      ]
     },
     "execution_count": 41,
     "metadata": {},
     "output_type": "execute_result"
    }
   ],
   "source": [
    "def decompose(segs):\n",
    "    \n",
    "    dias = segs//(3600*24)\n",
    "    horas = segs//(3600) - 24*dias\n",
    "    minutos = segs//60 - 60*horas - 1440*dias\n",
    "    segundos = segs%60\n",
    "    \n",
    "    return dias, horas, minutos, segundos\n",
    "\n",
    "decompose(3600*38)"
   ]
  },
  {
   "cell_type": "markdown",
   "id": "666f0050",
   "metadata": {},
   "source": [
    "# Agrega1segundo\n",
    "\n",
    "Escriba una función agrega1segundo(h, m, s) que reciba como argumento la hora del reloj, expresada en horas, minutos y segundos, y devuelva, nuevamente en horas, minutos y segundos, la hora del reloj aumentada en un segundo. Los argumentos recibidos cumplen las precondiciones h <24, m <60 y s <60, y el tiempo de reloj resultante debe obedecer a las mismas desigualdades"
   ]
  },
  {
   "cell_type": "code",
   "execution_count": 49,
   "id": "41b348e4",
   "metadata": {},
   "outputs": [
    {
     "data": {
      "text/plain": [
       "(2, 49, 0)"
      ]
     },
     "execution_count": 49,
     "metadata": {},
     "output_type": "execute_result"
    }
   ],
   "source": [
    "def agrega1segundo(*,h, m, s):\n",
    "    \n",
    "    if h >= 24 or m >= 60 or s >= 60:\n",
    "        \n",
    "        raise ValueError('invalid input')\n",
    "    \n",
    "    s += 1\n",
    "    \n",
    "    if s == 60:\n",
    "        s = 0\n",
    "        m += 1\n",
    "    if m == 60:\n",
    "        m = 0\n",
    "        h +=1\n",
    "    if h == 24:\n",
    "        h = 0\n",
    "    \n",
    "    return h, m, s \n",
    "\n",
    "agrega1segundo(h = 2, m = 48 , s = 59)"
   ]
  },
  {
   "cell_type": "markdown",
   "id": "9d84c6e9",
   "metadata": {},
   "source": [
    "# Ordena 2 números\n",
    "\n",
    "Diseña una función ordena2(a, b) que reciba dos valores y los devuelva ordenados. Ejemplo:"
   ]
  },
  {
   "cell_type": "code",
   "execution_count": 53,
   "id": "a8d59f2b",
   "metadata": {},
   "outputs": [
    {
     "data": {
      "text/plain": [
       "True"
      ]
     },
     "execution_count": 53,
     "metadata": {},
     "output_type": "execute_result"
    }
   ],
   "source": [
    "def ordena2(a, b):\n",
    "    \n",
    "    if a > b:\n",
    "        return b, a\n",
    "    \n",
    "    elif b > a:\n",
    "        return a, b\n",
    "    \n",
    "    else:\n",
    "        \n",
    "        return a == b\n",
    "    \n",
    "ordena2(12,12)"
   ]
  },
  {
   "cell_type": "markdown",
   "id": "0ecdf128",
   "metadata": {},
   "source": [
    "# Paridad\n",
    "\n",
    "Escribe un programa o función que dados un entero nos diga si es par o impar. Puede devolver un string 'par' o 'impar', o los booleanos True o False. Ejemplo de función:"
   ]
  },
  {
   "cell_type": "code",
   "execution_count": 59,
   "id": "674b514e",
   "metadata": {},
   "outputs": [
    {
     "data": {
      "text/plain": [
       "1"
      ]
     },
     "execution_count": 59,
     "metadata": {},
     "output_type": "execute_result"
    }
   ],
   "source": [
    "def par_impar(num):\n",
    "    \n",
    "    if num%2 == 0:\n",
    "        return 2\n",
    "    else:\n",
    "        return 1\n",
    "    \n",
    "par_impar(-3)"
   ]
  },
  {
   "cell_type": "markdown",
   "id": "210dd8f0",
   "metadata": {},
   "source": [
    "# Escribe una función es_triangulo(a,b,c) que reciba 3 valores reales y determine si pueden ser los lados de un triángulo\n",
    "\n",
    "Los valores podrán ser un triángulo cuando el valor más grande sea menor que la suma de los otros dos. O, dicho de otro modo, a, b y c no serían los lados de un triángulo si alguno de los lados es mayor o igual que la suma de los otros dos. Ejemplo:"
   ]
  },
  {
   "cell_type": "code",
   "execution_count": 63,
   "id": "b573fcb6",
   "metadata": {},
   "outputs": [
    {
     "data": {
      "text/plain": [
       "False"
      ]
     },
     "execution_count": 63,
     "metadata": {},
     "output_type": "execute_result"
    }
   ],
   "source": [
    "def es_triangulo(a,b,c):\n",
    "    \n",
    "    hip = max(a, b, c)\n",
    "    return hip < (a*(a is not hip) + b*(b is not hip) + c*(c is not hip))\n",
    "\n",
    "es_triangulo(4,4,9)"
   ]
  },
  {
   "cell_type": "markdown",
   "id": "712eccd0",
   "metadata": {},
   "source": [
    "# Impuestos\n",
    "\n",
    "Una empresa desea calcular la estimación del importe de impuestos que los empleados deben pagar. Los ingresos inferiores a 8.000 euros no están sujetos a impuestos; los comprendidos entre 8.000 euros y 20.000 euros, lo están al 18 %; los comprendidos entre 20.000 euros y 35.000 euros, están sujetos al 27% y los superiores a 35.000 euros, lo están al 38%. Diseña una función impuestos(x) que calcule los impuestos correspondientes a los ingresos x.\n",
    "Entrada: Un valor x de ingresos."
   ]
  },
  {
   "cell_type": "code",
   "execution_count": 64,
   "id": "7b1fe708",
   "metadata": {},
   "outputs": [
    {
     "data": {
      "text/plain": [
       "35000.0"
      ]
     },
     "execution_count": 64,
     "metadata": {},
     "output_type": "execute_result"
    }
   ],
   "source": [
    "def impuestos(x):\n",
    "    \n",
    "    if x < 0:\n",
    "        \n",
    "        raise ValueError('invalid input')\n",
    "    \n",
    "    if x <= 8000:\n",
    "        \n",
    "        return 0\n",
    "    \n",
    "    elif 8000 < x <= 20000:\n",
    "        \n",
    "        return x*0.18\n",
    "    \n",
    "    elif 20000 < x <= 35000:\n",
    "        \n",
    "        return x*0.27\n",
    "    \n",
    "    else:\n",
    "        return x*0.35\n",
    "    \n",
    "impuestos(100_000)"
   ]
  },
  {
   "cell_type": "markdown",
   "id": "61db27f4",
   "metadata": {},
   "source": [
    "# IMC\n",
    "\n",
    "Diseña una función IMC(alt,pes) que reciba la altura h y el peso p de una persona, calcule su índice de masa corporal (IMC = peso[kg]/altura2[m]) y retorne el estado en el que se encuentra esa persona en función del valor de IMC:\n",
    "<16: criterio de ingreso hospitalario\n",
    "\n",
    "de [16 a 17): infrapeso\n",
    "de [17 a 18): bajo peso\n",
    "de [18 a 25): saludable\n",
    "de [25 a 30): sobrepeso\n",
    "de [30 a 35): sobrepeso crónico\n",
    "de [35 a 40]: obesidad premórbida\n",
    ">40: obesidad mórbida\n",
    "\n",
    "Entrada: altura alt y peso pes.\n",
    "\n",
    "Salida: Estado.\n"
   ]
  },
  {
   "cell_type": "code",
   "execution_count": 65,
   "id": "8489c627",
   "metadata": {},
   "outputs": [
    {
     "data": {
      "text/plain": [
       "'obesidad morvidisima'"
      ]
     },
     "execution_count": 65,
     "metadata": {},
     "output_type": "execute_result"
    }
   ],
   "source": [
    "def imc(*, alt, peso):\n",
    "    \n",
    "    if alt <= 0.4 or peso <= 1:\n",
    "        \n",
    "        raise ValueError('invalid input')\n",
    "    \n",
    "    imc = peso/alt\n",
    "    \n",
    "    if 16<= imc < 17:\n",
    "        return 'infrapeso'\n",
    "    elif 17<= imc < 18:\n",
    "        return 'bajo peso'\n",
    "    \n",
    "    elif 18<= imc < 25:\n",
    "        return 'saludable'\n",
    "    elif 25<= imc < 30:\n",
    "        return 'sobre peso'\n",
    "    elif 30<= imc <35:\n",
    "        return 'sobre peso cronico'\n",
    "    elif 35<= imc < 40:\n",
    "        return 'pre obesidad morvida'\n",
    "    else:\n",
    "        return 'obesidad morvidisima'\n",
    "    \n",
    "imc(alt= 1.78, peso = 83)"
   ]
  },
  {
   "cell_type": "markdown",
   "id": "632dc3ab",
   "metadata": {},
   "source": [
    "# riesgoCardio\n",
    "\n",
    "Diseña una función riesgoCardio(p,h,LDL,fuma) que reciba el peso p en kg, la altura h en metros, el valor del colesterol de lipoproteínas de baja densidad, LDL en mg/dl y si es fumador (o no, variable booleana). La función devuelve si está en riesgo de insuficiencia cardiaca si se cumple que: el índice de masa corporal (IMC = peso[kg]/altura2[m]) es mayor que 35 y que el colesterol (LDL) está por debajo de 71 mg/dl o por encima de 300 mg/dl, o si es fumador. Ejemplo:"
   ]
  },
  {
   "cell_type": "code",
   "execution_count": 8,
   "id": "1400d4f9",
   "metadata": {},
   "outputs": [
    {
     "name": "stdout",
     "output_type": "stream",
     "text": [
      "36.58536585365854\n"
     ]
    },
    {
     "data": {
      "text/plain": [
       "True"
      ]
     },
     "execution_count": 8,
     "metadata": {},
     "output_type": "execute_result"
    }
   ],
   "source": [
    "def riesgo_cardio(*,p,h,LDL,fuma):\n",
    "    \n",
    "    imc = p/h\n",
    "    print(imc)\n",
    "    return imc > 35 and (LDL <71 or LDL > 300) or fuma\n",
    "\n",
    "riesgo_cardio(p=60, h=1.64, LDL=310, fuma=False )"
   ]
  },
  {
   "cell_type": "markdown",
   "id": "9b59e500",
   "metadata": {},
   "source": [
    "# Saludo\n",
    "\n",
    "Diseña una función saludo(n) que reciba un entero n representando una hora y devuelva como string un saludo. Comenzando a las 5 y antes de las 12 el saludo es Buenos dias. Comenzando a las 12 y antes de las 22 el saludo es Buenas tardes. Comenzando a las 22 y antes de las 5 el saludo es Buenas noches. Si la hora es negativa o mayor o igual a 24 sería hora fuera de rango."
   ]
  },
  {
   "cell_type": "code",
   "execution_count": 9,
   "id": "a2393c8e",
   "metadata": {},
   "outputs": [],
   "source": [
    "def saludo(n):\n",
    "    \n",
    "    if n not in range(0,24):\n",
    "        raise ValueError('Hora fuera de rango')\n",
    "    \n",
    "    elif 5 <= n < 12:\n",
    "        print('Buenos dias')\n",
    "        \n",
    "    elif 12 <= n < 22:\n",
    "        print('Buenas tardes')\n",
    "        \n",
    "    else:\n",
    "        print('buenas noches')\n",
    "        \n",
    "    return None"
   ]
  },
  {
   "cell_type": "markdown",
   "id": "a9c396db",
   "metadata": {},
   "source": [
    "# Juego dados del siete\n",
    "\n",
    "Dos jugadores juegan el juego Siete. Cada uno lanza un par de dados sobre la mesa y puntúa la suma de los valores obtenidos. Un jugador gana cuando su puntuación no supera los siete y está más cerca de siete que la puntuación del rival o la puntuación del rival supera los siete. Ten en cuenta que hay casos en los que ningún jugador gana.\n",
    "Diseña una función winner(p, q, r, s) que, dados los valores de los dados p y q obtenidos por el jugador 1 y r y s obtenidos por el jugador 2, devuelve 1 si el ganador es el jugador 1, devuelve 2 cuando el ganador es el jugador 2 y devuelve el entero 0 cuando no hay ningún ganador. Los valores de los dados p, q, r y s son números enteros del 1 al 6 (mayores que cero y menores que siete)."
   ]
  },
  {
   "cell_type": "code",
   "execution_count": 14,
   "id": "f59f4547",
   "metadata": {},
   "outputs": [],
   "source": [
    "import random"
   ]
  },
  {
   "cell_type": "code",
   "execution_count": 24,
   "id": "0eb89b84",
   "metadata": {},
   "outputs": [],
   "source": [
    "def winner(q, p, r, s):\n",
    "    \n",
    "    jugador_1 = q + p\n",
    "    jugador_2 = r + s\n",
    "    \n",
    "    if jugador_1 > 7 and jugador_2 > 7:\n",
    "        return 0\n",
    "    elif jugador_1 > 7 and jugador_2 <=7:\n",
    "        return 2\n",
    "    elif jugador_1 <=7 and jugador_2 > 7:\n",
    "        return 1\n",
    "    else:\n",
    "        distancia_al_7_jug1 = 7 - jugador_1\n",
    "        distancia_al_7_jug2 = 7 - jugador_2\n",
    "        \n",
    "        if distancia_al_7_jug1 < distancia_al_7_jug2:\n",
    "            return 1\n",
    "        elif distancia_al_7_jug2 < distancia_al_7_jug1:\n",
    "            return 2\n",
    "        else:\n",
    "            return 0\n",
    "            "
   ]
  },
  {
   "cell_type": "code",
   "execution_count": 25,
   "id": "77a81416",
   "metadata": {},
   "outputs": [
    {
     "name": "stdout",
     "output_type": "stream",
     "text": [
      "q=1, p=3, r=5, s=1\n"
     ]
    },
    {
     "data": {
      "text/plain": [
       "2"
      ]
     },
     "execution_count": 25,
     "metadata": {},
     "output_type": "execute_result"
    }
   ],
   "source": [
    "q, p = random.randint(1,6), random.randint(1,6)\n",
    "r, s = random.randint(1,6), random.randint(1,6)\n",
    "\n",
    "print(f'{q=}, {p=}, {r=}, {s=}')\n",
    "\n",
    "winner(q,p,r,s)"
   ]
  },
  {
   "cell_type": "markdown",
   "id": "0b6bb23a",
   "metadata": {},
   "source": [
    "# Figuras 2D\n",
    "\n",
    "Diseña una función figuras(x1,x2,y1,y2) en que, dados dos puntos definidos por el par de coordenadas (xi, yi), donde x1 <= x2 y y1 <= y2, siendo (x1, y1) el vértice inferior izquierdo y (x2, y2) el vértice superior derecho de una figura geométrica 2D, retorna como string el tipo de figura geométrica: 'punto', 'línea', 'cuadrado', 'rectángulo'. "
   ]
  },
  {
   "cell_type": "code",
   "execution_count": 27,
   "id": "e7529b52",
   "metadata": {},
   "outputs": [
    {
     "name": "stdout",
     "output_type": "stream",
     "text": [
      "Punto\n",
      "Punto\n",
      "Punto\n",
      "\n",
      "\n",
      "linea\n",
      "linea\n",
      "linea\n",
      "linea\n",
      "\n",
      "\n",
      "Cuadrado\n",
      "Cuadrado\n",
      "Cuadrado\n",
      "\n",
      "\n",
      "Rectangulo\n",
      "Rectangulo\n"
     ]
    }
   ],
   "source": [
    "def figuras_2d(x1,y1,x2,y2):\n",
    "    if not(x1<=x2 and y1<=y2):\n",
    "        raise ValueError('Invalid inputs')\n",
    "        \n",
    "    if x1 == x2 and y1 ==y2:\n",
    "        print('Punto')\n",
    "        \n",
    "    elif x1 == x2 or y1 == y2:\n",
    "        print('linea')\n",
    "        \n",
    "    elif abs(x1-x2) == abs(y1-y2):\n",
    "        print('Cuadrado')\n",
    "        \n",
    "    else:\n",
    "        print('Rectangulo')\n",
    "        \n",
    "    return None\n",
    "\n",
    "figuras_2d(0, 0, 0, 0)\n",
    "figuras_2d(0, 1, 0, 1)\n",
    "figuras_2d(3, 18, 3, 18)\n",
    "print('\\n')\n",
    "figuras_2d(0, 0, 0, 1)\n",
    "figuras_2d(0, 0, 1, 0)\n",
    "figuras_2d(1, 0, 2, 0)\n",
    "figuras_2d(34, 234, 888, 234)\n",
    "print('\\n')\n",
    "figuras_2d(0, 1,1,2)\n",
    "figuras_2d(10,0,230,220)\n",
    "figuras_2d(0,3438,543,3981)\n",
    "print('\\n')\n",
    "figuras_2d(0, 0, 2, 1)\n",
    "figuras_2d(0,0,3452,237)"
   ]
  },
  {
   "cell_type": "code",
   "execution_count": null,
   "id": "ad13cfa8",
   "metadata": {},
   "outputs": [],
   "source": []
  }
 ],
 "metadata": {
  "kernelspec": {
   "display_name": "Python 3 (ipykernel)",
   "language": "python",
   "name": "python3"
  },
  "language_info": {
   "codemirror_mode": {
    "name": "ipython",
    "version": 3
   },
   "file_extension": ".py",
   "mimetype": "text/x-python",
   "name": "python",
   "nbconvert_exporter": "python",
   "pygments_lexer": "ipython3",
   "version": "3.10.6"
  },
  "toc": {
   "base_numbering": 1,
   "nav_menu": {},
   "number_sections": true,
   "sideBar": true,
   "skip_h1_title": false,
   "title_cell": "Table of Contents",
   "title_sidebar": "Contents",
   "toc_cell": false,
   "toc_position": {},
   "toc_section_display": true,
   "toc_window_display": false
  }
 },
 "nbformat": 4,
 "nbformat_minor": 5
}
