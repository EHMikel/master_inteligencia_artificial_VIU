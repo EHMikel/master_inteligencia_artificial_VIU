{
 "cells": [
  {
   "cell_type": "markdown",
   "id": "03b1f266",
   "metadata": {},
   "source": [
    "# Máximo de un string\n",
    "\n",
    "Diseña una función máximo(str) que, dado un string, busque y devuelva la mayor letra minúscula (en el orden de la tabla ASCII básico). Si el string entra vacío la función debe devolver False."
   ]
  },
  {
   "cell_type": "code",
   "execution_count": 3,
   "id": "7fd89eb6",
   "metadata": {},
   "outputs": [],
   "source": [
    "from string import ascii_lowercase\n",
    "\n",
    "def maximo_str(string):\n",
    "    \n",
    "    lower_str = [n for n in string if n in ascii_lowercase]\n",
    "    \n",
    "    return max(lower_str)"
   ]
  },
  {
   "cell_type": "code",
   "execution_count": 4,
   "id": "a71fcc96",
   "metadata": {},
   "outputs": [
    {
     "data": {
      "text/plain": [
       "'z'"
      ]
     },
     "execution_count": 4,
     "metadata": {},
     "output_type": "execute_result"
    }
   ],
   "source": [
    "maximo_str('adfdfADSFAdlk1234z')"
   ]
  },
  {
   "cell_type": "markdown",
   "id": "096dcf10",
   "metadata": {},
   "source": [
    "# Contar (recorrido)\n",
    "\n",
    "Diseña una función contarLetra(str, letra) que, dado un texto representado en un string (str), cuente y devuelva el número de letra que contiene."
   ]
  },
  {
   "cell_type": "code",
   "execution_count": 10,
   "id": "701c39dd",
   "metadata": {},
   "outputs": [],
   "source": [
    "def contarLetra(texto, letra):\n",
    "    \n",
    "    mi_letra = [n for n in texto if n.lower() == letra.lower()]\n",
    "    \n",
    "    return len(mi_letra)\n",
    "\n",
    "# coutner = 0\n",
    "# for n in texto:\n",
    "#     if letra.lower() == n.lower():\n",
    "#         counter += 1 "
   ]
  },
  {
   "cell_type": "code",
   "execution_count": 12,
   "id": "f99c0fc9",
   "metadata": {},
   "outputs": [
    {
     "data": {
      "text/plain": [
       "4"
      ]
     },
     "execution_count": 12,
     "metadata": {},
     "output_type": "execute_result"
    }
   ],
   "source": [
    "contarLetra('haziea ez dabil hemendik hartu hau', 'h')"
   ]
  },
  {
   "cell_type": "markdown",
   "id": "be8524a2",
   "metadata": {},
   "source": [
    "# Cambiar letra por otra\n",
    "\n",
    "Diseña una función cambia(s,c1,c2) que, dado un texto representado en un string (s), cambie el carácter c1 por el c2."
   ]
  },
  {
   "cell_type": "code",
   "execution_count": 18,
   "id": "8a7f3457",
   "metadata": {},
   "outputs": [],
   "source": [
    "def cambia(texto, letra, letra_nueva):\n",
    "    \n",
    "    return texto.replace(letra, letra_nueva)"
   ]
  },
  {
   "cell_type": "code",
   "execution_count": 19,
   "id": "98aa271d",
   "metadata": {},
   "outputs": [
    {
     "data": {
      "text/plain": [
       "'Haziea ez dabil pemendik partu pau'"
      ]
     },
     "execution_count": 19,
     "metadata": {},
     "output_type": "execute_result"
    }
   ],
   "source": [
    "cambia('Haziea ez dabil hemendik hartu hau', 'h', 'p')"
   ]
  },
  {
   "cell_type": "code",
   "execution_count": 20,
   "id": "52f05fc1",
   "metadata": {},
   "outputs": [],
   "source": [
    "def cambia2(texto, letra, letra_nueva):\n",
    "    nuevo = [letra_nueva if n == letra else n for n in texto]\n",
    "    return ''.join(nuevo)"
   ]
  },
  {
   "cell_type": "code",
   "execution_count": 21,
   "id": "b71f8f93",
   "metadata": {},
   "outputs": [
    {
     "data": {
      "text/plain": [
       "'Haziea ez dabil pemendik partu pau'"
      ]
     },
     "execution_count": 21,
     "metadata": {},
     "output_type": "execute_result"
    }
   ],
   "source": [
    "cambia('Haziea ez dabil hemendik hartu hau', 'h', 'p')"
   ]
  },
  {
   "cell_type": "markdown",
   "id": "89325f5c",
   "metadata": {},
   "source": [
    "# Buscar posición\n",
    "\n",
    "(búsqueda) Diseña una función pos_a(s, k) que reciba un string s y un entero no negativo k y devuelva la posición donde se encuentra la k-ésima letra 'a' dentro de s, o -1 si el string s tiene menos de k letras 'a'."
   ]
  },
  {
   "cell_type": "code",
   "execution_count": 2,
   "id": "019d807e",
   "metadata": {},
   "outputs": [],
   "source": [
    "def pos_a(s,k):\n",
    "    \n",
    "    a_counter = 0\n",
    "    \n",
    "    for n in range(len(s)):\n",
    "        \n",
    "        if s[n] == 'a':\n",
    "            a_counter += 1\n",
    "            \n",
    "        if a_counter == k:\n",
    "            return n\n",
    "        \n",
    "    return -1"
   ]
  },
  {
   "cell_type": "code",
   "execution_count": 7,
   "id": "c2dc5102",
   "metadata": {},
   "outputs": [
    {
     "data": {
      "text/plain": [
       "-1"
      ]
     },
     "execution_count": 7,
     "metadata": {},
     "output_type": "execute_result"
    }
   ],
   "source": [
    "pos_a('hola',2)"
   ]
  },
  {
   "cell_type": "markdown",
   "id": "dfb52fab",
   "metadata": {},
   "source": [
    "# Cambiar_minMay\n",
    "\n",
    "Diseña una función cambia_minMay(str) que, dado un string str devuelva el string pero cambiando sus vocales minúsculas por mayúsculas."
   ]
  },
  {
   "cell_type": "code",
   "execution_count": 19,
   "id": "79ecea92",
   "metadata": {},
   "outputs": [],
   "source": [
    "from string import ascii_lowercase\n",
    "\n",
    "def cambia_minmay(s):\n",
    "    \n",
    "    vocal_min = [ n.upper() if n in 'aeiou' else n for n in s ]\n",
    "    vocal_min = ''.join(vocal_min)\n",
    "    print(vocal_min)\n",
    "    return None"
   ]
  },
  {
   "cell_type": "code",
   "execution_count": 21,
   "id": "27c5bb2c",
   "metadata": {},
   "outputs": [
    {
     "name": "stdout",
     "output_type": "stream",
     "text": [
      "trEs trIstEs tIgrEs cOmEn trIgO En Un trIgAl\n"
     ]
    }
   ],
   "source": [
    "cambia_minmay('tres tristes tigres comen trigo en un trigal')"
   ]
  },
  {
   "cell_type": "markdown",
   "id": "42ecfe9f",
   "metadata": {},
   "source": [
    "# BorrarNúmerosString\n",
    "\n",
    "Diseña una función delNumbers(str) que entre un string str y devuelva el string pero sin sus caracteres numéricos o dígitos."
   ]
  },
  {
   "cell_type": "code",
   "execution_count": 31,
   "id": "4ae9805c",
   "metadata": {},
   "outputs": [],
   "source": [
    "from string import punctuation\n",
    "from string import ascii_uppercase"
   ]
  },
  {
   "cell_type": "code",
   "execution_count": 33,
   "id": "c7b9783a",
   "metadata": {},
   "outputs": [],
   "source": [
    "def del_numbers(s):\n",
    "    s_sin_num = [n for n in s if n in ascii_lowercase or n in ascii_uppercase or n in punctuation or n == ' ']\n",
    "    return ''.join(s_sin_num)"
   ]
  },
  {
   "cell_type": "code",
   "execution_count": 36,
   "id": "1f71aa8c",
   "metadata": {},
   "outputs": [
    {
     "data": {
      "text/plain": [
       "'Hola, que tal nos vemos a las  y  media salu'"
      ]
     },
     "execution_count": 36,
     "metadata": {},
     "output_type": "execute_result"
    }
   ],
   "source": [
    "del_numbers('Hola, que tal nos vemos a las 12 y  media salu2')"
   ]
  },
  {
   "cell_type": "markdown",
   "id": "c4bc8cb5",
   "metadata": {},
   "source": [
    "# ContarMayusculas_minusculas\n",
    "\n",
    "Diseña una función contarMm(str) que cuente y devuelva el número de mayúsculas y minúsculas de un texto que entra como un string."
   ]
  },
  {
   "cell_type": "code",
   "execution_count": 37,
   "id": "be7d8037",
   "metadata": {},
   "outputs": [],
   "source": [
    "def contarMm(s):\n",
    "    mayu = 0\n",
    "    minu = 0\n",
    "    \n",
    "    for n in s:\n",
    "        if n in ascii_uppercase:\n",
    "            mayu += 1\n",
    "        if n in ascii_lowercase:\n",
    "            minu +=1\n",
    "    return mayu, minu"
   ]
  },
  {
   "cell_type": "code",
   "execution_count": 38,
   "id": "c7523a1f",
   "metadata": {},
   "outputs": [
    {
     "data": {
      "text/plain": [
       "(6, 17)"
      ]
     },
     "execution_count": 38,
     "metadata": {},
     "output_type": "execute_result"
    }
   ],
   "source": [
    "contarMm('Kiacnan NFAD N ndfoiadfoia')"
   ]
  },
  {
   "cell_type": "markdown",
   "id": "34233777",
   "metadata": {},
   "source": [
    "# CuentaVocalesConsonantes\n",
    "\n",
    "Diseña una función que cuente y devuelva el número de vocales y consonantes de un texto que entra como un string."
   ]
  },
  {
   "cell_type": "code",
   "execution_count": 40,
   "id": "2d5ccc57",
   "metadata": {},
   "outputs": [],
   "source": [
    "def contarvoc_cons(s):\n",
    "    voc = 0\n",
    "    cons= 0\n",
    "    \n",
    "    for n in s:\n",
    "        if n.lower() in 'aeiou':\n",
    "            voc += 1\n",
    "        elif n.lower() in ascii_lowercase:\n",
    "             cons +=1\n",
    "                \n",
    "    return voc, cons"
   ]
  },
  {
   "cell_type": "code",
   "execution_count": 41,
   "id": "c15696be",
   "metadata": {},
   "outputs": [
    {
     "data": {
      "text/plain": [
       "(17, 15)"
      ]
     },
     "execution_count": 41,
     "metadata": {},
     "output_type": "execute_result"
    }
   ],
   "source": [
    "contarvoc_cons('aeañjfi adifoi afndoi AODIFANÑ  ndknako')"
   ]
  },
  {
   "cell_type": "markdown",
   "id": "0810df2a",
   "metadata": {},
   "source": [
    "# Encriptar\n",
    "\n",
    "Diseña una función encripta(s, clave) que reciba un string s con un mensaje y un string clave con una clave de codificación, y retorne el mensaje codificado según la clave leída. Los signos de puntuación y dígitos que aparezcan en el mensaje deben conservarse sin cambios. La clave consiste en una sucesión de las 26 letras minúsculas del alfabeto, las cuales se hacen corresponder con el alfabeto básico (a…z, sin la ñ o vocales con tilde) de 26 letras. La primera letra de la clave se relaciona con la letra 'a', la segunda con la letra 'b', etc. Por ejemplo, una entrada de la forma:\n",
    "\n",
    "Clave = 'ixmrklstnuzbowfaqejdcpvhyg'\n",
    "\n",
    "Texto para codificar: 'cafe'\n",
    "\n",
    "Con esta clave la letra 'i' se corresponde con la letra 'a', la letra 'x' se corresponde con la letra 'b', la letra 'm' se corresponde con la letra 'c', y así sucesivamente. En el ejemplo anterior debería dar como salida: 'milk'.\n",
    "\n",
    "Nota: para simplificar consideraremos solo mensajes de entrada en minúsculas."
   ]
  },
  {
   "cell_type": "code",
   "execution_count": 42,
   "id": "e4ec8204",
   "metadata": {},
   "outputs": [
    {
     "data": {
      "text/plain": [
       "26"
      ]
     },
     "execution_count": 42,
     "metadata": {},
     "output_type": "execute_result"
    }
   ],
   "source": [
    "len(ascii_lowercase)"
   ]
  },
  {
   "cell_type": "code",
   "execution_count": 45,
   "id": "f9dc3d2f",
   "metadata": {},
   "outputs": [],
   "source": [
    "def encripta(s,clave = 'ixmrklstnuzbowfaqejdcpvhyg'):\n",
    "    \n",
    "    encrypt = dict(zip(ascii_lowercase,clave))\n",
    "    respuesta = [encrypt[n.lower()] if n.lower() in ascii_lowercase else n for n in s]\n",
    "    return ''.join(respuesta)\n",
    "    "
   ]
  },
  {
   "cell_type": "code",
   "execution_count": 49,
   "id": "6050f358",
   "metadata": {},
   "outputs": [
    {
     "data": {
      "text/plain": [
       "'riok 1 mtfmfbidk'"
      ]
     },
     "execution_count": 49,
     "metadata": {},
     "output_type": "execute_result"
    }
   ],
   "source": [
    "encripta('dame 1 chocolate')"
   ]
  },
  {
   "cell_type": "markdown",
   "id": "adb7d159",
   "metadata": {},
   "source": [
    "# Diseña una función desencripta(s, clave)\n",
    "\n",
    "que realice la función inversa a la función anterior, es decir, reciba un string s y una clave y realice la desencriptación del mensaje en el string devolviendo la cadena desencriptada."
   ]
  },
  {
   "cell_type": "code",
   "execution_count": 50,
   "id": "4cd60b1c",
   "metadata": {},
   "outputs": [],
   "source": [
    "def desencripta(s,clave = 'ixmrklstnuzbowfaqejdcpvhyg'):\n",
    "    \n",
    "    encrypt = dict(zip(clave, ascii_lowercase))\n",
    "    respuesta = [encrypt[n.lower()] if n.lower() in ascii_lowercase else n for n in s]\n",
    "    return ''.join(respuesta)"
   ]
  },
  {
   "cell_type": "code",
   "execution_count": 51,
   "id": "134341ab",
   "metadata": {},
   "outputs": [
    {
     "data": {
      "text/plain": [
       "'dame 1 chocolate'"
      ]
     },
     "execution_count": 51,
     "metadata": {},
     "output_type": "execute_result"
    }
   ],
   "source": [
    "desencripta('riok 1 mtfmfbidk')"
   ]
  },
  {
   "cell_type": "markdown",
   "id": "ee3de8fa",
   "metadata": {},
   "source": [
    "# Reagrupar\n",
    "\n",
    "Diseña una función reagrupar(s) que recibe como argumento una cadena (string) s que consta de letras minúsculas y dígitos, y devuelve una reagrupación de los caracteres de la cadena. La reagrupación es la siguiente: en la cadena devuelta, primero aparecen las letras, en el mismo orden en que vinieron en la cadena de argumentos; y luego vienen los dígitos, en el mismo orden en que vinieron en la cadena de argumentos."
   ]
  },
  {
   "cell_type": "code",
   "execution_count": 62,
   "id": "b2cfcdab",
   "metadata": {},
   "outputs": [],
   "source": [
    "def reagrupar(s):\n",
    "    \n",
    "    letras = [n for n in s if n.lower() in ascii_lowercase]\n",
    "    numeros = [n for n in s if n.lower() not in ascii_lowercase or n.lower() in punctuation]\n",
    "\n",
    "    respuesta = letras + numeros\n",
    "    \n",
    "    return ''.join(respuesta)"
   ]
  },
  {
   "cell_type": "code",
   "execution_count": 63,
   "id": "4d5ba127",
   "metadata": {},
   "outputs": [
    {
     "data": {
      "text/plain": [
       "'rifadlakoiahidhfio123325'"
      ]
     },
     "execution_count": 63,
     "metadata": {},
     "output_type": "execute_result"
    }
   ],
   "source": [
    "reagrupar('rifadlak123oiahi325dhfio')"
   ]
  },
  {
   "cell_type": "markdown",
   "id": "fa521667",
   "metadata": {},
   "source": [
    "# Cola de personas\n",
    "\n",
    "Un string formado por + y - representa la evolución de una cola. Un signo + en el string significa que llega una persona nueva a la cola. Un - indica que se va una persona. Cada segundo una persona entra o sale de la cola, pero no hay entradas y salidas simultáneas. Un string como el descrito de tamaño n permite representar la evolución de la cola en los n primeros segundos. Por ejemplo, el string ++-+++- representa la evolución de una cola durante siete segundos. En todos ellos se incorpora una persona salvo en los segundos tres y siete, en los que sale una. En su evolución el tamaño máximo de la cola ha sido cuatro.\n",
    "\n",
    "Está lloviendo y solo las tres primeras personas de la cola pueden ponerse a cubierto. Diseñad una función t_descubierto(s) que, dado un string s formado por los caracteres + y - que representa la evolución de la cola, nos diga durante cuántos segundos ha habido gente en la cola mojándose."
   ]
  },
  {
   "cell_type": "code",
   "execution_count": 93,
   "id": "1c0ae20d",
   "metadata": {},
   "outputs": [],
   "source": [
    "def t_descubierto(s):\n",
    "    \n",
    "#     cola = list(s)\n",
    "#     segundos = 0\n",
    "#     while len(cola) > 3:\n",
    "#         segundos += 1\n",
    "        \n",
    "#         cola.pop()\n",
    "     \n",
    "#     return segundos \n",
    "\n",
    "    return len(s) - 3\n",
    "        \n",
    "    \n"
   ]
  },
  {
   "cell_type": "code",
   "execution_count": 94,
   "id": "f793b0c2",
   "metadata": {},
   "outputs": [
    {
     "data": {
      "text/plain": [
       "16"
      ]
     },
     "execution_count": 94,
     "metadata": {},
     "output_type": "execute_result"
    }
   ],
   "source": [
    "t_descubierto('+-+-+-+++-+--++-+-+')"
   ]
  },
  {
   "cell_type": "markdown",
   "id": "f5de7a50",
   "metadata": {},
   "source": [
    "# Recorrido de robot\n",
    "\n",
    "Disponemos de un robot que se desplaza dando pasos de 60 centímetros siguiendo cuatro direcciones norte, sur, este y oeste. Las órdenes se transmiten al robot mediante un string formado por las letras n, s, e y o que responden a las cuatro direcciones en las que que el robot puede desplazarse. Diseña una función vuelve(orden) que dado un string orden formado con las letras n, s, e y o retorne True si y sólo sí el robot termina en la posición de salida. Si no, devuelve False."
   ]
  },
  {
   "cell_type": "code",
   "execution_count": 95,
   "id": "7f208683",
   "metadata": {},
   "outputs": [],
   "source": [
    "def vuelve(orden):\n",
    "    \n",
    "    x=0\n",
    "    y=0\n",
    "    \n",
    "    for n in orden:\n",
    "        if n.lower() == 'n':\n",
    "            y +=1\n",
    "        elif n.lower() == 's':\n",
    "            y -= 1\n",
    "            \n",
    "        elif n.lower() == 'e':\n",
    "            x +=1\n",
    "        elif n.lower() == 'o':\n",
    "            x -= 1\n",
    "        \n",
    "    if x == 0 and y == 0:\n",
    "        return True\n",
    "    \n",
    "    return False\n",
    "        "
   ]
  },
  {
   "cell_type": "code",
   "execution_count": 97,
   "id": "06fd5ded",
   "metadata": {},
   "outputs": [
    {
     "data": {
      "text/plain": [
       "False"
      ]
     },
     "execution_count": 97,
     "metadata": {},
     "output_type": "execute_result"
    }
   ],
   "source": [
    "vuelve('nsee')"
   ]
  },
  {
   "cell_type": "markdown",
   "id": "facc84a9",
   "metadata": {},
   "source": [
    "# Contador de átomos\n",
    "\n",
    "Una fórmula química es una representación convencional de los elementos que forman un compuesto. Por ejemplo, el 1-2-butadiol sería C2H5O, que nosotros representaremos con el string 'C2H5O'. También pueden aparecer elementos químicos de dos caracteres como el calcio Ca en CaCO3 ( 'CaCO3') o el hierro Fe en Fe3O4 ( 'Fe3O4'). En estos casos el segundo carácter del símbolo siempre es una minúscula. Diseña la función cuenta_atomos(s) que, dado un string s con un compuesto como los descritos antes, devuelve el número de átomos que contiene. Para simplificar el problema, limitaremos el número que puede seguir el símbolo de un elemento a un valor entre 2 y 9. Puede utilizar como métodos str.isupper(), etc. de la clase string."
   ]
  },
  {
   "cell_type": "code",
   "execution_count": 101,
   "id": "0394168c",
   "metadata": {},
   "outputs": [],
   "source": [
    "import string"
   ]
  },
  {
   "cell_type": "code",
   "execution_count": 106,
   "id": "a51ae90f",
   "metadata": {},
   "outputs": [
    {
     "data": {
      "text/plain": [
       "True"
      ]
     },
     "execution_count": 106,
     "metadata": {},
     "output_type": "execute_result"
    }
   ],
   "source": [
    "a = 'A'\n",
    "\n",
    "a.isupper()"
   ]
  },
  {
   "cell_type": "code",
   "execution_count": 133,
   "id": "73f13602",
   "metadata": {},
   "outputs": [],
   "source": [
    "def cuenta_atomos(string):\n",
    "\n",
    "    resultado = []\n",
    "    elemento_añadido = ''\n",
    "\n",
    "    for n in string:\n",
    "\n",
    "        # solo es para la primera vez\n",
    "        if len(elemento_añadido) == 0:\n",
    "\n",
    "            if n.isupper():\n",
    "                elemento_añadido += n\n",
    "\n",
    "            elif n not in punctuation and n.islower() == False:\n",
    "                elemento_añadido += n\n",
    "\n",
    "        # despues se ejecutara esto siempre\n",
    "        else:\n",
    "\n",
    "            if n.isupper():\n",
    "\n",
    "                resultado.append(elemento_añadido)\n",
    "                elemento_añadido = n\n",
    "\n",
    "            elif n not in punctuation and n.islower() == False:\n",
    "                elemento_añadido += n\n",
    "\n",
    "\n",
    "    resultado.append(elemento_añadido)           \n",
    "\n",
    "    atomos = []\n",
    "    for n in resultado:\n",
    "        if len(n) == 1:\n",
    "            atomos.append(1)\n",
    "        else:\n",
    "            atomos.append(int(n[1]))\n",
    " \n",
    "    return sum(atomos)"
   ]
  },
  {
   "cell_type": "code",
   "execution_count": 134,
   "id": "7fb0d66b",
   "metadata": {},
   "outputs": [
    {
     "data": {
      "text/plain": [
       "3"
      ]
     },
     "execution_count": 134,
     "metadata": {},
     "output_type": "execute_result"
    }
   ],
   "source": [
    "cuenta_atomos('HIO')"
   ]
  },
  {
   "cell_type": "code",
   "execution_count": 135,
   "id": "473f0581",
   "metadata": {},
   "outputs": [
    {
     "data": {
      "text/plain": [
       "3"
      ]
     },
     "execution_count": 135,
     "metadata": {},
     "output_type": "execute_result"
    }
   ],
   "source": [
    "cuenta_atomos('H2O')"
   ]
  },
  {
   "cell_type": "code",
   "execution_count": 136,
   "id": "91b59518",
   "metadata": {},
   "outputs": [
    {
     "data": {
      "text/plain": [
       "8"
      ]
     },
     "execution_count": 136,
     "metadata": {},
     "output_type": "execute_result"
    }
   ],
   "source": [
    "cuenta_atomos('C2H5O')"
   ]
  },
  {
   "cell_type": "code",
   "execution_count": 137,
   "id": "986e9d73",
   "metadata": {},
   "outputs": [
    {
     "data": {
      "text/plain": [
       "5"
      ]
     },
     "execution_count": 137,
     "metadata": {},
     "output_type": "execute_result"
    }
   ],
   "source": [
    "cuenta_atomos('CaCO3')"
   ]
  },
  {
   "cell_type": "code",
   "execution_count": 138,
   "id": "d6cabc06",
   "metadata": {},
   "outputs": [
    {
     "data": {
      "text/plain": [
       "7"
      ]
     },
     "execution_count": 138,
     "metadata": {},
     "output_type": "execute_result"
    }
   ],
   "source": [
    "cuenta_atomos('Fe3O4')"
   ]
  },
  {
   "cell_type": "code",
   "execution_count": null,
   "id": "0e9c2a89",
   "metadata": {},
   "outputs": [],
   "source": []
  }
 ],
 "metadata": {
  "kernelspec": {
   "display_name": "Python 3 (ipykernel)",
   "language": "python",
   "name": "python3"
  },
  "language_info": {
   "codemirror_mode": {
    "name": "ipython",
    "version": 3
   },
   "file_extension": ".py",
   "mimetype": "text/x-python",
   "name": "python",
   "nbconvert_exporter": "python",
   "pygments_lexer": "ipython3",
   "version": "3.10.6"
  },
  "toc": {
   "base_numbering": 1,
   "nav_menu": {},
   "number_sections": true,
   "sideBar": true,
   "skip_h1_title": false,
   "title_cell": "Table of Contents",
   "title_sidebar": "Contents",
   "toc_cell": false,
   "toc_position": {},
   "toc_section_display": true,
   "toc_window_display": false
  }
 },
 "nbformat": 4,
 "nbformat_minor": 5
}
