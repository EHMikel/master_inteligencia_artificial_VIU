{
 "cells": [
  {
   "cell_type": "markdown",
   "id": "be991c32",
   "metadata": {},
   "source": [
    "# Frecuencia de Números\n",
    "\n",
    "Diseña una función frecuencias(lst) en que, dada una lista de números naturales, devuelva un diccionario con el número de veces que aparece cada número en la lista dada."
   ]
  },
  {
   "cell_type": "code",
   "execution_count": 1,
   "id": "dd345431",
   "metadata": {},
   "outputs": [],
   "source": [
    "def frecuencias(lst):\n",
    "    frec = {}\n",
    "    for n in lst:\n",
    "        if n in frec:\n",
    "            frec[n] += 1\n",
    "        else:\n",
    "            frec[n] = 1    \n",
    "    return frec"
   ]
  },
  {
   "cell_type": "code",
   "execution_count": 2,
   "id": "0432c70d",
   "metadata": {},
   "outputs": [],
   "source": [
    "a = [1,2,3,4,5,1,3,7,89,10,23,23,11,1,2,3,66,23,23,23,23,23,66,10,89,7,4,4,4,4,5,5,5,6,6,7,7,77,7,7,7,7,7,7,7,7,23,23,23]"
   ]
  },
  {
   "cell_type": "code",
   "execution_count": 3,
   "id": "05c2ce58",
   "metadata": {},
   "outputs": [
    {
     "data": {
      "text/plain": [
       "{1: 3,\n",
       " 2: 2,\n",
       " 3: 3,\n",
       " 4: 5,\n",
       " 5: 4,\n",
       " 7: 12,\n",
       " 89: 2,\n",
       " 10: 2,\n",
       " 23: 10,\n",
       " 11: 1,\n",
       " 66: 2,\n",
       " 6: 2,\n",
       " 77: 1}"
      ]
     },
     "execution_count": 3,
     "metadata": {},
     "output_type": "execute_result"
    }
   ],
   "source": [
    "frecuencias(a)"
   ]
  },
  {
   "cell_type": "markdown",
   "id": "4739bb19",
   "metadata": {},
   "source": [
    "# Moda (estadística)\n",
    "\n",
    "Diseña una función moda(lst) en que, dada una lista de números naturales, devuelva la moda de la lista (el valor más repetido). Puedes usar la función anterior, frecuencias."
   ]
  },
  {
   "cell_type": "code",
   "execution_count": 4,
   "id": "fa8f8f78",
   "metadata": {},
   "outputs": [],
   "source": [
    "def moda(lst):\n",
    "    frec = {}\n",
    "    for n in lst:\n",
    "        if n in frec:\n",
    "            frec[n] += 1\n",
    "        else:\n",
    "            frec[n] = 1   \n",
    "    \n",
    "    rev_frec = [ (value, key) for key, value in frec.items()]\n",
    "    \n",
    "    return max(rev_frec)[1]"
   ]
  },
  {
   "cell_type": "code",
   "execution_count": 5,
   "id": "dcde1941",
   "metadata": {},
   "outputs": [
    {
     "data": {
      "text/plain": [
       "7"
      ]
     },
     "execution_count": 5,
     "metadata": {},
     "output_type": "execute_result"
    }
   ],
   "source": [
    "moda(a)"
   ]
  },
  {
   "cell_type": "code",
   "execution_count": 39,
   "id": "536dbf5f",
   "metadata": {},
   "outputs": [],
   "source": [
    "def moda2(lst):\n",
    "    frec = {}\n",
    "    for n in lst:\n",
    "        if n in frec:\n",
    "            frec[n] += 1\n",
    "        else:\n",
    "            frec[n] = 1   \n",
    "    \n",
    "    \n",
    "    return sorted(frec.items(), key= lambda x: x[1], reverse = True)[0]#[0]"
   ]
  },
  {
   "cell_type": "code",
   "execution_count": 40,
   "id": "5d0aa5f7",
   "metadata": {},
   "outputs": [
    {
     "data": {
      "text/plain": [
       "(7, 12)"
      ]
     },
     "execution_count": 40,
     "metadata": {},
     "output_type": "execute_result"
    }
   ],
   "source": [
    "moda2(a)"
   ]
  },
  {
   "cell_type": "markdown",
   "id": "cf69816e",
   "metadata": {},
   "source": [
    "# Histograma\n",
    "\n",
    "Diseña una función histograma(lst) en que, dada una lista de números naturales, muestre el histograma de la lista. Puedes reusar funciones anteriores."
   ]
  },
  {
   "cell_type": "code",
   "execution_count": 8,
   "id": "d5770fe8",
   "metadata": {},
   "outputs": [],
   "source": [
    "def hist(lst):\n",
    "    frec = {}\n",
    "    for n in lst:\n",
    "        if n in frec:\n",
    "            frec[n] += '*'\n",
    "        else:\n",
    "            frec[n] = '*'  \n",
    "            \n",
    "    for key, value in frec.items():\n",
    "        \n",
    "        print(key, end= '\\t')\n",
    "        print(value)\n",
    "        \n",
    "    return None"
   ]
  },
  {
   "cell_type": "code",
   "execution_count": 9,
   "id": "f7aac121",
   "metadata": {},
   "outputs": [
    {
     "name": "stdout",
     "output_type": "stream",
     "text": [
      "1\t***\n",
      "2\t**\n",
      "3\t***\n",
      "4\t*****\n",
      "5\t****\n",
      "7\t************\n",
      "89\t**\n",
      "10\t**\n",
      "23\t**********\n",
      "11\t*\n",
      "66\t**\n",
      "6\t**\n",
      "77\t*\n"
     ]
    }
   ],
   "source": [
    "hist(a)"
   ]
  },
  {
   "cell_type": "markdown",
   "id": "1e0dac3e",
   "metadata": {},
   "source": [
    "# Agenda: Lista-Diccionario\n",
    "\n",
    "Diseña una función Agenda1 (lst) en que, dada una lista de listas donde cada sub-lista contiene dos strings que representan un nombre y un teléfono, devuelva un diccionario donde las claves sean un string con el nombre y los valores sean un string con el número de teléfono. Suponemos que no hay nombres repetidos. Ejemplo de entrada."
   ]
  },
  {
   "cell_type": "code",
   "execution_count": 10,
   "id": "b4813d62",
   "metadata": {},
   "outputs": [],
   "source": [
    "def agenda(lista):\n",
    "    \n",
    "    ag = {}\n",
    "    \n",
    "    for n in lista:\n",
    "        ag[n[0]] = n[1]\n",
    "    \n",
    "    return ag\n"
   ]
  },
  {
   "cell_type": "code",
   "execution_count": 43,
   "id": "872b9906",
   "metadata": {},
   "outputs": [
    {
     "data": {
      "text/plain": [
       "{'mikel': 9343434, 'manu': 676776767, 'kaka': 45454545}"
      ]
     },
     "execution_count": 43,
     "metadata": {},
     "output_type": "execute_result"
    }
   ],
   "source": [
    "lista = [['mikel', 9343434], ['manu', 676776767], ['kaka', 45454545]]\n",
    "\n",
    "dct = agenda(lista)\n",
    "\n",
    "dct"
   ]
  },
  {
   "cell_type": "markdown",
   "id": "f14b326e",
   "metadata": {},
   "source": [
    "# Agenda2\n",
    "\n",
    "Lista-Diccionario. Diseña una función Agenda2 (lst) en que, dada una lista de listas donde cada sub-lista contiene dos strings que representan un nombre y un teléfono, devuelva un diccionario donde las claves sean strings con el nombre y los valores sean una lista con los diferentes números de teléfono de la misma persona (puede haber nombres repetidos)."
   ]
  },
  {
   "cell_type": "code",
   "execution_count": 12,
   "id": "095d7f9e",
   "metadata": {},
   "outputs": [],
   "source": [
    "def agenda2(lista):\n",
    "    ag = {}\n",
    "    for n in lista:\n",
    "        \n",
    "        if n[0] in ag:\n",
    "            ag[n[0]].append(n[1])\n",
    "        else:\n",
    "            ag[n[0]] = [n[1]]\n",
    "    \n",
    "    return ag"
   ]
  },
  {
   "cell_type": "code",
   "execution_count": 13,
   "id": "43bbe710",
   "metadata": {},
   "outputs": [
    {
     "data": {
      "text/plain": [
       "{'mikel': ['9343434', '312134'], 'manu': ['676776767'], 'kaka': ['45454545']}"
      ]
     },
     "execution_count": 13,
     "metadata": {},
     "output_type": "execute_result"
    }
   ],
   "source": [
    "lista = [['mikel', '9343434'], ['manu', '676776767'], ['kaka', '45454545'], ['mikel', '312134']]\n",
    "\n",
    "agenda2(lista)"
   ]
  },
  {
   "cell_type": "code",
   "execution_count": null,
   "id": "a324727e",
   "metadata": {},
   "outputs": [],
   "source": []
  },
  {
   "cell_type": "markdown",
   "id": "3d0d5b75",
   "metadata": {},
   "source": [
    "# Temperaturas de ciudades\n",
    "\n",
    "Un diccionario guarda las temperaturas mínimas de los 3 primeros meses del año de distintas ciudades, de la forma\n",
    "dic = {'Londres': [3.4, 6.3, 10.5], 'Oslo': [-3.8, -5.0, 4.2], 'Rennes': [2.5, 3.1, 12.3]}\n",
    "\n",
    "\n",
    "a) Diseña una función mediaTemp(dict), en que dado un diccionario como el del ejemplo nos devuelva un diccionario con el valor medio de las temperaturas de cada ciudad (redondear a 2 decimales). Ejemplo:\n",
    ">>> mediaTemp(dic)\n",
    "{'Londres': 6.73, 'Rennes': 5.97, 'Oslo': -1.53}\n",
    "\n",
    "b) Diseña una función minimasTemp(dict), en que dado un diccionario como el del ejemplo nos devuelva un diccionario con el valor mínimo de las temperaturas de cada ciudad. Ejemplo:\n",
    ">>> minimasTemp(dic)\n",
    "{'Londres': 3.4, 'Rennes': 2.5, 'Oslo': -5.0}\n",
    "\n",
    "c) Diseña una función minTemp(dict), en que dado un diccionario como el del ejemplo nos devuelva una lista con la ciudad con la temperatura más baja y su valor. Ejemplo:\n",
    ">>> minTemp(dic)\n",
    "['Oslo', -5.0]"
   ]
  },
  {
   "cell_type": "code",
   "execution_count": 14,
   "id": "d850afea",
   "metadata": {},
   "outputs": [],
   "source": [
    "dic =  {'Londres': [3.4, 6.3, 10.5],\n",
    "         'Oslo': [-3.8, -5.0, 4.2],\n",
    "         'Rennes': [2.5, 3.1, 12.3]\n",
    "        }"
   ]
  },
  {
   "cell_type": "code",
   "execution_count": 15,
   "id": "c1a26990",
   "metadata": {},
   "outputs": [],
   "source": [
    "import numpy as np"
   ]
  },
  {
   "cell_type": "markdown",
   "id": "9e3ee734",
   "metadata": {},
   "source": [
    "##  "
   ]
  },
  {
   "cell_type": "code",
   "execution_count": 16,
   "id": "3378310a",
   "metadata": {},
   "outputs": [],
   "source": [
    "def media_temp(dic):\n",
    "    return {key : round(np.mean(value), 2) for key, value in dic.items()}"
   ]
  },
  {
   "cell_type": "code",
   "execution_count": 17,
   "id": "79c974a9",
   "metadata": {},
   "outputs": [
    {
     "data": {
      "text/plain": [
       "{'Londres': 6.73, 'Oslo': -1.53, 'Rennes': 5.97}"
      ]
     },
     "execution_count": 17,
     "metadata": {},
     "output_type": "execute_result"
    }
   ],
   "source": [
    "media_temp(dic)"
   ]
  },
  {
   "cell_type": "markdown",
   "id": "6894ccc5",
   "metadata": {},
   "source": [
    "## "
   ]
  },
  {
   "cell_type": "code",
   "execution_count": 18,
   "id": "87240c2e",
   "metadata": {},
   "outputs": [],
   "source": [
    "def min_temp(dic):\n",
    "    return {key: np.min(value) for key, value in dic.items()}"
   ]
  },
  {
   "cell_type": "code",
   "execution_count": 19,
   "id": "25d7aa8e",
   "metadata": {},
   "outputs": [
    {
     "data": {
      "text/plain": [
       "{'Londres': 3.4, 'Oslo': -5.0, 'Rennes': 2.5}"
      ]
     },
     "execution_count": 19,
     "metadata": {},
     "output_type": "execute_result"
    }
   ],
   "source": [
    "b = min_temp(dic)\n",
    "b"
   ]
  },
  {
   "cell_type": "markdown",
   "id": "5eabd224",
   "metadata": {},
   "source": [
    "## "
   ]
  },
  {
   "cell_type": "code",
   "execution_count": 20,
   "id": "944235f3",
   "metadata": {},
   "outputs": [],
   "source": [
    "def ciudad_mas_fria(dic):\n",
    "    \n",
    "    min_temp_ciudades = sorted(min_temp(dic).items(), key = lambda x: x[1])\n",
    "    \n",
    "    return min_temp_ciudades[0]"
   ]
  },
  {
   "cell_type": "code",
   "execution_count": 21,
   "id": "3a6696c5",
   "metadata": {},
   "outputs": [
    {
     "data": {
      "text/plain": [
       "('Oslo', -5.0)"
      ]
     },
     "execution_count": 21,
     "metadata": {},
     "output_type": "execute_result"
    }
   ],
   "source": [
    "ciudad_mas_fria(dic)"
   ]
  },
  {
   "cell_type": "code",
   "execution_count": 22,
   "id": "a2bdf866",
   "metadata": {},
   "outputs": [
    {
     "data": {
      "text/plain": [
       "[('Oslo', -5.0), ('Rennes', 2.5), ('Londres', 3.4)]"
      ]
     },
     "execution_count": 22,
     "metadata": {},
     "output_type": "execute_result"
    }
   ],
   "source": [
    "sorted(b.items(), key = lambda x: x[1])"
   ]
  },
  {
   "cell_type": "markdown",
   "id": "7b8ab1ce",
   "metadata": {},
   "source": [
    "# Diccionario de vinos\n",
    "\n",
    "Se dispone de un diccionario de vinos donde las claves son nombres vinos y los valores para cada vino son una lista con la información de su denominación de origen, la añada y su precio."
   ]
  },
  {
   "cell_type": "code",
   "execution_count": 23,
   "id": "14df3d94",
   "metadata": {},
   "outputs": [],
   "source": [
    "d = {'Muga': ['Rioja', 2012, 8.5],'Petit caus': ['Penedes',2014, 6.75],\\\n",
    "     'Viña vial': ['Rioja',2016,9.5], 'Lavia': ['Jumilla',2011,12.5], \\\n",
    "     'Bach': ['Penedes',2015, 4.5], 'Pazo B': ['Rias Baixas', 2016,13.0]}"
   ]
  },
  {
   "cell_type": "markdown",
   "id": "d7fb9939",
   "metadata": {},
   "source": [
    "Diseñar una función lista_vinos(d,rango) en que, dado un diccionario de vinos como el descrito y una lista con un rango de precios [menorPrecio, mayorPrecio], nos devuelva una lista de los nombres (ordenados alfabéticamente) de los vinos que estén en este rango de precios."
   ]
  },
  {
   "cell_type": "code",
   "execution_count": 24,
   "id": "be661be6",
   "metadata": {},
   "outputs": [],
   "source": [
    "def lista_vinos(d, rango_precios):\n",
    "    \n",
    "    for key, value in  d.items():\n",
    "        \n",
    "        d_vino = {}\n",
    "        d_vino['cosecha'] = value[0]\n",
    "        d_vino['año'] = value[1]\n",
    "        d_vino['precio'] = value[2]\n",
    "        \n",
    "        d[key] = d_vino\n",
    "        \n",
    "        \n",
    "    vinos_objetivo = {}\n",
    "    \n",
    "    for key, value in d.items():\n",
    "        \n",
    "        if rango_precios[0] < value['precio'] < rango_precios[1] :\n",
    "            \n",
    "            vinos_objetivo[key] = value['precio']\n",
    "        \n",
    "    \n",
    "    return sorted(vinos_objetivo)\n",
    "\n"
   ]
  },
  {
   "cell_type": "code",
   "execution_count": 25,
   "id": "34e42fab",
   "metadata": {},
   "outputs": [
    {
     "data": {
      "text/plain": [
       "['Lavia', 'Pazo B']"
      ]
     },
     "execution_count": 25,
     "metadata": {},
     "output_type": "execute_result"
    }
   ],
   "source": [
    "lista_vinos(d,[10, 15])"
   ]
  },
  {
   "cell_type": "markdown",
   "id": "b7d4497b",
   "metadata": {},
   "source": [
    "# Lego\n",
    "\n",
    "Dados dos diccionarios d_caja, que representa una caja de piezas de lego y asocia a cada color de pieza la cantidad que contiene, y d_model que representa el conjunto de piezas de lego que se necesitan para hacer una construcción, y asocia a cada color de pieza el número de piezas de este color que se necesitan, implementar una función contra_piezas(d_caja, d_model) que devuelva un diccionario con las piezas que faltan en d_caja para poder hacer la construcción de d_model."
   ]
  },
  {
   "cell_type": "code",
   "execution_count": 26,
   "id": "85b05f95",
   "metadata": {},
   "outputs": [],
   "source": [
    "d_caja = {'roja':20, 'azul':15, 'amarilla':25, 'verde': 10, 'negra':10}\n",
    "\n",
    "d_model = {'gris': 9, 'roja':10, 'azul':20, 'amarilla':6, 'naranja': 3}"
   ]
  },
  {
   "cell_type": "code",
   "execution_count": 27,
   "id": "82702e7e",
   "metadata": {},
   "outputs": [],
   "source": [
    "def contra_piezas(d_caja, d_model):\n",
    "    \n",
    "#     d_falta = {key: (d_model[key] - value) for key, value in d_model.items() if value < d_model[key]}\n",
    "    \n",
    "    d_falta = {}\n",
    "    \n",
    "    for key, value in d_model.items():\n",
    "        \n",
    "        if key in d_caja.keys():\n",
    "            \n",
    "            if value > d_caja[key]:\n",
    "                \n",
    "                d_falta[key] = value - d_caja[key]\n",
    "                \n",
    "        else: \n",
    "            \n",
    "            d_falta[key] = value\n",
    "            \n",
    "    return d_falta"
   ]
  },
  {
   "cell_type": "code",
   "execution_count": 28,
   "id": "d2d14413",
   "metadata": {},
   "outputs": [
    {
     "data": {
      "text/plain": [
       "{'gris': 9, 'azul': 5, 'naranja': 3}"
      ]
     },
     "execution_count": 28,
     "metadata": {},
     "output_type": "execute_result"
    }
   ],
   "source": [
    "contra_piezas(d_caja, d_model)"
   ]
  },
  {
   "cell_type": "markdown",
   "id": "f3ba5296",
   "metadata": {},
   "source": [
    "# La cuenta por favor\n",
    "\n",
    "Diseña una función la_cuenta(carta, consumicion) que, dado un diccionario carta con los precios de la carta de platos de un restaurante, del tipo:\n",
    "carta = {'plato': coste, ...} y un diccionario consumicion con los platos y cantidades consumidas, del tipo:\n",
    "cosumicion = {'plato': unidades, ...} devuelva el coste total de la consumición redondeado a los céntimos."
   ]
  },
  {
   "cell_type": "code",
   "execution_count": 29,
   "id": "66463b2c",
   "metadata": {},
   "outputs": [],
   "source": [
    "carta = {'arroz a banda': 6.5, 'pollo al horno': 5,\\\n",
    "         'conejo a la brasa': 7.5, 'judias verdes': 4.0, \\\n",
    "         'paella': 7.5, 'pimientos rellenos': 5.2, \\\n",
    "         'gazpacho': 4,'potaje de garbanzos': 4.5, \\\n",
    "         'calamares a la romana': 7, 'lubina a la sal': 8, \\\n",
    "         'bacalao con patatas': 9, 'espinacas': 4, \\\n",
    "         'ensalada de atun': 5}\n",
    "\n",
    "consumicion = {'conejo a la brasa': 2, 'paella': 1}"
   ]
  },
  {
   "cell_type": "code",
   "execution_count": 30,
   "id": "12e4ce79",
   "metadata": {},
   "outputs": [],
   "source": [
    "def la_cuenta(carta, consumicion):\n",
    "    \n",
    "    cuenta = 0\n",
    "    \n",
    "    for key, value in consumicion.items():\n",
    "        \n",
    "        cuenta += carta[key]*value\n",
    "        \n",
    "    return cuenta    "
   ]
  },
  {
   "cell_type": "code",
   "execution_count": 31,
   "id": "d8cc0c5d",
   "metadata": {},
   "outputs": [
    {
     "data": {
      "text/plain": [
       "22.5"
      ]
     },
     "execution_count": 31,
     "metadata": {},
     "output_type": "execute_result"
    }
   ],
   "source": [
    "la_cuenta(carta, consumicion)"
   ]
  },
  {
   "cell_type": "code",
   "execution_count": null,
   "id": "f1e9f415",
   "metadata": {},
   "outputs": [],
   "source": []
  }
 ],
 "metadata": {
  "kernelspec": {
   "display_name": "Python 3 (ipykernel)",
   "language": "python",
   "name": "python3"
  },
  "language_info": {
   "codemirror_mode": {
    "name": "ipython",
    "version": 3
   },
   "file_extension": ".py",
   "mimetype": "text/x-python",
   "name": "python",
   "nbconvert_exporter": "python",
   "pygments_lexer": "ipython3",
   "version": "3.10.6"
  },
  "toc": {
   "base_numbering": 1,
   "nav_menu": {},
   "number_sections": true,
   "sideBar": true,
   "skip_h1_title": false,
   "title_cell": "Table of Contents",
   "title_sidebar": "Contents",
   "toc_cell": false,
   "toc_position": {},
   "toc_section_display": true,
   "toc_window_display": false
  }
 },
 "nbformat": 4,
 "nbformat_minor": 5
}
