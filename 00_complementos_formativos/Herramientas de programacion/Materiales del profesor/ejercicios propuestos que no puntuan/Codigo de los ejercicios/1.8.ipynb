{
 "cells": [
  {
   "cell_type": "markdown",
   "id": "75c3d17e",
   "metadata": {},
   "source": [
    "# Sumatorio\n",
    "\n",
    "Diseña una función sumatorio(ini, fin), que dado un número natural inicial y otro final, devuelva la suma de los números naturales entre ellos inclusive."
   ]
  },
  {
   "cell_type": "code",
   "execution_count": 1,
   "id": "27fbc499",
   "metadata": {},
   "outputs": [],
   "source": [
    "def sumatorio(ini, fin):\n",
    "    \n",
    "    return sum(range(ini, fin +1))"
   ]
  },
  {
   "cell_type": "code",
   "execution_count": 2,
   "id": "85e402c2",
   "metadata": {},
   "outputs": [
    {
     "data": {
      "text/plain": [
       "55"
      ]
     },
     "execution_count": 2,
     "metadata": {},
     "output_type": "execute_result"
    }
   ],
   "source": [
    "sumatorio(1,10)"
   ]
  },
  {
   "cell_type": "markdown",
   "id": "3cb76947",
   "metadata": {},
   "source": [
    "# Mostrar divisores de un número natural\n",
    "\n",
    "Diseña una función mostrarDiv(n) de tipo nula, no-productiva o void (no usa return, sino que utiliza print()) que muestre los divisores que tiene un número natural n (n >0)."
   ]
  },
  {
   "cell_type": "code",
   "execution_count": 3,
   "id": "0d5728b2",
   "metadata": {},
   "outputs": [],
   "source": [
    "def mostrarDiv(n):\n",
    "    if n < 0:\n",
    "        raise ValueError('Invalid input')\n",
    "    \n",
    "    div = 1\n",
    "\n",
    "    for d in range(n):\n",
    "        if n%div == 0:\n",
    "            print(div)\n",
    "        div += 1            \n",
    "\n",
    "    return None"
   ]
  },
  {
   "cell_type": "code",
   "execution_count": 4,
   "id": "48a43677",
   "metadata": {},
   "outputs": [
    {
     "name": "stdout",
     "output_type": "stream",
     "text": [
      "1\n",
      "23\n"
     ]
    }
   ],
   "source": [
    "mostrarDiv(23)"
   ]
  },
  {
   "cell_type": "markdown",
   "id": "616b25ae",
   "metadata": {},
   "source": [
    "# Contar divisores\n",
    "\n",
    "Diseña una función productiva contarDiv(n), que, dado un número natural n (n>0), devuelva cuántos divisores tiene."
   ]
  },
  {
   "cell_type": "code",
   "execution_count": 5,
   "id": "16961171",
   "metadata": {},
   "outputs": [],
   "source": [
    "def contarDiv(n):\n",
    "    if n < 0:\n",
    "        raise ValueError('Invalid input')\n",
    "    \n",
    "    div = 1\n",
    "    lista_de_div = []\n",
    "    \n",
    "    for d in range(n):\n",
    "        if n%div == 0:\n",
    "            lista_de_div.append(div)\n",
    "        div += 1            \n",
    "\n",
    "    return len(lista_de_div)"
   ]
  },
  {
   "cell_type": "code",
   "execution_count": 6,
   "id": "89b416b7",
   "metadata": {},
   "outputs": [
    {
     "data": {
      "text/plain": [
       "8"
      ]
     },
     "execution_count": 6,
     "metadata": {},
     "output_type": "execute_result"
    }
   ],
   "source": [
    "contarDiv(1001)"
   ]
  },
  {
   "cell_type": "markdown",
   "id": "2798fabb",
   "metadata": {},
   "source": [
    "# Sumar divisores\n",
    "\n",
    "A partir de la función anterior, diseña una función sumaDiv(n) que, dado un número natural n (n>0), devuelva la suma de todos sus divisores."
   ]
  },
  {
   "cell_type": "code",
   "execution_count": 7,
   "id": "9f13bdaa",
   "metadata": {},
   "outputs": [],
   "source": [
    "def sumarDiv(n):\n",
    "    if n < 0:\n",
    "        raise ValueError('Invalid input')\n",
    "    \n",
    "    div = 1\n",
    "    lista_de_div = []\n",
    "    \n",
    "    for d in range(n):\n",
    "        if n%div == 0:\n",
    "            lista_de_div.append(div)\n",
    "        div += 1            \n",
    "\n",
    "    return sum(lista_de_div)"
   ]
  },
  {
   "cell_type": "code",
   "execution_count": 8,
   "id": "171bd85f",
   "metadata": {},
   "outputs": [
    {
     "data": {
      "text/plain": [
       "18"
      ]
     },
     "execution_count": 8,
     "metadata": {},
     "output_type": "execute_result"
    }
   ],
   "source": [
    "sumarDiv(10)"
   ]
  },
  {
   "cell_type": "markdown",
   "id": "e627c0cd",
   "metadata": {},
   "source": [
    "# Primer múltiplo\n",
    "\n",
    "Diseña una función primer_multiplo(n) que busque el primer número de tres cifras que sea múltiplo del número n dado de 1, 2 o 3 cifras. Por ejemplo:"
   ]
  },
  {
   "cell_type": "code",
   "execution_count": 9,
   "id": "b5878875",
   "metadata": {},
   "outputs": [],
   "source": [
    "def primer_multiplo(n):\n",
    "    \n",
    "    if n not in range(1,1000):\n",
    "        raise ValueError('Invalid input')\n",
    "        \n",
    "    multiplo = 100\n",
    "    \n",
    "    while True:\n",
    "        if multiplo%n == 0:\n",
    "            break\n",
    "        else:\n",
    "            multiplo +=1\n",
    "    \n",
    "    return multiplo"
   ]
  },
  {
   "cell_type": "code",
   "execution_count": 12,
   "id": "e5082ace",
   "metadata": {},
   "outputs": [
    {
     "data": {
      "text/plain": [
       "102"
      ]
     },
     "execution_count": 12,
     "metadata": {},
     "output_type": "execute_result"
    }
   ],
   "source": [
    "primer_multiplo(3)"
   ]
  },
  {
   "cell_type": "markdown",
   "id": "26f41dec",
   "metadata": {},
   "source": [
    "# Integral definida, método rectangular\n",
    "\n",
    "Diseña una función integral_definida(a, b, N), que aproxime la integral definida de la función f(x) = x2, entre un valor inicial, x= a (f(a), y un final x= b, (f(b), utilizando el método de integración rectangular. Este método consiste en dividir el intervalo entre el inicio y el final en N segmentos, de los cuales aproximamos el área bajo la curva de la función como la suma de rectángulos de base (b-a)/N y altura f(x) entre a y b. Se pide devolver el valor de la integral definida (área bajo la curva de la función) redondeada a 3 cifras decimales."
   ]
  },
  {
   "cell_type": "code",
   "execution_count": 18,
   "id": "5932860d",
   "metadata": {},
   "outputs": [],
   "source": [
    "def integral_definida(a, b, N):\n",
    "    \n",
    "    if b < a or N <= 0:\n",
    "        \n",
    "        raise ValueError('Invalid input')\n",
    "    \n",
    "    def f(x): \n",
    "        return x**2\n",
    "    \n",
    "    avance = (b - a)/N\n",
    "    integral = 0\n",
    "    \n",
    "    while a < b:\n",
    "        \n",
    "        y = f(a)\n",
    "        integral += avance*y\n",
    "        a += avance\n",
    "        \n",
    "    return round(integral, 3)"
   ]
  },
  {
   "cell_type": "code",
   "execution_count": 21,
   "id": "4b82d263",
   "metadata": {},
   "outputs": [
    {
     "data": {
      "text/plain": [
       "5.209"
      ]
     },
     "execution_count": 21,
     "metadata": {},
     "output_type": "execute_result"
    }
   ],
   "source": [
    "integral_definida(0,2.5,10_000)"
   ]
  },
  {
   "attachments": {
    "imagen.png": {
     "image/png": "[encoded data removed]"
    }
   },
   "cell_type": "markdown",
   "id": "7ba9cbf9",
   "metadata": {},
   "source": [
    "# Paradoja de la dicotomía Zenon1\n",
    "\n",
    "Diseña una función zenon(n) que, dado el término máximo a calcular n, devuelva la sumatoria de la dicotomía de Zenon.\n",
    "\n",
    "![imagen.png](attachment:imagen.png)"
   ]
  },
  {
   "cell_type": "code",
   "execution_count": 24,
   "id": "a8a76f22",
   "metadata": {},
   "outputs": [],
   "source": [
    "def zenon(n):\n",
    "    \n",
    "    suma = 0\n",
    "    \n",
    "    for x in range(1, n+1):\n",
    "        suma += 1/2**x\n",
    "        \n",
    "    return suma"
   ]
  },
  {
   "cell_type": "code",
   "execution_count": 26,
   "id": "40bb35f4",
   "metadata": {},
   "outputs": [
    {
     "data": {
      "text/plain": [
       "0.9990234375"
      ]
     },
     "execution_count": 26,
     "metadata": {},
     "output_type": "execute_result"
    }
   ],
   "source": [
    "zenon(10)"
   ]
  },
  {
   "cell_type": "markdown",
   "id": "24ee1aac",
   "metadata": {},
   "source": [
    "# Sumatoria\n",
    "\n",
    "Paradoja de la dicotomía Zenon (while, búsqueda). Diseña una función zenon(eps), que dado una épsilon (eps), devuelva la sumatoria de la dicotomía de Zenon hasta que un término tenga un valor menor o igual a épsilon."
   ]
  },
  {
   "cell_type": "code",
   "execution_count": 35,
   "id": "a2d5f214",
   "metadata": {},
   "outputs": [],
   "source": [
    "def zenon_eps(eps):\n",
    "    suma =0\n",
    "    i = 1\n",
    "    while (1-eps) > suma:\n",
    "        \n",
    "        suma += 1/2**i\n",
    "        i += 1\n",
    "        \n",
    "    return suma"
   ]
  },
  {
   "cell_type": "code",
   "execution_count": 37,
   "id": "d7069c9c",
   "metadata": {},
   "outputs": [
    {
     "data": {
      "text/plain": [
       "0.9375"
      ]
     },
     "execution_count": 37,
     "metadata": {},
     "output_type": "execute_result"
    }
   ],
   "source": [
    "zenon_eps(0.1)"
   ]
  },
  {
   "cell_type": "markdown",
   "id": "8d165443",
   "metadata": {},
   "source": [
    "# Conversión decimal a binario\n",
    "\n",
    "Diseña una función que reciba un valor entero n y devuelva su equivalente en binario (número) realizando divisiones sucesivas.\n",
    "Nota: Este ejercicio se puede resolver convirtiendo los números a string e invirtiendo el string final. En la Unidad 3 se estudiará con más detalle los strings."
   ]
  },
  {
   "cell_type": "code",
   "execution_count": 56,
   "id": "1ba27481",
   "metadata": {},
   "outputs": [],
   "source": [
    "def decimal_a_binario(n):\n",
    "    \n",
    "    try:\n",
    "        int(n)\n",
    "        \n",
    "    except ValueError:\n",
    "        print('invalid input')\n",
    "        \n",
    "    else:\n",
    "        resultado = []\n",
    "        while n > 1:\n",
    "            binario = n%2\n",
    "            n //= 2\n",
    "            resultado.append(binario)\n",
    "        resultado.append(n)\n",
    "        resultado.reverse()\n",
    "        resultado = [str(n) for n in resultado]\n",
    "        \n",
    "        return int(''.join(resultado))"
   ]
  },
  {
   "cell_type": "code",
   "execution_count": 59,
   "id": "c0d9769f",
   "metadata": {},
   "outputs": [
    {
     "data": {
      "text/plain": [
       "1010111"
      ]
     },
     "execution_count": 59,
     "metadata": {},
     "output_type": "execute_result"
    }
   ],
   "source": [
    "decimal_a_binario(87)"
   ]
  },
  {
   "cell_type": "code",
   "execution_count": 61,
   "id": "1b843bf8",
   "metadata": {},
   "outputs": [],
   "source": [
    "def mcd(a,b):\n",
    "    \"\"\"Algoitmo de Euclides, halla máximo común divisor de a y b\n",
    "    >>> mcd(8,20)\n",
    "    4 >>> mcd(24,17)\n",
    "    1 \"\"\"\n",
    "    while a != b:\n",
    "        if a > b:\n",
    "            a = a-b\n",
    "        else:\n",
    "            b = b-a\n",
    "    return a"
   ]
  },
  {
   "cell_type": "code",
   "execution_count": 62,
   "id": "3e35edb7",
   "metadata": {},
   "outputs": [
    {
     "data": {
      "text/plain": [
       "4"
      ]
     },
     "execution_count": 62,
     "metadata": {},
     "output_type": "execute_result"
    }
   ],
   "source": [
    "mcd(8,20)"
   ]
  },
  {
   "cell_type": "code",
   "execution_count": null,
   "id": "74c25507",
   "metadata": {},
   "outputs": [],
   "source": []
  }
 ],
 "metadata": {
  "kernelspec": {
   "display_name": "Python 3 (ipykernel)",
   "language": "python",
   "name": "python3"
  },
  "language_info": {
   "codemirror_mode": {
    "name": "ipython",
    "version": 3
   },
   "file_extension": ".py",
   "mimetype": "text/x-python",
   "name": "python",
   "nbconvert_exporter": "python",
   "pygments_lexer": "ipython3",
   "version": "3.10.6"
  },
  "toc": {
   "base_numbering": 1,
   "nav_menu": {},
   "number_sections": true,
   "sideBar": true,
   "skip_h1_title": false,
   "title_cell": "Table of Contents",
   "title_sidebar": "Contents",
   "toc_cell": false,
   "toc_position": {},
   "toc_section_display": true,
   "toc_window_display": false
  }
 },
 "nbformat": 4,
 "nbformat_minor": 5
}
