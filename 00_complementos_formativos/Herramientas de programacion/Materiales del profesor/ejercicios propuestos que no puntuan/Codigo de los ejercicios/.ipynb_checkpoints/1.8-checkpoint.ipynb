{
 "cells": [
  {
   "cell_type": "markdown",
   "id": "720a6af4",
   "metadata": {},
   "source": [
    "# Sumatorio\n",
    "\n",
    "Diseña una función sumatorio(ini, fin), que dado un número natural inicial y otro final, devuelva la suma de los números naturales entre ellos inclusive."
   ]
  },
  {
   "cell_type": "code",
   "execution_count": 5,
   "id": "284adb01",
   "metadata": {},
   "outputs": [],
   "source": [
    "def sumatorio(ini, fin):\n",
    "    \n",
    "    return sum(range(ini, fin +1))"
   ]
  },
  {
   "cell_type": "code",
   "execution_count": 7,
   "id": "d6a1b7b6",
   "metadata": {},
   "outputs": [
    {
     "data": {
      "text/plain": [
       "55"
      ]
     },
     "execution_count": 7,
     "metadata": {},
     "output_type": "execute_result"
    }
   ],
   "source": [
    "sumatorio(1,10)"
   ]
  },
  {
   "cell_type": "markdown",
   "id": "d5de8c19",
   "metadata": {},
   "source": [
    "# Mostrar divisores de un número natural\n",
    "\n",
    "Diseña una función mostrarDiv(n) de tipo nula, no-productiva o void (no usa return, sino que utiliza print()) que muestre los divisores que tiene un número natural n (n >0)."
   ]
  },
  {
   "cell_type": "code",
   "execution_count": 20,
   "id": "e8920fb7",
   "metadata": {},
   "outputs": [],
   "source": [
    "def mostrarDiv(n):\n",
    "    if n < 0:\n",
    "        raise ValueError('Invalid input')\n",
    "    \n",
    "    div = 1\n",
    "\n",
    "    for d in range(n):\n",
    "        if n%div == 0:\n",
    "            print(div)\n",
    "        div += 1            \n",
    "\n",
    "    return None"
   ]
  },
  {
   "cell_type": "code",
   "execution_count": 52,
   "id": "150c388e",
   "metadata": {},
   "outputs": [
    {
     "name": "stdout",
     "output_type": "stream",
     "text": [
      "1\n",
      "23\n"
     ]
    }
   ],
   "source": [
    "mostrarDiv(23)"
   ]
  },
  {
   "cell_type": "markdown",
   "id": "93f707d0",
   "metadata": {},
   "source": [
    "# Contar divisores\n",
    "\n",
    "Diseña una función productiva contarDiv(n), que, dado un número natural n (n>0), devuelva cuántos divisores tiene."
   ]
  },
  {
   "cell_type": "code",
   "execution_count": 36,
   "id": "97977839",
   "metadata": {},
   "outputs": [],
   "source": [
    "def contarDiv(n):\n",
    "    if n < 0:\n",
    "        raise ValueError('Invalid input')\n",
    "    \n",
    "    div = 1\n",
    "    lista_de_div = []\n",
    "    \n",
    "    for d in range(n):\n",
    "        if n%div == 0:\n",
    "            lista_de_div.append(div)\n",
    "        div += 1            \n",
    "\n",
    "    return len(lista_de_div)"
   ]
  },
  {
   "cell_type": "code",
   "execution_count": 50,
   "id": "c23ef614",
   "metadata": {},
   "outputs": [
    {
     "data": {
      "text/plain": [
       "8"
      ]
     },
     "execution_count": 50,
     "metadata": {},
     "output_type": "execute_result"
    }
   ],
   "source": [
    "contarDiv(1001)"
   ]
  },
  {
   "cell_type": "markdown",
   "id": "4d1bef73",
   "metadata": {},
   "source": [
    "# Sumar divisores\n",
    "\n",
    "A partir de la función anterior, diseña una función sumaDiv(n) que, dado un número natural n (n>0), devuelva la suma de todos sus divisores."
   ]
  },
  {
   "cell_type": "code",
   "execution_count": 54,
   "id": "3531f960",
   "metadata": {},
   "outputs": [],
   "source": [
    "def sumarDiv(n):\n",
    "    if n < 0:\n",
    "        raise ValueError('Invalid input')\n",
    "    \n",
    "    div = 1\n",
    "    lista_de_div = []\n",
    "    \n",
    "    for d in range(n):\n",
    "        if n%div == 0:\n",
    "            lista_de_div.append(div)\n",
    "        div += 1            \n",
    "\n",
    "    return sum(lista_de_div)"
   ]
  },
  {
   "cell_type": "code",
   "execution_count": null,
   "id": "310c694f",
   "metadata": {},
   "outputs": [],
   "source": []
  }
 ],
 "metadata": {
  "kernelspec": {
   "display_name": "Python 3 (ipykernel)",
   "language": "python",
   "name": "python3"
  },
  "language_info": {
   "codemirror_mode": {
    "name": "ipython",
    "version": 3
   },
   "file_extension": ".py",
   "mimetype": "text/x-python",
   "name": "python",
   "nbconvert_exporter": "python",
   "pygments_lexer": "ipython3",
   "version": "3.10.6"
  },
  "toc": {
   "base_numbering": 1,
   "nav_menu": {},
   "number_sections": true,
   "sideBar": true,
   "skip_h1_title": false,
   "title_cell": "Table of Contents",
   "title_sidebar": "Contents",
   "toc_cell": false,
   "toc_position": {},
   "toc_section_display": true,
   "toc_window_display": false
  }
 },
 "nbformat": 4,
 "nbformat_minor": 5
}
