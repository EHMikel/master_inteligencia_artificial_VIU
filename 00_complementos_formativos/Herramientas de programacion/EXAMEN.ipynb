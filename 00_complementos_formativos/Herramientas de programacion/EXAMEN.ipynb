{
 "cells": [
  {
   "cell_type": "code",
   "execution_count": 4,
   "id": "3e3f76c4",
   "metadata": {},
   "outputs": [],
   "source": [
    "def MayorMenor(lst, x):\n",
    "    \n",
    "    mayor_o_igual = [a for a in lst if a >= x]\n",
    "    menor = [a for a in lst if a < x]\n",
    "    \n",
    "    return mayor_o_igual, menor"
   ]
  },
  {
   "cell_type": "code",
   "execution_count": 5,
   "id": "6203f15b",
   "metadata": {},
   "outputs": [
    {
     "data": {
      "text/plain": [
       "([6, 8, 25], [-5, 0, 2, 4])"
      ]
     },
     "execution_count": 5,
     "metadata": {},
     "output_type": "execute_result"
    }
   ],
   "source": [
    "MayorMenor([-5,0,2,4,6,8,25],5)"
   ]
  },
  {
   "cell_type": "code",
   "execution_count": 8,
   "id": "3e511396",
   "metadata": {},
   "outputs": [
    {
     "name": "stdout",
     "output_type": "stream",
     "text": [
      "un numero entero: 3\n",
      "s\n"
     ]
    }
   ],
   "source": [
    "a = int(input('un numero entero: '))\n",
    "\n",
    "if (a%2)==0 and not (a==3):\n",
    "    print('p')\n",
    "    \n",
    "elif ((a*30)//60)+2 == 3:\n",
    "    print('s')"
   ]
  },
  {
   "cell_type": "code",
   "execution_count": 11,
   "id": "2d7b081f",
   "metadata": {},
   "outputs": [
    {
     "data": {
      "text/plain": [
       "'7'"
      ]
     },
     "execution_count": 11,
     "metadata": {},
     "output_type": "execute_result"
    }
   ],
   "source": [
    "a = 567\n",
    "a = str(a)\n",
    "a[-1]"
   ]
  },
  {
   "cell_type": "code",
   "execution_count": 13,
   "id": "bcebf538",
   "metadata": {},
   "outputs": [
    {
     "name": "stdout",
     "output_type": "stream",
     "text": [
      "5051525354555657585960616263646566676869707172737475767778798081828384858687888990919293949596979899"
     ]
    }
   ],
   "source": [
    "for n in range(50,100):\n",
    "    print(n, end='')"
   ]
  },
  {
   "cell_type": "code",
   "execution_count": 19,
   "id": "a0e8215c",
   "metadata": {},
   "outputs": [
    {
     "name": "stdout",
     "output_type": "stream",
     "text": [
      "7\n",
      "0\n"
     ]
    },
    {
     "data": {
      "text/plain": [
       "False"
      ]
     },
     "execution_count": 19,
     "metadata": {},
     "output_type": "execute_result"
    }
   ],
   "source": [
    "a= 87\n",
    "b=150\n",
    "\n",
    "suma = a + b\n",
    "a_str = str(a)\n",
    "b_str = str(b)\n",
    "\n",
    "print(a_str[-1])\n",
    "print(b_str[-1])\n",
    "\n",
    "#suma in range(50,101) or suma in range(200,801) and \n",
    "a_str[-1] == ? #or b_str[-1] == 7"
   ]
  },
  {
   "cell_type": "code",
   "execution_count": 37,
   "id": "81ce0249",
   "metadata": {},
   "outputs": [
    {
     "data": {
      "text/plain": [
       "False"
      ]
     },
     "execution_count": 37,
     "metadata": {},
     "output_type": "execute_result"
    }
   ],
   "source": [
    "lista1 = ['234','34','b']\n",
    "lista2= ['234','34','b']\n",
    "\n",
    "lista1.append('c')\n",
    "lista2.insert(2,'a')\n",
    "\n",
    "lista1<lista2"
   ]
  },
  {
   "cell_type": "code",
   "execution_count": 21,
   "id": "8114b2f7",
   "metadata": {},
   "outputs": [
    {
     "data": {
      "text/plain": [
       "'***********'"
      ]
     },
     "execution_count": 21,
     "metadata": {},
     "output_type": "execute_result"
    }
   ],
   "source": [
    "s = '*'\n",
    "for n in range(10):\n",
    "    s += '*'\n",
    "    \n",
    "s"
   ]
  },
  {
   "cell_type": "code",
   "execution_count": 22,
   "id": "c7524bb6",
   "metadata": {},
   "outputs": [
    {
     "data": {
      "text/plain": [
       "'**********'"
      ]
     },
     "execution_count": 22,
     "metadata": {},
     "output_type": "execute_result"
    }
   ],
   "source": [
    "''.join(['*' for n in range(10)])"
   ]
  },
  {
   "cell_type": "code",
   "execution_count": 24,
   "id": "78ebaba6",
   "metadata": {},
   "outputs": [
    {
     "data": {
      "text/plain": [
       "3"
      ]
     },
     "execution_count": 24,
     "metadata": {},
     "output_type": "execute_result"
    }
   ],
   "source": [
    "d = {'a':2, 'b':1,'c':1}\n",
    "len(d)"
   ]
  },
  {
   "cell_type": "code",
   "execution_count": 25,
   "id": "1102f075",
   "metadata": {},
   "outputs": [
    {
     "data": {
      "text/plain": [
       "1.3333333333333333"
      ]
     },
     "execution_count": 25,
     "metadata": {},
     "output_type": "execute_result"
    }
   ],
   "source": [
    "sum([value for value in d.values()])/len(d)"
   ]
  },
  {
   "cell_type": "code",
   "execution_count": 26,
   "id": "e04ca1c2",
   "metadata": {},
   "outputs": [],
   "source": [
    "class A():\n",
    "    def __init__(self):\n",
    "        self.__priv = 'p'\n",
    "        self._prot = 'c'\n",
    "        self.pub = 'p'"
   ]
  },
  {
   "cell_type": "code",
   "execution_count": 29,
   "id": "e3bca4c1",
   "metadata": {},
   "outputs": [
    {
     "ename": "AttributeError",
     "evalue": "'A' object has no attribute '__priv'",
     "output_type": "error",
     "traceback": [
      "\u001b[1;31m---------------------------------------------------------------------------\u001b[0m",
      "\u001b[1;31mAttributeError\u001b[0m                            Traceback (most recent call last)",
      "Cell \u001b[1;32mIn[29], line 2\u001b[0m\n\u001b[0;32m      1\u001b[0m x \u001b[38;5;241m=\u001b[39m A()\n\u001b[1;32m----> 2\u001b[0m x\u001b[38;5;241m.\u001b[39mpub, \u001b[43mx\u001b[49m\u001b[38;5;241;43m.\u001b[39;49m\u001b[43m__priv\u001b[49m\n",
      "\u001b[1;31mAttributeError\u001b[0m: 'A' object has no attribute '__priv'"
     ]
    }
   ],
   "source": [
    "x = A()\n",
    "x.pub, x.__priv"
   ]
  },
  {
   "cell_type": "code",
   "execution_count": 33,
   "id": "882099fd",
   "metadata": {},
   "outputs": [
    {
     "data": {
      "text/plain": [
       "179.625"
      ]
     },
     "execution_count": 33,
     "metadata": {},
     "output_type": "execute_result"
    }
   ],
   "source": [
    "lst = ['Luis Gil', 45, '12345678Z', 347.5, 480.25, 250.0]\n",
    "\n",
    "sum(lst[3:])/len(lst)"
   ]
  },
  {
   "cell_type": "code",
   "execution_count": 34,
   "id": "dfba5cfa",
   "metadata": {},
   "outputs": [
    {
     "data": {
      "text/plain": [
       "{10: 'barna'}"
      ]
     },
     "execution_count": 34,
     "metadata": {},
     "output_type": "execute_result"
    }
   ],
   "source": [
    "dic = {}\n",
    "\n",
    "dic[10] = 'barna'\n",
    "dic"
   ]
  },
  {
   "cell_type": "code",
   "execution_count": 35,
   "id": "afe4a1ff",
   "metadata": {},
   "outputs": [
    {
     "name": "stdout",
     "output_type": "stream",
     "text": [
      "1\n"
     ]
    }
   ],
   "source": [
    "lst = [['a',1],['b', 2], ['c',3]]\n",
    "\n",
    "i = 1\n",
    "j = 0\n",
    "\n",
    "print(len(lst[i][j]))"
   ]
  },
  {
   "cell_type": "code",
   "execution_count": null,
   "id": "327c39f4",
   "metadata": {},
   "outputs": [],
   "source": []
  }
 ],
 "metadata": {
  "kernelspec": {
   "display_name": "Python 3 (ipykernel)",
   "language": "python",
   "name": "python3"
  },
  "language_info": {
   "codemirror_mode": {
    "name": "ipython",
    "version": 3
   },
   "file_extension": ".py",
   "mimetype": "text/x-python",
   "name": "python",
   "nbconvert_exporter": "python",
   "pygments_lexer": "ipython3",
   "version": "3.10.6"
  },
  "toc": {
   "base_numbering": 1,
   "nav_menu": {},
   "number_sections": true,
   "sideBar": true,
   "skip_h1_title": false,
   "title_cell": "Table of Contents",
   "title_sidebar": "Contents",
   "toc_cell": false,
   "toc_position": {},
   "toc_section_display": true,
   "toc_window_display": false
  }
 },
 "nbformat": 4,
 "nbformat_minor": 5
}
