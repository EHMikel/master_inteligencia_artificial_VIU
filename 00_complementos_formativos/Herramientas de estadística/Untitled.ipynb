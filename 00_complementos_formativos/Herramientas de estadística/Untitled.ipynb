{
 "cells": [
  {
   "cell_type": "code",
   "execution_count": 1,
   "id": "65fe6404",
   "metadata": {},
   "outputs": [],
   "source": [
    "import numpy as np\n",
    "import pandas as pd"
   ]
  },
  {
   "cell_type": "code",
   "execution_count": 2,
   "id": "2556e106",
   "metadata": {},
   "outputs": [],
   "source": [
    "# Tema : Test de hip ́otesis 2022-2023\n",
    "# M ́aster en Inteligencia artificial Complemento formativo Herramientas de Estad ́ıstica\n",
    "# 1. Lectura Recomendada Capitulo 8,9 del texto gu ́ıa.\n",
    "# 2. El tiempo medio que un estudiante de la asignatura de estad ́ıstica emplea para prepararse para el examen\n",
    "# final es de 50 horas cuatrimestal y desviaci ́on t ́ıpica de 20 horas. En la siguiente tabla se presentan el\n",
    "# tiempo empleado de 28 estudiantes para la preparaci ́on del examen."
   ]
  },
  {
   "cell_type": "code",
   "execution_count": 4,
   "id": "9a738aca",
   "metadata": {},
   "outputs": [
    {
     "data": {
      "text/plain": [
       "array([68, 49, 45, 76, 65, 50, 54, 92, 24, 36, 60, 66, 57, 74, 52, 75, 36,\n",
       "       40, 62, 56, 94, 57, 64, 72, 65, 59, 45, 33])"
      ]
     },
     "execution_count": 4,
     "metadata": {},
     "output_type": "execute_result"
    }
   ],
   "source": [
    "muestra = np.array([68, 49, 45, 76, 65, 50,\n",
    "54, 92, 24, 36, 60, 66,\n",
    "57, 74, 52, 75, 36, 40,\n",
    "62, 56, 94, 57, 64,\n",
    "72, 65, 59, 45, 33])\n",
    "muestra"
   ]
  },
  {
   "cell_type": "code",
   "execution_count": 6,
   "id": "930631d5",
   "metadata": {},
   "outputs": [
    {
     "data": {
      "text/plain": [
       "58.07142857142857"
      ]
     },
     "execution_count": 6,
     "metadata": {},
     "output_type": "execute_result"
    }
   ],
   "source": [
    "mean = muestra.mean()\n",
    "mean"
   ]
  },
  {
   "cell_type": "code",
   "execution_count": 7,
   "id": "dd7e8bcb",
   "metadata": {},
   "outputs": [
    {
     "data": {
      "text/plain": [
       "266.0663265306123"
      ]
     },
     "execution_count": 7,
     "metadata": {},
     "output_type": "execute_result"
    }
   ],
   "source": [
    "var = muestra.var()\n",
    "var"
   ]
  },
  {
   "cell_type": "code",
   "execution_count": 8,
   "id": "dfbbb91e",
   "metadata": {},
   "outputs": [
    {
     "data": {
      "text/plain": [
       "16.311539673820256"
      ]
     },
     "execution_count": 8,
     "metadata": {},
     "output_type": "execute_result"
    }
   ],
   "source": [
    "std = np.sqrt(var)\n",
    "std"
   ]
  },
  {
   "cell_type": "code",
   "execution_count": 12,
   "id": "a23b2f9b",
   "metadata": {},
   "outputs": [
    {
     "data": {
      "text/plain": [
       "142.04285714285714"
      ]
     },
     "execution_count": 12,
     "metadata": {},
     "output_type": "execute_result"
    }
   ],
   "source": [
    "a = np.array([143.2, 140.3, 141.4, 139.9, 142.7, 144.1, 142.7])\n",
    "a.mean()"
   ]
  },
  {
   "cell_type": "code",
   "execution_count": 13,
   "id": "469e8e1d",
   "metadata": {},
   "outputs": [
    {
     "data": {
      "text/plain": [
       "1.438111005905351"
      ]
     },
     "execution_count": 13,
     "metadata": {},
     "output_type": "execute_result"
    }
   ],
   "source": [
    "a.std()"
   ]
  },
  {
   "cell_type": "code",
   "execution_count": 14,
   "id": "dbb99686",
   "metadata": {},
   "outputs": [
    {
     "data": {
      "text/plain": [
       "2.068163265306101"
      ]
     },
     "execution_count": 14,
     "metadata": {},
     "output_type": "execute_result"
    }
   ],
   "source": [
    "a.var()"
   ]
  },
  {
   "cell_type": "code",
   "execution_count": 15,
   "id": "32fbf253",
   "metadata": {},
   "outputs": [
    {
     "data": {
      "text/plain": [
       "7.447852760736197"
      ]
     },
     "execution_count": 15,
     "metadata": {},
     "output_type": "execute_result"
    }
   ],
   "source": [
    "12.14/1.63"
   ]
  },
  {
   "cell_type": "code",
   "execution_count": null,
   "id": "71a82e57",
   "metadata": {},
   "outputs": [],
   "source": []
  }
 ],
 "metadata": {
  "kernelspec": {
   "display_name": "Python 3 (ipykernel)",
   "language": "python",
   "name": "python3"
  },
  "language_info": {
   "codemirror_mode": {
    "name": "ipython",
    "version": 3
   },
   "file_extension": ".py",
   "mimetype": "text/x-python",
   "name": "python",
   "nbconvert_exporter": "python",
   "pygments_lexer": "ipython3",
   "version": "3.10.6"
  },
  "toc": {
   "base_numbering": 1,
   "nav_menu": {},
   "number_sections": true,
   "sideBar": true,
   "skip_h1_title": false,
   "title_cell": "Table of Contents",
   "title_sidebar": "Contents",
   "toc_cell": false,
   "toc_position": {},
   "toc_section_display": true,
   "toc_window_display": false
  }
 },
 "nbformat": 4,
 "nbformat_minor": 5
}
