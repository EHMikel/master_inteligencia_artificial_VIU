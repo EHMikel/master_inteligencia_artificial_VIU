{
 "cells": [
  {
   "cell_type": "code",
   "execution_count": 1,
   "id": "ac0072fd",
   "metadata": {},
   "outputs": [],
   "source": [
    "import numpy as np"
   ]
  },
  {
   "cell_type": "code",
   "execution_count": 2,
   "id": "5a60fe03",
   "metadata": {},
   "outputs": [
    {
     "data": {
      "text/plain": [
       "array([172, 165, 168, 167, 160, 177, 184, 157, 160, 177, 172, 177, 180,\n",
       "       165, 170])"
      ]
     },
     "execution_count": 2,
     "metadata": {},
     "output_type": "execute_result"
    }
   ],
   "source": [
    "a = np.array([172,165,168,167,160,177,184,157,160,177,172,177,180,165,170])\n",
    "a"
   ]
  },
  {
   "cell_type": "code",
   "execution_count": 4,
   "id": "30319c29",
   "metadata": {},
   "outputs": [
    {
     "data": {
      "text/plain": [
       "170.06666666666666"
      ]
     },
     "execution_count": 4,
     "metadata": {},
     "output_type": "execute_result"
    }
   ],
   "source": [
    "a.mean()"
   ]
  },
  {
   "cell_type": "code",
   "execution_count": 7,
   "id": "58f5c9b6",
   "metadata": {},
   "outputs": [
    {
     "data": {
      "text/plain": [
       "58.862222222222194"
      ]
     },
     "execution_count": 7,
     "metadata": {},
     "output_type": "execute_result"
    }
   ],
   "source": [
    "a.var()"
   ]
  },
  {
   "cell_type": "code",
   "execution_count": 8,
   "id": "959fce44",
   "metadata": {},
   "outputs": [
    {
     "data": {
      "text/plain": [
       "7.672171936435093"
      ]
     },
     "execution_count": 8,
     "metadata": {},
     "output_type": "execute_result"
    }
   ],
   "source": [
    "a.std()"
   ]
  },
  {
   "cell_type": "code",
   "execution_count": 11,
   "id": "04d21ef9",
   "metadata": {},
   "outputs": [],
   "source": [
    "def fisher(array):\n",
    "    \n",
    "    suma = 0\n",
    "    for n in array:\n",
    "        suma += (n-array.mean())**3\n",
    "    \n",
    "    print(suma)\n",
    "    fish = suma/(len(array)*(array.std())**3)\n",
    "    \n",
    "    return fish\n",
    "        "
   ]
  },
  {
   "cell_type": "code",
   "execution_count": 12,
   "id": "20b51025",
   "metadata": {},
   "outputs": [
    {
     "name": "stdout",
     "output_type": "stream",
     "text": [
      "130.4088888888993\n"
     ]
    },
    {
     "data": {
      "text/plain": [
       "0.019251339576092978"
      ]
     },
     "execution_count": 12,
     "metadata": {},
     "output_type": "execute_result"
    }
   ],
   "source": [
    "fisher(a)"
   ]
  },
  {
   "cell_type": "code",
   "execution_count": 13,
   "id": "f15207f0",
   "metadata": {},
   "outputs": [
    {
     "ename": "AttributeError",
     "evalue": "'numpy.ndarray' object has no attribute 'median'",
     "output_type": "error",
     "traceback": [
      "\u001b[1;31m---------------------------------------------------------------------------\u001b[0m",
      "\u001b[1;31mAttributeError\u001b[0m                            Traceback (most recent call last)",
      "Cell \u001b[1;32mIn[13], line 1\u001b[0m\n\u001b[1;32m----> 1\u001b[0m \u001b[43ma\u001b[49m\u001b[38;5;241;43m.\u001b[39;49m\u001b[43mmedian\u001b[49m()\n",
      "\u001b[1;31mAttributeError\u001b[0m: 'numpy.ndarray' object has no attribute 'median'"
     ]
    }
   ],
   "source": [
    "a.median()"
   ]
  },
  {
   "cell_type": "code",
   "execution_count": 16,
   "id": "79ce24a8",
   "metadata": {},
   "outputs": [
    {
     "data": {
      "text/plain": [
       "170.0"
      ]
     },
     "execution_count": 16,
     "metadata": {},
     "output_type": "execute_result"
    }
   ],
   "source": [
    "np.median(a)"
   ]
  },
  {
   "cell_type": "code",
   "execution_count": 19,
   "id": "7436d91f",
   "metadata": {},
   "outputs": [],
   "source": [
    "def kurt(array):\n",
    "    \n",
    "    suma = 0\n",
    "    for n in array:\n",
    "        suma += (n-array.mean())**4\n",
    "    \n",
    "    #print(suma)\n",
    "    kurt = suma/(len(array)*(array.std())**4) - 3\n",
    "    \n",
    "    return kurt  "
   ]
  },
  {
   "cell_type": "code",
   "execution_count": 20,
   "id": "a9490753",
   "metadata": {},
   "outputs": [
    {
     "data": {
      "text/plain": [
       "-0.9700250056532478"
      ]
     },
     "execution_count": 20,
     "metadata": {},
     "output_type": "execute_result"
    }
   ],
   "source": [
    "kurt(a)"
   ]
  },
  {
   "cell_type": "code",
   "execution_count": null,
   "id": "0f6196b9",
   "metadata": {},
   "outputs": [],
   "source": []
  }
 ],
 "metadata": {
  "kernelspec": {
   "display_name": "Python 3 (ipykernel)",
   "language": "python",
   "name": "python3"
  },
  "language_info": {
   "codemirror_mode": {
    "name": "ipython",
    "version": 3
   },
   "file_extension": ".py",
   "mimetype": "text/x-python",
   "name": "python",
   "nbconvert_exporter": "python",
   "pygments_lexer": "ipython3",
   "version": "3.10.6"
  },
  "toc": {
   "base_numbering": 1,
   "nav_menu": {},
   "number_sections": true,
   "sideBar": true,
   "skip_h1_title": false,
   "title_cell": "Table of Contents",
   "title_sidebar": "Contents",
   "toc_cell": false,
   "toc_position": {},
   "toc_section_display": true,
   "toc_window_display": false
  }
 },
 "nbformat": 4,
 "nbformat_minor": 5
}
