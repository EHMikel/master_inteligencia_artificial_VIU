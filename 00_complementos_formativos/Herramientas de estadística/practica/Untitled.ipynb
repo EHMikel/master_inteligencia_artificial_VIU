{
 "cells": [
  {
   "cell_type": "code",
   "execution_count": 1,
   "id": "a7770541",
   "metadata": {},
   "outputs": [],
   "source": [
    "import numpy as np \n",
    "import pandas as pd\n",
    "import matplotlib.pyplot as plt"
   ]
  },
  {
   "cell_type": "code",
   "execution_count": 2,
   "id": "66c054bf",
   "metadata": {},
   "outputs": [],
   "source": [
    "path =\"data.csv\""
   ]
  },
  {
   "cell_type": "code",
   "execution_count": 3,
   "id": "770a67eb",
   "metadata": {},
   "outputs": [
    {
     "data": {
      "text/html": [
       "<div>\n",
       "<style scoped>\n",
       "    .dataframe tbody tr th:only-of-type {\n",
       "        vertical-align: middle;\n",
       "    }\n",
       "\n",
       "    .dataframe tbody tr th {\n",
       "        vertical-align: top;\n",
       "    }\n",
       "\n",
       "    .dataframe thead th {\n",
       "        text-align: right;\n",
       "    }\n",
       "</style>\n",
       "<table border=\"1\" class=\"dataframe\">\n",
       "  <thead>\n",
       "    <tr style=\"text-align: right;\">\n",
       "      <th></th>\n",
       "      <th>C1</th>\n",
       "      <th>C2</th>\n",
       "      <th>Unnamed: 2</th>\n",
       "    </tr>\n",
       "  </thead>\n",
       "  <tbody>\n",
       "    <tr>\n",
       "      <th>0</th>\n",
       "      <td>120</td>\n",
       "      <td>110</td>\n",
       "      <td>NaN</td>\n",
       "    </tr>\n",
       "    <tr>\n",
       "      <th>1</th>\n",
       "      <td>54</td>\n",
       "      <td>48</td>\n",
       "      <td>NaN</td>\n",
       "    </tr>\n",
       "    <tr>\n",
       "      <th>2</th>\n",
       "      <td>20</td>\n",
       "      <td>67</td>\n",
       "      <td>NaN</td>\n",
       "    </tr>\n",
       "    <tr>\n",
       "      <th>3</th>\n",
       "      <td>62</td>\n",
       "      <td>36</td>\n",
       "      <td>NaN</td>\n",
       "    </tr>\n",
       "    <tr>\n",
       "      <th>4</th>\n",
       "      <td>24</td>\n",
       "      <td>31</td>\n",
       "      <td>NaN</td>\n",
       "    </tr>\n",
       "    <tr>\n",
       "      <th>5</th>\n",
       "      <td>39</td>\n",
       "      <td>43</td>\n",
       "      <td>NaN</td>\n",
       "    </tr>\n",
       "    <tr>\n",
       "      <th>6</th>\n",
       "      <td>49</td>\n",
       "      <td>23</td>\n",
       "      <td>NaN</td>\n",
       "    </tr>\n",
       "    <tr>\n",
       "      <th>7</th>\n",
       "      <td>27</td>\n",
       "      <td>60</td>\n",
       "      <td>NaN</td>\n",
       "    </tr>\n",
       "    <tr>\n",
       "      <th>8</th>\n",
       "      <td>56</td>\n",
       "      <td>49</td>\n",
       "      <td>NaN</td>\n",
       "    </tr>\n",
       "    <tr>\n",
       "      <th>9</th>\n",
       "      <td>66</td>\n",
       "      <td>47</td>\n",
       "      <td>NaN</td>\n",
       "    </tr>\n",
       "    <tr>\n",
       "      <th>10</th>\n",
       "      <td>67</td>\n",
       "      <td>21</td>\n",
       "      <td>NaN</td>\n",
       "    </tr>\n",
       "    <tr>\n",
       "      <th>11</th>\n",
       "      <td>70</td>\n",
       "      <td>52</td>\n",
       "      <td>NaN</td>\n",
       "    </tr>\n",
       "    <tr>\n",
       "      <th>12</th>\n",
       "      <td>25</td>\n",
       "      <td>29</td>\n",
       "      <td>NaN</td>\n",
       "    </tr>\n",
       "    <tr>\n",
       "      <th>13</th>\n",
       "      <td>49</td>\n",
       "      <td>56</td>\n",
       "      <td>NaN</td>\n",
       "    </tr>\n",
       "    <tr>\n",
       "      <th>14</th>\n",
       "      <td>41</td>\n",
       "      <td>59</td>\n",
       "      <td>NaN</td>\n",
       "    </tr>\n",
       "    <tr>\n",
       "      <th>15</th>\n",
       "      <td>64</td>\n",
       "      <td>29</td>\n",
       "      <td>NaN</td>\n",
       "    </tr>\n",
       "    <tr>\n",
       "      <th>16</th>\n",
       "      <td>39</td>\n",
       "      <td>56</td>\n",
       "      <td>NaN</td>\n",
       "    </tr>\n",
       "    <tr>\n",
       "      <th>17</th>\n",
       "      <td>33</td>\n",
       "      <td>51</td>\n",
       "      <td>NaN</td>\n",
       "    </tr>\n",
       "    <tr>\n",
       "      <th>18</th>\n",
       "      <td>46</td>\n",
       "      <td>31</td>\n",
       "      <td>NaN</td>\n",
       "    </tr>\n",
       "    <tr>\n",
       "      <th>19</th>\n",
       "      <td>32</td>\n",
       "      <td>70</td>\n",
       "      <td>NaN</td>\n",
       "    </tr>\n",
       "  </tbody>\n",
       "</table>\n",
       "</div>"
      ],
      "text/plain": [
       "     C1   C2  Unnamed: 2\n",
       "0   120  110         NaN\n",
       "1    54   48         NaN\n",
       "2    20   67         NaN\n",
       "3    62   36         NaN\n",
       "4    24   31         NaN\n",
       "5    39   43         NaN\n",
       "6    49   23         NaN\n",
       "7    27   60         NaN\n",
       "8    56   49         NaN\n",
       "9    66   47         NaN\n",
       "10   67   21         NaN\n",
       "11   70   52         NaN\n",
       "12   25   29         NaN\n",
       "13   49   56         NaN\n",
       "14   41   59         NaN\n",
       "15   64   29         NaN\n",
       "16   39   56         NaN\n",
       "17   33   51         NaN\n",
       "18   46   31         NaN\n",
       "19   32   70         NaN"
      ]
     },
     "execution_count": 3,
     "metadata": {},
     "output_type": "execute_result"
    }
   ],
   "source": [
    "df = pd.read_csv(path)\n",
    "df"
   ]
  },
  {
   "cell_type": "code",
   "execution_count": 4,
   "id": "db3be804",
   "metadata": {},
   "outputs": [],
   "source": [
    "columns = ['C1', 'C2']"
   ]
  },
  {
   "cell_type": "code",
   "execution_count": 5,
   "id": "5413b3ff",
   "metadata": {},
   "outputs": [
    {
     "data": {
      "text/html": [
       "<div>\n",
       "<style scoped>\n",
       "    .dataframe tbody tr th:only-of-type {\n",
       "        vertical-align: middle;\n",
       "    }\n",
       "\n",
       "    .dataframe tbody tr th {\n",
       "        vertical-align: top;\n",
       "    }\n",
       "\n",
       "    .dataframe thead th {\n",
       "        text-align: right;\n",
       "    }\n",
       "</style>\n",
       "<table border=\"1\" class=\"dataframe\">\n",
       "  <thead>\n",
       "    <tr style=\"text-align: right;\">\n",
       "      <th></th>\n",
       "      <th>C1</th>\n",
       "      <th>C2</th>\n",
       "    </tr>\n",
       "  </thead>\n",
       "  <tbody>\n",
       "    <tr>\n",
       "      <th>0</th>\n",
       "      <td>120</td>\n",
       "      <td>110</td>\n",
       "    </tr>\n",
       "    <tr>\n",
       "      <th>1</th>\n",
       "      <td>54</td>\n",
       "      <td>48</td>\n",
       "    </tr>\n",
       "    <tr>\n",
       "      <th>2</th>\n",
       "      <td>20</td>\n",
       "      <td>67</td>\n",
       "    </tr>\n",
       "    <tr>\n",
       "      <th>3</th>\n",
       "      <td>62</td>\n",
       "      <td>36</td>\n",
       "    </tr>\n",
       "    <tr>\n",
       "      <th>4</th>\n",
       "      <td>24</td>\n",
       "      <td>31</td>\n",
       "    </tr>\n",
       "    <tr>\n",
       "      <th>5</th>\n",
       "      <td>39</td>\n",
       "      <td>43</td>\n",
       "    </tr>\n",
       "    <tr>\n",
       "      <th>6</th>\n",
       "      <td>49</td>\n",
       "      <td>23</td>\n",
       "    </tr>\n",
       "    <tr>\n",
       "      <th>7</th>\n",
       "      <td>27</td>\n",
       "      <td>60</td>\n",
       "    </tr>\n",
       "    <tr>\n",
       "      <th>8</th>\n",
       "      <td>56</td>\n",
       "      <td>49</td>\n",
       "    </tr>\n",
       "    <tr>\n",
       "      <th>9</th>\n",
       "      <td>66</td>\n",
       "      <td>47</td>\n",
       "    </tr>\n",
       "    <tr>\n",
       "      <th>10</th>\n",
       "      <td>67</td>\n",
       "      <td>21</td>\n",
       "    </tr>\n",
       "    <tr>\n",
       "      <th>11</th>\n",
       "      <td>70</td>\n",
       "      <td>52</td>\n",
       "    </tr>\n",
       "    <tr>\n",
       "      <th>12</th>\n",
       "      <td>25</td>\n",
       "      <td>29</td>\n",
       "    </tr>\n",
       "    <tr>\n",
       "      <th>13</th>\n",
       "      <td>49</td>\n",
       "      <td>56</td>\n",
       "    </tr>\n",
       "    <tr>\n",
       "      <th>14</th>\n",
       "      <td>41</td>\n",
       "      <td>59</td>\n",
       "    </tr>\n",
       "    <tr>\n",
       "      <th>15</th>\n",
       "      <td>64</td>\n",
       "      <td>29</td>\n",
       "    </tr>\n",
       "    <tr>\n",
       "      <th>16</th>\n",
       "      <td>39</td>\n",
       "      <td>56</td>\n",
       "    </tr>\n",
       "    <tr>\n",
       "      <th>17</th>\n",
       "      <td>33</td>\n",
       "      <td>51</td>\n",
       "    </tr>\n",
       "    <tr>\n",
       "      <th>18</th>\n",
       "      <td>46</td>\n",
       "      <td>31</td>\n",
       "    </tr>\n",
       "    <tr>\n",
       "      <th>19</th>\n",
       "      <td>32</td>\n",
       "      <td>70</td>\n",
       "    </tr>\n",
       "  </tbody>\n",
       "</table>\n",
       "</div>"
      ],
      "text/plain": [
       "     C1   C2\n",
       "0   120  110\n",
       "1    54   48\n",
       "2    20   67\n",
       "3    62   36\n",
       "4    24   31\n",
       "5    39   43\n",
       "6    49   23\n",
       "7    27   60\n",
       "8    56   49\n",
       "9    66   47\n",
       "10   67   21\n",
       "11   70   52\n",
       "12   25   29\n",
       "13   49   56\n",
       "14   41   59\n",
       "15   64   29\n",
       "16   39   56\n",
       "17   33   51\n",
       "18   46   31\n",
       "19   32   70"
      ]
     },
     "execution_count": 5,
     "metadata": {},
     "output_type": "execute_result"
    }
   ],
   "source": [
    "df = df[columns]\n",
    "df"
   ]
  },
  {
   "cell_type": "code",
   "execution_count": 27,
   "id": "af7ae819",
   "metadata": {},
   "outputs": [
    {
     "data": {
      "image/png": "[encoded data removed]",
      "text/plain": [
       "<Figure size 640x480 with 1 Axes>"
      ]
     },
     "metadata": {},
     "output_type": "display_data"
    }
   ],
   "source": [
    "df.plot(kind= 'scatter',\n",
    "        x = 'C1',\n",
    "        y = 'C2',\n",
    "        color = 'red')\n",
    "\n",
    "plt.title('Nube de dispersion de los datos')\n",
    "plt.xlabel('C1')\n",
    "plt.ylabel('C2')\n",
    "\n",
    "plt.show()"
   ]
  },
  {
   "cell_type": "code",
   "execution_count": 7,
   "id": "1049e8cd",
   "metadata": {},
   "outputs": [
    {
     "data": {
      "text/html": [
       "<div>\n",
       "<style scoped>\n",
       "    .dataframe tbody tr th:only-of-type {\n",
       "        vertical-align: middle;\n",
       "    }\n",
       "\n",
       "    .dataframe tbody tr th {\n",
       "        vertical-align: top;\n",
       "    }\n",
       "\n",
       "    .dataframe thead th {\n",
       "        text-align: right;\n",
       "    }\n",
       "</style>\n",
       "<table border=\"1\" class=\"dataframe\">\n",
       "  <thead>\n",
       "    <tr style=\"text-align: right;\">\n",
       "      <th></th>\n",
       "      <th>C1</th>\n",
       "      <th>C2</th>\n",
       "    </tr>\n",
       "  </thead>\n",
       "  <tbody>\n",
       "    <tr>\n",
       "      <th>count</th>\n",
       "      <td>20.000000</td>\n",
       "      <td>20.000000</td>\n",
       "    </tr>\n",
       "    <tr>\n",
       "      <th>mean</th>\n",
       "      <td>49.150000</td>\n",
       "      <td>48.400000</td>\n",
       "    </tr>\n",
       "    <tr>\n",
       "      <th>std</th>\n",
       "      <td>22.834127</td>\n",
       "      <td>20.428051</td>\n",
       "    </tr>\n",
       "    <tr>\n",
       "      <th>min</th>\n",
       "      <td>20.000000</td>\n",
       "      <td>21.000000</td>\n",
       "    </tr>\n",
       "    <tr>\n",
       "      <th>25%</th>\n",
       "      <td>32.750000</td>\n",
       "      <td>31.000000</td>\n",
       "    </tr>\n",
       "    <tr>\n",
       "      <th>50%</th>\n",
       "      <td>47.500000</td>\n",
       "      <td>48.500000</td>\n",
       "    </tr>\n",
       "    <tr>\n",
       "      <th>75%</th>\n",
       "      <td>62.500000</td>\n",
       "      <td>56.750000</td>\n",
       "    </tr>\n",
       "    <tr>\n",
       "      <th>max</th>\n",
       "      <td>120.000000</td>\n",
       "      <td>110.000000</td>\n",
       "    </tr>\n",
       "  </tbody>\n",
       "</table>\n",
       "</div>"
      ],
      "text/plain": [
       "               C1          C2\n",
       "count   20.000000   20.000000\n",
       "mean    49.150000   48.400000\n",
       "std     22.834127   20.428051\n",
       "min     20.000000   21.000000\n",
       "25%     32.750000   31.000000\n",
       "50%     47.500000   48.500000\n",
       "75%     62.500000   56.750000\n",
       "max    120.000000  110.000000"
      ]
     },
     "execution_count": 7,
     "metadata": {},
     "output_type": "execute_result"
    }
   ],
   "source": [
    "df.describe()"
   ]
  },
  {
   "cell_type": "code",
   "execution_count": 11,
   "id": "3cf181d5",
   "metadata": {},
   "outputs": [
    {
     "data": {
      "text/html": [
       "<div>\n",
       "<style scoped>\n",
       "    .dataframe tbody tr th:only-of-type {\n",
       "        vertical-align: middle;\n",
       "    }\n",
       "\n",
       "    .dataframe tbody tr th {\n",
       "        vertical-align: top;\n",
       "    }\n",
       "\n",
       "    .dataframe thead th {\n",
       "        text-align: right;\n",
       "    }\n",
       "</style>\n",
       "<table border=\"1\" class=\"dataframe\">\n",
       "  <thead>\n",
       "    <tr style=\"text-align: right;\">\n",
       "      <th></th>\n",
       "      <th>C1</th>\n",
       "      <th>C2</th>\n",
       "      <th>C1-C1_mean</th>\n",
       "      <th>C2-C2_mean</th>\n",
       "      <th>(C1-C1_mean)(C2-C2_mean)</th>\n",
       "    </tr>\n",
       "  </thead>\n",
       "  <tbody>\n",
       "    <tr>\n",
       "      <th>0</th>\n",
       "      <td>120</td>\n",
       "      <td>110</td>\n",
       "      <td>5019.7225</td>\n",
       "      <td>3794.56</td>\n",
       "      <td>4364.36</td>\n",
       "    </tr>\n",
       "    <tr>\n",
       "      <th>1</th>\n",
       "      <td>54</td>\n",
       "      <td>48</td>\n",
       "      <td>23.5225</td>\n",
       "      <td>0.16</td>\n",
       "      <td>-1.94</td>\n",
       "    </tr>\n",
       "    <tr>\n",
       "      <th>2</th>\n",
       "      <td>20</td>\n",
       "      <td>67</td>\n",
       "      <td>849.7225</td>\n",
       "      <td>345.96</td>\n",
       "      <td>-542.19</td>\n",
       "    </tr>\n",
       "    <tr>\n",
       "      <th>3</th>\n",
       "      <td>62</td>\n",
       "      <td>36</td>\n",
       "      <td>165.1225</td>\n",
       "      <td>153.76</td>\n",
       "      <td>-159.34</td>\n",
       "    </tr>\n",
       "    <tr>\n",
       "      <th>4</th>\n",
       "      <td>24</td>\n",
       "      <td>31</td>\n",
       "      <td>632.5225</td>\n",
       "      <td>302.76</td>\n",
       "      <td>437.61</td>\n",
       "    </tr>\n",
       "    <tr>\n",
       "      <th>5</th>\n",
       "      <td>39</td>\n",
       "      <td>43</td>\n",
       "      <td>103.0225</td>\n",
       "      <td>29.16</td>\n",
       "      <td>54.81</td>\n",
       "    </tr>\n",
       "    <tr>\n",
       "      <th>6</th>\n",
       "      <td>49</td>\n",
       "      <td>23</td>\n",
       "      <td>0.0225</td>\n",
       "      <td>645.16</td>\n",
       "      <td>3.81</td>\n",
       "    </tr>\n",
       "    <tr>\n",
       "      <th>7</th>\n",
       "      <td>27</td>\n",
       "      <td>60</td>\n",
       "      <td>490.6225</td>\n",
       "      <td>134.56</td>\n",
       "      <td>-256.94</td>\n",
       "    </tr>\n",
       "    <tr>\n",
       "      <th>8</th>\n",
       "      <td>56</td>\n",
       "      <td>49</td>\n",
       "      <td>46.9225</td>\n",
       "      <td>0.36</td>\n",
       "      <td>4.11</td>\n",
       "    </tr>\n",
       "    <tr>\n",
       "      <th>9</th>\n",
       "      <td>66</td>\n",
       "      <td>47</td>\n",
       "      <td>283.9225</td>\n",
       "      <td>1.96</td>\n",
       "      <td>-23.59</td>\n",
       "    </tr>\n",
       "    <tr>\n",
       "      <th>10</th>\n",
       "      <td>67</td>\n",
       "      <td>21</td>\n",
       "      <td>318.6225</td>\n",
       "      <td>750.76</td>\n",
       "      <td>-489.09</td>\n",
       "    </tr>\n",
       "    <tr>\n",
       "      <th>11</th>\n",
       "      <td>70</td>\n",
       "      <td>52</td>\n",
       "      <td>434.7225</td>\n",
       "      <td>12.96</td>\n",
       "      <td>75.06</td>\n",
       "    </tr>\n",
       "    <tr>\n",
       "      <th>12</th>\n",
       "      <td>25</td>\n",
       "      <td>29</td>\n",
       "      <td>583.2225</td>\n",
       "      <td>376.36</td>\n",
       "      <td>468.51</td>\n",
       "    </tr>\n",
       "    <tr>\n",
       "      <th>13</th>\n",
       "      <td>49</td>\n",
       "      <td>56</td>\n",
       "      <td>0.0225</td>\n",
       "      <td>57.76</td>\n",
       "      <td>-1.14</td>\n",
       "    </tr>\n",
       "    <tr>\n",
       "      <th>14</th>\n",
       "      <td>41</td>\n",
       "      <td>59</td>\n",
       "      <td>66.4225</td>\n",
       "      <td>112.36</td>\n",
       "      <td>-86.39</td>\n",
       "    </tr>\n",
       "    <tr>\n",
       "      <th>15</th>\n",
       "      <td>64</td>\n",
       "      <td>29</td>\n",
       "      <td>220.5225</td>\n",
       "      <td>376.36</td>\n",
       "      <td>-288.09</td>\n",
       "    </tr>\n",
       "    <tr>\n",
       "      <th>16</th>\n",
       "      <td>39</td>\n",
       "      <td>56</td>\n",
       "      <td>103.0225</td>\n",
       "      <td>57.76</td>\n",
       "      <td>-77.14</td>\n",
       "    </tr>\n",
       "    <tr>\n",
       "      <th>17</th>\n",
       "      <td>33</td>\n",
       "      <td>51</td>\n",
       "      <td>260.8225</td>\n",
       "      <td>6.76</td>\n",
       "      <td>-41.99</td>\n",
       "    </tr>\n",
       "    <tr>\n",
       "      <th>18</th>\n",
       "      <td>46</td>\n",
       "      <td>31</td>\n",
       "      <td>9.9225</td>\n",
       "      <td>302.76</td>\n",
       "      <td>54.81</td>\n",
       "    </tr>\n",
       "    <tr>\n",
       "      <th>19</th>\n",
       "      <td>32</td>\n",
       "      <td>70</td>\n",
       "      <td>294.1225</td>\n",
       "      <td>466.56</td>\n",
       "      <td>-370.44</td>\n",
       "    </tr>\n",
       "  </tbody>\n",
       "</table>\n",
       "</div>"
      ],
      "text/plain": [
       "     C1   C2  C1-C1_mean  C2-C2_mean  (C1-C1_mean)(C2-C2_mean)\n",
       "0   120  110   5019.7225     3794.56                   4364.36\n",
       "1    54   48     23.5225        0.16                     -1.94\n",
       "2    20   67    849.7225      345.96                   -542.19\n",
       "3    62   36    165.1225      153.76                   -159.34\n",
       "4    24   31    632.5225      302.76                    437.61\n",
       "5    39   43    103.0225       29.16                     54.81\n",
       "6    49   23      0.0225      645.16                      3.81\n",
       "7    27   60    490.6225      134.56                   -256.94\n",
       "8    56   49     46.9225        0.36                      4.11\n",
       "9    66   47    283.9225        1.96                    -23.59\n",
       "10   67   21    318.6225      750.76                   -489.09\n",
       "11   70   52    434.7225       12.96                     75.06\n",
       "12   25   29    583.2225      376.36                    468.51\n",
       "13   49   56      0.0225       57.76                     -1.14\n",
       "14   41   59     66.4225      112.36                    -86.39\n",
       "15   64   29    220.5225      376.36                   -288.09\n",
       "16   39   56    103.0225       57.76                    -77.14\n",
       "17   33   51    260.8225        6.76                    -41.99\n",
       "18   46   31      9.9225      302.76                     54.81\n",
       "19   32   70    294.1225      466.56                   -370.44"
      ]
     },
     "execution_count": 11,
     "metadata": {},
     "output_type": "execute_result"
    }
   ],
   "source": [
    "df['C1-C1_mean'] = (df['C1'] - df['C1'].mean())**2\n",
    "df['C2-C2_mean'] = (df['C2'] - df['C2'].mean())**2\n",
    "df['(C1-C1_mean)(C2-C2_mean)'] = (df['C1'] - df['C1'].mean())*(df['C2'] - df['C2'].mean())\n",
    "df"
   ]
  },
  {
   "cell_type": "code",
   "execution_count": 18,
   "id": "2af84090",
   "metadata": {},
   "outputs": [
    {
     "data": {
      "text/plain": [
       "495.33"
      ]
     },
     "execution_count": 18,
     "metadata": {},
     "output_type": "execute_result"
    }
   ],
   "source": [
    "var_c1 = round(sum(df['C1-C1_mean'])/20,2)\n",
    "var_c1"
   ]
  },
  {
   "cell_type": "code",
   "execution_count": 19,
   "id": "63302cac",
   "metadata": {},
   "outputs": [
    {
     "data": {
      "text/plain": [
       "396.44"
      ]
     },
     "execution_count": 19,
     "metadata": {},
     "output_type": "execute_result"
    }
   ],
   "source": [
    "var_c2 = round(sum(df['C2-C2_mean'])/20,2)\n",
    "var_c2"
   ]
  },
  {
   "cell_type": "code",
   "execution_count": 21,
   "id": "dbc12dce",
   "metadata": {},
   "outputs": [
    {
     "data": {
      "text/plain": [
       "156.24"
      ]
     },
     "execution_count": 21,
     "metadata": {},
     "output_type": "execute_result"
    }
   ],
   "source": [
    "covar_c1c2 = sum(df['(C1-C1_mean)(C2-C2_mean)'])/20\n",
    "covar_c1c2"
   ]
  },
  {
   "cell_type": "code",
   "execution_count": 22,
   "id": "29f7eedf",
   "metadata": {},
   "outputs": [
    {
     "data": {
      "text/plain": [
       "0.31542607958330815"
      ]
     },
     "execution_count": 22,
     "metadata": {},
     "output_type": "execute_result"
    }
   ],
   "source": [
    "b_c2_sobre_c1 = covar_c1c2/var_c1\n",
    "b_c2_sobre_c1"
   ]
  },
  {
   "cell_type": "code",
   "execution_count": 23,
   "id": "fcac14c3",
   "metadata": {},
   "outputs": [
    {
     "data": {
      "text/plain": [
       "32.896808188480406"
      ]
     },
     "execution_count": 23,
     "metadata": {},
     "output_type": "execute_result"
    }
   ],
   "source": [
    "a_c2_sobre_c1 = df['C2'].mean() - b_c2_sobre_c1*df['C1'].mean()\n",
    "a_c2_sobre_c1"
   ]
  },
  {
   "cell_type": "code",
   "execution_count": 54,
   "id": "96a2fdb6",
   "metadata": {},
   "outputs": [
    {
     "data": {
      "image/png": "[encoded data removed]",
      "text/plain": [
       "<Figure size 800x500 with 1 Axes>"
      ]
     },
     "metadata": {},
     "output_type": "display_data"
    }
   ],
   "source": [
    "plt.figure(figsize = (8,5))\n",
    "plt.scatter(df['C1'], df['C2'])\n",
    "plt.plot(df['C1'],\n",
    "         b_c2_sobre_c1 * df['C1'] + a_c2_sobre_c1,\n",
    "         color = 'red',\n",
    "         )\n",
    "\n",
    "plt.annotate(F'y = {b_c2_sobre_c1:.2f} * x + {a_c2_sobre_c1:.2f}', xy = (80, 80))\n",
    "plt.title('recta de regresion de C2 sobre C1')\n",
    "plt.ylabel('c2')\n",
    "plt.xlabel('c1')\n",
    "\n",
    "plt.show()"
   ]
  },
  {
   "cell_type": "code",
   "execution_count": 31,
   "id": "e13930b0",
   "metadata": {},
   "outputs": [
    {
     "data": {
      "text/plain": [
       "0.39410755725961055"
      ]
     },
     "execution_count": 31,
     "metadata": {},
     "output_type": "execute_result"
    }
   ],
   "source": [
    "b_c1_sobre_c2 = covar_c1c2/var_c2\n",
    "b_c1_sobre_c2"
   ]
  },
  {
   "cell_type": "code",
   "execution_count": 33,
   "id": "c5d2ebb5",
   "metadata": {},
   "outputs": [
    {
     "data": {
      "text/plain": [
       "33.88337774816789"
      ]
     },
     "execution_count": 33,
     "metadata": {},
     "output_type": "execute_result"
    }
   ],
   "source": [
    "a_c1_sobre_c2 = df['C1'].mean() - b_c2_sobre_c1*df['C2'].mean()\n",
    "a_c1_sobre_c2"
   ]
  },
  {
   "cell_type": "code",
   "execution_count": 52,
   "id": "334ecbf6",
   "metadata": {},
   "outputs": [
    {
     "data": {
      "image/png": "[encoded data removed]",
      "text/plain": [
       "<Figure size 800x500 with 1 Axes>"
      ]
     },
     "metadata": {},
     "output_type": "display_data"
    }
   ],
   "source": [
    "plt.figure(figsize = (8,5))\n",
    "plt.scatter(df['C2'], df['C1'])\n",
    "plt.plot(df['C2'],\n",
    "         b_c1_sobre_c2 * df['C2'] + a_c1_sobre_c2,\n",
    "         color = 'red')\n",
    "\n",
    "plt.annotate(F'y = {b_c1_sobre_c2:.2f} * x + {a_c1_sobre_c2:.2f}', xy = (80, 80))\n",
    "plt.title('recta de regresion de C1 sobre C2')\n",
    "plt.ylabel('C1')\n",
    "plt.xlabel('C2')\n",
    "\n",
    "plt.show()"
   ]
  },
  {
   "cell_type": "code",
   "execution_count": 36,
   "id": "97e0fe2e",
   "metadata": {},
   "outputs": [
    {
     "name": "stdout",
     "output_type": "stream",
     "text": [
      "49.15\n",
      "48.4\n"
     ]
    }
   ],
   "source": [
    "print(df['C1'].mean())\n",
    "print(df['C2'].mean())"
   ]
  },
  {
   "cell_type": "code",
   "execution_count": 42,
   "id": "4cb2a4b2",
   "metadata": {},
   "outputs": [
    {
     "data": {
      "text/plain": [
       "0.3520371922812838"
      ]
     },
     "execution_count": 42,
     "metadata": {},
     "output_type": "execute_result"
    }
   ],
   "source": [
    "156/(np.sqrt(var_c1)*np.sqrt(var_c2))"
   ]
  },
  {
   "cell_type": "code",
   "execution_count": 43,
   "id": "03f08188",
   "metadata": {},
   "outputs": [
    {
     "data": {
      "text/html": [
       "<div>\n",
       "<style scoped>\n",
       "    .dataframe tbody tr th:only-of-type {\n",
       "        vertical-align: middle;\n",
       "    }\n",
       "\n",
       "    .dataframe tbody tr th {\n",
       "        vertical-align: top;\n",
       "    }\n",
       "\n",
       "    .dataframe thead th {\n",
       "        text-align: right;\n",
       "    }\n",
       "</style>\n",
       "<table border=\"1\" class=\"dataframe\">\n",
       "  <thead>\n",
       "    <tr style=\"text-align: right;\">\n",
       "      <th></th>\n",
       "      <th>C1</th>\n",
       "      <th>C2</th>\n",
       "      <th>C1-C1_mean</th>\n",
       "      <th>C2-C2_mean</th>\n",
       "      <th>(C1-C1_mean)(C2-C2_mean)</th>\n",
       "    </tr>\n",
       "  </thead>\n",
       "  <tbody>\n",
       "    <tr>\n",
       "      <th>C1</th>\n",
       "      <td>1.000000</td>\n",
       "      <td>0.352580</td>\n",
       "      <td>0.641012</td>\n",
       "      <td>0.692218</td>\n",
       "      <td>0.681854</td>\n",
       "    </tr>\n",
       "    <tr>\n",
       "      <th>C2</th>\n",
       "      <td>0.352580</td>\n",
       "      <td>1.000000</td>\n",
       "      <td>0.713785</td>\n",
       "      <td>0.588853</td>\n",
       "      <td>0.628722</td>\n",
       "    </tr>\n",
       "    <tr>\n",
       "      <th>C1-C1_mean</th>\n",
       "      <td>0.641012</td>\n",
       "      <td>0.713785</td>\n",
       "      <td>1.000000</td>\n",
       "      <td>0.952790</td>\n",
       "      <td>0.942834</td>\n",
       "    </tr>\n",
       "    <tr>\n",
       "      <th>C2-C2_mean</th>\n",
       "      <td>0.692218</td>\n",
       "      <td>0.588853</td>\n",
       "      <td>0.952790</td>\n",
       "      <td>1.000000</td>\n",
       "      <td>0.914371</td>\n",
       "    </tr>\n",
       "    <tr>\n",
       "      <th>(C1-C1_mean)(C2-C2_mean)</th>\n",
       "      <td>0.681854</td>\n",
       "      <td>0.628722</td>\n",
       "      <td>0.942834</td>\n",
       "      <td>0.914371</td>\n",
       "      <td>1.000000</td>\n",
       "    </tr>\n",
       "  </tbody>\n",
       "</table>\n",
       "</div>"
      ],
      "text/plain": [
       "                                C1        C2  C1-C1_mean  C2-C2_mean  \\\n",
       "C1                        1.000000  0.352580    0.641012    0.692218   \n",
       "C2                        0.352580  1.000000    0.713785    0.588853   \n",
       "C1-C1_mean                0.641012  0.713785    1.000000    0.952790   \n",
       "C2-C2_mean                0.692218  0.588853    0.952790    1.000000   \n",
       "(C1-C1_mean)(C2-C2_mean)  0.681854  0.628722    0.942834    0.914371   \n",
       "\n",
       "                          (C1-C1_mean)(C2-C2_mean)  \n",
       "C1                                        0.681854  \n",
       "C2                                        0.628722  \n",
       "C1-C1_mean                                0.942834  \n",
       "C2-C2_mean                                0.914371  \n",
       "(C1-C1_mean)(C2-C2_mean)                  1.000000  "
      ]
     },
     "execution_count": 43,
     "metadata": {},
     "output_type": "execute_result"
    }
   ],
   "source": [
    "df.corr()"
   ]
  },
  {
   "cell_type": "code",
   "execution_count": null,
   "id": "5604870f",
   "metadata": {},
   "outputs": [],
   "source": [
    "# plt.figure(figsize = (15, 8))\n",
    "\n",
    "# from scipy import stats\n",
    "# slope, intercept, r_value, p_value, std_err = stats.linregress(xdata, ydata)\n",
    "\n",
    "# import seaborn as sns\n",
    "# sns.regplot(x = xdata, y = ydata)\n",
    "# plt.xlabel('Protein Concentration (mg/mL)')\n",
    "# plt.ylabel('$A_{595}$')\n",
    "# plt.annotate(F'y = {slope:.4f} * x + {intercept:.4f}', xy = (0.2, 0.5))\n",
    "# plt.savefig('Bradford_plot2.png', dpi = 600, bbox_inches = 'tight')"
   ]
  }
 ],
 "metadata": {
  "kernelspec": {
   "display_name": "Python 3 (ipykernel)",
   "language": "python",
   "name": "python3"
  },
  "language_info": {
   "codemirror_mode": {
    "name": "ipython",
    "version": 3
   },
   "file_extension": ".py",
   "mimetype": "text/x-python",
   "name": "python",
   "nbconvert_exporter": "python",
   "pygments_lexer": "ipython3",
   "version": "3.10.6"
  },
  "toc": {
   "base_numbering": 1,
   "nav_menu": {},
   "number_sections": true,
   "sideBar": true,
   "skip_h1_title": false,
   "title_cell": "Table of Contents",
   "title_sidebar": "Contents",
   "toc_cell": false,
   "toc_position": {},
   "toc_section_display": true,
   "toc_window_display": false
  }
 },
 "nbformat": 4,
 "nbformat_minor": 5
}
