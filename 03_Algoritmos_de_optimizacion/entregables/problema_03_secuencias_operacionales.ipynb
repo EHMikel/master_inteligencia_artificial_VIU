{
 "cells": [
  {
   "attachments": {},
   "cell_type": "markdown",
   "metadata": {},
   "source": [
    "# MIAR03: ALGORITMOS DE OPTIMIZACIÓN: Problema 3. Combinar cifras y operaciones\n",
    "\n",
    "- El problema consiste en analizar el siguiente problema y diseñar un algoritmo que lo resuelva\n",
    "\n",
    "- Disponemos de las 9 cifras del 1 al 9 (excluimos el cero) y de los 4 signos básicos de las operaciones fundamentales: suma(+), resta( resta(--), multiplicación(*) y\n",
    "\n",
    "- Debemos combinarlos alternativamente sin repetir ninguno de ellos para obtener una cantidad dada. Un ejemplo sería para obtener el 4:\n",
    "4+2 6/3*1 = 4\n",
    "\n",
    "Debe analizarse el problema para encontrar todos los valores enteros posibles planteando las siguientes cuestiones:\n",
    "\n",
    "- ¿Qué valor máximo y mínimo se pueden obtener según las condiciones del problema?\n",
    "- ¿Es posible encontrar todos los valores enteros posibles entre dicho mínimo y máximo ?\n",
    "\n",
    "Nota: Es posible usar la función de python “eval ” \n",
    "\n",
    "## resolviendo el problema por fuerza bruta\n",
    "\n",
    "### creando una función que me de las permutaciones de los elementos de una lista\n",
    "\n",
    "#### Nota:\n",
    "\n",
    "Más adelante me he dado cuenta de que no hacia falta por el módulo itertools de python, pero dejo el trabajo hecho. He utilizado la técnica de divide y venceras para esta función."
   ]
  },
  {
   "cell_type": "code",
   "execution_count": 1,
   "metadata": {},
   "outputs": [],
   "source": [
    "# Esta funcion devuelve todas las permutaciones posibles de una lista\n",
    "def permutaciones(lst):\n",
    "\n",
    "    permutaciones_ = []                                                     # defino la lista de las permutaciones posibles\n",
    "    permutaciones_.append(lst)                                              # meto la primera lista original como una permutacion posible\n",
    "\n",
    "    if len(lst) < 2:                                                        # si el tamaño de la lista es inferior a 1 entonces finaliza la funcion\n",
    "        return permutaciones_\n",
    "    \n",
    "    elif len(lst) == 2:                                                     # si el tamaño de la lista es 2 le da la vuelta a la lista y finaliza la funcion\n",
    "        lst.reverse()\n",
    "        permutaciones_.append(lst)\n",
    "        return permutaciones_                                               # devuelve la funcion original y la misma en el orden inverso\n",
    "    \n",
    "    else:                                                                   # si el tamaño de la lista es sueperior a 2\n",
    "        for elem in lst:                                                    # para cada elemento en la lista\n",
    "            #print(elem)\n",
    "            sub_lst = lst.copy()                                                # creo una copia de la lista, por que luego la voy a modificar\n",
    "            sub_lst.remove(elem)                                                # quito el elemento de analisis de esta lista copia y creo una sub_lista sin el elemento \n",
    "            perm_ope = permutaciones(sub_lst)                                   # aplico RECURSIVIDAD para la sublista, la cual me devuelve todas sus reordenaciones posibles\n",
    "            #print(perm_ope)\n",
    "\n",
    "            for perm in perm_ope:                                           # para cada permutacion en mi sublista reordenada       \n",
    "                for i in range(len(perm)+1):                                # para cada posicion en el rango de mi sublista +1 \n",
    "                    permutacion = perm.copy()                               # creo una copia de cada permutacion, para que las modificaciones no le afecten\n",
    "                    permutacion.insert(i, elem)                             # inserto el elemento de analisis en cada posicion\n",
    "\n",
    "                    if permutacion not in permutaciones_:                   # si dicha permutacion no esta ya, en mi lista de permutaciones, la añado a la misma\n",
    "                        permutaciones_.append(permutacion)\n",
    "\n",
    "        return permutaciones_                                               # devuelvo la lista de todas las permutaciones posibles\n"
   ]
  },
  {
   "attachments": {},
   "cell_type": "markdown",
   "metadata": {},
   "source": [
    "### Comprobando la función permutaciones"
   ]
  },
  {
   "cell_type": "code",
   "execution_count": 2,
   "metadata": {},
   "outputs": [
    {
     "name": "stdout",
     "output_type": "stream",
     "text": [
      "['+', '-', '*']\n",
      "['+', '*', '-']\n",
      "['*', '+', '-']\n",
      "['*', '-', '+']\n",
      "['-', '*', '+']\n",
      "['-', '+', '*']\n",
      "6\n"
     ]
    }
   ],
   "source": [
    "permutations = permutaciones(['+','-','*'])\n",
    "\n",
    "for n in permutations:\n",
    "     print(n)\n",
    "print(len(permutations))"
   ]
  },
  {
   "cell_type": "code",
   "execution_count": 3,
   "metadata": {},
   "outputs": [
    {
     "name": "stdout",
     "output_type": "stream",
     "text": [
      "['+', '-', '*', '/']\n",
      "['-', '+', '*', '/']\n",
      "['-', '*', '+', '/']\n",
      "['-', '*', '/', '+']\n",
      "['+', '-', '/', '*']\n",
      "['-', '+', '/', '*']\n",
      "['-', '/', '+', '*']\n",
      "['-', '/', '*', '+']\n",
      "['+', '/', '-', '*']\n",
      "['/', '+', '-', '*']\n",
      "['/', '-', '+', '*']\n",
      "['/', '-', '*', '+']\n",
      "['+', '/', '*', '-']\n",
      "['/', '+', '*', '-']\n",
      "['/', '*', '+', '-']\n",
      "['/', '*', '-', '+']\n",
      "['+', '*', '/', '-']\n",
      "['*', '+', '/', '-']\n",
      "['*', '/', '+', '-']\n",
      "['*', '/', '-', '+']\n",
      "['+', '*', '-', '/']\n",
      "['*', '+', '-', '/']\n",
      "['*', '-', '+', '/']\n",
      "['*', '-', '/', '+']\n",
      "24\n"
     ]
    }
   ],
   "source": [
    "permutations = permutaciones(['+','-','*','/'])\n",
    "\n",
    "for n in permutations:\n",
    "     print(n)\n",
    "print(len(permutations))"
   ]
  },
  {
   "cell_type": "code",
   "execution_count": 4,
   "metadata": {},
   "outputs": [
    {
     "name": "stdout",
     "output_type": "stream",
     "text": [
      "120\n"
     ]
    }
   ],
   "source": [
    "permutations = permutaciones(['+','-','*','/', '**'])\n",
    "print(len(permutations)) # el resultado es n! por lo que el resultado es correcto"
   ]
  },
  {
   "attachments": {},
   "cell_type": "markdown",
   "metadata": {},
   "source": [
    "### CONSTRUYENDO EL ESPACIO DE POSIBILIDADES (por fuerza bruta)\n",
    "\n",
    "NOTA: Esta implementación no esta formalizada (esta en sucio, pues es mi primera versión), mas adelante la mejoro y formalizo. El cálculo de la complejidad esta basado en la mejora que hare posteriormente"
   ]
  },
  {
   "cell_type": "code",
   "execution_count": 5,
   "metadata": {},
   "outputs": [
    {
     "name": "stdout",
     "output_type": "stream",
     "text": [
      "TENIENDO EN CUENTA LA RESTRICCION DE QUE DEBEN SER ENTEROS HAY 90000 COMBINACIONES POSIBLES\n",
      "NOTA: incluimos en la lista de expresiones unicamente la cantidad de operaciones que dan entero\n"
     ]
    }
   ],
   "source": [
    "# se definen los valores para cada posicion\n",
    "\n",
    "pos_0 = (1,2,3,4,5,6,7,8,9)\n",
    "pos_1 = (1,2,3,4,5,6,7,8,9)\n",
    "pos_2 = (1,2,3,4,5,6,7,8,9)\n",
    "pos_3 = (1,2,3,4,5,6,7,8,9)\n",
    "pos_4 = (1,2,3,4,5,6,7,8,9)\n",
    "\n",
    "operaciones = ['+','-','*','/']                                                     # las operaciones que quiero que realize\n",
    "\n",
    "permutaciones_posibles = permutaciones(operaciones)                          # esta funcion me devolverá todas las permutaciones posibles \n",
    "\n",
    "expresions = []                                                                     # aqui guardaré las combinaciones posibles\n",
    "\n",
    "for secuencia in permutaciones_posibles:                                            # para cada permutacion de operaciones posible\n",
    "\n",
    "    for n_0 in pos_0:                                                               # para cada numero de la primera posicion\n",
    "\n",
    "        expresion = []                                                              # se crea una lista en la cual voy a guardar mi expresion\n",
    "        expresion.append(str(n_0))                                                  # se le añade el primer numero\n",
    "        expresion.append(secuencia[0])                                              # le añado tambien el operador correspondiente (+,-,*,/)\n",
    "\n",
    "        for n_1 in pos_1:                                                           # Para cada numero en la segunda posicion\n",
    "\n",
    "            if str(n_1) in expresion:                                               # si el número ya esta en la expresion saltamos de al siguiente bucle\n",
    "                continue\n",
    "\n",
    "            else:\n",
    "                expresion_1 = expresion.copy()                                      # se crea una copia de la expresion para que la original no sea alterada                         \n",
    "                expresion_1.append(str(n_1))                                        # añado el nuevo elemento a mi expresion copia\n",
    "                expresion_1.append(secuencia[1])                                    # y tambien le añado su operador correspondiente (+,-,*,/)\n",
    "\n",
    "            for n_2 in pos_2:                                                       # para cada numero en la tercera posicion\n",
    "\n",
    "                if str(n_2) in expresion_1:                                         # si el numero ya esta en la expresion saltamos al siguieinte bucle\n",
    "                    continue\n",
    "\n",
    "                else:\n",
    "                    expresion_2 = expresion_1.copy()                                # se crea una copia de la expresion para no alterar las anteriores\n",
    "                    expresion_2.append(str(n_2))                                    # se añade el nuevo elemento a la expresion copia\n",
    "                    expresion_2.append(secuencia[2])                                # y tambien le añado su operador correspondiente (+,-,*,/)\n",
    "\n",
    "                for n_3 in pos_3:                                                   # para cada numero en la cuarta posición\n",
    "\n",
    "                    if str(n_3) in expresion_2:                                     # si el numero ya esta el la expresion saltamos al siguiente bucle\n",
    "                        continue\n",
    "\n",
    "                    else:\n",
    "                        expresion_3 = expresion_2.copy()                            # se crea una copia de la expresion anterior para no modificarla\n",
    "                        expresion_3.append(str(n_3))                                # se añade el nuevo numero\n",
    "                        expresion_3.append(secuencia[3])                            # se ael ultimo operador corresponiente (+,-,*,/)\n",
    "\n",
    "                    for n_4 in pos_4:                                               # para cada numero el la ultima posicion\n",
    "\n",
    "                        if str(n_4) in expresion_3:                                 # si el numero ya esta en la lista saltamos al siguiente bucle\n",
    "                            continue\n",
    "\n",
    "                        else:\n",
    "                            expresion_4 = expresion_3.copy()                        # se crea una ultima copia para no modificar la expresion anterior\n",
    "                            expresion_4.append(str(n_4))                            # se le añade el numero final a la expreesion\n",
    "\n",
    "                            str_expresion = ''.join(expresion_4)                    # se convierte la expresion un un string\n",
    "\n",
    "                            if (eval(str_expresion) - int(eval(str_expresion))) == 0: # se evalua si el resultado de la expresion es un entero o no. Si ES ENTERO se añade a la lista de expresiones deseadas\n",
    "                                expresions.append(str_expresion)\n",
    "\n",
    "print(f'TENIENDO EN CUENTA LA RESTRICCION DE QUE DEBEN SER ENTEROS HAY {len(expresions)} COMBINACIONES POSIBLES')\n",
    "print('NOTA: incluimos en la lista de expresiones unicamente la cantidad de operaciones que dan entero')"
   ]
  },
  {
   "cell_type": "markdown",
   "metadata": {},
   "source": [
    "### Formalizando el algoritmo por fuerza bruta"
   ]
  },
  {
   "cell_type": "code",
   "execution_count": 18,
   "metadata": {},
   "outputs": [
    {
     "name": "stdout",
     "output_type": "stream",
     "text": [
      "90000\n"
     ]
    }
   ],
   "source": [
    "nums = ('1','2','3','4','5','6','7','8','9')\n",
    "operations = ('+', '-', '/', '*')\n",
    "\n",
    "def secuencias_operacionales_fuerza_bruta(nums= ('1','2','3','4','5','6','7','8','9'), operations = ('+', '-', '/', '*')):\n",
    "    '''\n",
    "    Esta función es una formalización del algoritmo por fuerza bruta que se ha implementado anteriormente, esta diseñado de una manera más elegante y eficiente.\n",
    "    '''\n",
    "\n",
    "    import itertools\n",
    "\n",
    "    permuted_nums = tuple([*itertools.permutations(nums, 5)])                           # las permutaciones de los números\n",
    "    permuted_operations = tuple(*[itertools.permutations(operations, len(operations))]) # las permutaciones de las operaciones\n",
    "\n",
    "    expresions = []                                                                     # aqui guardaremos las expresiones resultado\n",
    "\n",
    "    for operation_sec in permuted_operations:                                           # para cada operación en la lista de permutaciones\n",
    "        for num_sec in permuted_nums:                                                   # para cada secuencia de numeros en la lista de permutaciones\n",
    "\n",
    "            expresion = [i for i in range(len(num_sec) + len(operation_sec))]           # creo una lista del tamaño total que tendrá la expresion final\n",
    "            \n",
    "            i = 0                                                                       # el indice de las secuencias de numeros \n",
    "            j = 0                                                                       # el indice de las secuencias de operaciones\n",
    "            k = 0                                                                       # el indice de la expresion final\n",
    "\n",
    "            while k < len(expresion):                                                   # mientras que k sea inferior al tamaño de mi expresion\n",
    "\n",
    "                if k%2==0:                                                              # si k es par introduce el numero i en la posicion k\n",
    "                    expresion[k] = num_sec[i]\n",
    "                    i += 1                                                              # se aumentan los indices i y k\n",
    "                    k += 1\n",
    "\n",
    "                elif k%2 != 0:                                                          # si k es impar entonces introduce el elmento operacional j en la posicion k de la expresion\n",
    "                    expresion[k] = operation_sec[j]\n",
    "                    j += 1                                                              # se aumentan los indices k y j \n",
    "                    k += 1\n",
    "            #print(expresion)\n",
    "            expresion = ''.join(expresion)                                              # se construye la expresion con el método join para pasar de lista a str\n",
    "            if eval(expresion)-int(eval(expresion)) == 0:                               # se evalua si la expresion es un entero, y si lo es se añade a la lista de expresiones válidas\n",
    "                expresions.append(expresion)\n",
    "\n",
    "    return expresions                                                                   # se devuelve la lista de operacionnes válidas\n",
    "        \n",
    "expresions = secuencias_operacionales_fuerza_bruta()\n",
    "\n",
    "print(len(expresions))                                                                  # EL RESULTADO ES EL MISMO"
   ]
  },
  {
   "attachments": {},
   "cell_type": "markdown",
   "metadata": {},
   "source": [
    "### EXPLORANDO EL ESPACIO DE POSIBILIDADES ¿Qué valor máximo y mínimo se pueden obtener según las condiciones del problema?\n",
    "\n",
    "Voy a resolver el problema por fuerza bruta de tres maneras diferentes, sin embargo el tercero lo voy a implementar en la parte de mejora\n",
    "\n",
    "#### A: metodo exaustivo para encontrar el máximo y el mínimo "
   ]
  },
  {
   "cell_type": "code",
   "execution_count": 9,
   "metadata": {},
   "outputs": [
    {
     "data": {
      "text/plain": [
       "(-69.0, 77.0)"
      ]
     },
     "execution_count": 9,
     "metadata": {},
     "output_type": "execute_result"
    }
   ],
   "source": [
    "def buscar_max_y_min(espacio_de_posibilidades):\n",
    "\n",
    "    '''\n",
    "    Esta funcion dado un espacio de posibilidades busca el maximo y el minimo y los devuelve directamente\n",
    "    '''\n",
    "\n",
    "    maximo = eval(espacio_de_posibilidades[0])\n",
    "    minimo = eval(espacio_de_posibilidades[0])\n",
    "\n",
    "    for expresion in espacio_de_posibilidades[1:]:\n",
    "\n",
    "        expresion_evaluada = eval(expresion)\n",
    "\n",
    "        if expresion_evaluada < minimo:\n",
    "            minimo = expresion_evaluada\n",
    "\n",
    "        if expresion_evaluada > maximo:\n",
    "            maximo = expresion_evaluada\n",
    "\n",
    "    return minimo, maximo\n",
    "\n",
    "\n",
    "buscar_max_y_min(expresions)\n"
   ]
  },
  {
   "attachments": {},
   "cell_type": "markdown",
   "metadata": {},
   "source": [
    "#### B: Evaluando todo el espacio de posibilidades, y después devolver el máximo y el mínimo"
   ]
  },
  {
   "cell_type": "code",
   "execution_count": 10,
   "metadata": {},
   "outputs": [
    {
     "name": "stdout",
     "output_type": "stream",
     "text": [
      "-69.0\n",
      "77.0\n"
     ]
    }
   ],
   "source": [
    "def evaluar_espacio_de_posibilidades(espacio_de_posibilidades):\n",
    "\n",
    "    '''\n",
    "    Esta funcion devuelve el espacio de posibilidades evaluado para que nosotros despues podamos encontrar el máximo y el mínimo\n",
    "    '''\n",
    "\n",
    "    espacio_de_posibilidades_evaluado = []\n",
    "\n",
    "    for expresion in espacio_de_posibilidades:\n",
    "        espacio_de_posibilidades_evaluado.append(eval(expresion))\n",
    "\n",
    "    return espacio_de_posibilidades_evaluado\n",
    "\n",
    "expresiones_evaluadas = evaluar_espacio_de_posibilidades(expresions)\n",
    "\n",
    "print(min(expresiones_evaluadas))\n",
    "print(max(expresiones_evaluadas))"
   ]
  },
  {
   "cell_type": "markdown",
   "metadata": {},
   "source": [
    "#### C: diccionario de expresiones: **LO DESARROLLARÉ EN EL APARTADO DE MEJORA**, pues ha resultado ser de gran utilidad\n",
    "\n",
    "Esta me parece la manera más ingeniosa de guardar el espacio de posibilidades pues nos permite hacer algunas observaciones (o trampas**) muy interesantes.\n",
    "\n",
    "**Lo he llamado trampa por que en teoría no deberiamos poder explorar todo el espacio de posibilidades a medida que el problema aumenta en tamaño"
   ]
  },
  {
   "attachments": {},
   "cell_type": "markdown",
   "metadata": {},
   "source": [
    "### - ¿Es posible encontrar todos los valores enteros posibles entre dicho mínimo y máximo ?\n",
    "\n",
    "SI ES POSIBLE COMO SE DEMUESTRA A CONTINUACIÓN\n",
    "\n",
    "### Método A"
   ]
  },
  {
   "cell_type": "code",
   "execution_count": 11,
   "metadata": {},
   "outputs": [
    {
     "name": "stdout",
     "output_type": "stream",
     "text": [
      "[-69, -68, -67, -66, -65, -64, -63, -62, -61, -60, -59, -58, -57, -56, -55, -54, -53, -52, -51, -50, -49, -48, -47, -46, -45, -44, -43, -42, -41, -40, -39, -38, -37, -36, -35, -34, -33, -32, -31, -30, -29, -28, -27, -26, -25, -24, -23, -22, -21, -20, -19, -18, -17, -16, -15, -14, -13, -12, -11, -10, -9, -8, -7, -6, -5, -4, -3, -2, -1, 0, 1, 2, 3, 4, 5, 6, 7, 8, 9, 10, 11, 12, 13, 14, 15, 16, 17, 18, 19, 20, 21, 22, 23, 24, 25, 26, 27, 28, 29, 30, 31, 32, 33, 34, 35, 36, 37, 38, 39, 40, 41, 42, 43, 44, 45, 46, 47, 48, 49, 50, 51, 52, 53, 54, 55, 56, 57, 58, 59, 60, 61, 62, 63, 64, 65, 66, 67, 68, 69, 70, 71, 72, 73, 74, 75, 76, 77]\n",
      "147\n"
     ]
    }
   ],
   "source": [
    "maximo = int(max(expresiones_evaluadas))\n",
    "minimo  = int(min(expresiones_evaluadas))\n",
    "\n",
    "intervalo = maximo - minimo\n",
    "\n",
    "todos_los_enteros = [minimo + n for n in range(intervalo + 1)]\n",
    "\n",
    "print(todos_los_enteros)\n",
    "print(len(todos_los_enteros))"
   ]
  },
  {
   "cell_type": "markdown",
   "metadata": {},
   "source": [
    "### Método B"
   ]
  },
  {
   "cell_type": "code",
   "execution_count": 12,
   "metadata": {},
   "outputs": [
    {
     "name": "stdout",
     "output_type": "stream",
     "text": [
      "[-69.0, -68.0, -67.0, -66.0, -65.0, -64.0, -63.0, -62.0, -61.0, -60.0, -59.0, -58.0, -57.0, -56.0, -55.0, -54.0, -53.0, -52.0, -51.0, -50.0, -49.0, -48.0, -47.0, -46.0, -45.0, -44.0, -43.0, -42.0, -41.0, -40.0, -39.0, -38.0, -37.0, -36.0, -35.0, -34.0, -33.0, -32.0, -31.0, -30.0, -29.0, -28.0, -27.0, -26.0, -25.0, -24.0, -23.0, -22.0, -21.0, -20.0, -19.0, -18.0, -17.0, -16.0, -15.0, -14.0, -13.0, -12.0, -11.0, -10.0, -9.0, -8.0, -7.0, -6.0, -5.0, -4.0, -3.0, -2.0, -1.0, 0.0, 1.0, 2.0, 3.0, 4.0, 5.0, 6.0, 7.0, 8.0, 9.0, 10.0, 11.0, 12.0, 13.0, 14.0, 15.0, 16.0, 17.0, 18.0, 19.0, 20.0, 21.0, 22.0, 23.0, 24.0, 25.0, 26.0, 27.0, 28.0, 29.0, 30.0, 31.0, 32.0, 33.0, 34.0, 35.0, 36.0, 37.0, 38.0, 39.0, 40.0, 41.0, 42.0, 43.0, 44.0, 45.0, 46.0, 47.0, 48.0, 49.0, 50.0, 51.0, 52.0, 53.0, 54.0, 55.0, 56.0, 57.0, 58.0, 59.0, 60.0, 61.0, 62.0, 63.0, 64.0, 65.0, 66.0, 67.0, 68.0, 69.0, 70.0, 71.0, 72.0, 73.0, 74.0, 75.0, 76.0, 77.0]\n",
      "147\n"
     ]
    }
   ],
   "source": [
    "set_de_expresiones_evaluadas = list(set(expresiones_evaluadas))\n",
    "\n",
    "set_de_expresiones_evaluadas.sort()\n",
    "\n",
    "print(set_de_expresiones_evaluadas)\n",
    "print(len(set_de_expresiones_evaluadas))"
   ]
  },
  {
   "cell_type": "code",
   "execution_count": 13,
   "metadata": {},
   "outputs": [
    {
     "name": "stdout",
     "output_type": "stream",
     "text": [
      "147\n",
      "147\n",
      "True\n"
     ]
    }
   ],
   "source": [
    "print(len(todos_los_enteros))\n",
    "print(len(set_de_expresiones_evaluadas))\n",
    "print(len(set_de_expresiones_evaluadas)==len(todos_los_enteros))"
   ]
  },
  {
   "attachments": {},
   "cell_type": "markdown",
   "metadata": {},
   "source": [
    "## PREGUNTAS\n",
    "\n",
    "- (*)¿Cuantas posibilidades hay sin tener en cuenta las restricciones?\n",
    "\n",
    "- ¿Cuántas posibilidades hay teniendo en cuenta todas las restricciones?\n",
    "\n",
    "- (*)¿Cuál es la estructura de datos que mejor se adapta al problema? Argumenta la respuesta (Es posible que hayas elegido una al principio y veas la necesidad de cambiar, argumenta)\n",
    "\n",
    "- (*)¿Cuál es la función objetivo?\n",
    "\n",
    "- (*)¿Es un problema de maximización o minimización?\n",
    "\n",
    "\n",
    "- Diseña un algoritmo para resolver el problema por fuerza bruta\n",
    "\n",
    "- Calcula la complejidad del algoritmo por fuerza bruta\n",
    "\n",
    "- (*)Diseña un algoritmo que mejore la complejidad del algoritmo por fuerza bruta. Argumenta porque crees que mejora el algoritmo por fuerza bruta\n",
    "\n",
    "- (*) Calcula la complejidad del algoritmo\n",
    "\n",
    "- Según el problema (y tenga sentido), diseña un juego de datos de entrada aleatorio.\n",
    "\n",
    "- Aplica el algoritmo al juego de datos aleatorio generado.\n",
    "\n",
    "- Enumera las referencias que has utilizado (si ha sido necesario) para llevar a cabo el trabajo\n",
    "\n",
    "- Describe brevemente en unas líneas como crees que es posible avanzar en el estudio del problema. Ten en cuenta incluso posibles variaciones del problema y/o variaciones al alza del tamaño.\n",
    "\n",
    "\n",
    "### COMPLEJIDAD: por fuerza bruta\n",
    "\n",
    "Este problema aumenta la complejidad de dos maneras diferentes: la primera es con la cantidad de operaciones que queremos realizar, es decir, en el caso que hemos analizado ['+','-','*','/'], la cual nos impone una reordenación de cada una de ellas, o dicho de otra manera una permutación de las $n$ entradas de operadores.\n",
    "\n",
    "Por otra parte esta la cantidad de VARIACIONES (dado que el orden importa, no se pueden repetir los elementos y en un principio se escojen $k$ elementos de $m$ posibles) de los numeros que vamos a utilizar para construir las expresiones matemáticas.\n",
    "\n",
    "Entonces, con las entradas de m (cantidad de números a combinar), n(cantidad de operadores aritméticos) y k (las agrupaciones), la complejidad de este algoritmo teniendo en cuenta lo siguiente:\n",
    "\n",
    "**Permutación sin repetición:**\n",
    "\n",
    "$$ permutaciones (n) = n! $$\n",
    "\n",
    "**Variación sin repetición:**\n",
    "\n",
    "$$ variaciones (m, k) = m!/(m-k)! $$\n",
    "\n",
    "**La complejidad del algoritmo** \n",
    "\n",
    "$$ O(n! * m!/(m-k)!) $$\n",
    "\n",
    "### ¿Cuantas posibilidades hay sin tener en cuenta las restricciones?\n",
    "\n",
    "**362.880 Combinaciones posibles** resultado de $ 4! * 9!/(9-5)! $. Se demuestra a continuación.\n",
    "\n",
    "Para no volver a redefinir la función ejecuto mi primer codigo en sucio sin la función de evaluacion"
   ]
  },
  {
   "cell_type": "code",
   "execution_count": 19,
   "metadata": {},
   "outputs": [
    {
     "name": "stdout",
     "output_type": "stream",
     "text": [
      "SIN TENER EN CUENTA LA RESTRICCION DE QUE DEBEN SER ENTEROS HAY 362880 COMBINACIONES POSIBLES\n",
      "NOTA: esta vez no evaluamos la expresión, simplemente la metemos directamente en la lista de expresiones\n"
     ]
    }
   ],
   "source": [
    "# se definen los valores para cada posicion\n",
    "\n",
    "pos_0 = (1,2,3,4,5,6,7,8,9)\n",
    "pos_1 = (1,2,3,4,5,6,7,8,9)\n",
    "pos_2 = (1,2,3,4,5,6,7,8,9)\n",
    "pos_3 = (1,2,3,4,5,6,7,8,9)\n",
    "pos_4 = (1,2,3,4,5,6,7,8,9)\n",
    "\n",
    "operaciones = ['+','-','*','/']                                                     # las operaciones que quiero que realize\n",
    "\n",
    "permutaciones_posibles = permutaciones(operaciones)                          # esta funcion me devolverá todas las permutaciones posibles \n",
    "\n",
    "expresions_ = []                                                                     # aqui guardaré las combinaciones posibles\n",
    "\n",
    "for secuencia in permutaciones_posibles:                                            # para cada permutacion de operaciones posible\n",
    "\n",
    "    for n_0 in pos_0:                                                               # para cada numero de la primera posicion\n",
    "\n",
    "        expresion = []                                                              # se crea una lista en la cual voy a guardar mi expresion\n",
    "        expresion.append(str(n_0))                                                  # se le añade el primer numero\n",
    "        expresion.append(secuencia[0])                                              # le añado tambien el operador correspondiente (+,-,*,/)\n",
    "\n",
    "        for n_1 in pos_1:                                                           # Para cada numero en la segunda posicion\n",
    "\n",
    "            if str(n_1) in expresion:                                               # si el número ya esta en la expresion saltamos de al siguiente bucle\n",
    "                continue\n",
    "\n",
    "            else:\n",
    "                expresion_1 = expresion.copy()                                      # se crea una copia de la expresion para que la original no sea alterada                         \n",
    "                expresion_1.append(str(n_1))                                        # añado el nuevo elemento a mi expresion copia\n",
    "                expresion_1.append(secuencia[1])                                    # y tambien le añado su operador correspondiente (+,-,*,/)\n",
    "\n",
    "            for n_2 in pos_2:                                                       # para cada numero en la tercera posicion\n",
    "\n",
    "                if str(n_2) in expresion_1:                                         # si el numero ya esta en la expresion saltamos al siguieinte bucle\n",
    "                    continue\n",
    "\n",
    "                else:\n",
    "                    expresion_2 = expresion_1.copy()                                # se crea una copia de la expresion para no alterar las anteriores\n",
    "                    expresion_2.append(str(n_2))                                    # se añade el nuevo elemento a la expresion copia\n",
    "                    expresion_2.append(secuencia[2])                                # y tambien le añado su operador correspondiente (+,-,*,/)\n",
    "\n",
    "                for n_3 in pos_3:                                                   # para cada numero en la cuarta posición\n",
    "\n",
    "                    if str(n_3) in expresion_2:                                     # si el numero ya esta el la expresion saltamos al siguiente bucle\n",
    "                        continue\n",
    "\n",
    "                    else:\n",
    "                        expresion_3 = expresion_2.copy()                            # se crea una copia de la expresion anterior para no modificarla\n",
    "                        expresion_3.append(str(n_3))                                # se añade el nuevo numero\n",
    "                        expresion_3.append(secuencia[3])                            # se ael ultimo operador corresponiente (+,-,*,/)\n",
    "\n",
    "                    for n_4 in pos_4:                                               # para cada numero el la ultima posicion\n",
    "\n",
    "                        if str(n_4) in expresion_3:                                 # si el numero ya esta en la lista saltamos al siguiente bucle\n",
    "                            continue\n",
    "\n",
    "                        else:\n",
    "                            expresion_4 = expresion_3.copy()                        # se crea una ultima copia para no modificar la expresion anterior\n",
    "                            expresion_4.append(str(n_4))                            # se le añade el numero final a la expreesion\n",
    "\n",
    "                            str_expresion = ''.join(expresion_4)                    # se convierte la expresion un un string\n",
    "\n",
    "                            # if (eval(str_expresion) - int(eval(str_expresion))) == 0: # se evalua si el resultado de la expresion es un entero o no. Si ES ENTERO se añade a la lista de expresiones deseadas\n",
    "                            expresions_.append(str_expresion)\n",
    "\n",
    "print(f'SIN TENER EN CUENTA LA RESTRICCION DE QUE DEBEN SER ENTEROS HAY {len(expresions_)} COMBINACIONES POSIBLES')\n",
    "print('NOTA: esta vez no evaluamos la expresión, simplemente la metemos directamente en la lista de expresiones')"
   ]
  },
  {
   "attachments": {},
   "cell_type": "markdown",
   "metadata": {},
   "source": [
    "### ¿Cuantas posibildades hay teniendo en cuenta las restricciones?\n",
    "\n",
    "90.000 combinaciones posibles. Se ha demostrado anteriormente en el primer apartado."
   ]
  },
  {
   "attachments": {},
   "cell_type": "markdown",
   "metadata": {},
   "source": [
    "### ¿Cuál es la estructura de datos que mejor se adapta al problema? Argumenta la respuesta (Es posible que hayas elegido una al principio y veas la necesidad de cambiar, argumenta)\n",
    "\n",
    "A priori la estructura de datos que mejor se adapta al problema han sido las listas, por ser una estructura de datos que permite modificar valores, su tamaño, asignación por indexación, etc. además de ser una estructura de datos ordenada. \n",
    "\n",
    "En el mismo programa se han utilizado tuplas y sets para cosas puntuales, pero en todo el algoritmo predominan las listas. En siguientes apartados se explorarán diferentes alternativas; diccionarios, arrays, series, etc.\n",
    "\n",
    "### ¿Cuál es la función objetivo\n",
    "\n",
    "En cuanto a la construcción del espacion de posiblidades se podría decir que la función objetivo es la que evalúa si la expresion da un número entero o no.\n",
    "\n",
    "En cuanto a la busqueda de todos los enteros no hay una función objetivo, nuestro objetivo es reducir el espacio de posibilidades posibles. Se me ocurre por ejemplo que en vez de construir un algoritmo que construya toda la expresión y luego la evalue para incluirla en la lista de soluciones posibles, se podría atacar directamente las operaciones que podrían generar un número no entero, como la división y luego su multiplicación (la suma, la resta, y la multiplicación no pueden convertir un número en número con decimal, pero la multiplicacion puede re convertir un número con decimal a número entero), y si una vez evaluada esa expresión da un entero, entonces incluirla en las soluciones posibles.\n",
    "\n",
    "El tema de encontrar el mínimo y el máximo puede ser atacado por funciones max() y min() o puede ordenarse la lista de una manera especifica. También se me ocurre crear un diccionario, siendo los resultados de las expresiones las keys() y todo el conjunto de expresiones que den ese valor los values().\n",
    "\n",
    "\n",
    "### ¿Es un problema de maximización o minimización?\n",
    "\n",
    "- Como se ha comentado anteriormente, no es un problema de optimización, sino un problema de búsqueda. El objetivo es explorar el espacio de posiblidades mediante un algoritmo que no sea tan costoso computacionalmente.\n",
    "\n",
    "### Diseña un algoritmo para resolver el problema por fuerza bruta\n",
    "\n",
    "- ESTA RESULETO\n",
    "\n",
    "### Calcula la complejidad del algoritmo por fuerza bruta\n",
    "\n",
    "- ESTA RESUELTO\n",
    "\n",
    "## Diseña un algoritmo que mejore la complejidad del algoritmo por fuerza bruta. \n",
    "\n",
    "- resuelto más adelante\n",
    "\n",
    "- Argumenta porque crees que mejora el algoritmo por fuerza bruta\n",
    "\n",
    "\n"
   ]
  },
  {
   "cell_type": "markdown",
   "metadata": {},
   "source": [
    "### ARBOL DE NODOS: **DICCIONARIO DE EXPRESIONES** para encontrar el máximo y el mínimo, todos los valores enteros en ese intervalo, y otras cosas muy interesantes\n",
    "\n",
    "En este apartado guardo los resultados de las expresiones y las mismas expresiones en un diccionario de tal manera que los resultados de las expresiones sean las llaves del diccionario el conjunto de expresiones que la conforman los value del diccionario.\n",
    "\n",
    "Sin embargo esta implementación **no mejora la complejidad del algoritmo**"
   ]
  },
  {
   "cell_type": "code",
   "execution_count": 20,
   "metadata": {},
   "outputs": [],
   "source": [
    "def dct_espacio_de_posibilidades(todas_las_expresiones):\n",
    "    '''\n",
    "    Esta funcion devuelve un diccionario, siendo las llaves los valores evaluados o resultados de las expresiones, y los values, las expresiones que dan ese valor,\n",
    "    despues se devolvera el diccionario ordenado segun las llaves.\n",
    "    '''\n",
    "\n",
    "    dct_posibilidades = {}                                                             # nuestro diccionario\n",
    "    for expresion in todas_las_expresiones:                                            # para cada expresion\n",
    "\n",
    "        expresion_evaluada = int(eval(expresion))                                      # el resultado de la expresion matematica\n",
    "        if expresion_evaluada not in dct_posibilidades.keys():                         # si ese resultado no esta dentro de las llaves del diccionario\n",
    "\n",
    "            dct_posibilidades[expresion_evaluada] = []                                 # se asigna una nueva llave con el resultado y se crea una lista vacia como valor\n",
    "\n",
    "        dct_posibilidades[expresion_evaluada].append(expresion)                        # se guarda la expresion en la lista de cada valor, es decir, la llave 1 contendra todas las \n",
    "                                                                                       # expresiones que dan como resultado un 1\n",
    "    \n",
    "    dct_posibilidades = dict(sorted(dct_posibilidades.items(), key= lambda x:x[0]))    # ordeno el diccionario segun las llaves en orden ascendente\n",
    "\n",
    "    return dct_posibilidades                                                           # devuelvo el diccionario\n"
   ]
  },
  {
   "cell_type": "code",
   "execution_count": 21,
   "metadata": {},
   "outputs": [
    {
     "name": "stdout",
     "output_type": "stream",
     "text": [
      "el maximo es: 77, y el minimo -69\n"
     ]
    }
   ],
   "source": [
    "dct_expresions = dct_espacio_de_posibilidades(expresions)\n",
    "print(f'el maximo es: {max(dct_expresions.keys())}, y el minimo {min(dct_expresions.keys())}')"
   ]
  },
  {
   "cell_type": "markdown",
   "metadata": {},
   "source": [
    "####  Frecuencia de expresiones que dan cada valor\n",
    "\n",
    "Se puede observar como los valores en los extremos son los menos frecuentes, y los más frecuentes los valores centrales mucho más frecuentes, tal como una distribución normal. Sin embargo, hay que tener en cuenta que los resultados no siguen una distribución continua, por que solo hemos guardado los enteros."
   ]
  },
  {
   "cell_type": "code",
   "execution_count": 22,
   "metadata": {},
   "outputs": [],
   "source": [
    "# for resultado, expresiones in dct_expresions.items():\n",
    "#     print(f'La llave {resultado} contiene {len(expresiones)} expresiones que dan como resultado ese valor')"
   ]
  },
  {
   "cell_type": "code",
   "execution_count": 23,
   "metadata": {},
   "outputs": [
    {
     "name": "stdout",
     "output_type": "stream",
     "text": [
      "{-69: 16, -68: 16, 72: 32, -67: 40, -66: 48, -57: 48, 77: 48, -60: 56, -59: 56, -58: 56, -61: 64, -62: 72, -54: 72, -46: 72, -64: 80, 76: 80, -65: 88, -50: 88, -55: 96, -52: 96, -51: 96, -40: 96, -56: 104, -53: 104, -38: 104, -63: 112, 63: 112, 75: 112, -48: 120, -44: 120, 68: 120, -33: 128, 56: 128, 66: 128, 67: 128, -43: 152, -42: 152, 70: 152, 74: 152, -47: 160, 65: 160, 69: 160, -41: 168, -39: 168, -45: 176, -22: 176, -49: 184, -26: 184, 48: 192, 61: 192, 64: 192, 71: 192, 73: 192, -32: 200, 54: 200, -37: 208, -36: 208, -34: 208, 62: 232, 52: 240, 58: 240, 60: 240, -28: 256, -30: 264, 51: 280, 59: 280, -29: 288, -27: 288, -31: 296, -35: 304, 45: 304, -21: 336, 50: 344, -24: 352, 57: 352, 53: 368, -25: 376, -23: 376, 42: 376, 47: 376, -20: 384, 55: 392, 40: 400, -19: 416, 44: 424, 49: 424, -16: 432, 46: 432, -18: 440, 32: 472, -17: 488, 38: 488, 43: 488, -14: 504, -12: 512, -15: 552, -13: 552, 36: 560, 39: 568, 37: 616, -10: 624, -11: 648, 33: 648, -8: 680, 27: 680, 41: 680, 35: 688, 34: 704, -6: 736, 30: 752, -9: 768, 24: 784, 28: 808, 31: 880, -7: 960, 29: 976, 26: 1048, -4: 1096, -5: 1136, 23: 1208, 21: 1224, -3: 1232, -2: 1272, 25: 1312, 18: 1344, 20: 1344, 22: 1352, 12: 1512, 16: 1568, 19: 1616, -1: 1688, 2: 1688, 15: 1800, 14: 1880, 0: 1888, 17: 1928, 3: 1952, 1: 2008, 4: 2112, 10: 2120, 13: 2160, 6: 2200, 11: 2256, 8: 2376, 9: 2584, 7: 2824, 5: 2880}\n"
     ]
    }
   ],
   "source": [
    "frec_de_expresiones = dict(sorted({ resultado:len(expresiones) for resultado, expresiones in dct_expresions.items()}.items(), key= lambda x: x[1]))\n",
    "\n",
    "print(frec_de_expresiones)"
   ]
  },
  {
   "cell_type": "markdown",
   "metadata": {},
   "source": [
    "### Visualizando los resultados"
   ]
  },
  {
   "cell_type": "code",
   "execution_count": 24,
   "metadata": {},
   "outputs": [],
   "source": [
    "import pandas as pd\n",
    "import matplotlib.pyplot as plt\n",
    "import numpy as np"
   ]
  },
  {
   "cell_type": "code",
   "execution_count": 25,
   "metadata": {},
   "outputs": [
    {
     "name": "stdout",
     "output_type": "stream",
     "text": [
      "-69     16\n",
      "-68     16\n",
      "-67     40\n",
      "-66     48\n",
      "-65     88\n",
      "      ... \n",
      " 73    192\n",
      " 74    152\n",
      " 75    112\n",
      " 76     80\n",
      " 77     48\n",
      "Length: 147, dtype: int64\n"
     ]
    }
   ],
   "source": [
    "frec = pd.Series({ resultado:len(expresiones) for resultado, expresiones in dct_expresions.items()})\n",
    "print(frec)"
   ]
  },
  {
   "cell_type": "code",
   "execution_count": 26,
   "metadata": {},
   "outputs": [
    {
     "name": "stdout",
     "output_type": "stream",
     "text": [
      "4.0\n",
      "42.43426288586461\n"
     ]
    }
   ],
   "source": [
    "valores = np.array([frec.index])\n",
    "print(valores.mean())\n",
    "#print(valores.med())\n",
    "print(valores.std())"
   ]
  },
  {
   "cell_type": "code",
   "execution_count": 27,
   "metadata": {},
   "outputs": [
    {
     "data": {
      "image/png": "[encoded data removed]",
      "text/plain": [
       "<Figure size 1000x600 with 1 Axes>"
      ]
     },
     "metadata": {},
     "output_type": "display_data"
    }
   ],
   "source": [
    "x = frec.index\n",
    "y = frec.values\n",
    "\n",
    "plt.figure(figsize= (10,6))\n",
    "\n",
    "plt.bar(x, y)\n",
    "plt.title('Distribución de los resultados', fontdict= {'fontsize':20})\n",
    "plt.grid()\n",
    "\n",
    "plt.show()"
   ]
  },
  {
   "cell_type": "markdown",
   "metadata": {},
   "source": [
    "Esto puede ser problematico en cuanto una búsqueda aleatoria para encontrar el máximo y el mínimo pues estos valores o expresiones son mucho menos comunes que los centrales y por lo tanto hay una probabilidad inferior de que aleatoriamente se dén.\n",
    "\n",
    "Sin embargo, ahora podemos ver que expresiones son las que nos devuelven el máximo y el mínimo, y ver si existe algun patrón (que lo hay) en las mismas."
   ]
  },
  {
   "cell_type": "code",
   "execution_count": 28,
   "metadata": {},
   "outputs": [
    {
     "name": "stdout",
     "output_type": "stream",
     "text": [
      "Las expresiones que dan como resultado el máximo son las siguientes:\n",
      "['7+8/1*9-2', '7+9/1*8-2', '7+8*9-2/1', '7+8*9-4/2', '7+8*9-6/3', '7+9*8-2/1', '7+9*8-4/2', '7+9*8-6/3', '7+8*9/1-2', '7+9*8/1-2', '7-2+8/1*9', '7-2+9/1*8', '7-2+8*9/1', '7-2+9*8/1', '7-2/1+8*9', '7-2/1+9*8', '7-4/2+8*9', '7-4/2+9*8', '7-6/3+8*9', '7-6/3+9*8', '7/1+8*9-2', '7/1+9*8-2', '7/1-2+8*9', '7/1-2+9*8', '8/1*9+7-2', '9/1*8+7-2', '8/1*9-2+7', '9/1*8-2+7', '8*9+7-2/1', '8*9+7-4/2', '8*9+7-6/3', '9*8+7-2/1', '9*8+7-4/2', '9*8+7-6/3', '8*9+7/1-2', '9*8+7/1-2', '8*9-2+7/1', '9*8-2+7/1', '8*9-2/1+7', '8*9-4/2+7', '8*9-6/3+7', '9*8-2/1+7', '9*8-4/2+7', '9*8-6/3+7', '8*9/1+7-2', '9*8/1+7-2', '8*9/1-2+7', '9*8/1-2+7']\n",
      "\n",
      "\n",
      "Las expresiones que dan como resultado el mínimo son las siguientes:\n",
      "['1+4/2-8*9', '1+4/2-9*8', '1+6/3-8*9', '1+6/3-9*8', '1-8*9+4/2', '1-8*9+6/3', '1-9*8+4/2', '1-9*8+6/3', '4/2+1-8*9', '4/2+1-9*8', '6/3+1-8*9', '6/3+1-9*8', '4/2-8*9+1', '4/2-9*8+1', '6/3-8*9+1', '6/3-9*8+1']\n"
     ]
    }
   ],
   "source": [
    "print('Las expresiones que dan como resultado el máximo son las siguientes:')\n",
    "print(dct_expresions[77])\n",
    "print('\\n')\n",
    "print('Las expresiones que dan como resultado el mínimo son las siguientes:')\n",
    "print(dct_expresions[-69])"
   ]
  },
  {
   "cell_type": "markdown",
   "metadata": {},
   "source": [
    "#### Patrones:\n",
    "\n",
    "En este caso observamos que casi todas las operaciones:\n",
    "\n",
    "##### Máximos\n",
    "\n",
    "- Antes o despues del operador de multiplicaciones * tienen un 9 o un 8 (8x9 o 9x8) (el número más alto y el segundo más alto estan multiplicando)\n",
    "- Después del operador de dividisión / es un 1 (El divisior es el número más bajo)\n",
    "- El número 2 ya sea como resultado o como número suelto siempre esta restando (El segundo más bajo esta siempre restando)\n",
    "- el número 7 esta sumando en todos los casos. (El tercer número más alto esta sumando)\n",
    "\n",
    "##### Mínimos\n",
    "\n",
    "- Antes o despues del operador de multiplicaciones * tienen un 9 o un 8 (8x9 o 9x8) (el número más alto y el segundo más alto estan multiplicando)\n",
    "- El operador anterior siempre esta restando (antes de la multiplicación esta el operador de resta)\n",
    "- El uno siempre esta sumando  (el minimo de esta sumando)\n",
    "- El 2 como número o como resultado siempre esta sumando y es el resultado de una división (el resultado de la division siempre es un dos)\n",
    "\n",
    "#### Conclusiones de los patrones\n",
    "\n",
    "Gracias a estos patrones se puede reducir el espacio de busqueda, para la busqueda del máximo y el mínimo aunque aumente el numero de numeros que tenemos como candidatos, pues solo tenemos qeu explorar los que hemos comentado anteriormente. En caso de aumentar el número de operadores no sería posible pues cambiaria el significado matemático de la expresion y seguramente habria que aplicar otros patrones (por ejemplo si incluimos la potencia o la exponencial como operadores)\n",
    "\n",
    "Tanto para la búsqueda del máximo y del minimo puedo:\n",
    "\n",
    "- prescindir del número 5 siempre\n",
    "- para el máximo necesito los 3 números más altos y para el mínimo los 2 números más altos\n",
    "- en ambos casos necesito el minimo (el 1)\n",
    "- en el máximo el 2 esta casi siempre presente\n",
    "- en el mínimo si esta el 2 esta el 4, y si esta el 3, esta el 6 tambien y estos estan dividiendo.\n",
    "- para crear todas las posibilidades si necesitaria el 2,4,3, y 6 pero con el 4 y 2 me basta para crear estos mínimos y máximos\n"
   ]
  },
  {
   "cell_type": "markdown",
   "metadata": {},
   "source": [
    "### MEJORA DEL ALGORITMO MEDIANTE MÉTODO EXACTO: RAMIFICACIÓN Y PODA\n",
    "\n",
    "En esta implementación se establecen algunos patrones de los mencionados anteriormente con el objetivo de obtener el máximo y el mínimo sin explorar todo el espacio de posibiidades. Se aplican los patrones estudiados para descartar las ramas que no van a llevarnos a los maximos o a los minimos\n",
    "\n",
    "Esta mejora es muy especifica para este conjunto de operaciones y números en concreto, y no he comprobado que funcione para otros conjuntos de números (más adelante se comprobará si generaliza para otros casos o no), por lo tanto esta no es una mejora generalista.\n",
    "\n",
    "Cabe mencionar que con un estudio más profundo de las expresiones que conforman los máximos y los mínimos se podría reducir aun más el espacio de búsqueda\n",
    "\n",
    "#### Complejidad del algoritmo\n",
    "\n",
    "Como se verá a continuación, mediante esta mejora, el algorítmo no hace más operaciones a medida que la entrada de números aumenta, pués siempre coge la misma cantidad de numeros **a**. Sin embargo, si que aumentaría **factorialmente** a medida que metemos más operadores aritmeticos, aunque la propia mejora no funcionaría en tal caso por que invalidaría los patrones. Siendo ls numeros a evaluar ahora constantes (y sus aplicaciones también, para simplificar), es decir **m y k** son constantes.\n",
    "\n",
    "$$ complejidad = O(a*n!)$$\n",
    "\n",
    "Siendo n la cantidad de operadores aritmeticos y a (una constante) la cantidad de operaciones relacionadas con la cantidad de números que selecciona para crear las expresiones que nos lleven al la busqueda del máximo y el mínimo."
   ]
  },
  {
   "cell_type": "code",
   "execution_count": 29,
   "metadata": {},
   "outputs": [
    {
     "name": "stdout",
     "output_type": "stream",
     "text": [
      "5472\n"
     ]
    }
   ],
   "source": [
    "nums = ('1','2','3','4','5','6','7','8','9')\n",
    "operations = ('+', '-', '/', '*')\n",
    "\n",
    "def evaluar_numeros_candidatos(nums= ('1','2','3','4','5','6','7','8','9')):\n",
    "    \n",
    "    nums = [int(n) for n in nums]                           # paso a int todos los numeros y los guardo en una lista\n",
    "    nums.sort()\n",
    "    numeros_pares = [n for n in nums if n%2 == 0]           # separo los pares \n",
    "\n",
    "    numeros_candidatos = []                                 # estos son mis candidatos\n",
    "    numeros_candidatos.append(nums[0])                      # añado a mis candidatos el minimo \n",
    "    numeros_candidatos.extend(nums[-3:])                    # los 3 valores más grandes\n",
    "    numeros_candidatos.extend(numeros_pares[:2])            # los dos primeros pares\n",
    "    numeros_candidatos.sort()\n",
    "\n",
    "    return numeros_candidatos\n",
    "\n",
    "\n",
    "def secuencias_operacionales_con_poda(nums= ('1','2','3','4','5','6','7','8','9'), operations = ('+', '-', '/', '*')):\n",
    "    import itertools\n",
    "\n",
    "    nums = tuple([str(n) for n in evaluar_numeros_candidatos(nums)])\n",
    "\n",
    "    permuted_nums = tuple([*itertools.permutations(nums, 5)])                           # las permutaciones de los números\n",
    "    permuted_operations = tuple(*[itertools.permutations(operations, len(operations))]) # las permutaciones de las operaciones\n",
    "\n",
    "    expresions = []                                                                     # aqui guardaremos las expresiones resultado\n",
    "\n",
    "    for operation_sec in permuted_operations:                                           # para cada operación en la lista de permutaciones\n",
    "        for num_sec in permuted_nums:                                                   # para cada secuencia de numeros en la lista de permutaciones\n",
    "\n",
    "            expresion = [i for i in range(len(num_sec) + len(operation_sec))]           # creo una lista del tamaño total que tendrá la expresion final\n",
    "            \n",
    "            i = 0                                                                       # el indice de las secuencias de numeros \n",
    "            j = 0                                                                       # el indice de las secuencias de operaciones\n",
    "            k = 0                                                                       # el indice de la expresion final\n",
    "\n",
    "            while k < len(expresion):                                                   # mientras que k sea inferior al tamaño de mi expresion\n",
    "\n",
    "                if k%2==0:                                                              # si k es par introduce el numero i en la posicion k\n",
    "                    expresion[k] = num_sec[i]\n",
    "                    i += 1                                                              # se aumentan los indices i y k\n",
    "                    k += 1\n",
    "\n",
    "                elif k%2 != 0:                                                          # si k es impar entonces introduce el elmento operacional j en la posicion k de la expresion\n",
    "                    expresion[k] = operation_sec[j]\n",
    "                    j += 1                                                              # se aumentan los indices k y j \n",
    "                    k += 1\n",
    "            #print(expresion)\n",
    "            expresion = ''.join(expresion)                                              # se construye la expresion con el método join para pasar de lista a str\n",
    "            if eval(expresion)-int(eval(expresion)) == 0:                               # se evalua si la expresion es un entero, y si lo es se añade a la lista de expresiones válidas\n",
    "                expresions.append(expresion)\n",
    "\n",
    "    return expresions                                                                   # se devuelve la lista de operacionnes válidas\n",
    "        \n",
    "expresions_1 = secuencias_operacionales_con_poda()\n",
    "\n",
    "print(len(expresions_1)) "
   ]
  },
  {
   "cell_type": "code",
   "execution_count": 30,
   "metadata": {},
   "outputs": [
    {
     "name": "stdout",
     "output_type": "stream",
     "text": [
      "El máximo es: 77, y el mínimo -69\n"
     ]
    }
   ],
   "source": [
    "dct_expresiones_trucadas = dct_espacio_de_posibilidades(expresions_1)\n",
    "\n",
    "print(f'El máximo es: {max(dct_expresiones_trucadas.keys())}, y el mínimo {min(dct_expresiones_trucadas.keys())}')"
   ]
  },
  {
   "cell_type": "markdown",
   "metadata": {},
   "source": [
    "Por lo tanto se ha conseguido los minimos y los maximos pero explorando un espacio de posibiidades mucho más pequeño que el anterior.\n",
    "\n",
    "#### ¿Funcionará el algoritmo para una secuencia de numeros más alta?\n",
    "\n",
    "#### Por fuerza bruta\n",
    "\n",
    "##### para 10 numeros"
   ]
  },
  {
   "cell_type": "code",
   "execution_count": 31,
   "metadata": {},
   "outputs": [
    {
     "name": "stdout",
     "output_type": "stream",
     "text": [
      "El espacio de búsqueda ha aumentado 181440 expresiones\n",
      "El máximo es: 96, y el mínimo -87\n"
     ]
    }
   ],
   "source": [
    "expresions_2_10 = secuencias_operacionales_fuerza_bruta(nums= ('1','2','3','4','5','6','7','8','9','10'))\n",
    "dct_expresiones_2_10 = dct_espacio_de_posibilidades(expresions_2_10)\n",
    "print(f'El espacio de búsqueda ha aumentado {len(expresions_2_10)} expresiones')\n",
    "print(f'El máximo es: {max(dct_expresiones_2_10.keys())}, y el mínimo {min(dct_expresiones_2_10.keys())}')"
   ]
  },
  {
   "cell_type": "markdown",
   "metadata": {},
   "source": [
    "##### para 11 numeros "
   ]
  },
  {
   "cell_type": "code",
   "execution_count": 32,
   "metadata": {},
   "outputs": [
    {
     "name": "stdout",
     "output_type": "stream",
     "text": [
      "El espacio de búsqueda ha aumentado 282240 expresiones\n",
      "El máximo es: 117, y el mínimo -107\n"
     ]
    }
   ],
   "source": [
    "expresions_2_11 = secuencias_operacionales_fuerza_bruta(nums= ('1','2','3','4','5','6','7','8','9','10','11'))\n",
    "dct_expresiones_2_11 = dct_espacio_de_posibilidades(expresions_2_11)\n",
    "print(f'El espacio de búsqueda ha aumentado {len(expresions_2_11)} expresiones')\n",
    "print(f'El máximo es: {max(dct_expresiones_2_11.keys())}, y el mínimo {min(dct_expresiones_2_11.keys())}')"
   ]
  },
  {
   "cell_type": "markdown",
   "metadata": {},
   "source": [
    "##### para 12 numeros "
   ]
  },
  {
   "cell_type": "code",
   "execution_count": 33,
   "metadata": {},
   "outputs": [
    {
     "name": "stdout",
     "output_type": "stream",
     "text": [
      "El espacio de búsqueda ha aumentado 535680 expresiones\n",
      "El máximo es: 140, y el mínimo -129\n"
     ]
    }
   ],
   "source": [
    "expresions_2_12 = secuencias_operacionales_fuerza_bruta(nums= ('1','2','3','4','5','6','7','8','9','10','11','12'))\n",
    "dct_expresiones_2_12 = dct_espacio_de_posibilidades(expresions_2_12)\n",
    "print(f'El espacio de búsqueda ha aumentado {len(expresions_2_12)} expresiones')\n",
    "print(f'El máximo es: {max(dct_expresiones_2_12.keys())}, y el mínimo {min(dct_expresiones_2_12.keys())}')"
   ]
  },
  {
   "cell_type": "markdown",
   "metadata": {},
   "source": [
    "##### para 13 números"
   ]
  },
  {
   "cell_type": "code",
   "execution_count": 34,
   "metadata": {},
   "outputs": [
    {
     "name": "stdout",
     "output_type": "stream",
     "text": [
      "El espacio de búsqueda ha aumentado 756000 expresiones\n",
      "El máximo es: 165, y el mínimo -153\n"
     ]
    }
   ],
   "source": [
    "expresions_2_13 = secuencias_operacionales_fuerza_bruta(nums= ('1','2','3','4','5','6','7','8','9','10','11','12', '13'))\n",
    "dct_expresiones_2_13 = dct_espacio_de_posibilidades(expresions_2_13)\n",
    "print(f'El espacio de búsqueda ha aumentado {len(expresions_2_13)} expresiones')\n",
    "print(f'El máximo es: {max(dct_expresiones_2_13.keys())}, y el mínimo {min(dct_expresiones_2_13.keys())}')"
   ]
  },
  {
   "cell_type": "markdown",
   "metadata": {},
   "source": [
    "#### Con el algoritmo de ramificación y poda\n",
    "\n",
    "Vamos a comprobar si nuestro algoritmo consigue los mismos resultados y el tamaño del espacio de posibilidades evaluado\n",
    "\n",
    "##### para 10 números"
   ]
  },
  {
   "cell_type": "code",
   "execution_count": 35,
   "metadata": {},
   "outputs": [
    {
     "name": "stdout",
     "output_type": "stream",
     "text": [
      "El espacio de búsqueda ha aumentado ha 6336 expresiones\n",
      "El máximo es: 96, y el mínimo -87\n"
     ]
    }
   ],
   "source": [
    "expresions_3_10 = secuencias_operacionales_con_poda(nums= ('1','2','3','4','5','6','7','8','9','10'))\n",
    "dct_expresiones_3_10 = dct_espacio_de_posibilidades(expresions_3_10)\n",
    "print(f'El espacio de búsqueda ha aumentado ha {len(expresions_3_10)} expresiones')\n",
    "print(f'El máximo es: {max(dct_expresiones_3_10.keys())}, y el mínimo {min(dct_expresiones_3_10.keys())}')"
   ]
  },
  {
   "cell_type": "markdown",
   "metadata": {},
   "source": [
    "##### para 11 números "
   ]
  },
  {
   "cell_type": "code",
   "execution_count": 36,
   "metadata": {},
   "outputs": [
    {
     "name": "stdout",
     "output_type": "stream",
     "text": [
      "El espacio de búsqueda ha aumentado ha 4608 expresiones\n",
      "El máximo es: 117, y el mínimo -107\n"
     ]
    }
   ],
   "source": [
    "expresions_3_11 = secuencias_operacionales_con_poda(nums= ('1','2','3','4','5','6','7','8','9','10','11'))\n",
    "dct_expresiones_3_11 = dct_espacio_de_posibilidades(expresions_3_11)\n",
    "print(f'El espacio de búsqueda ha aumentado ha {len(expresions_3_11)} expresiones')\n",
    "print(f'El máximo es: {max(dct_expresiones_3_11.keys())}, y el mínimo {min(dct_expresiones_3_11.keys())}')"
   ]
  },
  {
   "cell_type": "markdown",
   "metadata": {},
   "source": [
    "##### para 12 números"
   ]
  },
  {
   "cell_type": "code",
   "execution_count": 37,
   "metadata": {},
   "outputs": [
    {
     "name": "stdout",
     "output_type": "stream",
     "text": [
      "El espacio de búsqueda ha aumentado ha 6048 expresiones\n",
      "El máximo es: 140, y el mínimo -129\n"
     ]
    }
   ],
   "source": [
    "expresions_3_12 = secuencias_operacionales_con_poda(nums= ('1','2','3','4','5','6','7','8','9','10','11','12'))\n",
    "dct_expresiones_3_12 = dct_espacio_de_posibilidades(expresions_3_12)\n",
    "print(f'El espacio de búsqueda ha aumentado ha {len(expresions_3_12)} expresiones')\n",
    "print(f'El máximo es: {max(dct_expresiones_3_12.keys())}, y el mínimo {min(dct_expresiones_3_12.keys())}')"
   ]
  },
  {
   "cell_type": "markdown",
   "metadata": {},
   "source": [
    "##### para 13 números"
   ]
  },
  {
   "cell_type": "code",
   "execution_count": 38,
   "metadata": {},
   "outputs": [
    {
     "name": "stdout",
     "output_type": "stream",
     "text": [
      "El espacio de búsqueda ha aumentado ha 5328 expresiones\n",
      "El máximo es: 165, y el mínimo -153\n"
     ]
    }
   ],
   "source": [
    "expresions_3_13 = secuencias_operacionales_con_poda(nums= ('1','2','3','4','5','6','7','8','9','10','11','12','13'))\n",
    "dct_expresiones_3_13 = dct_espacio_de_posibilidades(expresions_3_13)\n",
    "print(f'El espacio de búsqueda ha aumentado ha {len(expresions_3_13)} expresiones')\n",
    "print(f'El máximo es: {max(dct_expresiones_3_13.keys())}, y el mínimo {min(dct_expresiones_3_13.keys())}')"
   ]
  },
  {
   "cell_type": "markdown",
   "metadata": {},
   "source": [
    "#### CONCLUSIONES\n",
    "\n",
    "Se puede observar como nuestro algoritmo con ramificación y poda encuentra mucho más rápido los valores máximos y mínimos de las expresiones. Lo que más interesante de todo es que a medida que nuestro numero de candidatos aumenta, con el algoritmo con poda, el espacio de posiblidades no aumenta de tamaño.\n",
    "\n",
    "pero....\n",
    "\n",
    "##### ¿que limitaciones tiene nuestro algoritmo con truco?\n",
    "\n",
    "- los candidatos aumentan hacia arriba.\n",
    "\n",
    "hay que tener en cuenta que nuestro algoritmo sigue unas simples reglas:\n",
    "\n",
    "- cojer los tres números más altos\n",
    "- el más bajo (el 1) (esto siempre)\n",
    "- y el 2 y el 4 (lo que es lo mismo los dos primero pares)\n",
    "\n",
    "Si empezamos a meter solo numeros impares, o solo pares al final de la lista de candidatos el algorimto no va ha funcionar bien... es decir la entrada debe estar preparada. En este caso es algo que se puede solucionar facilmente pero tambíen se puede alterar la entrada de otras maneras...\n",
    "\n",
    "Para no complicarlo más, lo dejaré así.\n",
    "\n",
    "### IMPLEMENTANDO HEURÍSTICAS\n",
    "\n",
    "\n",
    "#### Búsqueda aleatoria\n",
    "\n",
    "##### Complejidad del algoritmo \n",
    "\n",
    "Este algoritmo produce secuencias operacionales aleatorias del tamaño de una muestra que nosotros le indiquemos, es decir, no hace una busqueda exaustiva del espacio de posibilidades y por lo tanto la cantidad de operaciones que realiza no depende de la cantidad de numeros o operadores aritméticos que le demos como entrada, pues el algoritmo construye secuencias basadas en pura aleatoriedad del tamaño que nosotros le indiquemos en este caso 5 numeros (esto no lo he considerado a elección del usuario, pero se podría generalizar) y 4 operadores, lo que significa que aumentar m (numeros) y n (operadores aritméticos), solo aumenta las posibilidades de elección, pero no la cantidad de operaciones a realizar.\n",
    "\n",
    "De este modo la cantidad de operaciones que debe realizar el algorimto depende de el tamaño de la muestra que nosotros queramos:\n",
    "\n",
    "$$ complejidad = o(n) $$\n",
    "\n",
    "Siendo n el tamaño de la muestra"
   ]
  },
  {
   "cell_type": "code",
   "execution_count": 39,
   "metadata": {},
   "outputs": [],
   "source": [
    "def evaluar_expresion(secuencia_operacional):\n",
    "    if (eval(secuencia_operacional) - int(eval(secuencia_operacional))) == 0:\n",
    "        return True\n",
    "\n",
    "def generar_secuencia_operacional_aleatoria(nums= ['1','2','3','4','5','6','7','8','9'], operations = ['+', '-', '/', '*']):\n",
    "    '''\n",
    "    Esta función devuelve una sola expresion generada aleatoriamente, solo si su resultado es un entero\n",
    "    '''\n",
    "    import random\n",
    "    random.shuffle(nums)\n",
    "    random.shuffle(operations)\n",
    "    numeros_elegidos = nums[:5]\n",
    "    expresion = [i for i in range(len(numeros_elegidos) + len(operations))]     # creo una lista del tamaño total que tendrá la expresion final\n",
    "            \n",
    "    i = 0                                                                       # el indice de las secuencias de numeros \n",
    "    j = 0                                                                       # el indice de las secuencias de operaciones\n",
    "    k = 0                                                                       # el indice de la expresion final\n",
    "\n",
    "    while k < len(expresion):                                                   # mientras que k sea inferior al tamaño de mi expresion\n",
    "\n",
    "        if k%2==0:                                                              # si k es par introduce el numero i en la posicion k\n",
    "            expresion[k] = numeros_elegidos[i]\n",
    "            i += 1                                                              # se aumentan los indices i y k\n",
    "            k += 1\n",
    "\n",
    "        elif k%2 != 0:                                                          # si k es impar entonces introduce el elmento operacional j en la posicion k de la expresion\n",
    "            expresion[k] = operations[j]\n",
    "            j += 1                                                              # se aumentan los indices k y j \n",
    "            k += 1\n",
    "\n",
    "    expresion = ''.join(expresion)\n",
    "\n",
    "    if evaluar_expresion(expresion):\n",
    "        return expresion #, eval(expresion)\n",
    "    \n",
    "    \n",
    "def dct_espacio_de_posibilidades(todas_las_expresiones): # ES LA MISMA FUNCION DICCIONARIO DE ANTES, LA TRAIGO AQUI POR COMODIDAD\n",
    "    '''\n",
    "    Esta funcion devuelve un diccionario, siendo las llaves los valores evaluados o resultados de las expresiones, y los values, las expresiones que dan ese valor,\n",
    "    despues se devolvera el diccionario ordenado segun las llaves.\n",
    "    '''\n",
    "    dct_posibilidades = {}                                                             # nuestro diccionario\n",
    "    for expresion in todas_las_expresiones:                                            # para cada expresion\n",
    "\n",
    "        expresion_evaluada = int(eval(expresion))                                      # el resultado de la expresion matematica\n",
    "        if expresion_evaluada not in dct_posibilidades.keys():                         # si ese resultado no esta dentro de las llaves del diccionario\n",
    "\n",
    "            dct_posibilidades[expresion_evaluada] = []                                 # se asigna una nueva llave con el resultado y se crea una lista vacia como valor\n",
    "\n",
    "        dct_posibilidades[expresion_evaluada].append(expresion)                        # se guarda la expresion en la lista de cada valor, es decir, la llave 1 contendra todas las \n",
    "                                                                                       # expresiones que dan como resultado un 1\n",
    "    \n",
    "    dct_posibilidades = dict(sorted(dct_posibilidades.items(), key= lambda x:x[0]))    # ordeno el diccionario segun las llaves en orden ascendente\n",
    "\n",
    "    return dct_posibilidades                                                           # devuelvo el diccionario\n",
    "\n",
    "    \n",
    "def muestra_aleatoria_de_secuencias_operacionales(tamano_muestra, nums= ['1','2','3','4','5','6','7','8','9'], operations = ['+', '-', '/', '*']):\n",
    "    '''\n",
    "    Esta funcion devuelve una muestra aleatoria de secuencias operacionales, del tamaño indicado\n",
    "\n",
    "    '''\n",
    "    expresions = []                                     # creo la lista de expresiones validas\n",
    "\n",
    "    while len(expresions) < tamano_muestra:             # mientras el tamaño de la expresion sea inferior al de la muestra ejecuta el siguiente codigo\n",
    "\n",
    "        secuencia_operacional = generar_secuencia_operacional_aleatoria(nums= nums, operations=operations)  # creo una secuencia aleatoria\n",
    "\n",
    "        if secuencia_operacional != None:               # si la secuencia es entera se añade a la lista de operaciones validas\n",
    "            expresions.append(secuencia_operacional)\n",
    "\n",
    "    return dct_espacio_de_posibilidades(expresions)     # se devuelven las soluciones en formato diccionario\n",
    "\n",
    "\n",
    "def expresion_maxima(dct_muestra_aleatoria):\n",
    "    '''\n",
    "    devuelve el maximo de una muestra, y las operaciones que devuelven ese valor en formato tupla \n",
    "    '''            \n",
    "    maximo = max(dct_muestra_aleatoria.keys())\n",
    "    expresiones_max = dct_muestra_aleatoria[maximo]\n",
    "    return maximo, expresiones_max\n",
    "\n",
    "\n",
    "def expresion_minima(dct_muestra_aleatoria):\n",
    "    '''\n",
    "    devuelve el minimo de una muestra, y las operaciones que devuelven ese valor en formato tupla \n",
    "    ''' \n",
    "    minimo = min(dct_muestra_aleatoria.keys())\n",
    "    expresiones_min = dct_muestra_aleatoria[minimo]\n",
    "    return minimo, expresiones_min"
   ]
  },
  {
   "cell_type": "code",
   "execution_count": 40,
   "metadata": {},
   "outputs": [
    {
     "name": "stdout",
     "output_type": "stream",
     "text": [
      "{-65: ['3-8*9+4/1', '2/1-8*9+5'], -63: ['3+6-8*9/1'], -61: ['7+4-8*9/1'], -59: ['8/4+2-7*9'], -58: ['3/1+2-9*7', '2+3/1-7*9'], -57: ['6/2+3-9*7'], -56: ['2/1-9*7+5'], -53: ['4-9*7+6/1'], -52: ['5+6-7*9/1'], -49: ['6-9*7+8/1', '5-8*7/1+2', '6+8/1-7*9'], -48: ['3+5-7/1*8', '6/1+2-8*7'], -47: ['4/2-6*9+5'], -44: ['3+9-7*8/1', '3+7/1-9*6'], -42: ['8-9*6/1+4', '5/1-8*7+9', '4/1-8*6+2'], -41: ['9-8/1*7+6', '2+8/4-9*5', '9-8*7+6/1', '5+4/2-8*6'], -40: ['8/4+3-9*5'], -37: ['2-9*5/1+6', '2+3-7*6/1'], -36: ['4/1+2-7*6', '6+3-9*5/1', '3-5*9/1+6', '2-5*9+7/1'], -35: ['9/3+4-7*6', '4/2+8-9*5', '6/2-5*9+7'], -32: ['8+2/1-7*6', '3-9*8/2+1'], -31: ['3-9*4/1+2', '1+6/2-5*7'], -30: ['3+4/2-5*7', '3-7/1*6+9', '2+3-7*5/1', '6/2+3-9*4', '3+9-6/1*7'], -29: ['9/1-8*5+2', '8-7*6+5/1', '1-8/2*9+6', '4+3-8/2*9'], -28: ['5+9-7/1*6', '6-9*4/1+2'], -27: ['6/1+7-5*8', '3+6-4/1*9'], -26: ['3/1+6-7*5', '7+3-9/2*8', '6+9/3-5*7'], -25: ['2-4*8+5/1', '7+4-9*8/2', '8/2+7-4*9', '2/1-4*8+5', '8+4/2-5*7'], -24: ['4/1-5*6+2', '4-6/1*5+2', '5+3-8/1*4'], -23: ['4+8/1-5*7', '6+3-4/1*8', '9/3+4-6*5', '3+9-7*5/1'], -22: ['8-9*4/1+6'], -21: ['6+8-5*7/1', '4/2-8*3+1', '2-3*9/1+4'], -20: ['3-6*5+7/1', '8-5*6+2/1', '3+5/1-4*7'], -19: ['4+1-9*8/3', '6+2-3/1*9', '3+2-4*6/1', '6-4*8/1+7', '2-4*6/1+3', '4-9*8/3+1', '7-4*8+6/1', '9+2-6*5/1'], -18: ['3+9-6*5/1', '5-8*6/2+1', '5+1-8*6/2', '4+5-9/1*3'], -17: ['5+2-6/1*4', '2+8/4-7*3', '8+2-9/1*3'], -16: ['9-7*4/1+3', '7/1+9-4*8'], -15: ['9-7*8/2+4', '2-8*3+7/1', '5+4-8/3*9', '8-5*6/1+7', '8/1+7-5*6'], -14: ['4-7*6/2+3', '5-9*7/3+2', '1+3-4/2*9', '9+1-6*8/2'], -13: ['3+2-9/4*8', '4+7-8/2*6', '2+6-7/1*3', '8-4*6/1+3', '2+9/1-6*4', '2+9-4*6/1'], -12: ['2+1-5/3*9', '1-9/4*8+5', '6/2+9-8*3', '9/3+1-8*2', '5+4-7/2*6', '4+6/3-2*9', '1-8*4/2+3'], -11: ['8/1-3*7+2', '5-6/1*3+2', '2+1-6/3*7', '8+5/1-4*6', '8/4-2*7+1', '4+9-8/1*3', '2-3*7+8/1', '9-7/1*4+8'], -10: ['2-5*4+8/1', '3+7-5/1*4', '1+3-4/2*7', '8/4+6-9*2', '1-9*5/3+4', '7-9/4*8+1', '1-8*9/4+7', '5+1-8/2*4', '9-3/1*8+5'], -9: ['4-5*3+2/1', '7-9*6/3+2', '6+1-4/2*8', '5-8*2+6/3', '8-6/2*7+4', '6-8*3/1+9', '7-8*9/4+2', '5/1-6*3+4'], -8: ['2/1+8-3*6', '3-5*4+9/1', '3-2/1*8+5', '4/2-6*3+8', '7+9-8*6/2', '6-2/1*9+4', '8+5-9*7/3', '7+9-8/2*6'], -7: ['1+6-7/2*4', '1-5*2+6/3', '5+8/4-2*7', '6+7-4/1*5', '1+2/8*4-9', '1-4*3+8/2', '5+4-8*6/3', '2+6/1-5*3', '1+4-8*3/2'], -6: ['5-7/1*2+3', '4-8*2/1+6', '8/1+4-9*2', '1+3/6*4-9', '7+5-9*4/2', '3+5-4/2*7', '7+8/4-3*5'], -5: ['8-5*4/1+7', '6+5-8/1*2', '7+8-4/1*5', '8+1-7/3*6', '5/1+4-2*7', '5-2/1*9+8', '1-8+3/9*6', '4+9/1-3*6', '8/4-2*6+5', '9/1-6*3+4', '9+6-4*5/1'], -4: ['2*9/6-8+1', '9/1+5-3*6', '8-9*4/2+6', '4+2-6/3*5', '6/9*3-7+1', '7+1-4/2*6', '2/4*8-9+1', '3+5-9/6*8', '9+8-6/2*7', '8+9-7/2*6', '5-3/1*6+9', '5/1-2*8+7', '2*3/6-9+4', '8-7*3+9/1', '7/1+4-3*5', '4-5/3*9+7'], -3: ['3*8/6+2-9', '7-9*8/6+2', '7+6/1-2*8', '7/1-8*2+6', '1/2*6-9+3', '6/2+3-1*9', '2-4/1*3+7', '7-2*8/1+6', '1-4/6*9+2', '6/3+2-7*1', '8-6/2*4+1', '5+4-8/2*3'], -2: ['3+7-8/4*6', '2-7+9/3*1', '4-7+2*3/6', '9+3-4*7/2', '3-8+9/6*2', '7-3*6+9/1', '6+8/2-4*3', '6/3+5*1-9', '3+8/4-7*1', '5+3*4/6-9', '8/4-9+1*5', '7/1+3-2*6', '6/3+4*1-8', '2*8/4+3-9', '4*1-9+6/2', '3/6*2-4+1', '5+1/3*6-9'], -1: ['7-8/2*3+4', '9/3+1*2-6', '6+8/1-5*3', '9+8/4-6*2', '6-5*2+9/3', '9/6*2-8+4', '7/1-6*2+4', '2+7-8/4*5', '8-2/1*7+5', '9+6-8/1*2', '5-3*4+6/1', '3*1-6+8/4', '4-8*3/2+7', '8-7/2*4+5', '8+3-2*6/1', '8/6*3+4-9'], 0: ['5+1-4*3/2', '8/1-3*5+7', '3*8/6+5-9', '3*8/4-7+1', '9+1-5/2*4', '6+4/2*1-8', '1+2*9/6-4', '3+8/4*2-7', '7+3-4/2*5', '7+3*4/6-9', '4/2-7+5*1', '3*8/6-9+5', '2*9/6+4-7', '3-6/1*2+9', '3/1+9-6*2', '5-8+2/4*6', '6/2-7+4*1', '4/2*3-7+1', '6/2*1+5-8', '6/1-7*2+8', '3-4*6/2+9'], 1: ['6-1*7+8/4', '8/2-1*9+6', '3/2*6+1-9', '3*1+6/2-5', '1-3*4/2+6', '2+7-4*6/3', '4+7-6/3*5', '1-4+8/6*3', '4/3*6-9+2', '3+1*8/2-6', '7-9+6/8*4', '7+9-5/1*3', '1/3*6-8+7', '1-6/8*4+3', '6/2*1+5-7', '9/3+4-6*1', '4+7-5/3*6', '6-4*3/2+1', '7+6-3*4/1', '9/6*2+1-3', '5-6*4/2+8', '7-8+4*1/2', '9+6-4/2*7', '3*1-5+6/2', '2+9*4/6-7'], 2: ['9+8-6/2*5', '9-8+3/6*2', '1/2*8+3-5', '5+9/3-6*1', '9-3/1*4+5', '9/1+5-3*4', '1*4+8/2-6', '8/4-3*2+6', '5/1-3*4+9', '5-9/6*4+3', '6/2*1+8-9', '1*7-8+6/2', '3-5+8/4*2', '3*2-8+4/1', '4-3/6*8+2'], 3: ['3-4+8/2*1', '1+5-2*6/4', '4/8*2-1+3', '9+6/1-4*3', '8+3/6*4-7', '5-8+2*3/1', '1/4*8+6-5', '9-7+2*4/8', '2+5/3*6-9', '8/2-4+3*1', '3+1-2*4/8', '4-7/1+3*2', '3/6*2+7-5', '7-5+2/6*3', '4-5+6*2/3', '8+3*4/6-7', '4-1/3*9+2', '1*4-5+8/2', '5-4+6*1/3', '6/3-4+5*1', '1-2+3*8/6', '6+8*2/4-7', '6-5+1/2*4', '7+2/8*4-5'], 4: ['2+5-9/3*1', '2*9/6-4+5', '9/3-7+4*2', '3*4/2+5-7', '1*4/2-3+5', '5*8/4+3-9', '6/3+7-1*5', '4/2*5+3-9', '9-6+2*4/8', '5-9+4/3*6', '6/8*4+3-2', '6-8+2*3/1', '6+9*2/3-8', '9-3/4*8+1', '8/4*1+9-7', '1*6/2+8-7', '1-3+9/6*4', '6+9/3-1*5', '7+1-8/6*3', '6/2+9-1*8', '9/1-2*4+3', '4/1+6-2*3'], 5: ['4+8/2-1*3', '7+8-5/2*4', '5+8/2-1*4', '3-8/2+1*6', '6/3*2+8-7', '4*3+2/1-9', '4+6/3*5-9', '5-8+4*2/1', '6-5/1*2+9', '8-6+9*1/3', '5-6+3*4/2', '6*4/3-5+2', '1+7-2/4*6', '4-2/3*9+7', '4+7-3*2/1', '2*3-7+6/1', '1*9-7+6/2', '9/1+8-6*2', '6*1/3-2+5', '8/4+5*2-7', '8/4+2*5-7', '2*5+6/3-7', '2*5+4-9/1', '6*2+8/4-9', '8/4*2+7-6', '6/2+7*1-5', '7-8+2*3/1', '3+5-1*6/2', '6+4*2-9/1', '8-6/1*2+9', '6-7/1+2*3', '5/1-2*4+8', '1*6/2+9-7', '7-8+4*9/6', '6*4/3+2-5', '3/1+2*5-8'], 6: ['3+5*2-7/1', '6+1*4-8/2', '1*5-4/2+3', '8/4*6+1-7', '9/3-5*1+8', '5/2*4+3-7', '5/1*2-7+3', '4-1*9/3+5', '1*2-8/4+6', '5*2+9/3-7', '8-2/3*9+4', '8/4-1*2+6', '5-8*3/4+7', '7-6/3*5+9', '3+8/4*6-9', '4*6/3-7+5', '9+7-5/1*2', '6*4/2-9+3', '4/2-1*3+7', '2*9/6-4+7', '7-3*1+8/4', '7+8/4*2-5', '7-9/3+2*1', '7+3*1-8/2', '6/2*1+8-5', '2*8/4-5+7'], 7: ['9+8*2/4-6', '4*5/2+6-9', '5+6*2/4-1', '6*3/2-9+7', '7-6+8*3/4', '8/4+7*1-2', '9-5+6*2/4', '2*3+5/1-4', '6-8/4*3+7', '3/1*2+5-4', '4*6/2+3-8', '6/3+7-1*2', '8-9+6*4/3', '1*6/2-3+7', '4*9/6+3-2', '9-5+6*2/4', '1-6+9/3*4', '6*5/3+1-4', '6-9+5*4/2', '2-7+8/6*9', '6/2+9-5*1', '3-8+6*4/2', '8+9-5*4/2', '8-4*3/2+5'], 8: ['1+8*6/4-5', '6/4*8+5-9', '2*9/3-5+7', '3+7*1-4/2', '6+5*2-8/1', '8*3/4-7+9', '7-8+3*6/2', '9/3-2*1+7', '2+5*6/3-4', '9*2/3-5+7', '9/6*2+8-3', '2*7+3/1-9', '7-1/3*9+4', '6*8/4+5-9', '5-1+2*6/3', '1*8/2+9-5', '4+5*2-6/1', '1*3-4/2+7', '8+6*2/3-4', '5*3-9+8/4', '6/3+8*1-2', '2-6+4/3*9'], 9: ['8/4*7-6+1', '9+1*8/2-4', '7-3/1*2+8', '8-4/6*9+7', '2*1-6/3+9', '5-1*8/4+6', '5*3/1+2-8', '5-8+4*9/3', '6/3*5+1-2', '9-1+2*3/6', '1+3*8/2-4', '8+4*1-9/3', '7-8/4*2+6', '7-8/2*1+6', '4*5/2-8+7', '5+7-6/2*1', '8*3/4-6+9', '4/2*6+5-8', '2*3/6+9-1', '5-2+4*9/6', '5/1+6*2-8', '7*2-8+9/3', '6-9+3/2*8', '4*6/3+2-1', '7*6/3+4-9', '9+2-8*1/4', '3-4+2*5/1', '8*3/4-2+5', '8*3/2+1-4', '6*1/3-2+9'], 10: ['3/6*4+9-1', '2+7*8/4-6', '4/6*9+7-3', '8-7+6/2*3', '1*6-9/3+7', '5*3/1-7+2', '4/1*2-3+5', '3+9*1-8/4', '2*7+5/1-9', '9*8/6+2-4', '5*3-9+8/2', '6/2*3-8+9', '1-5+7/3*6', '4+5/2*6-9', '5-3*6/9+7', '8+5-1/3*9', '6-2+8*3/4', '6/2*3-4+5', '3/1+2*8-9', '3*2+9/1-5', '6*3/2+5-4', '6-9/3+1*7', '8+5-9*1/3', '5/1+2*7-9', '3+8/6*9-5', '9-1/2*4+3', '1*5+8-6/2', '8*7/4-5+1', '4*3-7/1+5', '5/1-3+4*2', '5-1+9/6*4', '2+9/3*5-7'], 11: ['6*5/2+3-7', '3/1*5+2-6', '8+6-9*1/3', '7/3*6-4+1', '5+8*1-6/3', '8-4/2*3+9', '9-6+2/1*4', '3-4/1+2*6', '5+8-1*4/2', '4+3/2*8-5', '5-3*4/6+8', '2/1-9+3*6', '8/1-7+2*5', '2/1*5+4-3', '8*5/4-1+2', '6+1*7-8/4', '5*4/2+7-6', '2/1*5+9-8', '5*2+7-6/1', '6+9-1/2*8', '5*2/1-3+4', '5/2*4+7-6', '3*2+9-4/1', '6-8/4*2+9', '4-9+6/3*8'], 12: ['4+5*3-7/1', '2*8/1-9+5', '9/3-5+2*7', '3*5+6/1-9', '9+4*2/1-5', '4+2*7-6/1', '3-7+4*8/2', '6*5/2-4+1', '6-8+4/2*7', '5/1-9+8*2', '9-5+2/1*4', '7-9*2/6+8'], 13: ['7+4*3-6/1', '9/6*8+4-3', '4*3-7+8/1', '6/3-5+2*8', '9-6/2+7*1', '5*3+7-9/1', '5-1+6/2*3', '8+9*2/3-1', '2/1*5+7-4', '3*4-7/1+8', '8-7/1+6*2', '2*8-5+6/3', '4/2*6+8-7', '8/4+2*6-1', '6*2+9-8/1', '2*7-5+4/1', '6*2-7+8/1', '8*1-4/2+7', '1*9+6-8/4', '2/1*8-9+6', '6*2/1+4-3', '3-4+7/1*2', '5/2*4-3+6', '7-3*6/9+8', '8*2-7+4/1', '7*2-5+4/1', '7+8-6/9*3', '5+2*7/1-6', '7*2+5/1-6', '4-7+6/3*8', '4*2+7-6/3', '8+9/3*2-1', '3*5+2/1-4'], 14: ['7+2*8/1-9', '3+8*6/4-1', '4+8*2-6/1', '8/1+5*3-9', '9-1+4/2*3', '3*4/2-1+9', '4*3/1+9-7', '7/1-5+6*2', '4*6/2+5-3', '4*2/1+9-3', '1-5+4*9/2', '3*5+6-7/1', '9/1+6*2-7', '7-4*3/6+9', '3+9*2-7/1', '6-7+5/1*3', '3*5+8-9/1', '1-7+8/2*5', '8/4+2*9-6', '4/2*6-1+3'], 15: ['2-5+9*8/4', '4/1*3-6+9', '5+6/3*9-8', '7*8/4-1+2', '4+2/1*8-5', '2*6/1-5+8', '2+9*8/4-5', '2*8+6/1-7', '4/3*6-1+8', '5+8/4*6-2', '5/1+2*8-6', '8/2-9+5*4', '9*1-6/3+8', '9+4*3-6/1', '9-6+8*3/2', '2/1*9-7+4', '9-3/6*2+7', '2*7-8+9/1', '3*6-8/1+5', '2*5-3+8/1', '8/4-2+5*3', '8+3*4/1-5', '6/3*4+8-1', '5*8/4-2+7'], 16: ['5/1-3+7*2', '8*7/4-1+3', '6-8/1+9*2', '6/2*5+8-7', '9/3*6+5-7', '8+5*3-7/1', '3*7-9/1+4', '5-7+3*6/1', '3-7+5/1*4', '2+5*9/3-1', '6*7/2+4-9', '5+8*9/4-7', '5-1+4*9/3', '7/2*4-6+8', '9/1-5+3*4', '3/1*6-9+7', '5/2*6+8-7', '9/3-1+7*2'], 17: ['3*6+8/2-5', '2/1+3*8-9', '3*6+1-8/4', '6+2/1*8-5', '6-4+5/1*3', '2+9*7/3-6', '2*8-3+4/1', '4-8+3*7/1', '4*3+8-6/2', '2*7/1+6-3', '6+5*4/1-9', '1-5+7*6/2', '2/1*7-6+9', '2*9/1+4-5', '8+6*3/1-9', '3*6-5+8/2', '7/3*6-1+4', '5-6+8*9/4', '2*7/1-5+8', '6/1+5*3-4', '3*5-7/1+9', '2*6-3+8/1', '9*4/2-6+5', '6*8/4+7-2'], 18: ['9+8*2/1-7', '2*7+9-5/1', '8*9/6-1+7', '6-9+3/1*7', '1-4+9/3*7', '7-9+5*8/2', '2*7/1-5+9', '4/1*3+8-2', '8/4-5+7*3', '8+2/1*7-4', '1+7*9/3-4', '3/2*8-1+7', '5*4+8/2-6', '3*5-4/1+7', '9+6*8/4-3'], 19: ['6/1*3-7+8', '5*3+6-8/4', '5*4/1+2-3', '6-5+9/4*8', '8/4+9*2-1', '6*3-1+4/2', '5/1*4-3+2', '8-1+9*4/3', '7-3+6*5/2', '9*2+6/1-5', '2*7+8-9/3', '3*7-6/1+4', '2/1-7+6*4', '4*5/1+7-8', '2+3*8-7/1', '8*3-9/1+4', '2*9-1+6/3', '8-7+9/3*6', '8+6*3/1-7', '6+8/2*5-7'], 20: ['7-5/1+6*3', '4/2-6+3*8', '4-2+6*3/1', '7*2+9/1-3', '3*8+4/2-6', '6*7/3+8-2', '4*8/2+7-3', '7*8/2+1-9', '8/3*6+9-5', '9/1+8*2-5', '9/2*4+7-5', '7*3/1-9+8'], 21: ['6*3/1+7-4', '7+9*2/1-4', '8/2*5-6+7', '8*3+6-9/1', '7*3-4+8/2', '5/1*4+7-6', '8+9*2/1-5', '8*3-9+6/1', '8*3+2-5/1', '7-4/1+3*6'], 22: ['7*3+4-6/2', '3/1*7-4+5', '5/2*8+3-1', '5-4/1+7*3', '4*5+6-8/2', '9*8/3+4-6', '8/1*3+5-7', '2+8/1*3-4', '9+8/1*2-3', '6/2-9+4*7', '9-2+3/1*5', '2+9*8/3-4', '6*4/1-9+7', '8*3-9/1+7', '8/4*9-1+5'], 23: ['3*8+4-5/1', '1-6+8/2*7', '1+6*9/2-5', '3*7-4/1+6', '5-6+3*8/1', '3*8+4-5/1', '6+5*4-9/3', '9*3/1-6+2', '7*3/1+8-6', '9-6+4*5/1', '7*6/2+5-3', '7+9*8/4-2', '4+8*6/2-5', '6/1*4-3+2', '4-2+3*7/1', '8/2*6-5+4'], 24: ['9-1+4/2*8', '6/2*9-7+4', '9*2-6/3+8', '1+6/2*9-4', '3*9+2/1-5', '5+7/1*3-2', '7/1*4+5-9', '5+8*7/2-9', '8*9/4-1+7'], 25: ['5*6-8+3/1', '5-1+7/3*9', '9/3*7+8-4', '7/3*9+5-1', '4/1*5-2+7', '6*4/1+8-7', '8/2*5-1+6', '6+9*3-8/1', '6-2+3*7/1', '4*7+6-9/1'], 26: ['8/2*5-1+7', '3-5+7*4/1', '3*8+6/2-1', '5-6+3/1*9', '6+7*4-8/1', '6*7/2-3+8', '7*8/2-5+3', '8+4*5-2/1', '8*5/2+9-3', '9+5*8/2-3', '8*6/2+9-7', '6/2+7*4-5'], 27: ['5*4+9-6/3', '9-2+4*5/1', '7*4-6/3+1', '8*3-4/2+5', '3+8*7/2-4', '4/1*6-2+5', '5+4*6/1-2', '8*3/1+5-2', '7/1-4+8*3', '4*6/1+8-5', '6*4+8-5/1'], 28: ['8*3-5/1+9', '2-4+5/1*6', '9-5/1+4*6', '9-5/1+6*4', '2-4/1+6*5', '8-7/1+9*3', '2+8*4-6/1', '6/2*7-1+8', '8*4+3/1-7', '5*7+2-9/1', '4/1*6+7-3', '9+3/1*8-5', '5-4+6/2*9'], 29: ['2/1+8*4-5', '4+3*9/1-2', '7*4+9/3-2', '9/1-8+7*4', '7/1*5-8+2', '6-5+7*8/2', '5/1*6-4+3', '2/1-8+7*5', '2+7*5-8/1', '6/1+7*4-5', '3*9-1+6/2', '7*4+3/1-2', '4*7-2+3/1', '4/1*6-2+7', '8*3-4/2+7'], 30: ['5/1-2+3*9', '4*7+6/2-1', '9*4-8+6/3', '5/1+7*4-3', '5+7/2*8-3', '6/2-8+5*7', '3+8*7/2-1', '4/1*8-5+3', '8/1*4-9+7'], 31: ['8*3/1+9-2', '9*3-2/1+6', '5*6+3-2/1', '5+4/1*8-6', '8+9/1*3-4', '9+8/1*3-2', '8+6/1*5-7', '4/1*8+5-6', '4/1*8-7+6', '3+5*6-8/4', '6-3/1+4*7', '9+7*4/1-6', '4/1*8-3+2', '6/1-7+4*8'], 32: ['3+9*4/1-7', '9/2*8+3-7', '8*9/2-7+3', '3+5*7/1-6'], 33: ['6/2*9-1+7', '8*4-5/1+6', '7+9/2*6-1', '6-8+5*7/1', '8-3+7/1*4', '4*8-2/1+3', '6/3-5+9*4', '8/2+7*5-6', '8*4-6+7/1', '4*9+6/3-5', '9*8/2-4+1'], 34: ['9-3+7/1*4', '9/3-1+4*8', '3/1-5+4*9', '5*7-6/3+1', '6/1*5+7-3'], 35: ['8*5+4-9/1', '6*5/1-2+7', '8+5*6/1-3', '9/1+5*6-4', '8*9/2-7+6', '6-3+4*8/1'], 36: ['6/1*5+8-2', '6*7/1-8+2', '8/1*5-7+3', '5*7-6/2+4', '9/1+7*5-8', '4*8/1-3+7', '3+4*9-6/2', '4-6/2+5*7', '3/1-9+6*7'], 37: ['4-3+8/2*9', '6+9*4-5/1', '8/2*9-5+6', '7/1+4*9-6', '3-8+6/1*7', '5*8-6/1+3'], 38: ['6-4+9*8/2', '9-3+8*4/1', '7-9/1+5*8', '4*9/1+5-3', '7*5/1-6+9', '9*4+6/2-1'], 39: ['8*9/2+6-3', '4/2-3+8*5', '8*9/2+4-1', '6+9*4/1-3', '8*5+2-9/3', '5*8+9/3-4'], 40: ['6+9*4/1-2', '5*9-7+4/2', '5*9-7+8/4', '8*5-2+6/3', '2+6/1*7-4'], 41: ['9*4+8/1-3', '6/1*7-4+3', '8+6*7-9/1', '2/1-3+6*7', '4-5/1+7*6', '4/1-5+6*7', '6*7+9/3-4', '9/1+5*7-3'], 42: ['4-2/1+5*8', '8*6+3/1-9', '6*7-8/2+4', '8/1*5+9-7', '9/1-2+7*5'], 43: ['6*7/1-3+4', '3+6/1*7-2', '5*9/1+6-8', '4-3/1+7*6', '5*8-4+7/1', '5*8-6+9/1'], 44: ['5*8-2/1+6', '7+5*8-9/3', '3+9*5-8/2', '6*8-7+9/3', '4+6*7/1-2'], 45: ['6*8-5+4/2', '2-5+6*8/1'], 46: ['9-3+8*5/1', '3+8*6/1-5', '6*8-4+2/1', '5*9+4-3/1'], 47: ['4-2/1+5*9', '9+7*6-8/2', '9-4+6*7/1'], 49: ['2-7/1+6*9', '9-2+7*6/1', '2+6*9-7/1', '4+6/1*8-3'], 50: ['5-9/3+8*6', '4/1-8+6*9', '3/1+9*6-7'], 51: ['9*5+8/1-2', '6*9-5+2/1', '9*6+2-5/1', '9*5-4/2+8', '4+9*6/1-7'], 52: ['7+6*8/1-3'], 53: ['9*6-5/1+4', '6*9-5/1+4', '9/3+7*8-6', '6*9/1+2-3', '6/1-9+8*7', '6*8/1+7-2', '3-6+7*8/1'], 54: ['7*8-6/1+4', '1+8*7-9/3', '9-3/1+8*6'], 55: ['4-5/1+8*7', '8/2-3+9*6', '1-6/3+7*8', '9*6+8/2-3', '8-7+9/1*6', '9/1-2+6*8'], 56: ['4-2+9*6/1', '6*9/1+4-2'], 57: ['7-8/2+6*9', '4+7*8-9/3', '7/1-4+9*6', '5-4/1+7*8'], 58: ['3-8+7/1*9', '8*7/1+6-4'], 59: ['9-6+8*7/1', '9-6/1+8*7', '6-3/1+7*8'], 60: ['9/1*6-2+8', '3-6/1+9*7', '8/1+9*6-2', '7*9-5+4/2'], 61: ['4-6+7/1*9'], 62: ['8/2-5+9*7', '1+9*7-8/4', '7/1*9+3-4', '7*8-3+9/1', '7/1*8+9-3', '6/2+9*7-4'], 63: ['6/3-2+9*7'], 66: ['7/1*9+8-5'], 67: ['6/3+9*8-7'], 68: ['8*9-7+6/2'], 70: ['2+8/1*9-4'], 71: ['9*8/1+2-3'], 72: ['3+8*9-6/2', '9*8-6/3+2'], 77: ['7-2/1+9*8']}\n",
      "el maximo (77, ['7-2/1+9*8'])\n",
      "el minimo (-65, ['3-8*9+4/1', '2/1-8*9+5'])\n"
     ]
    }
   ],
   "source": [
    "secuencia_aleatoria = muestra_aleatoria_de_secuencias_operacionales(1000)\n",
    "print(secuencia_aleatoria)\n",
    "print(f'el maximo {expresion_maxima(secuencia_aleatoria)}')\n",
    "print(f'el minimo {expresion_minima(secuencia_aleatoria)}')\n"
   ]
  },
  {
   "cell_type": "markdown",
   "metadata": {},
   "source": [
    "#### Búsqueda local\n",
    "\n",
    "#### complejidad del algoritmo\n",
    "\n",
    "En este caso, se le suma al anterior algoritmo (pues este es una extensión del mismo) la exploración de vecinos, de los candidatos máximo y mínimo, en un limite de operaciones; llamemoslo la variable **p**. \n",
    "\n",
    "El algoritmo hace lo siguiente:\n",
    "\n",
    "- Genera una muestra aleatoria de expresiones del tamaño n\n",
    "- Escoge las una de las expresione que dan el máximo y otra que da el mínimo\n",
    "- Para cada uno de los anteriores explora p vecinos.\n",
    "\n",
    "Por lo tanto la complejidad del algoritmo de **busqueda local**:\n",
    "\n",
    "\n",
    "$$ complejidad = O(2*p*n) $$\n",
    "\n",
    "y si hacemos una **busqueda local multi - arranque** (como se verá a continuación) de **x veces**, es decir, repetir o probar el algoritmo x veces, la complejidad sería:\n",
    "\n",
    "\n",
    "$$ complejidad = O(2*p*n*x) $$"
   ]
  },
  {
   "cell_type": "code",
   "execution_count": 41,
   "metadata": {},
   "outputs": [],
   "source": [
    "def generar_secuencias_operacionales_vecinas(expresion, limite_iteraciones = 100):\n",
    "    '''\n",
    "    Esta funcion genera secuencias operacionales vecinas intercambiando dos nodos de lugar, para ello, hay que tener en cuenta que para que la secuencia tenga sentido matemático,\n",
    "    los indices a intercambiar han de ser pares o impares, de lo contrairo se podría formular una secuencia erronea del tipo '3+*12-5/1'.\n",
    "    '''\n",
    "    import random\n",
    "\n",
    "    indices = list(range(len(expresion)))                      # Se crea una lista con los indices a seleccionar\n",
    "    expresion = list(expresion)                                # la expresion se pasa a tipo lista\n",
    "    iteracion = 0\n",
    "    soluciones_vecinas = []                                    # se crea la lista de operaciones vecinas\n",
    "\n",
    "    while iteracion < limite_iteraciones:                      # mientras no se supere el limite de iteraciones ejecuta el siguiente codigo\n",
    "        iteracion += 1\n",
    "        los_dos_indices_son_pares_o_impares = False\n",
    "\n",
    "        while los_dos_indices_son_pares_o_impares == False:    # mientras los ambos indices no sean pares o impares\n",
    "            _indices = indices.copy()\n",
    "            i = random.choice(_indices)\n",
    "            _indices.remove(i)\n",
    "            j = random.choice(_indices) \n",
    "\n",
    "            i_y_j_son_pares = (i%2==0) & (j%2==0)\n",
    "            i_y_j_son_impares = (i%2!=0) & (j%2!=0) \n",
    "\n",
    "            if i_y_j_son_impares or i_y_j_son_pares:\n",
    "                los_dos_indices_son_pares_o_impares = True    # cuando ya tengo ambos indices de la misma familia \n",
    "\n",
    "        i_min = min(i, j)                                     # reordeno los indices\n",
    "        i_max = max(i,j)\n",
    "        \n",
    "        secuencia_vecina = expresion[:i_min] + [expresion[i_max]] + expresion[i_min+1:i_max] + [expresion[i_min]] + expresion[i_max+1:]  # creo la solucion vecina\n",
    "        secuencia_vecina= ''.join(secuencia_vecina)           # paso la solucion vecina a tipo string\n",
    "\n",
    "        if evaluar_expresion(secuencia_vecina):               # si la funcion da entero\n",
    "            soluciones_vecinas.append(secuencia_vecina)       # añadelo a mi lista de soluciones vecinas\n",
    "    \n",
    "    return dct_espacio_de_posibilidades(soluciones_vecinas)   # devuelve el espacio de posibilidades pasado a diccionario \n",
    "\n",
    "\n",
    "def busqueda_local(nums= ['1','2','3','4','5','6','7','8','9'], operations = ['+', '-', '/', '*']):\n",
    "\n",
    "    '''\n",
    "    Esta función printea el maximo y el minimo de una busqueda aleatoria y después coge una de las expresiones que dan el máximo y el mínimo encontrado, y genera \n",
    "    soluciones vecinas para ambos casos. Finalmente vuelve a printear los resultados de las solcuiones vecinas para poder compararlos con los de la solucion aleatoria\n",
    "    La función no devuelve nada, solo printea.\n",
    "    '''\n",
    "\n",
    "    secuencia_operacional_aleatoria = muestra_aleatoria_de_secuencias_operacionales(1000, nums= nums, operations=operations)        # creamos una muestra aleatoria \n",
    "    maximo_y_sus_expresiones = expresion_maxima(secuencia_operacional_aleatoria)                                                    # guardamos el maximo\n",
    "    minimo_y_sus_expresiones = expresion_minima(secuencia_operacional_aleatoria)                                                    # guardamos el mínimo\n",
    "    print(f'el maximo de la busqueda aleatoria es {maximo_y_sus_expresiones[0]} y sus expresiones: {maximo_y_sus_expresiones[1]}')\n",
    "    print(f'el minimo de la busqueda aleatoria es {minimo_y_sus_expresiones[0]} y sus expresiones: {minimo_y_sus_expresiones[1]}')\n",
    "    print('\\n')\n",
    "\n",
    "    vecino_de_maximos = generar_secuencias_operacionales_vecinas(maximo_y_sus_expresiones[1][0])    # se generan vecinos para el maximo\n",
    "    vecino_de_minimos = generar_secuencias_operacionales_vecinas(minimo_y_sus_expresiones[1][0])    # se generan vecinos para el minimo\n",
    "    maximo_vecino_de_maximos = expresion_maxima(vecino_de_maximos)                                  # se guarda el maximo de los vecinos                                   \n",
    "    minimo_vecino_de_minimos = expresion_minima(vecino_de_minimos)                                  # se guarda el minimo de los vecinos\n",
    "\n",
    "    if maximo_vecino_de_maximos[0] > maximo_y_sus_expresiones[0]:                                   # se comparan los resultados y se guardan los mejores resulados de ambas búsqudas\n",
    "        maximo_encontrado = maximo_vecino_de_maximos\n",
    "    else:\n",
    "        maximo_encontrado = maximo_y_sus_expresiones\n",
    "    \n",
    "    if minimo_vecino_de_minimos[0] < minimo_y_sus_expresiones[0]:\n",
    "        minimo_encontrado = minimo_vecino_de_minimos\n",
    "    else:\n",
    "        minimo_encontrado = minimo_y_sus_expresiones\n",
    "\n",
    "    print(f'El maximo de la busqueda local es {maximo_encontrado[0]} y sus expresiones: {maximo_encontrado[1]}')\n",
    "    print(f'El minimo de la busqueda local es {minimo_encontrado[0]} y sus expresiones: {minimo_encontrado[1]}')\n",
    "    \n",
    "    return None"
   ]
  },
  {
   "cell_type": "code",
   "execution_count": 42,
   "metadata": {},
   "outputs": [
    {
     "name": "stdout",
     "output_type": "stream",
     "text": [
      "el maximo de la busqueda aleatoria es 76 y sus expresiones: ['8*9-4/2+6']\n",
      "el minimo de la busqueda aleatoria es -69 y sus expresiones: ['1+4/2-9*8']\n",
      "\n",
      "\n",
      "El maximo de la busqueda local es 76 y sus expresiones: ['8*9-4/2+6']\n",
      "El minimo de la busqueda local es -69 y sus expresiones: ['1+4/2-9*8']\n"
     ]
    }
   ],
   "source": [
    "busqueda_local()"
   ]
  },
  {
   "cell_type": "markdown",
   "metadata": {},
   "source": [
    "Los resultados no parecen ser demasiado notorios, parece que con la búsqueda aleatoria simple ya da buenos resultados, y la generación de soluciones vecinas no da demasiado buenos resultados. Vamos a corroborar esto con una busqueda local con multi arranque:\n",
    "\n",
    "#### Búsqueda local multi arranque\n",
    "\n",
    "Es tan simple como realizar el experimento varias veces, en este caso se realizara 10 veces\n"
   ]
  },
  {
   "cell_type": "code",
   "execution_count": 43,
   "metadata": {},
   "outputs": [
    {
     "name": "stdout",
     "output_type": "stream",
     "text": [
      "el maximo de la busqueda aleatoria es 77 y sus expresiones: ['7+8*9/1-2']\n",
      "el minimo de la busqueda aleatoria es -65 y sus expresiones: ['5-8/1*9+2', '4/2-8*9+5']\n",
      "\n",
      "\n",
      "El maximo de la busqueda local es 77 y sus expresiones: ['7+8*9/1-2']\n",
      "El minimo de la busqueda local es -65 y sus expresiones: ['5-8/1*9+2', '4/2-8*9+5']\n",
      "\n",
      "\n",
      "\t\t\t####################################################################################################\n",
      "\n",
      "\n",
      "el maximo de la busqueda aleatoria es 77 y sus expresiones: ['7-6/3+8*9']\n",
      "el minimo de la busqueda aleatoria es -66 y sus expresiones: ['3-8*9+6/2', '2/1-8*9+4', '4+6/3-9*8']\n",
      "\n",
      "\n",
      "El maximo de la busqueda local es 77 y sus expresiones: ['7-6/3+8*9']\n",
      "El minimo de la busqueda local es -68 y sus expresiones: ['2-8*9+6/3', '2-8*9+6/3', '2-8*9+6/3', '2-8*9+6/3', '2-8*9+6/3', '2-8*9+6/3', '2-8*9+6/3', '2-8*9+6/3']\n",
      "\n",
      "\n",
      "\t\t\t####################################################################################################\n",
      "\n",
      "\n",
      "el maximo de la busqueda aleatoria es 77 y sus expresiones: ['7-2+8*9/1', '8*9-2+7/1']\n",
      "el minimo de la busqueda aleatoria es -68 y sus expresiones: ['1-9*8+6/2', '6/3+2-8*9']\n",
      "\n",
      "\n",
      "El maximo de la busqueda local es 77 y sus expresiones: ['7-2+8*9/1', '8*9-2+7/1']\n",
      "El minimo de la busqueda local es -68 y sus expresiones: ['1-9*8+6/2', '6/3+2-8*9']\n",
      "\n",
      "\n",
      "\t\t\t####################################################################################################\n",
      "\n",
      "\n",
      "el maximo de la busqueda aleatoria es 77 y sus expresiones: ['8*9-4/2+7']\n",
      "el minimo de la busqueda aleatoria es -69 y sus expresiones: ['6/3-9*8+1']\n",
      "\n",
      "\n",
      "El maximo de la busqueda local es 77 y sus expresiones: ['8*9-4/2+7']\n",
      "El minimo de la busqueda local es -69 y sus expresiones: ['6/3-9*8+1']\n",
      "\n",
      "\n",
      "\t\t\t####################################################################################################\n",
      "\n",
      "\n",
      "el maximo de la busqueda aleatoria es 77 y sus expresiones: ['8*9+7-2/1']\n",
      "el minimo de la busqueda aleatoria es -64 y sus expresiones: ['3+5-9/1*8']\n",
      "\n",
      "\n",
      "El maximo de la busqueda local es 77 y sus expresiones: ['8*9+7-2/1']\n",
      "El minimo de la busqueda local es -64 y sus expresiones: ['3+5-9/1*8']\n",
      "\n",
      "\n",
      "\t\t\t####################################################################################################\n",
      "\n",
      "\n",
      "el maximo de la busqueda aleatoria es 77 y sus expresiones: ['9*8-2+7/1', '8*9/1-2+7']\n",
      "el minimo de la busqueda aleatoria es -65 y sus expresiones: ['5+6/3-8*9', '3/1-8*9+4', '3-8*9+4/1']\n",
      "\n",
      "\n",
      "El maximo de la busqueda local es 77 y sus expresiones: ['9*8-2+7/1', '8*9/1-2+7']\n",
      "El minimo de la busqueda local es -65 y sus expresiones: ['5+6/3-8*9', '3/1-8*9+4', '3-8*9+4/1']\n",
      "\n",
      "\n",
      "\t\t\t####################################################################################################\n",
      "\n",
      "\n",
      "el maximo de la busqueda aleatoria es 76 y sus expresiones: ['8*9-2/1+6']\n",
      "el minimo de la busqueda aleatoria es -66 y sus expresiones: ['6/2+3-8*9']\n",
      "\n",
      "\n",
      "El maximo de la busqueda local es 76 y sus expresiones: ['8*9-2/1+6']\n",
      "El minimo de la busqueda local es -68 y sus expresiones: ['6/3+2-8*9', '6/3+2-8*9', '6/3+2-8*9', '6/3+2-8*9', '6/3+2-8*9', '6/3+2-8*9', '6/3+2-8*9', '6/3+2-8*9', '6/3+2-8*9', '6/3+2-8*9', '6/3+2-8*9']\n",
      "\n",
      "\n",
      "\t\t\t####################################################################################################\n",
      "\n",
      "\n",
      "el maximo de la busqueda aleatoria es 77 y sus expresiones: ['9*8+7-6/3']\n",
      "el minimo de la busqueda aleatoria es -67 y sus expresiones: ['2+3-9*8/1']\n",
      "\n",
      "\n",
      "El maximo de la busqueda local es 77 y sus expresiones: ['9*8+7-6/3']\n",
      "El minimo de la busqueda local es -67 y sus expresiones: ['2+3-9*8/1']\n",
      "\n",
      "\n",
      "\t\t\t####################################################################################################\n",
      "\n",
      "\n",
      "el maximo de la busqueda aleatoria es 76 y sus expresiones: ['9*8/1+7-3']\n",
      "el minimo de la busqueda aleatoria es -66 y sus expresiones: ['6/2-8*9+3', '6/3+4-9*8']\n",
      "\n",
      "\n",
      "El maximo de la busqueda local es 76 y sus expresiones: ['9*8/1+7-3']\n",
      "El minimo de la busqueda local es -68 y sus expresiones: ['6/3-8*9+2', '6/3-8*9+2', '6/3-8*9+2']\n",
      "\n",
      "\n",
      "\t\t\t####################################################################################################\n",
      "\n",
      "\n",
      "el maximo de la busqueda aleatoria es 77 y sus expresiones: ['7+9*8/1-2']\n",
      "el minimo de la busqueda aleatoria es -65 y sus expresiones: ['3-8/1*9+4']\n",
      "\n",
      "\n",
      "El maximo de la busqueda local es 77 y sus expresiones: ['7+9*8/1-2']\n",
      "El minimo de la busqueda local es -65 y sus expresiones: ['3-8/1*9+4']\n",
      "\n",
      "\n",
      "\t\t\t####################################################################################################\n",
      "\n",
      "\n"
     ]
    }
   ],
   "source": [
    "for n in range(10):\n",
    "    busqueda_local()\n",
    "    print('\\n')\n",
    "    print('\\t\\t\\t' +  '#'*100)\n",
    "    print('\\n')"
   ]
  },
  {
   "cell_type": "markdown",
   "metadata": {},
   "source": [
    "## CONCLUSIONES\n",
    "\n",
    "La búsqueda local no mejora de manera significativa los resultados obtenidos por la búsqueda aleatoria por muestra, al menos para este tamaño de expresiones o secuencias operacionales. Voy a dar el trabajo por concluido, ya que la funciones no estan preparadas para separar bien valores de dos o más dígitos, es decir, las funciones programadas en este trabajo no generalizan correctamente a medida que el tamaño de las entradas aumenta.\n",
    "\n",
    "De este modo quedan **implementadas las mejoras por métodología determinista** (esa búsqueda de patrones realizada previamente) y por **métodos aproximados o heurísticos** (búsqueda aleatoria y búsqueda local conn multi-arranque). Ambas muy simples, pero que ayudan a reducir el espacio de posiblidades y en el caso del método por patrones logra encontrar el máximo y el mínimo sin que aumente el espacio de posibilidades, y mediante la búsqueda local y aleatoria logra resultados bastante buenos.\n",
    "\n",
    "Sin embargo esta investigación o trabajo tiene mucho margen de mejora."
   ]
  },
  {
   "cell_type": "markdown",
   "metadata": {},
   "source": [
    "### Posibles mejoras o continuaciones del trabajo\n",
    "\n",
    "La mejora inmediata del trabajo sería implementar unas funciones que generalizen bien a medida que el tamaño de las entradas aumentan (números y/o operadores aritméticos).\n",
    "\n",
    "La siguiente mejora inmediata sería aplicar un recocido simulado.\n",
    "\n",
    "Y el problema parece estar bien encaminado para poder aplicar algoritmos genéticos y/o evolutivos, aplicando técnicas como cruce y mutación."
   ]
  },
  {
   "cell_type": "code",
   "execution_count": null,
   "metadata": {},
   "outputs": [],
   "source": []
  },
  {
   "cell_type": "code",
   "execution_count": null,
   "metadata": {},
   "outputs": [],
   "source": []
  }
 ],
 "metadata": {
  "kernelspec": {
   "display_name": "venv",
   "language": "python",
   "name": "python3"
  },
  "language_info": {
   "codemirror_mode": {
    "name": "ipython",
    "version": 3
   },
   "file_extension": ".py",
   "mimetype": "text/x-python",
   "name": "python",
   "nbconvert_exporter": "python",
   "pygments_lexer": "ipython3",
   "version": "3.10.6"
  },
  "orig_nbformat": 4
 },
 "nbformat": 4,
 "nbformat_minor": 2
}
