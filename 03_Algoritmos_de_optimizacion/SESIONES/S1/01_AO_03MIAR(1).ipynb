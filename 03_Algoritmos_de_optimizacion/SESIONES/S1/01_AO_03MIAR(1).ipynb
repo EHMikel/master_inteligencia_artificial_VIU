{
 "cells": [
  {
   "cell_type": "markdown",
   "id": "5bae1ac7",
   "metadata": {},
   "source": [
    "<font color=\"#002856\"><h1 align=\"left\">Algoritmos de optimización</h1></font>\n",
    "<font color=\"#002856\"><h2 align=\"left\">VC-1 Introducción a los algoritmos</h2></font> \n",
    "\n",
    "#### Profesor: Juan Francisco Vallalta Rueda\n",
    "---"
   ]
  },
  {
   "cell_type": "markdown",
   "id": "d6a8c0a8",
   "metadata": {},
   "source": [
    "# Medir el tiempo de ejecución"
   ]
  },
  {
   "cell_type": "markdown",
   "id": "e37d9b38",
   "metadata": {},
   "source": [
    "Medir el tiempo de ejecución de un programa es una tarea muy importante, ya que programar no sólo consiste en crear código que funcione, sino código que pueda ser ejecutado en un tiempo razonable.\n",
    "\n",
    "La librería **time** nos permite medir el tiempo de ejecución en Python, utilizando el método  `time()`."
   ]
  },
  {
   "cell_type": "code",
   "execution_count": 2,
   "id": "dc20e4d2",
   "metadata": {},
   "outputs": [
    {
     "name": "stdout",
     "output_type": "stream",
     "text": [
      "10.014591455459595\n"
     ]
    }
   ],
   "source": [
    "# Medida del tiempo de ejecucion con time\n",
    "import time\n",
    "inicio = time.time()\n",
    "\n",
    "# Código a medir\n",
    "time.sleep(10)\n",
    "# -------------\n",
    "\n",
    "fin = time.time()\n",
    "print(fin-inicio) # 1.0005340576171875"
   ]
  },
  {
   "cell_type": "markdown",
   "id": "52b5fc0a",
   "metadata": {},
   "source": [
    "# Generación de números enteros aleatorios "
   ]
  },
  {
   "cell_type": "code",
   "execution_count": 3,
   "id": "ca5148de",
   "metadata": {},
   "outputs": [
    {
     "name": "stdout",
     "output_type": "stream",
     "text": [
      "[282, 185, 890, 365, 547, 780, 672, 379, 971, 563, 592, 244, 578, 7, 489, 134, 323, 656, 348, 284, 106, 256, 525, 796, 30, 108, 685, 774, 500, 111, 156, 695, 30, 630, 946, 532, 314, 423, 275, 710, 790, 955, 281, 968, 837, 285, 52, 961, 586, 375, 104, 249, 519, 243, 265, 574, 408, 15, 727, 264, 10, 620, 861, 182, 663, 853, 246, 902, 458, 160, 406, 274, 354, 960, 708, 85, 167, 875, 84, 640, 696, 945, 216, 945, 965, 809, 157, 864, 819, 273, 264, 785, 847, 178, 537, 835, 394, 917, 493, 132]\n"
     ]
    }
   ],
   "source": [
    "# Mödulo random\n",
    "import random\n",
    "\n",
    "# Inicialización del rango de números a generar\n",
    "inicio= 0\n",
    "fin = 1000\n",
    "cantidad = 100\n",
    "\n",
    "# Lista de números aleatorios\n",
    "numeros_aleatorios = [random.randint(inicio,fin) for i in range(cantidad)]\n",
    "print(numeros_aleatorios)"
   ]
  },
  {
   "cell_type": "markdown",
   "id": "c43d5913",
   "metadata": {},
   "source": [
    "# Ejercicios\n",
    "\n",
    "## Implementa  el algoritmo de Euclides para el cálculo del máximo común divisor de dos números enteros"
   ]
  },
  {
   "cell_type": "code",
   "execution_count": 4,
   "id": "af0a8a64",
   "metadata": {},
   "outputs": [],
   "source": [
    "# Algoritmos de Euclides.\n",
    "def euclides(n, m):\n",
    "    while n != 0:\n",
    "        r = m%n \n",
    "        m, n = n, r\n",
    "\n",
    "    return m\n"
   ]
  },
  {
   "cell_type": "code",
   "execution_count": 5,
   "id": "81bea47d",
   "metadata": {},
   "outputs": [
    {
     "data": {
      "text/plain": [
       "3"
      ]
     },
     "execution_count": 5,
     "metadata": {},
     "output_type": "execute_result"
    }
   ],
   "source": [
    "# Prueba del algoritmo\n",
    "euclides(12, 33)\n"
   ]
  },
  {
   "cell_type": "markdown",
   "id": "fab2198d",
   "metadata": {},
   "source": [
    "## Implementa el algoritmo de Herón para el cálculo de la raiz cuadrada de un número entero. Calcula la raiz cuadrada de 13 con un error inferior a 0.000001"
   ]
  },
  {
   "cell_type": "code",
   "execution_count": 12,
   "id": "5108153f",
   "metadata": {},
   "outputs": [],
   "source": [
    "# Algoritmo de Herón\n",
    "def Heron(numero, precision= 0.000001):                 # precision por defecto y el el objetivo es la raiz del numero objetivo\n",
    "\n",
    "    error = 1 + precision                               # le asigno un error por defecto, que sea superior a la precision\n",
    "    estimador = numero/2                                # el número inicial será la mitad del número input\n",
    "\n",
    "    while error > precision:                            # mientras el error sea superior a la precision ejecuta el siguiente codigo\n",
    "        estimador = 0.5*(estimador + numero/estimador)  # aplico la 'ecuacion' de Heron\n",
    "        error = estimador - numero**0.5                 # el error es la diferencia entre el estimador y el valor real de la raiz\n",
    "\n",
    "    return estimador                                    # devuelvo mi estimador"
   ]
  },
  {
   "cell_type": "code",
   "execution_count": 15,
   "id": "32bfcfe8",
   "metadata": {},
   "outputs": [
    {
     "data": {
      "text/plain": [
       "1.4142135623746899"
      ]
     },
     "execution_count": 15,
     "metadata": {},
     "output_type": "execute_result"
    }
   ],
   "source": [
    "# Prueba del algoritmo\n",
    "Heron(2)"
   ]
  },
  {
   "cell_type": "markdown",
   "id": "9cbf8561",
   "metadata": {},
   "source": [
    "# Reto VC-1\n",
    "\n",
    "## Implementa el algoritmo de la Criba de Erastótenes para encontrar número primos. Encuentra los números primos entre los 10.000 primeros números naturales"
   ]
  },
  {
   "cell_type": "code",
   "execution_count": 40,
   "id": "ebd84c99",
   "metadata": {},
   "outputs": [],
   "source": [
    "import numpy as np\n",
    "import pandas as pd"
   ]
  },
  {
   "cell_type": "code",
   "execution_count": 46,
   "id": "288b5db6",
   "metadata": {},
   "outputs": [],
   "source": [
    "# Criba de Erastótenes\n",
    "# Escribe a ti tu código\n",
    "def erastotenes(n):                                 # el único input que recibe\n",
    "\n",
    "    tachados = set()                                # los tachados o no primos, seran un set\n",
    "    primos = [1]                                    # dentro de los primos (lista) meto el 1, pero podría ser vacio\n",
    "\n",
    "    for num in range(2, n+1):                       # dentro del rango de 2 al n este incluido\n",
    "\n",
    "        if num in tachados:                         # si el numero no es primo, continua al siguinte bucle\n",
    "            continue\n",
    "        else:                                       # si no, ejecuta el siguiente código\n",
    "            primos.append(num)                      # es un numero primo. Se añade a la lsita\n",
    "            for no_primo in range(num, n+1, num):   # se tachan todos sus múltiplos\n",
    "                tachados.add(no_primo)\n",
    "\n",
    "    return pd.Series(dict(enumerate(primos)))       # devulevo un pandas series con los numeros primos enumerados, lo que me permite acceder al indice y alos valores\n",
    "    \n"
   ]
  },
  {
   "cell_type": "code",
   "execution_count": 51,
   "id": "da531486",
   "metadata": {},
   "outputs": [],
   "source": [
    "primeros_10000_primos = erastotenes(10_000)"
   ]
  },
  {
   "cell_type": "code",
   "execution_count": 59,
   "id": "ec82f662",
   "metadata": {},
   "outputs": [
    {
     "data": {
      "text/plain": [
       "0          1\n",
       "1          2\n",
       "2          3\n",
       "3          5\n",
       "4          7\n",
       "        ... \n",
       "1225    9931\n",
       "1226    9941\n",
       "1227    9949\n",
       "1228    9967\n",
       "1229    9973\n",
       "Length: 1230, dtype: int64"
      ]
     },
     "execution_count": 59,
     "metadata": {},
     "output_type": "execute_result"
    }
   ],
   "source": [
    "primeros_10000_primos"
   ]
  },
  {
   "cell_type": "code",
   "execution_count": 53,
   "id": "d841e2b9",
   "metadata": {},
   "outputs": [
    {
     "data": {
      "text/plain": [
       "1230"
      ]
     },
     "execution_count": 53,
     "metadata": {},
     "output_type": "execute_result"
    }
   ],
   "source": [
    "len(primeros_10000_primos)"
   ]
  },
  {
   "cell_type": "code",
   "execution_count": 77,
   "id": "3e364f7c",
   "metadata": {},
   "outputs": [],
   "source": [
    "# def erastotenes_alternativo(n, primos= None):\n",
    "#     if primos == None:\n",
    "#         primos = [1,2,3,5]\n",
    "    \n",
    "#     for num in range(2,n+1):\n",
    "\n",
    "#         divisores= 0\n",
    "\n",
    "#         for primo in primos:\n",
    "#             print(primos)\n",
    "#             if num%primo==0:\n",
    "#                 divisores+=1\n",
    "\n",
    "#             if divisores > 2:\n",
    "#                 break\n",
    "\n",
    "#         if divisores <= 2:\n",
    "#             primos.append(num)\n",
    "\n",
    "#         return pd.Series(dict(enumerate(primos)))"
   ]
  },
  {
   "cell_type": "code",
   "execution_count": null,
   "id": "e88c93ec",
   "metadata": {},
   "outputs": [],
   "source": []
  }
 ],
 "metadata": {
  "kernelspec": {
   "display_name": "Python 3 (ipykernel)",
   "language": "python",
   "name": "python3"
  },
  "language_info": {
   "codemirror_mode": {
    "name": "ipython",
    "version": 3
   },
   "file_extension": ".py",
   "mimetype": "text/x-python",
   "name": "python",
   "nbconvert_exporter": "python",
   "pygments_lexer": "ipython3",
   "version": "3.10.6"
  }
 },
 "nbformat": 4,
 "nbformat_minor": 5
}
