{
 "cells": [
  {
   "attachments": {},
   "cell_type": "markdown",
   "id": "5bae1ac7",
   "metadata": {},
   "source": [
    "<font color=\"#002856\"><h1 align=\"left\">Algoritmos de optimización</h1></font>\n",
    "<font color=\"#002856\"><h2 align=\"left\">VC-2 Diseño de algoritmos</h2></font> \n",
    "\n",
    "#### Profesor: Juan Francisco Vallalta Rueda\n",
    "---"
   ]
  },
  {
   "attachments": {},
   "cell_type": "markdown",
   "id": "d6a8c0a8",
   "metadata": {},
   "source": [
    "# Medir el tiempo de ejecución"
   ]
  },
  {
   "attachments": {},
   "cell_type": "markdown",
   "id": "e37d9b38",
   "metadata": {},
   "source": [
    "Medir el tiempo de ejecución de un programa es una tarea muy importante, ya que programar no sólo consiste en crear código que funcione, sino código que pueda ser ejecutado en un tiempo razonable.\n",
    "\n",
    "La librería **time** nos permite medir el tiempo de ejecución en Python, utilizando el método  `time()`."
   ]
  },
  {
   "cell_type": "code",
   "execution_count": 1,
   "id": "dc20e4d2",
   "metadata": {},
   "outputs": [
    {
     "name": "stdout",
     "output_type": "stream",
     "text": [
      "10.007688045501709\n"
     ]
    }
   ],
   "source": [
    "# Medida del tiempo de ejecucion con time\n",
    "import time\n",
    "inicio = time.time()\n",
    "\n",
    "# Código a medir\n",
    "time.sleep(10)\n",
    "# -------------\n",
    "\n",
    "fin = time.time()\n",
    "print(fin-inicio) # 1.0005340576171875"
   ]
  },
  {
   "attachments": {},
   "cell_type": "markdown",
   "id": "52b5fc0a",
   "metadata": {},
   "source": [
    "# Generación de números enteros aleatorios "
   ]
  },
  {
   "cell_type": "code",
   "execution_count": 6,
   "id": "ca5148de",
   "metadata": {},
   "outputs": [
    {
     "name": "stdout",
     "output_type": "stream",
     "text": [
      "[695, 385, 928, 730, 82, 906, 416, 429, 707, 59, 556, 643, 489, 851, 385, 940, 465, 515, 942, 745, 219, 305, 8, 943, 218, 371, 483, 174, 136, 257, 482, 94, 385, 201, 530, 522, 460, 204, 882, 754, 24, 341, 576, 946, 97, 758, 491, 270, 746, 12, 652, 158, 483, 623, 710, 665, 856, 935, 963, 342, 247, 890, 673, 143, 54, 905, 868, 522, 1, 248, 690, 720, 363, 878, 567, 586, 593, 901, 574, 835, 853, 915, 188, 937, 489, 182, 228, 948, 247, 291, 223, 602, 741, 761, 199, 691, 72, 718, 965, 583]\n"
     ]
    }
   ],
   "source": [
    "# Mödulo random\n",
    "import random\n",
    "\n",
    "# Inicialización del rango de números a generar\n",
    "inicio= 0\n",
    "fin = 1000\n",
    "cantidad = 100\n",
    "\n",
    "# Lista de números aleatorios\n",
    "numeros_aleatorios = [random.randint(inicio,fin) for i in range(cantidad)]\n",
    "print(numeros_aleatorios)"
   ]
  },
  {
   "attachments": {},
   "cell_type": "markdown",
   "id": "c43d5913",
   "metadata": {},
   "source": [
    "# Ejercicios\n",
    "\n",
    "## Implementa  una solución para el problema del cambio de moneda en un sistema monetario con las siguientes monedas: {1, 2, 5, 10, 20 , 50}"
   ]
  },
  {
   "cell_type": "code",
   "execution_count": 57,
   "id": "af0a8a64",
   "metadata": {},
   "outputs": [],
   "source": [
    "# Problema de cambio de monedas\n",
    "def cambio_de_monedas(precio, pago, monedas= {0.01, 0.02, 0.05, 0.10, 0.20, 0.50}):\n",
    "\n",
    "    vuelta = round(pago - precio, 2)\n",
    "    print(vuelta)\n",
    "    cambios_en_monedas = {}\n",
    "    \n",
    "    for n in range(len(monedas)):\n",
    "\n",
    "        cambio_mas_alto_posible = max(monedas)\n",
    "        n = vuelta//cambio_mas_alto_posible\n",
    "        vuelta -= round((cambio_mas_alto_posible*n ), 2)    \n",
    "\n",
    "        if vuelta == 0:\n",
    "            break\n",
    "\n",
    "        cambios_en_monedas[cambio_mas_alto_posible] = n\n",
    "        monedas.remove(cambio_mas_alto_posible)\n",
    "\n",
    "    return cambios_en_monedas\n",
    "\n",
    "\n"
   ]
  },
  {
   "cell_type": "code",
   "execution_count": 58,
   "id": "f548ecd3",
   "metadata": {},
   "outputs": [
    {
     "name": "stdout",
     "output_type": "stream",
     "text": [
      "2.66\n"
     ]
    },
    {
     "data": {
      "text/plain": [
       "{0.5: 5.0, 0.2: 0.0, 0.1: 1.0, 0.05: 1.0, 0.02: 0.0, 0.01: 1.0}"
      ]
     },
     "execution_count": 58,
     "metadata": {},
     "output_type": "execute_result"
    }
   ],
   "source": [
    "cambio_de_monedas(47.34,50)"
   ]
  },
  {
   "attachments": {},
   "cell_type": "markdown",
   "id": "9cbf8561",
   "metadata": {},
   "source": [
    "# Reto VC-2\n",
    "\n",
    "## Opción 1: Implementa una solución al problema de las 8 reinas en un tablero 8x8"
   ]
  },
  {
   "cell_type": "code",
   "execution_count": 1,
   "id": "7858766d",
   "metadata": {},
   "outputs": [],
   "source": [
    "import numpy as np"
   ]
  },
  {
   "cell_type": "code",
   "execution_count": 2,
   "id": "b6afe947",
   "metadata": {},
   "outputs": [
    {
     "name": "stdout",
     "output_type": "stream",
     "text": [
      "[[0. 0. 0. 0.]\n",
      " [0. 0. 0. 0.]\n",
      " [0. 0. 0. 0.]\n",
      " [0. 0. 0. 0.]]\n"
     ]
    }
   ],
   "source": [
    "tablero = np.zeros(16).reshape(4,4)\n",
    "print(tablero)"
   ]
  },
  {
   "cell_type": "code",
   "execution_count": 3,
   "id": "80c2be58",
   "metadata": {},
   "outputs": [],
   "source": [
    "def colocar_reina(m, fila, col ,tab):\n",
    "\n",
    "    '''\n",
    "    esta funcion coloca una reina en un tablero de ajedrez donde las posiciones que no estan en peligro son 0s, la casilla donde se coloca la reina será un numero de un dígito, \n",
    "    y las casillas en peligro serán un numero de dos digitos. La función devuelve el tablero con la nueva reina colocada y sus posiciones de peligro.\n",
    "    '''\n",
    "\n",
    "    \n",
    "    # las zonas en peligro seran m +10 para que tenga dos digitos y se pueda diferenciar\n",
    "    tab[fila,:] = m +10                                                 # zona de peligro horizontal\n",
    "    tab[:, col] = m +10                                                 # zona de peligro vertical\n",
    "\n",
    "    # colocamos la reina\n",
    "    tab[fila, col] = m\n",
    "\n",
    "    # las diagonales\n",
    "    diag_c1 = min((tab.shape[0]-1)-col,fila)\n",
    "    diag_c2 = min(col,fila)\n",
    "    diag_c3 = min(col, (tab.shape[0]-1)-fila)\n",
    "    diag_c4= min((tab.shape[0]-1)-col, (tab.shape[0]-1)-fila)\n",
    "\n",
    "    # cuadrante 1\n",
    "    for n in range(1,diag_c1+1):\n",
    "        tab[fila -n, col + n] = m +10\n",
    "\n",
    "    # cuadrante 2\n",
    "    for n in range(1,diag_c2+1):\n",
    "        tab[fila -n, col-n] = m +10\n",
    "\n",
    "    # cuadrate 3\n",
    "    for n in range(1,diag_c3+1):\n",
    "        tab[fila +n, col-n] = m +10\n",
    "\n",
    "    # cuadrante 4\n",
    "    for n in range(1,diag_c4+1):\n",
    "        tab[fila +n, col+n] = m +10\n",
    "\n",
    "    return tab"
   ]
  },
  {
   "cell_type": "code",
   "execution_count": 4,
   "id": "56b930ca",
   "metadata": {},
   "outputs": [],
   "source": [
    "def algoritmo_n_reinas(n, tablero):\n",
    "\n",
    "    if n < 1:\n",
    "        return True\n",
    "    \n",
    "    if np.count_nonzero(tablero == 0) < n:                                              # Si hay menos 0s que reinas \n",
    "        return False\n",
    "    \n",
    "    \n",
    "    for fila in range(tablero.shape[0]):                                                # para cada fila de la matriz\n",
    "        for col in range(tablero.shape[1]):                                             # para cada columna de la matriz\n",
    "\n",
    "            if tablero[fila,col] == 0:                                                  # si la casilla es 0\n",
    "\n",
    "                tablero_viejo = tablero.copy()                                          # creo un tablero copia para poder hacer el backtraking\n",
    "                tablero_actual = colocar_reina(np.random.randint(low= 1, high= 10), fila, col, tablero)      # coloco una nueva reina en el tablero en una posición valida por ahora\n",
    "\n",
    "                if algoritmo_n_reinas(n-1, tablero_actual):                                    # aplico la recursividad\n",
    "                    return True\n",
    "                \n",
    "                else:                                                                   # si la función falla el tablero vuelve a ser el mismo que antes de colocar la reina\n",
    "                    tablero = tablero_viejo\n",
    "\n",
    "    return False"
   ]
  },
  {
   "cell_type": "code",
   "execution_count": 7,
   "id": "3fc2ef5b",
   "metadata": {},
   "outputs": [
    {
     "name": "stdout",
     "output_type": "stream",
     "text": [
      "[[ 8. 14. 18. 15. 14.]\n",
      " [15. 14.  3. 15. 18.]\n",
      " [14. 15. 14. 15.  8.]\n",
      " [14.  4. 15. 15. 15.]\n",
      " [15. 15. 15.  5. 15.]]\n"
     ]
    }
   ],
   "source": [
    "tablero = np.zeros(25).reshape(5,5)\n",
    "\n",
    "algoritmo_n_reinas(5, tablero)\n",
    "\n",
    "print(tablero)"
   ]
  },
  {
   "cell_type": "code",
   "execution_count": 8,
   "id": "37947060",
   "metadata": {},
   "outputs": [
    {
     "name": "stdout",
     "output_type": "stream",
     "text": [
      "16\n",
      "[[11. 11.  0.  0.]\n",
      " [ 1. 11. 11. 11.]\n",
      " [11. 11.  0.  0.]\n",
      " [11.  0. 11.  0.]]\n",
      "\n",
      "\n"
     ]
    },
    {
     "data": {
      "text/plain": [
       "6"
      ]
     },
     "execution_count": 8,
     "metadata": {},
     "output_type": "execute_result"
    }
   ],
   "source": [
    "tablero = np.zeros(16).reshape(4,4)\n",
    "\n",
    "print(np.count_nonzero(tablero == 0))\n",
    "\n",
    "print(colocar_reina(1,1,0,tablero))\n",
    "print('\\n')\n",
    "\n",
    "np.count_nonzero(tablero == 0)"
   ]
  },
  {
   "cell_type": "code",
   "execution_count": 23,
   "id": "3c625a75",
   "metadata": {},
   "outputs": [
    {
     "name": "stdout",
     "output_type": "stream",
     "text": [
      "[[11. 11.  0.  0.]\n",
      " [ 1. 11. 11. 11.]\n",
      " [11. 11.  0.  0.]\n",
      " [11.  0. 11.  0.]]\n",
      "\n",
      "\n",
      "[[0, 2], [0, 3], [2, 2], [2, 3], [3, 1], [3, 3]]\n",
      "[2, 3]\n",
      "\n",
      "\n",
      "[[0, 2], [0, 3], [2, 2], [3, 1], [3, 3]]\n"
     ]
    }
   ],
   "source": [
    "def factible_choices(tablero):\n",
    "\n",
    "    fact_choices = []\n",
    "    size = tablero.shape[0]\n",
    "\n",
    "    for fila in range(size):\n",
    "\n",
    "        if 0 not in tablero[fila,:]:\n",
    "            continue\n",
    "\n",
    "        for col in range(size):\n",
    "\n",
    "            if 0 not in tablero[:, col]:\n",
    "                continue\n",
    "\n",
    "            if tablero[fila,col] == 0:\n",
    "                fact_choices.append([fila, col])\n",
    "\n",
    "    return fact_choices\n",
    "print(tablero)\n",
    "print('\\n')\n",
    "fc = factible_choices(tablero)\n",
    "print(fc)\n",
    "cl = random.choice(fc)\n",
    "print(cl)\n",
    "fc.remove(cl)\n",
    "print('\\n')\n",
    "print(fc)\n"
   ]
  },
  {
   "cell_type": "code",
   "execution_count": 17,
   "id": "bd6d682b",
   "metadata": {},
   "outputs": [],
   "source": [
    "import random"
   ]
  },
  {
   "cell_type": "code",
   "execution_count": 63,
   "id": "42bce6a2",
   "metadata": {},
   "outputs": [],
   "source": [
    "def n_reinas(n, tablero):\n",
    "\n",
    "    if n<1:\n",
    "        return True\n",
    "    \n",
    "    if np.count_nonzero(tablero == 0) < n:\n",
    "        return False\n",
    "    \n",
    "    casillas_factibles = factible_choices(tablero)\n",
    "    tablero_viejo = tablero.copy()\n",
    "\n",
    "    while len(casillas_factibles) >0:\n",
    "\n",
    "        casilla_elegida = random.choice(casillas_factibles)\n",
    "        fila = casilla_elegida[0]\n",
    "        col = casilla_elegida[1]\n",
    "        tablero_nuevo = colocar_reina(np.random.randint(low= 1, high= 10), fila, col, tablero)\n",
    "\n",
    "        if n_reinas(n-1, tablero_nuevo):\n",
    "            print(casilla_elegida)\n",
    "            return True\n",
    "        \n",
    "        else:\n",
    "            casillas_factibles.remove(casilla_elegida)\n",
    "            tablero = tablero_viejo.copy()\n",
    "\n",
    "    return False"
   ]
  },
  {
   "cell_type": "code",
   "execution_count": 68,
   "id": "e22cadc5",
   "metadata": {},
   "outputs": [
    {
     "name": "stdout",
     "output_type": "stream",
     "text": [
      "[9, 0]\n",
      "[5, 10]\n",
      "[2, 12]\n",
      "[11, 9]\n",
      "[10, 3]\n",
      "[8, 14]\n",
      "[4, 1]\n",
      "[3, 5]\n",
      "[14, 13]\n",
      "[12, 4]\n",
      "[7, 11]\n",
      "[0, 7]\n",
      "[1, 2]\n",
      "[13, 8]\n",
      "[6, 6]\n"
     ]
    },
    {
     "data": {
      "text/plain": [
       "True"
      ]
     },
     "execution_count": 68,
     "metadata": {},
     "output_type": "execute_result"
    }
   ],
   "source": [
    "reinas = 15\n",
    "tablero = np.zeros((reinas,reinas), dtype= int)\n",
    "\n",
    "n_reinas(reinas, tablero)\n",
    "#print(tablero)"
   ]
  },
  {
   "attachments": {},
   "cell_type": "markdown",
   "id": "9b73b754",
   "metadata": {},
   "source": [
    "## comprobando la función colocar reina"
   ]
  },
  {
   "cell_type": "code",
   "execution_count": 29,
   "id": "ef6c10f1",
   "metadata": {},
   "outputs": [
    {
     "name": "stdout",
     "output_type": "stream",
     "text": [
      "[[0. 0. 0. 0.]\n",
      " [0. 0. 0. 0.]\n",
      " [0. 0. 0. 0.]\n",
      " [0. 0. 0. 0.]]\n",
      "16\n",
      "\n",
      "\n",
      "[[11. 11.  0.  0.]\n",
      " [ 1. 11. 11. 11.]\n",
      " [11. 11.  0.  0.]\n",
      " [11.  0. 11.  0.]]\n",
      "6\n",
      "\n",
      "\n",
      "[[11. 13.  0.  0.]\n",
      " [ 1. 13. 11. 13.]\n",
      " [13. 13. 13.  0.]\n",
      " [13.  3. 13. 13.]]\n",
      "3\n",
      "\n",
      "\n",
      "[[19. 19.  9. 19.]\n",
      " [ 1. 19. 19. 19.]\n",
      " [19. 13. 19.  0.]\n",
      " [13.  3. 19. 13.]]\n",
      "1\n",
      "\n",
      "\n",
      "[[19. 12.  9. 12.]\n",
      " [ 1. 19. 12. 12.]\n",
      " [12. 12. 12.  2.]\n",
      " [13.  3. 12. 12.]]\n",
      "0\n"
     ]
    }
   ],
   "source": [
    "tablero = np.zeros(16).reshape(4,4)\n",
    "print(tablero)\n",
    "print(np.count_nonzero(tablero== 0))\n",
    "print('\\n')\n",
    "\n",
    "print(colocar_reina(1,1,0, tablero))\n",
    "print(np.count_nonzero(tablero== 0))\n",
    "print('\\n')\n",
    "\n",
    "print(colocar_reina(3,3,1, tablero))\n",
    "print(np.count_nonzero(tablero== 0))\n",
    "print('\\n')\n",
    "print(colocar_reina(9,0,2, tablero))\n",
    "print(np.count_nonzero(tablero== 0))\n",
    "print('\\n')\n",
    "print(colocar_reina(2,2,3, tablero))\n",
    "print(np.count_nonzero(tablero== 0))"
   ]
  },
  {
   "cell_type": "code",
   "execution_count": 75,
   "id": "01312719",
   "metadata": {},
   "outputs": [
    {
     "name": "stdout",
     "output_type": "stream",
     "text": [
      "[[0. 0. 0. 0. 0. 0. 0. 0.]\n",
      " [0. 0. 0. 0. 0. 0. 0. 0.]\n",
      " [0. 0. 0. 0. 0. 0. 0. 0.]\n",
      " [0. 0. 0. 0. 0. 0. 0. 0.]\n",
      " [0. 0. 0. 0. 0. 0. 0. 0.]\n",
      " [0. 0. 0. 0. 0. 0. 0. 0.]\n",
      " [0. 0. 0. 0. 0. 0. 0. 0.]\n",
      " [0. 0. 0. 0. 0. 0. 0. 0.]]\n",
      "\n",
      "\n",
      "[[ 0.  0.  0.  0. 13.  0.  0.  0.]\n",
      " [ 0.  0.  0.  0. 13.  0.  0.  0.]\n",
      " [ 0.  0.  0.  0. 13.  0.  0.  0.]\n",
      " [13.  0.  0.  0. 13.  0.  0.  0.]\n",
      " [ 0. 13.  0.  0. 13.  0.  0. 13.]\n",
      " [ 0.  0. 13.  0. 13.  0. 13.  0.]\n",
      " [ 0.  0.  0. 13. 13. 13.  0.  0.]\n",
      " [13. 13. 13. 13.  3. 13. 13. 13.]]\n",
      "\n",
      "\n",
      "[[12. 12.  0.  0. 13.  0.  0.  0.]\n",
      " [ 2. 12. 12. 12. 12. 12. 12. 12.]\n",
      " [12. 12.  0.  0. 13.  0.  0.  0.]\n",
      " [12.  0. 12.  0. 13.  0.  0.  0.]\n",
      " [12. 13.  0. 12. 13.  0.  0. 13.]\n",
      " [12.  0. 13.  0. 12.  0. 13.  0.]\n",
      " [12.  0.  0. 13. 13. 12.  0.  0.]\n",
      " [12. 13. 13. 13.  3. 13. 12. 13.]]\n",
      "\n",
      "\n",
      "[[12. 11.  0.  0. 13.  0.  0. 11.]\n",
      " [ 2. 11. 12. 12. 12. 12. 11. 12.]\n",
      " [12. 11.  0.  0. 13. 11.  0.  0.]\n",
      " [12. 11. 12.  0. 11.  0.  0.  0.]\n",
      " [12. 11.  0. 11. 13.  0.  0. 13.]\n",
      " [11. 11. 11.  0. 12.  0. 13.  0.]\n",
      " [11.  1. 11. 11. 11. 11. 11. 11.]\n",
      " [11. 11. 11. 13.  3. 13. 12. 13.]]\n",
      "\n",
      "\n",
      "[[15. 15.  5. 15. 15. 15. 15. 15.]\n",
      " [ 2. 15. 15. 15. 12. 12. 11. 12.]\n",
      " [15. 11. 15.  0. 15. 11.  0.  0.]\n",
      " [12. 11. 15.  0. 11. 15.  0.  0.]\n",
      " [12. 11. 15. 11. 13.  0. 15. 13.]\n",
      " [11. 11. 15.  0. 12.  0. 13. 15.]\n",
      " [11.  1. 15. 11. 11. 11. 11. 11.]\n",
      " [11. 11. 15. 13.  3. 13. 12. 13.]]\n",
      "\n",
      "\n",
      "[[19. 15.  5. 19. 15. 15. 19. 15.]\n",
      " [ 2. 19. 15. 19. 12. 19. 11. 12.]\n",
      " [15. 11. 19. 19. 19. 11.  0.  0.]\n",
      " [19. 19. 19.  9. 19. 19. 19. 19.]\n",
      " [12. 11. 19. 19. 19.  0. 15. 13.]\n",
      " [11. 19. 15. 19. 12. 19. 13. 15.]\n",
      " [19.  1. 15. 19. 11. 11. 19. 11.]\n",
      " [11. 11. 15. 19.  3. 13. 12. 19.]]\n",
      "\n",
      "\n",
      "[[19. 17.  5. 19. 15. 17. 19. 15.]\n",
      " [ 2. 19. 17. 19. 12. 17. 11. 12.]\n",
      " [15. 11. 19. 17. 19. 17.  0. 17.]\n",
      " [19. 19. 19.  9. 17. 17. 17. 19.]\n",
      " [17. 17. 17. 17. 17.  7. 17. 17.]\n",
      " [11. 19. 15. 19. 17. 17. 17. 15.]\n",
      " [19.  1. 15. 17. 11. 17. 19. 17.]\n",
      " [11. 11. 17. 19.  3. 17. 12. 19.]]\n",
      "\n",
      "\n",
      "[[19. 17.  5. 19. 18. 17. 18. 15.]\n",
      " [ 2. 19. 17. 19. 12. 18. 18. 18.]\n",
      " [18. 18. 18. 18. 18. 18.  8. 18.]\n",
      " [19. 19. 19.  9. 17. 18. 18. 18.]\n",
      " [17. 17. 17. 17. 18.  7. 18. 17.]\n",
      " [11. 19. 15. 18. 17. 17. 18. 15.]\n",
      " [19.  1. 18. 17. 11. 17. 18. 17.]\n",
      " [11. 18. 17. 19.  3. 17. 18. 19.]]\n"
     ]
    }
   ],
   "source": [
    "tab = np.zeros(64).reshape(8,8)\n",
    "print(tab)\n",
    "print('\\n')\n",
    "print(colocar_reina(3,7,4,tab))\n",
    "print('\\n')\n",
    "print(colocar_reina(2,1,0,tab))\n",
    "print('\\n')\n",
    "print(colocar_reina(1,6,1,tab))\n",
    "print('\\n')\n",
    "print(colocar_reina(5,0,2,tab))\n",
    "print('\\n')\n",
    "print(colocar_reina(9,3,3,tab))\n",
    "print('\\n')\n",
    "print(colocar_reina(7,4,5,tab))\n",
    "print('\\n')\n",
    "print(colocar_reina(8,2,6,tab))\n"
   ]
  },
  {
   "attachments": {},
   "cell_type": "markdown",
   "id": "e0069a3c",
   "metadata": {},
   "source": [
    "## Opción 2: Implementa una solución del problema de las Torres de Hanoi para un número arbitrario n de fichas"
   ]
  },
  {
   "cell_type": "code",
   "execution_count": 2,
   "id": "f55c9247",
   "metadata": {},
   "outputs": [],
   "source": [
    "# Torres de Hanoy\n",
    "# Escribe aquí tu código\n",
    "\n",
    "\n"
   ]
  }
 ],
 "metadata": {
  "kernelspec": {
   "display_name": "Python 3 (ipykernel)",
   "language": "python",
   "name": "python3"
  },
  "language_info": {
   "codemirror_mode": {
    "name": "ipython",
    "version": 3
   },
   "file_extension": ".py",
   "mimetype": "text/x-python",
   "name": "python",
   "nbconvert_exporter": "python",
   "pygments_lexer": "ipython3",
   "version": "3.10.6"
  }
 },
 "nbformat": 4,
 "nbformat_minor": 5
}
