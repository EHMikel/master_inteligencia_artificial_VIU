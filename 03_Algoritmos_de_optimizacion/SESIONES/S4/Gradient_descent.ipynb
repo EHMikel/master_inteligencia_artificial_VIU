{
 "cells": [
  {
   "attachments": {},
   "cell_type": "markdown",
   "metadata": {},
   "source": [
    "# Implementación del descenso del gradiente simple"
   ]
  },
  {
   "cell_type": "code",
   "execution_count": 3,
   "metadata": {},
   "outputs": [],
   "source": [
    "import numpy as np\n",
    "from sympy import diff, symbols\n",
    "import matplotlib.pyplot as plt"
   ]
  },
  {
   "attachments": {},
   "cell_type": "markdown",
   "metadata": {},
   "source": [
    "## enfoque analítico"
   ]
  },
  {
   "cell_type": "code",
   "execution_count": 4,
   "metadata": {},
   "outputs": [],
   "source": [
    "# Esta funcion calcula el gradiente para cualquier funcion, dada una funcion lambda y la lista de sus correspondientes variables\n",
    "def gradiente(funcion_lambda, lista_variables:list):\n",
    "\n",
    "    import numpy as np\n",
    "    from sympy import diff, symbols, lambdify \n",
    "\n",
    "    gradiente = {}                                                      # el gradiente será un diccionario donde las claves seran la funcion escrita y los valores, la funcion gradiente de cada componente\n",
    "    simb_var = symbols(lista_variables)                                 # guardo los simbolos de las variables que utilizaré después\n",
    "\n",
    "    for variable in lista_variables:                                    # para cada variable en mi lista de variables vamos a calcular su derivada parcial\n",
    "\n",
    "        derivada_parcial = diff(funcion_lambda(*simb_var), variable)    # se crea la funcion gradiente 'escrita', es necesario desempaquetar todas las variables para darselas a la funcion lambda\n",
    "        f_dev_parcial = lambdify(simb_var, derivada_parcial)            # comvierto la funcion 'escrita' en otra funcion lambda, que es la derivada parcial de la variable correspondiente\n",
    "        gradiente[derivada_parcial] = f_dev_parcial                     # añado a mi diccionario tanto la derivada 'escrita' (llave), como la derivada en formato lambda (valor)\n",
    "\n",
    "    return gradiente                                                    # devuelvo el diccionario de mis derivadas parciales, que juntas, conforman el vector gradiente\n",
    "\n",
    "\n",
    "\n",
    "# esta funcion calcula el descenso por gradiente dandole una funcion lambda su lista de variables, el punto inicial, el learning rate, la precision, y un maximo de iteraciones\n",
    "def gradient_descent(funcion_lambda, lista_variables:list, punto_inicial:list, rate:float, precision:float, maxit:int):\n",
    "\n",
    "    x = np.array(punto_inicial).astype(float)                           # comvierto el punto en un array y lo paso a float para que no me de problemas\n",
    "    grad_f = gradiente(funcion_lambda, lista_variables)                 # calculo mi gradiente que tiene los componenetes \n",
    "\n",
    "    if len(grad_f) == 1:                                                # si mi vector gradiente es UNIVARIALBLE (solo x) ejecuta el siguiente código\n",
    "\n",
    "        for epoca in range(maxit):                                      # para cada epoca \n",
    "\n",
    "            for componente in grad_f.values():                          # este mini bucle me permite asignarle un punto a mi gradiente univariable, es para acceder al valor del diccionario\n",
    "                grad = np.array(componente(x))\n",
    "\n",
    "            norm_grad = np.linalg.norm(grad)                            # calculo la norma de mi vector de un solo componente\n",
    "\n",
    "            if norm_grad < precision:                                   # si el valor obtenido esta por debajo de la precision requerida ROMPE el bucle\n",
    "                break\n",
    "\n",
    "            x -= rate*grad                                              # se actualiza el valor del nuestro punto\n",
    "\n",
    "    else:                                                               # si vector gradiente es MULTIVARIABLE (x,y,z, etc.) ejecuta el siguiente código\n",
    "        \n",
    "        for epoca in range(maxit):                                      # para cada época \n",
    "        \n",
    "            grad = np.array([componente(*x) for componente in grad_f.values()])     # le asigno el punto de análisis a mi vector gradiente y me devuelve el punto objetivo en forma de array\n",
    "            norm_grad = np.linalg.norm(grad)                                        # calculo la norma de mi vector gradiente multivariable\n",
    "\n",
    "            if norm_grad < precision:                                   # si la norma esta por debajo de mi umbral ROMPE el bucle\n",
    "                break\n",
    "\n",
    "            x -= rate*grad                                              # se actualiza el punto de análisis\n",
    "\n",
    "    return x                                                            # se devuleve el último punto de analisis\n",
    "\n"
   ]
  },
  {
   "attachments": {},
   "cell_type": "markdown",
   "metadata": {},
   "source": [
    "## Enfoque de datos"
   ]
  },
  {
   "cell_type": "code",
   "execution_count": 5,
   "metadata": {},
   "outputs": [
    {
     "name": "stdout",
     "output_type": "stream",
     "text": [
      "-2*x*(b - w*x + y)\n",
      "2*b - 2*w*x + 2*y\n",
      "[<function _lambdifygenerated at 0x000001FB55026320>\n",
      " <function _lambdifygenerated at 0x000001FB5506D870>]\n"
     ]
    }
   ],
   "source": [
    "f = lambda w, b, x, y: (np.sum(np.array(y) - w*np.array(x) + b))**2\n",
    "grad_f= gradiente(f, ['w','b', 'x', 'y'])\n",
    "\n",
    "lista_de_grad = list(grad_f.keys())\n",
    "\n",
    "cost_grad_f = np.array([grad_f[lista_de_grad[0]], grad_f[lista_de_grad[1]]])\n",
    "\n",
    "print(lista_de_grad[0])\n",
    "print(lista_de_grad[1])\n",
    "print(cost_grad_f)"
   ]
  },
  {
   "attachments": {},
   "cell_type": "markdown",
   "metadata": {},
   "source": [
    "### BATCH GRADIENT DESCENT"
   ]
  },
  {
   "cell_type": "code",
   "execution_count": 19,
   "metadata": {},
   "outputs": [],
   "source": [
    "def generar_datos(f= lambda x: 0.5*x +10):\n",
    "    import numpy as np\n",
    "\n",
    "    x = np.linspace(0,5)\n",
    "    ruido_varianza= 0.05\n",
    "    y = f(x) + np.random.randint(low = -10, high= 10, size = x.shape[0])*ruido_varianza\n",
    "\n",
    "    return np.array([x,y])\n",
    "\n",
    "def batch_gradient_descent(cost_func, variables_lst, learning_rate, max_iter, precision):\n",
    "    import random\n",
    "\n",
    "    w = random.random()\n",
    "    b = random.random()\n",
    "\n",
    "    cost_grad = gradiente(cost_func, variables_lst)         # calculo el gradiente\n",
    "    lista_de_grad = list(cost_grad.keys())\n",
    "    cost_grad_f = [cost_grad[lista_de_grad[0]], cost_grad[lista_de_grad[1]]]               # el primer valor del diccionario de gradientes es mi derivada respecto a w\n",
    "\n",
    "    print('Los componentes del gradiente de la función de coste: \\n')\n",
    "    print(f'derivada parcial de w: {lista_de_grad[0]}')\n",
    "    print(f'derivada parcial de b: {lista_de_grad[1]}\\n')\n",
    "\n",
    "    w_ = 10_000\n",
    "    b_ = 500 \n",
    "\n",
    "    print('Se debe converger hacia los siguientes coeficientes: \\n')\n",
    "    print(f'El peso w: {w_}')\n",
    "    print(f'El sesgo b: {b_}')\n",
    "\n",
    "    data = generar_datos(f= lambda x: x*w_ + b_)                 # datos a partir de una funcion con ruido añadido; W y b COMVERGERÁN AL MULTIPLO DE X EN ESTE CASO 10\n",
    "    x = data[0]\n",
    "    y = data[1]\n",
    "\n",
    "    for epoch in range(max_iter):\n",
    "\n",
    "        error = np.sum(cost_func(w, b, x, y))\n",
    "\n",
    "        w -= learning_rate*(np.sum(cost_grad_f[0](w, b, x, y)))\n",
    "        b -= learning_rate*(np.sum(cost_grad_f[1](w, b, x, y)))\n",
    "\n",
    "        new_error = np.sum(cost_func(w, b, x, y))\n",
    "\n",
    "        if abs(error - new_error) < precision:\n",
    "            print(f'\\nSe ha logrado la convergencia en la época número {epoch}')\n",
    "            break\n",
    "\n",
    "    p = np.array([w, b])\n",
    "    return p\n"
   ]
  },
  {
   "cell_type": "code",
   "execution_count": 20,
   "metadata": {},
   "outputs": [
    {
     "data": {
      "image/png": "[encoded data removed]",
      "text/plain": [
       "<Figure size 800x500 with 1 Axes>"
      ]
     },
     "metadata": {},
     "output_type": "display_data"
    }
   ],
   "source": [
    "data = generar_datos()\n",
    "\n",
    "x = data[0]\n",
    "y = data[1]\n",
    "\n",
    "fig = plt.figure(figsize = (8, 5))\n",
    "\n",
    "plt.plot(x,\n",
    "         0.5*x +10,\n",
    "        label = 'f')\n",
    "\n",
    "plt.scatter(x,y, c = 'red', s = 1.1, label = 'data')\n",
    "plt.grid()\n",
    "plt.legend()\n",
    "plt.title('Función que voy a intentar optimizar')\n",
    "\n",
    "plt.show()"
   ]
  },
  {
   "cell_type": "code",
   "execution_count": 21,
   "metadata": {},
   "outputs": [
    {
     "name": "stdout",
     "output_type": "stream",
     "text": [
      "Los componentes del gradiente de la función de coste: \n",
      "\n",
      "derivada parcial de w: -2*x*(-b - w*x + y)\n",
      "derivada parcial de b: 2*b + 2*w*x - 2*y\n",
      "\n",
      "Se debe converger hacia los siguientes coeficientes: \n",
      "\n",
      "El peso w: 10000\n",
      "El sesgo b: 500\n",
      "\n",
      "Se ha logrado la convergencia en la época número 6032\n"
     ]
    },
    {
     "data": {
      "text/plain": [
       "array([9999.98717893,  500.0153415 ])"
      ]
     },
     "execution_count": 21,
     "metadata": {},
     "output_type": "execute_result"
    }
   ],
   "source": [
    "batch_gradient_descent(lambda w, b, x, y: (np.sum(np.array(y) - (w*np.array(x) + b)))**2, ['w', 'b','x', 'y'], 0.0001, 10000, 0.000001)"
   ]
  },
  {
   "cell_type": "code",
   "execution_count": null,
   "metadata": {},
   "outputs": [],
   "source": []
  },
  {
   "cell_type": "code",
   "execution_count": null,
   "metadata": {},
   "outputs": [],
   "source": []
  },
  {
   "cell_type": "code",
   "execution_count": null,
   "metadata": {},
   "outputs": [],
   "source": []
  },
  {
   "cell_type": "code",
   "execution_count": 132,
   "metadata": {},
   "outputs": [
    {
     "name": "stdout",
     "output_type": "stream",
     "text": [
      "0.0 10.35\n",
      "0.10204081632653061 10.251020408163265\n",
      "0.20408163265306123 10.10204081632653\n",
      "0.30612244897959184 10.153061224489797\n",
      "0.40816326530612246 10.55408163265306\n",
      "0.5102040816326531 10.355102040816327\n",
      "0.6122448979591837 10.656122448979591\n",
      "0.7142857142857143 9.857142857142858\n",
      "0.8163265306122449 10.008163265306122\n",
      "0.9183673469387755 10.659183673469387\n",
      "1.0204081632653061 10.610204081632652\n",
      "1.1224489795918369 10.86122448979592\n",
      "1.2244897959183674 10.212244897959183\n",
      "1.3265306122448979 10.91326530612245\n",
      "1.4285714285714286 10.814285714285713\n",
      "1.5306122448979593 10.965306122448979\n",
      "1.6326530612244898 10.516326530612243\n",
      "1.7346938775510203 10.76734693877551\n",
      "1.836734693877551 10.418367346938776\n",
      "1.9387755102040818 11.41938775510204\n",
      "2.0408163265306123 10.720408163265306\n",
      "2.142857142857143 11.52142857142857\n",
      "2.2448979591836737 11.172448979591838\n",
      "2.3469387755102042 11.373469387755101\n",
      "2.4489795918367347 11.174489795918367\n",
      "2.5510204081632653 11.625510204081632\n",
      "2.6530612244897958 11.226530612244899\n",
      "2.7551020408163267 11.377551020408163\n",
      "2.857142857142857 11.82857142857143\n",
      "2.9591836734693877 11.279591836734694\n",
      "3.0612244897959187 11.03061224489796\n",
      "3.163265306122449 11.981632653061224\n",
      "3.2653061224489797 11.33265306122449\n",
      "3.36734693877551 12.133673469387755\n",
      "3.4693877551020407 11.68469387755102\n",
      "3.5714285714285716 11.785714285714286\n",
      "3.673469387755102 12.08673469387755\n",
      "3.7755102040816326 11.687755102040818\n",
      "3.8775510204081636 12.338775510204082\n",
      "3.979591836734694 11.539795918367348\n",
      "4.081632653061225 11.940816326530612\n",
      "4.183673469387755 12.541836734693877\n",
      "4.285714285714286 11.992857142857142\n",
      "4.387755102040816 12.143877551020408\n",
      "4.4897959183673475 12.494897959183675\n",
      "4.591836734693878 12.545918367346939\n",
      "4.6938775510204085 12.046938775510203\n",
      "4.795918367346939 12.097959183673469\n",
      "4.8979591836734695 12.648979591836735\n",
      "5.0 12.15\n"
     ]
    }
   ],
   "source": [
    "data = generar_datos()\n",
    "x = data[0]\n",
    "y = data[1]\n",
    "# data = np.array(list(zip(x, y)))\n",
    "# print(data[:10])\n",
    "\n",
    "# index = [i for i,_ in enumerate(data)]\n",
    "# print(index)\n",
    "\n",
    "# np.random.shuffle(data)\n",
    "\n",
    "# print(data[:,0])\n",
    "\n",
    "for iteration in range(len(data[0])):\n",
    "    x_ex = data[0][iteration]\n",
    "    y_ex = data[1][iteration]\n",
    "\n",
    "    print(x_ex, y_ex)"
   ]
  },
  {
   "cell_type": "code",
   "execution_count": 17,
   "metadata": {},
   "outputs": [],
   "source": [
    "epochs = 50 \n",
    "t0 = epochs/10\n",
    "t1 = epochs\n",
    "\n",
    "def learning_shedule(t):\n",
    "    return t0/(t + t1)\n",
    "\n",
    "\n",
    "def stocastick_gradient_descent(cost_func, variables_lst, learning_rate, epochs, precision):\n",
    "    import random\n",
    "\n",
    "    w = random.random()                                     # mi punto inicial\n",
    "    cost_grad = gradiente(cost_func, variables_lst)         # calculo el gradiente\n",
    "    lista_de_grad = list(cost_grad.keys())\n",
    "    cost_grad_f = cost_grad[lista_de_grad[0]]               # el primer valor del diccionario de gradientes es mi derivada respecto a w\n",
    "\n",
    "    data = generar_datos(f= lambda x: x*100)                 # datos a partir de una funcion con ruido añadido\n",
    "    x = data[0]\n",
    "    y = data[1]\n",
    "    m = len(x)\n",
    "\n",
    "\n",
    "    for epoch in range(epochs):\n",
    "\n",
    "        np.random.shuffle(data)\n",
    "        error = np.sum(cost_func(w, x, y))                  # con w viejo\n",
    "\n",
    "        for iteration in range(m):\n",
    "\n",
    "            x_examle = data[0][iteration]\n",
    "            y_example = data[1][iteration]\n",
    "            cost_grad_i = cost_grad_f(w, x_examle, y_example)\n",
    "            w -= learning_rate*cost_grad_i\n",
    "            new_error = (cost_func(w, x_examle, y_example))              # con w nuevo\n",
    "\n",
    "        if abs(error- new_error) < precision:\n",
    "            print(epoch)\n",
    "            break\n",
    "\n",
    "\n",
    "    return w"
   ]
  },
  {
   "cell_type": "code",
   "execution_count": 18,
   "metadata": {},
   "outputs": [
    {
     "data": {
      "text/plain": [
       "-158.6900944935285"
      ]
     },
     "execution_count": 18,
     "metadata": {},
     "output_type": "execute_result"
    }
   ],
   "source": [
    "stocastick_gradient_descent(lambda w, x, y: (np.sum(np.array(y) - w*np.array(x)))**2, ['w', 'x', 'y'], 0.00001, 1000, 0.00001)"
   ]
  },
  {
   "cell_type": "code",
   "execution_count": null,
   "metadata": {},
   "outputs": [],
   "source": []
  },
  {
   "cell_type": "code",
   "execution_count": null,
   "metadata": {},
   "outputs": [],
   "source": []
  }
 ],
 "metadata": {
  "kernelspec": {
   "display_name": "venv",
   "language": "python",
   "name": "python3"
  },
  "language_info": {
   "codemirror_mode": {
    "name": "ipython",
    "version": 3
   },
   "file_extension": ".py",
   "mimetype": "text/x-python",
   "name": "python",
   "nbconvert_exporter": "python",
   "pygments_lexer": "ipython3",
   "version": "3.10.6"
  },
  "orig_nbformat": 4
 },
 "nbformat": 4,
 "nbformat_minor": 2
}
