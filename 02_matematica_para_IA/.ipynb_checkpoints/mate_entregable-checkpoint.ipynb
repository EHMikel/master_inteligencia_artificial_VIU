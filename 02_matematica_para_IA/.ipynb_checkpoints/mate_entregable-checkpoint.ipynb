{
 "cells": [
  {
   "cell_type": "code",
   "execution_count": 2,
   "metadata": {},
   "outputs": [],
   "source": [
    "import numpy as np"
   ]
  },
  {
   "cell_type": "markdown",
   "metadata": {},
   "source": [
    "# Ejercicio 1\n",
    "\n",
    "Tal y como ya hemos visto en clase, la variedad de herramientas proporcionadas por el algebra lineal son cruciales para desarrollar y fundamentar las bases de una variedad de técnicas relacionadas con el aprendizaje automático. Con ella, podemos describir el proceso de propagaci´on hacia adelante en una red neuronal, identificar ménimos locales en funciones multivariables (crucial para el proceso de retropropagación) o la descripción y empleo de métodos de reducción de la dimensionalidad, como el análisis de componentes principales (PCA), entre muchas otras aplicaciones. Cuando trabajamos en la práctica dentro de este ámbito, la cantidad de datos que manejamos puede ser muy grande, por lo que es especialmente importante emplear algoritmos eficientes y optimizados para reducir el coste computacional en la medida de lo posible. Por todo ello, el objetivo de este ejercicio es el de ilustrar las diferentes alternativas que pueden existir para realizar un proceso relacionado con el álgebra lineal y el impacto que puede tener cada variante en términos del coste computacional del mismo. En este caso en particular, y a modo de ilustración, nos centraremos en el cálculo del determinante de una matriz.\n",
    "\n",
    "## A: [1 punto] Implementa una función, determinante recursivo, que obtenga el determinante de una matriz cuadrada utilizando la definición recursiva de Laplace."
   ]
  },
  {
   "cell_type": "code",
   "execution_count": 39,
   "metadata": {},
   "outputs": [],
   "source": [
    "def extraer_sub_mariz (m, col):\n",
    "    sub_m = np.delete(m,0,0)\n",
    "    sub_m = np.delete(sub_m, col, 1)\n",
    "\n",
    "    return sub_m\n",
    "\n",
    "def det_2x2(matrix):\n",
    "    if matrix.shape != (2,2):\n",
    "        raise ValueError('shape error')\n",
    "    \n",
    "    return matrix[0,0]*matrix[1,1]-matrix[0,1]*matrix[1,0]\n",
    "\n",
    "def determinante_laplace(M):\n",
    "\n",
    "    if M.shape[0] == 1:\n",
    "        return M\n",
    "    \n",
    "    elif M.shape[0] != M.shape[1]: # si la matriz no es cuadrada\n",
    "        raise ValueError('invalid shape')\n",
    "    \n",
    "    elif M.shape == (2,2): # si la matriz es de 2x2 devuelve directamente el determinante\n",
    "        return det_2x2(M)\n",
    "    \n",
    "    det = 0\n",
    "    signo = 1\n",
    "    \n",
    "    for col in range(len(M[0,:])):\n",
    "        multiplicador =  M[0,col] # el valor de la fila 0 y la columna que le corresponde\n",
    "        sub_M = extraer_sub_mariz(M, col= col)\n",
    "        multiplicador *= determinante_laplace(sub_M)# el multiplicador va a ser el determinante de la submatriz\n",
    "        det += multiplicador*signo # se calcula el determinante por su correspondiente signo\n",
    "        signo *= -1 # cambia el signo\n",
    "    \n",
    "    return det"
   ]
  },
  {
   "cell_type": "code",
   "execution_count": 35,
   "metadata": {},
   "outputs": [
    {
     "name": "stdout",
     "output_type": "stream",
     "text": [
      "[[1 6 6 9 0 6 4 7 4 7]\n",
      " [1 1 9 8 2 3 6 6 9 9]\n",
      " [1 5 1 0 5 6 6 2 6 9]\n",
      " [8 3 2 1 9 8 3 2 7 8]\n",
      " [9 2 1 8 1 8 0 4 5 4]\n",
      " [4 3 3 3 7 8 5 1 9 4]\n",
      " [9 7 3 3 1 6 1 3 8 3]\n",
      " [2 8 2 1 0 4 8 2 1 4]\n",
      " [4 3 6 2 8 7 5 7 3 3]\n",
      " [9 8 7 5 8 6 4 2 2 1]]\n",
      "\n",
      "\n",
      "-93941678\n",
      "-93941678.0\n"
     ]
    }
   ],
   "source": [
    "np.random.seed(17)\n",
    "M = np.random.randint(low= 0,high=10, size= (10,10))\n",
    "\n",
    "print(M)\n",
    "print('\\n')\n",
    "print(determinante_laplace(M))\n",
    "print(round(np.linalg.det(M),0))"
   ]
  },
  {
   "cell_type": "markdown",
   "metadata": {},
   "source": [
    "## B: [0.5 puntos] Si A es una matriz cuadrada n×n y triangular (superior o inferior, es decir, con entradas nulas por debajo o por encima de la diagonal, respectivamente), ¿existe alguna forma de calcular de forma directa y sencilla su determinante? Justif´ıquese la respuesta.\n",
    "\n",
    "Si una matriz es diagonal superior o inferior, el cálculo del determinante no es más que la multiplicación de los elementos que se encuentran en la diagonal principal. Esto ocurre así tanto por que en la mátriz principal como en las matrices inferiores, los únicos componentes no nulos son los que encontraremos en la diagonal, el resto se multiplicara por 0."
   ]
  },
  {
   "cell_type": "code",
   "execution_count": 48,
   "metadata": {},
   "outputs": [
    {
     "name": "stdout",
     "output_type": "stream",
     "text": [
      "[[7 0 0 0]\n",
      " [7 3 0 0]\n",
      " [5 4 8 0]\n",
      " [3 6 5 2]]\n",
      "\n",
      "\n",
      "336\n",
      "336\n"
     ]
    }
   ],
   "source": [
    "np.random.seed(42)\n",
    "M_diagonal = np.random.randint(low= 1, high=10, size = (4,4))\n",
    "M_diagonal= np.tril(M_diagonal, k= 0)\n",
    "print(M_diagonal)\n",
    "det= 1\n",
    "for n in range(len(M_diagonal[0,:])):\n",
    "    det*= M_diagonal[n,n]\n",
    "print('\\n')\n",
    "print(det)\n",
    "print(determinante_laplace(M_diagonal))\n"
   ]
  },
  {
   "cell_type": "markdown",
   "metadata": {},
   "source": [
    "## C: [0.5 puntos] Determínese de forma justificada cómo alteran el determinante de una matriz n × n las dos operaciones elementales siguientes:\n",
    "\n",
    "### Intercambiar una fila (o columna) por otra fila (o columna).\n",
    "\n",
    "#### cambiando columnas"
   ]
  },
  {
   "cell_type": "code",
   "execution_count": 60,
   "metadata": {},
   "outputs": [
    {
     "name": "stdout",
     "output_type": "stream",
     "text": [
      "[[7 4 8]\n",
      " [5 7 3]\n",
      " [7 8 5]]\n",
      "\n",
      "\n",
      "-11\n",
      "\n",
      "\n",
      "[[4 7 8]\n",
      " [7 5 3]\n",
      " [8 7 5]]\n",
      "\n",
      "\n",
      "11\n"
     ]
    }
   ],
   "source": [
    "np.random.seed(42)\n",
    "M = np.random.randint(low= 1, high=10, size = (3,3))\n",
    "print(M)\n",
    "print('\\n')\n",
    "print(determinante_laplace(M))\n",
    "\n",
    "a = M[:,0].copy()\n",
    "b = M[:,1].copy()\n",
    "\n",
    "M[:,0] =  b\n",
    "M[:,1] =  a\n",
    "\n",
    "\n",
    "print('\\n')\n",
    "print(M)\n",
    "print('\\n')\n",
    "print(determinante_laplace(M))\n"
   ]
  },
  {
   "cell_type": "markdown",
   "metadata": {},
   "source": [
    "#### cambiando filas"
   ]
  },
  {
   "cell_type": "code",
   "execution_count": 62,
   "metadata": {},
   "outputs": [
    {
     "name": "stdout",
     "output_type": "stream",
     "text": [
      "[[2 7 7]\n",
      " [1 7 5]\n",
      " [8 5 8]]\n",
      "\n",
      "\n",
      "-71\n",
      "\n",
      "\n",
      "[[1 7 5]\n",
      " [2 7 7]\n",
      " [8 5 8]]\n",
      "\n",
      "\n",
      "71\n"
     ]
    }
   ],
   "source": [
    "np.random.seed(17)\n",
    "M = np.random.randint(low= 1, high=10, size = (3,3))\n",
    "print(M)\n",
    "print('\\n')\n",
    "print(determinante_laplace(M))\n",
    "\n",
    "a = M[0,:].copy()\n",
    "b = M[1,:].copy()\n",
    "\n",
    "M[0,:] =  b\n",
    "M[1,:] =  a\n",
    "\n",
    "\n",
    "print('\\n')\n",
    "print(M)\n",
    "print('\\n')\n",
    "print(determinante_laplace(M))\n"
   ]
  },
  {
   "cell_type": "markdown",
   "metadata": {},
   "source": [
    "### Sumar a una fila (o columna) otra fila (o columna) multiplicada por un escalar α.\n",
    "\n",
    "#### por columna"
   ]
  },
  {
   "cell_type": "code",
   "execution_count": 64,
   "metadata": {},
   "outputs": [
    {
     "name": "stdout",
     "output_type": "stream",
     "text": [
      "[[7 4 8]\n",
      " [5 7 3]\n",
      " [7 8 5]]\n",
      "\n",
      "\n",
      "-11\n",
      "\n",
      "\n",
      "[[ 7 18  8]\n",
      " [ 5 17  3]\n",
      " [ 7 22  5]]\n",
      "\n",
      "\n",
      "-11\n"
     ]
    }
   ],
   "source": [
    "np.random.seed(42)\n",
    "M = np.random.randint(low= 1, high=10, size = (3,3))\n",
    "print(M)\n",
    "print('\\n')\n",
    "print(determinante_laplace(M))\n",
    "\n",
    "alfa = 2\n",
    "M[:,1] += alfa*M[:,0]\n",
    "\n",
    "print('\\n')\n",
    "print(M)\n",
    "print('\\n')\n",
    "print(determinante_laplace(M))"
   ]
  },
  {
   "cell_type": "markdown",
   "metadata": {},
   "source": [
    "#### por fila"
   ]
  },
  {
   "cell_type": "code",
   "execution_count": 66,
   "metadata": {},
   "outputs": [
    {
     "name": "stdout",
     "output_type": "stream",
     "text": [
      "[[2 7 7]\n",
      " [1 7 5]\n",
      " [8 5 8]]\n",
      "\n",
      "\n",
      "-71\n",
      "\n",
      "\n",
      "[[ 2  7  7]\n",
      " [ 5 21 19]\n",
      " [ 8  5  8]]\n",
      "\n",
      "\n",
      "-71\n"
     ]
    }
   ],
   "source": [
    "np.random.seed(17)\n",
    "M = np.random.randint(low= 1, high=10, size = (3,3))\n",
    "print(M)\n",
    "print('\\n')\n",
    "print(determinante_laplace(M))\n",
    "\n",
    "alfa = 2\n",
    "M[1,:] += alfa*M[0,:]\n",
    "\n",
    "print('\\n')\n",
    "print(M)\n",
    "print('\\n')\n",
    "print(determinante_laplace(M))"
   ]
  },
  {
   "cell_type": "markdown",
   "metadata": {},
   "source": [
    "## D: [1 punto] Investiga sobre el método de eliminación de Gauss con pivoteo parcial e impleméntalo para escalonar una matriz (es decir, convertirla en una matriz triangular inferior) a partir de las operaciones elementales descritas en el apartado anterior."
   ]
  },
  {
   "cell_type": "code",
   "execution_count": 112,
   "metadata": {},
   "outputs": [
    {
     "data": {
      "text/plain": [
       "array([[7, 4, 8, 5],\n",
       "       [7, 3, 7, 8],\n",
       "       [5, 4, 8, 8],\n",
       "       [3, 6, 5, 2]])"
      ]
     },
     "execution_count": 112,
     "metadata": {},
     "output_type": "execute_result"
    }
   ],
   "source": [
    "np.random.seed(42)\n",
    "M = np.random.randint(low= 1, high=10, size = (4,4))\n",
    "M"
   ]
  },
  {
   "cell_type": "code",
   "execution_count": 100,
   "metadata": {},
   "outputs": [
    {
     "name": "stdout",
     "output_type": "stream",
     "text": [
      "[[ 2.6        -1.6         1.          0.        ]\n",
      " [ 2.6        -2.6         0.          3.        ]\n",
      " [ 1.85714286  0.          3.          4.42857143]\n",
      " [ 1.11428571  3.6         2.         -0.14285714]]\n"
     ]
    }
   ],
   "source": [
    "\n",
    "M = M.astype(float)\n",
    "for line in range(M.shape[0]-1): # Recorro las filas menos la última que no tengo que convertir a 0 ningun elemento\n",
    "\n",
    "     for n in range(len(M[line,(line+1):])): # Para cada número de la linea en el triangulo superior de la matriz\n",
    "          number = M[line,n+1] # es n + 1 por que los números de la columna 0 no se van a igualar a 0 \n",
    "          if number == 0:\n",
    "               continue # si el número ya es 0 continua al siguiente valor\n",
    "          else:\n",
    "               x = number/ M[line,0] # para el valor de la fila line y siempre la columna 0, resuelvo x para cada numero del triangulo superior\n",
    "               M[:,0] *= x # le aplico esa operación simpre a la columna 0\n",
    "               M[:,n+1] -= M[:,0] # hago la resta entre columnas para que de 0\n",
    "\n",
    "print(M)"
   ]
  },
  {
   "cell_type": "code",
   "execution_count": 114,
   "metadata": {},
   "outputs": [],
   "source": [
    "def determinant_gauss(matrix):\n",
    "\n",
    "    if matrix.shape[0] != matrix.shape[1]:\n",
    "        raise ValueError(\"shape error\")\n",
    "\n",
    "    matrix = matrix.astype(float)\n",
    "\n",
    "    dimension = matrix.shape[0]\n",
    "\n",
    "    for col in range(dimension):\n",
    "\n",
    "        if matrix[col, col] == 0:\n",
    "            continue\n",
    "\n",
    "        else:\n",
    "            for line in range(0, col): # col - 1, -1, -1\n",
    "\n",
    "                factor = matrix[line, col] / matrix[col, col]\n",
    "                matrix[line, col:] -= factor * matrix[col, col:]\n",
    "\n",
    "    print(matrix)\n",
    "  \n",
    "    det = np.prod(np.diag(matrix))\n",
    "\n",
    "    return det"
   ]
  },
  {
   "cell_type": "code",
   "execution_count": 118,
   "metadata": {},
   "outputs": [
    {
     "name": "stdout",
     "output_type": "stream",
     "text": [
      "[[ -4   9   4   0  -3]\n",
      " [ -4   8   0   0  -7]\n",
      " [ -3  -8  -9   1  -5]\n",
      " [ -9 -10   1   1   6]\n",
      " [ -1   5   4   4   8]]\n",
      "\n",
      "\n",
      "[[ -4.   0.   0.   0.   0.]\n",
      " [ -4.   8.   0.   0.   0.]\n",
      " [ -3.  -8.  -9.   0.   0.]\n",
      " [ -9. -10.   1.   1.   0.]\n",
      " [ -1.   5.   4.   4.   8.]]\n"
     ]
    },
    {
     "data": {
      "text/plain": [
       "2304.0"
      ]
     },
     "execution_count": 118,
     "metadata": {},
     "output_type": "execute_result"
    }
   ],
   "source": [
    "np.random.seed(42)\n",
    "M = np.random.randint(low= -10, high=10, size = (5,5))\n",
    "print(M)\n",
    "print('\\n')\n",
    "determinant_gauss(M)"
   ]
  },
  {
   "cell_type": "code",
   "execution_count": 119,
   "metadata": {},
   "outputs": [
    {
     "data": {
      "text/plain": [
       "0.3"
      ]
     },
     "execution_count": 119,
     "metadata": {},
     "output_type": "execute_result"
    }
   ],
   "source": [
    "3/10"
   ]
  },
  {
   "cell_type": "code",
   "execution_count": 121,
   "metadata": {},
   "outputs": [
    {
     "data": {
      "text/plain": [
       "0.6"
      ]
     },
     "execution_count": 121,
     "metadata": {},
     "output_type": "execute_result"
    }
   ],
   "source": [
    "2*0.3"
   ]
  },
  {
   "cell_type": "code",
   "execution_count": null,
   "metadata": {},
   "outputs": [],
   "source": []
  }
 ],
 "metadata": {
  "kernelspec": {
   "display_name": "Python 3 (ipykernel)",
   "language": "python",
   "name": "python3"
  },
  "language_info": {
   "codemirror_mode": {
    "name": "ipython",
    "version": 3
   },
   "file_extension": ".py",
   "mimetype": "text/x-python",
   "name": "python",
   "nbconvert_exporter": "python",
   "pygments_lexer": "ipython3",
   "version": "3.10.6"
  },
  "toc": {
   "base_numbering": 1,
   "nav_menu": {},
   "number_sections": true,
   "sideBar": true,
   "skip_h1_title": false,
   "title_cell": "Table of Contents",
   "title_sidebar": "Contents",
   "toc_cell": false,
   "toc_position": {},
   "toc_section_display": true,
   "toc_window_display": false
  }
 },
 "nbformat": 4,
 "nbformat_minor": 2
}
