{
 "cells": [
  {
   "cell_type": "code",
   "execution_count": 2,
   "metadata": {},
   "outputs": [],
   "source": [
    "import numpy as np"
   ]
  },
  {
   "attachments": {},
   "cell_type": "markdown",
   "metadata": {},
   "source": [
    "# Ejercicio 1\n",
    "\n",
    "Tal y como ya hemos visto en clase, la variedad de herramientas proporcionadas por el algebra lineal son cruciales para desarrollar y fundamentar las bases de una variedad de técnicas relacionadas con el aprendizaje automático. Con ella, podemos describir el proceso de propagaci´on hacia adelante en una red neuronal, identificar ménimos locales en funciones multivariables (crucial para el proceso de retropropagación) o la descripción y empleo de métodos de reducción de la dimensionalidad, como el análisis de componentes principales (PCA), entre muchas otras aplicaciones. Cuando trabajamos en la práctica dentro de este ámbito, la cantidad de datos que manejamos puede ser muy grande, por lo que es especialmente importante emplear algoritmos eficientes y optimizados para reducir el coste computacional en la medida de lo posible. Por todo ello, el objetivo de este ejercicio es el de ilustrar las diferentes alternativas que pueden existir para realizar un proceso relacionado con el álgebra lineal y el impacto que puede tener cada variante en términos del coste computacional del mismo. En este caso en particular, y a modo de ilustración, nos centraremos en el cálculo del determinante de una matriz.\n",
    "\n",
    "## A: [1 punto] Implementa una función, determinante recursivo, que obtenga el determinante de una matriz cuadrada utilizando la definición recursiva de Laplace."
   ]
  },
  {
   "cell_type": "code",
   "execution_count": 1,
   "metadata": {},
   "outputs": [],
   "source": [
    "def extraer_sub_mariz (m, col):                                  # Dada una casilla, extrae la submatriz o componente de la matriz adjunta\n",
    "    sub_m = np.delete(m,0,0)\n",
    "    sub_m = np.delete(sub_m, col, 1)\n",
    "\n",
    "    return sub_m\n",
    "\n",
    "def det_2x2(matrix):                                             # resuelve el determinante para una matriz 2x2\n",
    "    if matrix.shape != (2,2):\n",
    "        raise ValueError('shape error')\n",
    "    \n",
    "    return matrix[0,0]*matrix[1,1]-matrix[0,1]*matrix[1,0]\n",
    "\n",
    "def determinante_laplace(M):                                     # Determinante recursivo\n",
    "\n",
    "    if M.shape[0] == 1:\n",
    "        return M\n",
    "    \n",
    "    elif M.shape[0] != M.shape[1]:                               # si la matriz no es cuadrada\n",
    "        raise ValueError('invalid shape')\n",
    "    \n",
    "    elif M.shape == (2,2):                                       # si la matriz es de 2x2 devuelve directamente el determinante\n",
    "        return det_2x2(M)\n",
    "    \n",
    "    det = 0\n",
    "    signo = 1\n",
    "    \n",
    "    for col in range(len(M[0,:])):\n",
    "        multiplicador =  M[0,col]                               # el valor de la fila 0 y la columna que le corresponde\n",
    "        sub_M = extraer_sub_mariz(M, col= col)\n",
    "        multiplicador *= determinante_laplace(sub_M)            # el multiplicador va a ser el determinante de la submatriz\n",
    "        det += multiplicador*signo                              # se calcula el determinante por su correspondiente signo\n",
    "        signo *= -1                                             # cambia el signo\n",
    "    \n",
    "    return det"
   ]
  },
  {
   "cell_type": "code",
   "execution_count": 3,
   "metadata": {},
   "outputs": [
    {
     "name": "stdout",
     "output_type": "stream",
     "text": [
      "[[1 6 6 9 0 6 4 7]\n",
      " [4 7 1 1 9 8 2 3]\n",
      " [6 6 9 9 1 5 1 0]\n",
      " [5 6 6 2 6 9 8 3]\n",
      " [2 1 9 8 3 2 7 8]\n",
      " [9 2 1 8 1 8 0 4]\n",
      " [5 4 4 3 3 3 7 8]\n",
      " [5 1 9 4 9 7 3 3]]\n",
      "\n",
      "\n",
      "7895784\n",
      "7895784.0\n"
     ]
    }
   ],
   "source": [
    "np.random.seed(17)\n",
    "M = np.random.randint(low= 0,high=10, size= (8,8))\n",
    "\n",
    "print(M)\n",
    "print('\\n')\n",
    "print(determinante_laplace(M))\n",
    "print(round(np.linalg.det(M),0))"
   ]
  },
  {
   "attachments": {},
   "cell_type": "markdown",
   "metadata": {},
   "source": [
    "## B: [0.5 puntos] Si A es una matriz cuadrada n×n y triangular (superior o inferior, es decir, con entradas nulas por debajo o por encima de la diagonal, respectivamente), ¿existe alguna forma de calcular de forma directa y sencilla su determinante? Justifíquese la respuesta.\n",
    "\n",
    "Si una matriz es diagonal superior o inferior, el cálculo del determinante no es más que la multiplicación de los elementos que se encuentran en la diagonal principal. Esto ocurre así tanto por que en la mátriz principal como en las matrices inferiores, los únicos componentes no nulos son los que encontraremos en la diagonal, el resto se multiplicara por 0."
   ]
  },
  {
   "cell_type": "code",
   "execution_count": 4,
   "metadata": {},
   "outputs": [
    {
     "name": "stdout",
     "output_type": "stream",
     "text": [
      "[[7 0 0 0]\n",
      " [7 3 0 0]\n",
      " [5 4 8 0]\n",
      " [3 6 5 2]]\n",
      "\n",
      "\n",
      "336\n",
      "336\n"
     ]
    }
   ],
   "source": [
    "np.random.seed(42)\n",
    "M_diagonal = np.random.randint(low= 1, high=10, size = (4,4))\n",
    "M_diagonal= np.tril(M_diagonal, k= 0)\n",
    "print(M_diagonal)\n",
    "det= 1\n",
    "for n in range(len(M_diagonal[0,:])):\n",
    "    det*= M_diagonal[n,n]\n",
    "print('\\n')\n",
    "print(det)\n",
    "print(determinante_laplace(M_diagonal))\n"
   ]
  },
  {
   "attachments": {},
   "cell_type": "markdown",
   "metadata": {},
   "source": [
    "## C: [0.5 puntos] DetermÍnese de forma justificada cómo alteran el determinante de una matriz n × n las dos operaciones elementales siguientes:\n",
    "\n",
    "### Intercambiar una fila (o columna) por otra fila (o columna)\n",
    "\n",
    "#### columna"
   ]
  },
  {
   "cell_type": "code",
   "execution_count": 5,
   "metadata": {},
   "outputs": [
    {
     "name": "stdout",
     "output_type": "stream",
     "text": [
      "[[7 4 8]\n",
      " [5 7 3]\n",
      " [7 8 5]]\n",
      "\n",
      "\n",
      "-11\n",
      "\n",
      "\n",
      "[[4 7 8]\n",
      " [7 5 3]\n",
      " [8 7 5]]\n",
      "\n",
      "\n",
      "11\n"
     ]
    }
   ],
   "source": [
    "np.random.seed(42)\n",
    "M = np.random.randint(low= 1, high=10, size = (3,3))\n",
    "print(M)\n",
    "print('\\n')\n",
    "print(determinante_laplace(M))\n",
    "\n",
    "a = M[:,0].copy()\n",
    "b = M[:,1].copy()\n",
    "\n",
    "M[:,0] =  b\n",
    "M[:,1] =  a\n",
    "\n",
    "\n",
    "print('\\n')\n",
    "print(M)\n",
    "print('\\n')\n",
    "print(determinante_laplace(M))\n"
   ]
  },
  {
   "attachments": {},
   "cell_type": "markdown",
   "metadata": {},
   "source": [
    "\n",
    "#### fila"
   ]
  },
  {
   "cell_type": "code",
   "execution_count": 6,
   "metadata": {},
   "outputs": [
    {
     "name": "stdout",
     "output_type": "stream",
     "text": [
      "[[7 4 8]\n",
      " [5 7 3]\n",
      " [7 8 5]]\n",
      "\n",
      "\n",
      "-11\n",
      "\n",
      "\n",
      "[[5 7 3]\n",
      " [7 4 8]\n",
      " [7 8 5]]\n",
      "\n",
      "\n",
      "11\n"
     ]
    }
   ],
   "source": [
    "np.random.seed(42)\n",
    "M = np.random.randint(low= 1, high=10, size = (3,3))\n",
    "print(M)\n",
    "print('\\n')\n",
    "print(determinante_laplace(M))\n",
    "\n",
    "a = M[0,:].copy()\n",
    "b = M[1,:].copy()\n",
    "\n",
    "M[0,:] =  b\n",
    "M[1,:] =  a\n",
    "\n",
    "\n",
    "print('\\n')\n",
    "print(M)\n",
    "print('\\n')\n",
    "print(determinante_laplace(M))\n"
   ]
  },
  {
   "attachments": {},
   "cell_type": "markdown",
   "metadata": {},
   "source": [
    "#### conclusión\n",
    "\n",
    "cambiar una fila por otra, o una columna por otra cambia el signo, pero no altera el valor del determinante\n",
    "\n",
    "### Sumar a una fila (o columna) otra fila (o columna) multiplicada por un escalar α.\n",
    "\n",
    "\n",
    "#### columna"
   ]
  },
  {
   "cell_type": "code",
   "execution_count": 5,
   "metadata": {},
   "outputs": [
    {
     "name": "stdout",
     "output_type": "stream",
     "text": [
      "[[7 4 8]\n",
      " [5 7 3]\n",
      " [7 8 5]]\n",
      "\n",
      "\n",
      "-11\n",
      "\n",
      "\n",
      "[[ 7 18  8]\n",
      " [ 5 17  3]\n",
      " [ 7 22  5]]\n",
      "\n",
      "\n",
      "-11\n"
     ]
    }
   ],
   "source": [
    "np.random.seed(42)\n",
    "M = np.random.randint(low= 1, high=10, size = (3,3))\n",
    "print(M)\n",
    "print('\\n')\n",
    "print(determinante_laplace(M))\n",
    "\n",
    "a = 2\n",
    "\n",
    "\n",
    "\n",
    "M[:,1] += M[:,0]*a\n",
    "\n",
    "\n",
    "print('\\n')\n",
    "print(M)\n",
    "print('\\n')\n",
    "print(determinante_laplace(M))\n"
   ]
  },
  {
   "attachments": {},
   "cell_type": "markdown",
   "metadata": {},
   "source": [
    "#### por fila"
   ]
  },
  {
   "cell_type": "code",
   "execution_count": 8,
   "metadata": {},
   "outputs": [
    {
     "name": "stdout",
     "output_type": "stream",
     "text": [
      "[[7 4 8]\n",
      " [5 7 3]\n",
      " [7 8 5]]\n",
      "\n",
      "\n",
      "-11\n",
      "\n",
      "\n",
      "[[ 7  4  8]\n",
      " [19 15 19]\n",
      " [ 7  8  5]]\n",
      "\n",
      "\n",
      "-11\n"
     ]
    }
   ],
   "source": [
    "np.random.seed(42)\n",
    "M = np.random.randint(low= 1, high=10, size = (3,3))\n",
    "print(M)\n",
    "print('\\n')\n",
    "print(determinante_laplace(M))\n",
    "\n",
    "a = 2\n",
    "\n",
    "\n",
    "\n",
    "M[1,:] += M[0,:]*a\n",
    "\n",
    "\n",
    "print('\\n')\n",
    "print(M)\n",
    "print('\\n')\n",
    "print(determinante_laplace(M))"
   ]
  },
  {
   "attachments": {},
   "cell_type": "markdown",
   "metadata": {},
   "source": [
    "#### Conclusión\n",
    "\n",
    "sumar a una columna (o fila), otra  multiplicada por un escalar no altera el determinante.\n",
    "\n",
    "## D: [1 punto] Investiga sobre el método de eliminación de Gauss con pivoteo parcial e impleméntalo para escalonar una matriz (es decir, convertirla en una matriz triangular inferior) a partir de las operaciones elementales descritas en el apartado anterior.\n",
    "\n",
    "    - Ir a la primera columna número cero de izquierda a derecha.\n",
    "    - Si la primera fila tiene un cero en esta columna, intercambiarlo con otra que no lo tenga.\n",
    "    - Luego, obtener ceros debajo de este elemento delantero, sumando múltiplos adecuados del renglón superior a los renglones debajo de él.\n",
    "    - Cubrir el renglón superior y repetir el proceso anterior con la submatriz restante. Repetir con el resto de los renglones (en este punto la matriz se encuentra en forma escalonada).\n",
    "    - Comenzando con el último renglón no cero, avanzar hacia arriba: para cada renglón obtener 1 delantero e introducir ceros arriba de este sumando múltiplos correspondientes a los renglones correspondientes.\n",
    "\n",
    "Una variante interesante de la eliminación de Gauss es la que llamamos eliminación de Gauss-Jordan, (debido al mencionado Gauss y a Wilhelm Jordan), esta consiste en ir obteniendo los 1 delanteros durante los pasos uno al cuatro (llamados paso directo) así para cuando estos finalicen ya se obtendrá la matriz en forma escalonada reducida. \n",
    "\n",
    "## E: [0.5 puntos] ¿Cómo se podría calcular el determinante de una matriz haciendo beneficio de la estrategia anterior y del efecto de aplicar las operaciones elementales pertinentes? Implementa una nueva función, determinante gauss, que calcule el determinante de una matriz utilizando eliminación gaussiana.\n",
    "\n",
    "\n",
    "Respondere la D y la E a la vez"
   ]
  },
  {
   "cell_type": "code",
   "execution_count": 9,
   "metadata": {},
   "outputs": [
    {
     "name": "stdout",
     "output_type": "stream",
     "text": [
      "[[7 4 8 5]\n",
      " [7 3 7 8]\n",
      " [5 4 8 8]\n",
      " [3 6 5 2]]\n"
     ]
    }
   ],
   "source": [
    "np.random.seed(42)\n",
    "M = np.random.randint(low= 1, high=10, size = (4,4))\n",
    "print(M)"
   ]
  },
  {
   "cell_type": "code",
   "execution_count": 10,
   "metadata": {},
   "outputs": [],
   "source": [
    "def determinant_gauss_jordan_inf(M):\n",
    "\n",
    "    if M.shape[0] != M.shape[1]:\n",
    "        raise ValueError(\"La matriz no es cuadrada\")            # si la matriz no es cuadrada dara error\n",
    "\n",
    "    dimensiones = M.shape[0]\n",
    "    M = M.astype(float)                                         # la paso a float para que las operaciones funcionen correctamente\n",
    "\n",
    "\n",
    "    # empieza el método gauss Jordan\n",
    "    for col in range(dimensiones-1):                            # no llega hasta la última columna\n",
    "        pivote_diagonal = M[col,col]\n",
    "\n",
    "        for linea in range(col+1, dimensiones):                 # la linea de eliminación siempre será la columna +1\n",
    "\n",
    "            coeficiente = M[linea, col] / pivote_diagonal\n",
    "            M[linea, :] -= coeficiente * M[col,: ]              # transformamos la línea restando su linea siguiente por el coeficiente calculado\n",
    "    \n",
    "    # calculo del determinante por la diagonal\n",
    "    determinante = 1\n",
    "    for numero in range(dimensiones):\n",
    "        determinante *= M[numero,numero]\n",
    "        \n",
    "    #print(M)\n",
    "    return round(determinante,0)\n"
   ]
  },
  {
   "cell_type": "code",
   "execution_count": 11,
   "metadata": {},
   "outputs": [],
   "source": [
    "def determinante_gauss_jordan_sup(M):\n",
    "    \n",
    "    if M.shape[0] != M.shape[1]:\n",
    "        raise ValueError('La matriz no es cuadrada')\n",
    "    \n",
    "    dimensiones = M.shape[0]\n",
    "    M = M.astype(float)\n",
    "\n",
    "    # empieza el método gauss Jordan\n",
    "    for col in range(dimensiones -1, -1, -1):                   # no tocamos la ultima columna y la recorremos desde la penultima hasta la primera\n",
    "\n",
    "        diagonal_pivote = M[col,col]\n",
    "        if diagonal_pivote == 0:                                # el valor de la diagonal no debe ser 0, en tal caso habria que cambiar las filas de sitio\n",
    "            continue \n",
    "\n",
    "        for linea in range(col-1, -1, -1):                      # no va a tocar la ultima fila, y tiene que ir de abajo hacia arriba para la triangulacion superior\n",
    "            coeficiente = M[linea, col]/diagonal_pivote\n",
    "            M[linea,:] -= coeficiente*M[col,:]                  # se modifica la linea restando la linea de la diagonal (linea -1) por el coeficiente calculado\n",
    "    \n",
    "    # calculo del determinante por la diagonal\n",
    "    determinante = 1\n",
    "    for numero in range(len(M[0,:])):\n",
    "        determinante *= M[numero,numero]\n",
    "\n",
    "    #print(M)\n",
    "    return round(determinante,0)\n"
   ]
  },
  {
   "attachments": {},
   "cell_type": "markdown",
   "metadata": {},
   "source": [
    "#### Nota importante:\n",
    "\n",
    "Esta es una funcion simplificada donde solo funcionara o calculara el valor correcto del determinante si no hay zeros en la diagonal. Por no complicarme más lo dejaré así"
   ]
  },
  {
   "cell_type": "code",
   "execution_count": 12,
   "metadata": {},
   "outputs": [
    {
     "data": {
      "text/plain": [
       "-251.0"
      ]
     },
     "execution_count": 12,
     "metadata": {},
     "output_type": "execute_result"
    }
   ],
   "source": [
    "determinant_gauss_jordan_inf(M)"
   ]
  },
  {
   "cell_type": "code",
   "execution_count": 13,
   "metadata": {},
   "outputs": [
    {
     "data": {
      "text/plain": [
       "-251.0"
      ]
     },
     "execution_count": 13,
     "metadata": {},
     "output_type": "execute_result"
    }
   ],
   "source": [
    "determinante_gauss_jordan_sup(M)"
   ]
  },
  {
   "cell_type": "code",
   "execution_count": 14,
   "metadata": {},
   "outputs": [
    {
     "data": {
      "text/plain": [
       "-251"
      ]
     },
     "execution_count": 14,
     "metadata": {},
     "output_type": "execute_result"
    }
   ],
   "source": [
    "determinante_laplace(M)\n"
   ]
  },
  {
   "cell_type": "code",
   "execution_count": 15,
   "metadata": {},
   "outputs": [
    {
     "data": {
      "text/plain": [
       "-250.9999999999999"
      ]
     },
     "execution_count": 15,
     "metadata": {},
     "output_type": "execute_result"
    }
   ],
   "source": [
    "np.linalg.det(M)"
   ]
  },
  {
   "attachments": {},
   "cell_type": "markdown",
   "metadata": {},
   "source": [
    "## [0.5 puntos] Obten la complejidad computacional asociada al cálculo del determinante con la definición recursiva y con el método de eliminación de Gauss con pivoteo parcial.\n",
    "\n",
    "\n",
    "Partiendo de la siguiente tabla:\n",
    "\n",
    "<img src=\"img/tabla_complejidad_comp.png\" />\n",
    "\n",
    "### La **complejidad computacional** asociada al calculo del determinante mediante el **método de Gauss**\n",
    "\n",
    "La función hace uso de dos bucles for (en ralidad 3, pero el tercero es para el calculo del determinante por la diagonal, por lo que no escala de la misma manera que los demás);\n",
    "\n",
    "                ###############################################################################################################################\n",
    "\n",
    "    # empieza el método de gauss\n",
    "    for col in range(dimensiones-1): # no llega hasta la última columna\n",
    "        pivote_diagonal = M[col,col]\n",
    "\n",
    "        for linea in range(col+1, dimensiones): # la linea de eliminación siempre será la columna +1\n",
    "\n",
    "            coeficiente = M[linea, col] / pivote_diagonal\n",
    "            M[linea, :] -= coeficiente * M[col,: ] \n",
    "\n",
    "                ###############################################################################################################################\n",
    "\n",
    "Las iteraciones escalan en n dimeniones - 1 operaciones al cuadrado p.e, para las siguientes matrices:\n",
    "\n",
    " $ M(2x2) --->: (n-1)*(n-1) = 1*1 $ iteración\n",
    "\n",
    " $ M(3x3) --->: (n-1)*(n-1) = 2*2 $ iteraciones\n",
    "\n",
    " $ M(4x4) --->: (n-1)*(n-1) = 3*3 $ iteraciones\n",
    " \n",
    " etc.\n",
    "\n",
    " Por lo tanto, a medida que las entradas aumentan el número de iteraciones aumenta cuadráticamente, y sin tener en cuenta que la funcion no contempla el hecho de desplazar filas ni columnas en caso de que algun elemento de la diagonal sea 0, por lo que, un algoritmo más completo requeriría de más operaciones, de tal modo que para esta función la complejidad computacional será, de al menos: **$ O(n^2) $** o superior.\n",
    "\n",
    "\n",
    " ### La **complejidad computacional** asociada al calculo del determinante recursivo por el **método de laplace**\n",
    "\n",
    " La función hace uso de un solo bucle for, pero en cada bucle se llama a si misma: \n",
    "\n",
    "\n",
    "                ###############################################################################################################################\n",
    "\n",
    "    det = 0\n",
    "    signo = 1\n",
    "    \n",
    "    for col in range(len(M[0,:])):\n",
    "        multiplicador =  M[0,col] # el valor de la fila 0 y la columna que le corresponde\n",
    "        sub_M = extraer_sub_mariz(M, col= col)\n",
    "        multiplicador *= determinante_laplace(sub_M)# el multiplicador va a ser el determinante de la submatriz\n",
    "        det += multiplicador*signo # se calcula el determinante por su correspondiente signo\n",
    "        signo *= -1 # cambia el signo\n",
    "    \n",
    "    return det\n",
    "\n",
    "                ###############################################################################################################################\n",
    "\n",
    "Las iteraciones escalan en n dimensiones, por cada vez que se llama la función, que esta tendra que hacer n - 1 iteraciones (pues es la submatriz de la primera), y así sucesivamente p.e, para las siguientes matrices:\n",
    "\n",
    " $ M(2x2) --->: (n)*(n-1) = 2*1 $ iteraciones\n",
    "\n",
    " $ M(3x3) --->: (n)*(n-1)*(n-2) = 3*2*1 $ iteraciones\n",
    "\n",
    " $ M(4x4) --->: (n)*(n-1)*(n-2)*(n-3) = 4*3*2*1 $ iteraciones\n",
    "\n",
    "etc\n",
    "\n",
    "De modo que a medida que aumentan las entradas (las dimensiones de la matriz) la operaciones a realizar aumentan factorialmente **$O(n!)$**\n",
    "\n",
    "## G: [1 punto] Utilizando numpy.random.rand, genera matrices cuadradas aleatorias de la forma An ∈ Rn×n, para 2 ≤ n ≤ 10, y confecciona una tabla comparativa del tiempo de ejecución asociado a cada una de las variantes siguientes, interpretando los resultados: \n",
    "\n",
    "- Utilizando determinante recursivo.\n",
    "- Empleando determinante gauss.\n",
    "- Haciendo uso de la funci´on preprogramada numpy.linalg.det.\n"
   ]
  },
  {
   "cell_type": "code",
   "execution_count": 17,
   "metadata": {},
   "outputs": [],
   "source": [
    "np.random.seed(42)\n",
    "M2 = np.random.randint(low= 1, high= 10, size = (2,2))\n",
    "M3 = np.random.randint(low= 1, high= 10, size = (3,3))\n",
    "M4 = np.random.randint(low= 1, high= 10, size = (4,4))\n",
    "M5 = np.random.randint(low= 1, high= 10, size = (5,5))\n",
    "M6 = np.random.randint(low= 1, high= 10, size = (6,6))\n",
    "M7 = np.random.randint(low= 1, high= 10, size = (7,7))\n",
    "M8 = np.random.randint(low= 1, high= 10, size = (8,8))\n",
    "M9 = np.random.randint(low= 1, high= 10, size = (9,9))\n",
    "M10 = np.random.randint(low= 1, high= 10, size = (10,10))"
   ]
  },
  {
   "cell_type": "code",
   "execution_count": 18,
   "metadata": {},
   "outputs": [],
   "source": [
    "import time"
   ]
  },
  {
   "cell_type": "code",
   "execution_count": 19,
   "metadata": {},
   "outputs": [],
   "source": [
    "def tiempo_det_recursivo(M):\n",
    "    start_time = time.time()\n",
    "    determinante = determinante_laplace(M)\n",
    "    end_time = time.time()\n",
    "    execution_time = end_time - start_time\n",
    "    return round(execution_time,4)\n",
    "\n",
    "def tiempo_det_gauss(M):\n",
    "    start_time = time.time()\n",
    "    determinante = determinant_gauss_jordan_inf(M)\n",
    "    end_time = time.time()\n",
    "    execution_time = end_time - start_time\n",
    "    return round(execution_time,4)\n",
    "\n",
    "def tiempo_det_numpy(M):\n",
    "    start_time = time.time()\n",
    "    determinante = np.linalg.det(M)\n",
    "    end_time = time.time()\n",
    "    execution_time = end_time - start_time\n",
    "    return round(execution_time,4)"
   ]
  },
  {
   "cell_type": "code",
   "execution_count": 20,
   "metadata": {},
   "outputs": [],
   "source": [
    "lista_matrices = [M2,M3,M4,M5,M6,M7,M8,M9,M10]"
   ]
  },
  {
   "cell_type": "code",
   "execution_count": 24,
   "metadata": {},
   "outputs": [
    {
     "name": "stdout",
     "output_type": "stream",
     "text": [
      "\t\t\t\t\t TIEMPOS DE EJECUCIÓN DEL CALCULO DEL DETERMINANTE\n",
      "\n",
      "\n",
      "| \tMATRIX 2X2\t|\tMétodo recursivo: 0.0 s \t|\tMétodo gauss: 0.0 s\t|\tMétodo numpy: 0.0 s\t|\n",
      "| \tMATRIX 3X3\t|\tMétodo recursivo: 0.0 s \t|\tMétodo gauss: 0.0 s\t|\tMétodo numpy: 0.0 s\t|\n",
      "| \tMATRIX 4X4\t|\tMétodo recursivo: 0.0 s \t|\tMétodo gauss: 0.0 s\t|\tMétodo numpy: 0.0 s\t|\n",
      "| \tMATRIX 5X5\t|\tMétodo recursivo: 0.0 s \t|\tMétodo gauss: 0.0 s\t|\tMétodo numpy: 0.0 s\t|\n",
      "| \tMATRIX 6X6\t|\tMétodo recursivo: 0.008 s \t|\tMétodo gauss: 0.0 s\t|\tMétodo numpy: 0.0 s\t|\n",
      "| \tMATRIX 7X7\t|\tMétodo recursivo: 0.0475 s \t|\tMétodo gauss: 0.0 s\t|\tMétodo numpy: 0.0 s\t|\n",
      "| \tMATRIX 8X8\t|\tMétodo recursivo: 0.3892 s \t|\tMétodo gauss: 0.0 s\t|\tMétodo numpy: 0.0 s\t|\n",
      "| \tMATRIX 9X9\t|\tMétodo recursivo: 3.318 s \t|\tMétodo gauss: 0.0 s\t|\tMétodo numpy: 0.0 s\t|\n",
      "| \tMATRIX 10X10\t|\tMétodo recursivo: 33.1429 s \t|\tMétodo gauss: 0.0 s\t|\tMétodo numpy: 0.0 s\t|\n"
     ]
    }
   ],
   "source": [
    "print('\\t\\t\\t\\t\\t TIEMPOS DE EJECUCIÓN DEL CALCULO DEL DETERMINANTE')\n",
    "print('\\n')\n",
    "\n",
    "for M in lista_matrices:\n",
    "    print(f'| \\tMATRIX {M.shape[0]}X{M.shape[1]}\\t|\\tMétodo recursivo: {tiempo_det_recursivo(M)} s \\t|\\tMétodo gauss: {tiempo_det_gauss(M)} s\\t|\\tMétodo numpy: {tiempo_det_numpy(M)} s\\t|')"
   ]
  },
  {
   "attachments": {},
   "cell_type": "markdown",
   "metadata": {},
   "source": [
    "#### Conclusiones\n",
    "\n",
    "para matrizes cuadradas de nxn dimensiones desde n = 2 hasta n = 10, el método recursivo de Laplace es único que da problemas, pues como se ha mencionado anteriormente, las operaciones a realizar crecen factorialmente, mientras que las del método de Gauss crecen entre cuadrática y cúbicamente. \n",
    "\n",
    "El método de numpy parece ser mejor o igual al metodo de Gauss, sin embargo, hay que recordar que el método de Gauss implementado esta simplificado, pues no dará un resultado correcto si en la diagonal se encuentra un 0, para eso habría que añadirle más operaciones, por lo que empeoraría el rendimiento un poco, haciendo más grande la brecha en este método y el de numpy, el cual esta optimizado al máximo."
   ]
  }
 ],
 "metadata": {
  "kernelspec": {
   "display_name": "base",
   "language": "python",
   "name": "python3"
  },
  "language_info": {
   "codemirror_mode": {
    "name": "ipython",
    "version": 3
   },
   "file_extension": ".py",
   "mimetype": "text/x-python",
   "name": "python",
   "nbconvert_exporter": "python",
   "pygments_lexer": "ipython3",
   "version": "3.9.13"
  },
  "orig_nbformat": 4
 },
 "nbformat": 4,
 "nbformat_minor": 2
}
