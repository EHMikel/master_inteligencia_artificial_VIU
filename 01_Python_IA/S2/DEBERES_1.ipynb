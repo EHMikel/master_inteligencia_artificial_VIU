{
 "cells": [
  {
   "attachments": {},
   "cell_type": "markdown",
   "metadata": {},
   "source": [
    "# DEBERES"
   ]
  },
  {
   "attachments": {},
   "cell_type": "markdown",
   "metadata": {},
   "source": [
    "## 1\n",
    "\n",
    "Separa la siguiente lista de tuples en dos, de forma que todos los números estén en una y las string en otra\n",
    "data = [(1,'banana'),(2,'pear'),(3,'sweet potato'),(4,'melon')]"
   ]
  },
  {
   "cell_type": "code",
   "execution_count": 2,
   "metadata": {},
   "outputs": [
    {
     "name": "stdout",
     "output_type": "stream",
     "text": [
      "[1, 2, 3, 4]\n",
      "['banana', 'pear', 'sweet potato', 'melon']\n"
     ]
    }
   ],
   "source": [
    "data = [(1,'banana'),(2,'pear'),(3,'sweet potato'),(4,'melon')]\n",
    "enteros= []\n",
    "strings = []\n",
    "for elem in data:\n",
    "    enteros.append(elem[0])\n",
    "    strings.append(elem[1])\n",
    "\n",
    "print(enteros)\n",
    "print(strings)\n",
    "    "
   ]
  },
  {
   "attachments": {},
   "cell_type": "markdown",
   "metadata": {},
   "source": [
    "## 2 Problema - Texto\n",
    "\n",
    "Realizar un programa que, pida al usuario una letra y diga si esa letra es mayúscula o minúscula. \n",
    "\n",
    "Esta letra tendrá que pedirse una vez ejecutado el programa, y este controlará que lo introducido entra dentro de los parámetros establecidos, ser de “a” a “z” o de “A” a Z”.\n",
    "\n",
    "Crear un programa aparte que sea ejecutado desde la terminal y cuyo parámetro de entrada al programa sea una letra.\n",
    "\n",
    "Que el programa que diga si un nombre introducido termina en vocal o consonante.\n",
    "\n",
    "Dado una lista de nombres en un programa, calcular el número de nombres que terminan en vocal y el número que terminan en consonante.\n",
    "\n",
    "['Jon', 'Bill', 'Maria', 'Jenny', 'Jack']"
   ]
  },
  {
   "cell_type": "code",
   "execution_count": 14,
   "metadata": {},
   "outputs": [
    {
     "name": "stdout",
     "output_type": "stream",
     "text": [
      "a\n",
      "<class 'str'>\n",
      "correcto\n"
     ]
    }
   ],
   "source": [
    "from string import ascii_lowercase, ascii_uppercase\n",
    "\n",
    "usuario = input('introduce una letra de la a ala z en mayuscula o minuscula: ')\n",
    "\n",
    "if (usuario  in ascii_uppercase) or (usuario in ascii_lowercase):\n",
    "\n",
    "    print('correcto')\n",
    "\n",
    "else:\n",
    "    raise ValueError('el item introducio no es valido')\n",
    "\n",
    "# if usuario not in ascii_lowercase or usuario not in ascii_uppercase:\n",
    "#     raise ValueError('el item introducio no es valido')"
   ]
  },
  {
   "cell_type": "code",
   "execution_count": 11,
   "metadata": {},
   "outputs": [
    {
     "name": "stdout",
     "output_type": "stream",
     "text": [
      "ABCDEFGHIJKLMNOPQRSTUVWXYZ\n"
     ]
    }
   ],
   "source": [
    "lista_"
   ]
  },
  {
   "cell_type": "code",
   "execution_count": null,
   "metadata": {},
   "outputs": [],
   "source": []
  }
 ],
 "metadata": {
  "kernelspec": {
   "display_name": "venv",
   "language": "python",
   "name": "python3"
  },
  "language_info": {
   "codemirror_mode": {
    "name": "ipython",
    "version": 3
   },
   "file_extension": ".py",
   "mimetype": "text/x-python",
   "name": "python",
   "nbconvert_exporter": "python",
   "pygments_lexer": "ipython3",
   "version": "3.10.6"
  },
  "orig_nbformat": 4
 },
 "nbformat": 4,
 "nbformat_minor": 2
}
