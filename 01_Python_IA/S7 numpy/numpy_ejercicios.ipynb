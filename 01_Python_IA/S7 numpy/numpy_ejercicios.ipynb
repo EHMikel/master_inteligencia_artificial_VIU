{
 "cells": [
  {
   "cell_type": "code",
   "execution_count": 2,
   "metadata": {},
   "outputs": [
    {
     "data": {
      "text/plain": [
       "'1.24.3'"
      ]
     },
     "execution_count": 2,
     "metadata": {},
     "output_type": "execute_result"
    }
   ],
   "source": [
    "# 1. Import the numpy package under the name np\n",
    "\n",
    "import numpy as np\n",
    "\n",
    "\n",
    "# 2. Print the numpy version and the configuration \n",
    "\n",
    "np.__version__"
   ]
  },
  {
   "cell_type": "code",
   "execution_count": 5,
   "metadata": {},
   "outputs": [
    {
     "name": "stdout",
     "output_type": "stream",
     "text": [
      "[0. 0. 0. 0. 0. 0. 0. 0. 0. 0.]\n"
     ]
    }
   ],
   "source": [
    "# Create a null vector of size 10\n",
    "\n",
    "zero_vector = np.zeros(10)\n",
    "\n",
    "print(zero_vector)"
   ]
  },
  {
   "cell_type": "code",
   "execution_count": 6,
   "metadata": {},
   "outputs": [
    {
     "name": "stdout",
     "output_type": "stream",
     "text": [
      "the size of the zero vector array its 10\n",
      "the Memory size of one element of the array in bytes its 8\n",
      "Memory size of the numpy array in bytes its 80\n"
     ]
    }
   ],
   "source": [
    "# 4. How to find the memory size of any array\n",
    "\n",
    "print(f'the size of the zero vector array its {zero_vector.size}')\n",
    "print(f'the Memory size of one element of the array in bytes its {zero_vector.itemsize}')\n",
    "print(f'Memory size of the numpy array in bytes its {zero_vector.size * zero_vector.itemsize}')"
   ]
  },
  {
   "cell_type": "code",
   "execution_count": 9,
   "metadata": {},
   "outputs": [
    {
     "name": "stdout",
     "output_type": "stream",
     "text": [
      "add(x1, x2, /, out=None, *, where=True, casting='same_kind', order='K', dtype=None, subok=True[, signature, extobj])\n",
      "\n",
      "Add arguments element-wise.\n",
      "\n",
      "Parameters\n",
      "----------\n",
      "x1, x2 : array_like\n",
      "    The arrays to be added.\n",
      "    If ``x1.shape != x2.shape``, they must be broadcastable to a common\n",
      "    shape (which becomes the shape of the output).\n",
      "out : ndarray, None, or tuple of ndarray and None, optional\n",
      "    A location into which the result is stored. If provided, it must have\n",
      "    a shape that the inputs broadcast to. If not provided or None,\n",
      "    a freshly-allocated array is returned. A tuple (possible only as a\n",
      "    keyword argument) must have length equal to the number of outputs.\n",
      "where : array_like, optional\n",
      "    This condition is broadcast over the input. At locations where the\n",
      "    condition is True, the `out` array will be set to the ufunc result.\n",
      "    Elsewhere, the `out` array will retain its original value.\n",
      "    Note that if an uninitialized `out` array is created via the default\n",
      "    ``out=None``, locations within it where the condition is False will\n",
      "    remain uninitialized.\n",
      "**kwargs\n",
      "    For other keyword-only arguments, see the\n",
      "    :ref:`ufunc docs <ufuncs.kwargs>`.\n",
      "\n",
      "Returns\n",
      "-------\n",
      "add : ndarray or scalar\n",
      "    The sum of `x1` and `x2`, element-wise.\n",
      "    This is a scalar if both `x1` and `x2` are scalars.\n",
      "\n",
      "Notes\n",
      "-----\n",
      "Equivalent to `x1` + `x2` in terms of array broadcasting.\n",
      "\n",
      "Examples\n",
      "--------\n",
      ">>> np.add(1.0, 4.0)\n",
      "5.0\n",
      ">>> x1 = np.arange(9.0).reshape((3, 3))\n",
      ">>> x2 = np.arange(3.0)\n",
      ">>> np.add(x1, x2)\n",
      "array([[  0.,   2.,   4.],\n",
      "       [  3.,   5.,   7.],\n",
      "       [  6.,   8.,  10.]])\n",
      "\n",
      "The ``+`` operator can be used as a shorthand for ``np.add`` on ndarrays.\n",
      "\n",
      ">>> x1 = np.arange(9.0).reshape((3, 3))\n",
      ">>> x2 = np.arange(3.0)\n",
      ">>> x1 + x2\n",
      "array([[ 0.,  2.,  4.],\n",
      "       [ 3.,  5.,  7.],\n",
      "       [ 6.,  8., 10.]])\n",
      "None\n"
     ]
    }
   ],
   "source": [
    "# 5. How to get the documentation of the numpy add function from the command line?\n",
    "\n",
    "# print((help(np.add)))\n",
    "# print('\\n')\n",
    "print(np.info(np.add))"
   ]
  },
  {
   "cell_type": "code",
   "execution_count": 11,
   "metadata": {},
   "outputs": [
    {
     "name": "stdout",
     "output_type": "stream",
     "text": [
      "[0. 0. 0. 0. 1. 0. 0. 0. 0. 0.]\n"
     ]
    }
   ],
   "source": [
    "# Create a null vector of size 10 but the fifth value which is 1\n",
    "\n",
    "vector_1 = np.zeros(10)\n",
    "vector_1[4] = 1\n",
    "\n",
    "print(vector_1)"
   ]
  },
  {
   "cell_type": "code",
   "execution_count": 12,
   "metadata": {},
   "outputs": [
    {
     "name": "stdout",
     "output_type": "stream",
     "text": [
      "[10 11 12 13 14 15 16 17 18 19 20 21 22 23 24 25 26 27 28 29 30 31 32 33\n",
      " 34 35 36 37 38 39 40 41 42 43 44 45 46 47 48 49]\n"
     ]
    }
   ],
   "source": [
    "# 7. Create a vector with values ranging from 10 to 49 \n",
    "\n",
    "vector_2 = np.arange(10,50)\n",
    "print(vector_2)"
   ]
  },
  {
   "cell_type": "code",
   "execution_count": 16,
   "metadata": {},
   "outputs": [
    {
     "name": "stdout",
     "output_type": "stream",
     "text": [
      "[49 48 47 46 45 44 43 42 41 40 39 38 37 36 35 34 33 32 31 30 29 28 27 26\n",
      " 25 24 23 22 21 20 19 18 17 16 15 14 13 12 11 10]\n"
     ]
    }
   ],
   "source": [
    "# Reverse a vector (first element becomes last)\n",
    "\n",
    "print((vector_2[::-1]))\n"
   ]
  },
  {
   "cell_type": "code",
   "execution_count": 17,
   "metadata": {},
   "outputs": [
    {
     "name": "stdout",
     "output_type": "stream",
     "text": [
      "[[0 1 2]\n",
      " [3 4 5]\n",
      " [6 7 8]]\n"
     ]
    }
   ],
   "source": [
    "\n",
    "# 9. Create a 3x3 matrix with values ranging from 0 to 8 \n",
    "\n",
    "M = np.arange(9).reshape(3,3)\n",
    "print(M)"
   ]
  },
  {
   "cell_type": "code",
   "execution_count": 21,
   "metadata": {},
   "outputs": [
    {
     "name": "stdout",
     "output_type": "stream",
     "text": [
      "[1 2 4]\n"
     ]
    }
   ],
   "source": [
    "# 10. Find indices of non-zero elements from [1,2,0,0,4,0]\n",
    "\n",
    "v = np.array([1,2,0,0,4,0])\n",
    "mask = v != 0 # mascara booleana \n",
    "print(v[mask])"
   ]
  },
  {
   "cell_type": "code",
   "execution_count": 23,
   "metadata": {},
   "outputs": [
    {
     "name": "stdout",
     "output_type": "stream",
     "text": [
      "[[1. 0. 0.]\n",
      " [0. 1. 0.]\n",
      " [0. 0. 1.]]\n"
     ]
    }
   ],
   "source": [
    "#  11. Create a 3x3 identity matrix\n",
    "\n",
    "I = np.identity(3)\n",
    "print(I)"
   ]
  },
  {
   "cell_type": "code",
   "execution_count": 33,
   "metadata": {},
   "outputs": [
    {
     "name": "stdout",
     "output_type": "stream",
     "text": [
      "[[[101 116 101]\n",
      "  [117 103 116]\n",
      "  [106 109 118]]\n",
      "\n",
      " [[101 100 105]\n",
      "  [105 106 106]\n",
      "  [118 114 117]]\n",
      "\n",
      " [[118 104 105]\n",
      "  [107 100 114]\n",
      "  [106 113 106]]]\n"
     ]
    }
   ],
   "source": [
    "# 12. Create a 3x3x3 array with random values \n",
    "\n",
    "print(np.random.randint(100,120, size= (3,3,3)))\n"
   ]
  },
  {
   "cell_type": "code",
   "execution_count": 39,
   "metadata": {},
   "outputs": [
    {
     "name": "stdout",
     "output_type": "stream",
     "text": [
      "[[0.8162536  0.14268305 0.94878318 0.27559915 0.48125109 0.27435672\n",
      "  0.44371829 0.61983585 0.88344728 0.85077123]\n",
      " [0.6692388  0.01167111 0.04789929 0.88272903 0.17747811 0.45307792\n",
      "  0.43497803 0.31324801 0.4613273  0.781937  ]\n",
      " [0.79678886 0.12409671 0.65040957 0.40241599 0.11975035 0.17198289\n",
      "  0.15562137 0.52240041 0.75570701 0.56564907]\n",
      " [0.91476136 0.36766371 0.3352931  0.84570703 0.09343202 0.42530819\n",
      "  0.90393173 0.79953212 0.58580668 0.84810165]\n",
      " [0.63895239 0.71724098 0.39620579 0.92225294 0.52490045 0.95329069\n",
      "  0.18746674 0.19745274 0.72913961 0.77304188]\n",
      " [0.44527443 0.36183122 0.04425869 0.68137373 0.46120965 0.58800827\n",
      "  0.55048144 0.10579654 0.91457628 0.84803759]\n",
      " [0.25478507 0.49207669 0.55893248 0.5646067  0.53236463 0.93630668\n",
      "  0.8951932  0.83757439 0.35404977 0.37459453]\n",
      " [0.51939888 0.32946413 0.56579681 0.82375485 0.86979009 0.15394213\n",
      "  0.07740228 0.39839897 0.51076193 0.6450594 ]\n",
      " [0.00997364 0.9534953  0.71258916 0.57396473 0.19432046 0.70428246\n",
      "  0.51336412 0.79320602 0.06546713 0.34879384]\n",
      " [0.36132905 0.81725347 0.0725043  0.86926743 0.69715209 0.01669614\n",
      "  0.0954552  0.04125442 0.9947737  0.78103218]]\n",
      "\n",
      "\n",
      "the minimun its 0.009973640933102268\n",
      "the maximum its 0.994773704564905\n"
     ]
    }
   ],
   "source": [
    "# 13. Create a 10x10 array with random values and find the minimum and maximum values \n",
    "\n",
    "rand_M = np.random.random(size=(10,10))\n",
    "print(rand_M)\n",
    "print('\\n')\n",
    "print(f'the minimun its {rand_M.min()}')\n",
    "print(f'the maximum its {rand_M.max()}')"
   ]
  },
  {
   "cell_type": "code",
   "execution_count": 40,
   "metadata": {},
   "outputs": [
    {
     "name": "stdout",
     "output_type": "stream",
     "text": [
      "0.46475445402549936\n"
     ]
    }
   ],
   "source": [
    "# 14. Create a random vector of size 30 and find the mean value\n",
    "\n",
    "print(np.random.random(size= 30).mean())"
   ]
  },
  {
   "cell_type": "code",
   "execution_count": 44,
   "metadata": {},
   "outputs": [
    {
     "name": "stdout",
     "output_type": "stream",
     "text": [
      "[[1. 1. 1. 1. 1.]\n",
      " [1. 0. 0. 0. 1.]\n",
      " [1. 0. 0. 0. 1.]\n",
      " [1. 0. 0. 0. 1.]\n",
      " [1. 1. 1. 1. 1.]]\n"
     ]
    }
   ],
   "source": [
    "# 15. Create a 2d array with 1 on the border and 0 inside\n",
    "\n",
    "arr_2d = np.zeros(25).reshape(5,5)\n",
    "arr_2d[0,:] = 1\n",
    "arr_2d[-1,:] = 1\n",
    "arr_2d[:,0] = 1\n",
    "arr_2d[:,-1] = 1\n",
    "print(arr_2d)\n",
    "\n"
   ]
  },
  {
   "cell_type": "code",
   "execution_count": 50,
   "metadata": {},
   "outputs": [
    {
     "name": "stdout",
     "output_type": "stream",
     "text": [
      "[[1. 1. 1.]\n",
      " [1. 1. 1.]\n",
      " [1. 1. 1.]]\n",
      "\n",
      "\n",
      "[[0. 0. 0. 0. 0.]\n",
      " [0. 1. 1. 1. 0.]\n",
      " [0. 1. 1. 1. 0.]\n",
      " [0. 1. 1. 1. 0.]\n",
      " [0. 0. 0. 0. 0.]]\n"
     ]
    }
   ],
   "source": [
    "# 16. How to add a border (filled with 0's) around an existing array? \n",
    "\n",
    "v1 = np.ones((3,3))\n",
    "print(v1)\n",
    "print('\\n')\n",
    "\n",
    "v1 = np.pad(v1, pad_width=1, mode= 'constant', constant_values=0)\n",
    "print(v1)"
   ]
  },
  {
   "cell_type": "code",
   "execution_count": 53,
   "metadata": {},
   "outputs": [
    {
     "name": "stdout",
     "output_type": "stream",
     "text": [
      "nan\n",
      "False\n",
      "False\n",
      "nan\n",
      "True\n",
      "False\n"
     ]
    }
   ],
   "source": [
    "# 17. What is the result of the following expression?\n",
    "\n",
    "print(0 * np.nan)\n",
    "print(np.nan == np.nan)\n",
    "print(np.inf > np.nan)\n",
    "print(np.nan - np.nan)\n",
    "print(np.nan in set([np.nan]))\n",
    "print(0.3 == 3 * 0.1)"
   ]
  },
  {
   "cell_type": "code",
   "execution_count": 5,
   "metadata": {},
   "outputs": [
    {
     "name": "stdout",
     "output_type": "stream",
     "text": [
      "[[0 0 0 0 0]\n",
      " [1 0 0 0 0]\n",
      " [0 2 0 0 0]\n",
      " [0 0 3 0 0]\n",
      " [0 0 0 4 0]]\n"
     ]
    }
   ],
   "source": [
    "\n",
    "# 18. Create a 5x5 matrix with values 1,2,3,4 just below the diagonal\n",
    "d = np.diag(np.arange(1,5), k=-1) \n",
    "# k : int, optional\n",
    "# Diagonal in question. The default is 0. Use k>0 for diagonals above the main diagonal, and k<0 for diagonals below the main diagonal.\n",
    "print(d)"
   ]
  },
  {
   "cell_type": "code",
   "execution_count": 73,
   "metadata": {},
   "outputs": [
    {
     "name": "stdout",
     "output_type": "stream",
     "text": [
      "[[0. 1. 0. 1. 0. 1. 0. 1.]\n",
      " [1. 0. 1. 0. 1. 0. 1. 0.]\n",
      " [0. 1. 0. 1. 0. 1. 0. 1.]\n",
      " [1. 0. 1. 0. 1. 0. 1. 0.]\n",
      " [0. 1. 0. 1. 0. 1. 0. 1.]\n",
      " [1. 0. 1. 0. 1. 0. 1. 0.]\n",
      " [0. 1. 0. 1. 0. 1. 0. 1.]\n",
      " [1. 0. 1. 0. 1. 0. 1. 0.]]\n"
     ]
    }
   ],
   "source": [
    "# Create a 8x8 matrix and fill it with a checkerboard pattern \n",
    "check = np.zeros((8,8))\n",
    "check[1::2,::2] = 1 # desde la fila 1 hasta el final de una si una no, y desde la columna 0 hasta la utlima de una si otra no\n",
    "                    # el problema es que son pares y por eso hay que hacer el siguiente paso\n",
    "\n",
    "check[::2,1::2] = 1 # desde la fila 0 hasta la ultima haciendo una si otra, y la columna 1 hasta la ultima una si, una no\n",
    "print(check)"
   ]
  },
  {
   "cell_type": "code",
   "execution_count": 80,
   "metadata": {},
   "outputs": [
    {
     "name": "stdout",
     "output_type": "stream",
     "text": [
      "[[[  0   1   2   3   4   5   6   7]\n",
      "  [  8   9  10  11  12  13  14  15]\n",
      "  [ 16  17  18  19  20  21  22  23]\n",
      "  [ 24  25  26  27  28  29  30  31]\n",
      "  [ 32  33  34  35  36  37  38  39]\n",
      "  [ 40  41  42  43  44  45  46  47]\n",
      "  [ 48  49  50  51  52  53  54  55]]\n",
      "\n",
      " [[ 56  57  58  59  60  61  62  63]\n",
      "  [ 64  65  66  67  68  69  70  71]\n",
      "  [ 72  73  74  75  76  77  78  79]\n",
      "  [ 80  81  82  83  84  85  86  87]\n",
      "  [ 88  89  90  91  92  93  94  95]\n",
      "  [ 96  97  98  99 100 101 102 103]\n",
      "  [104 105 106 107 108 109 110 111]]\n",
      "\n",
      " [[112 113 114 115 116 117 118 119]\n",
      "  [120 121 122 123 124 125 126 127]\n",
      "  [128 129 130 131 132 133 134 135]\n",
      "  [136 137 138 139 140 141 142 143]\n",
      "  [144 145 146 147 148 149 150 151]\n",
      "  [152 153 154 155 156 157 158 159]\n",
      "  [160 161 162 163 164 165 166 167]]\n",
      "\n",
      " [[168 169 170 171 172 173 174 175]\n",
      "  [176 177 178 179 180 181 182 183]\n",
      "  [184 185 186 187 188 189 190 191]\n",
      "  [192 193 194 195 196 197 198 199]\n",
      "  [200 201 202 203 204 205 206 207]\n",
      "  [208 209 210 211 212 213 214 215]\n",
      "  [216 217 218 219 220 221 222 223]]\n",
      "\n",
      " [[224 225 226 227 228 229 230 231]\n",
      "  [232 233 234 235 236 237 238 239]\n",
      "  [240 241 242 243 244 245 246 247]\n",
      "  [248 249 250 251 252 253 254 255]\n",
      "  [256 257 258 259 260 261 262 263]\n",
      "  [264 265 266 267 268 269 270 271]\n",
      "  [272 273 274 275 276 277 278 279]]\n",
      "\n",
      " [[280 281 282 283 284 285 286 287]\n",
      "  [288 289 290 291 292 293 294 295]\n",
      "  [296 297 298 299 300 301 302 303]\n",
      "  [304 305 306 307 308 309 310 311]\n",
      "  [312 313 314 315 316 317 318 319]\n",
      "  [320 321 322 323 324 325 326 327]\n",
      "  [328 329 330 331 332 333 334 335]]]\n",
      "\n",
      "\n",
      "(1, 5, 4)\n",
      "\n",
      "\n",
      "99\n"
     ]
    }
   ],
   "source": [
    "# 20. Consider a (6,7,8) shape array, what is the index (x,y,z) of the 100th element? \n",
    "\n",
    "arr = np.arange(6*8*7).reshape(6,7,8)\n",
    "\n",
    "print(arr)\n",
    "print('\\n')\n",
    "\n",
    "print(np.unravel_index(100, (6,7,8))) # dado unas un array de dimensiones x, y, z me devuelve las coordenadas del enesimo elemento del array\n",
    "print('\\n')\n",
    "print(arr[1,5,3])"
   ]
  },
  {
   "cell_type": "code",
   "execution_count": 12,
   "metadata": {},
   "outputs": [
    {
     "data": {
      "text/plain": [
       "array([[0, 1, 0, 1, 0, 1, 0, 1],\n",
       "       [1, 0, 1, 0, 1, 0, 1, 0],\n",
       "       [0, 1, 0, 1, 0, 1, 0, 1],\n",
       "       [1, 0, 1, 0, 1, 0, 1, 0],\n",
       "       [0, 1, 0, 1, 0, 1, 0, 1],\n",
       "       [1, 0, 1, 0, 1, 0, 1, 0],\n",
       "       [0, 1, 0, 1, 0, 1, 0, 1],\n",
       "       [1, 0, 1, 0, 1, 0, 1, 0]])"
      ]
     },
     "execution_count": 12,
     "metadata": {},
     "output_type": "execute_result"
    }
   ],
   "source": [
    "# 21. Create a checkerboard 8x8 matrix using the tile function\n",
    "\n",
    "arr = np.tile([[0,1],[1,0]],(4,4))\n",
    "arr"
   ]
  },
  {
   "cell_type": "code",
   "execution_count": 18,
   "metadata": {},
   "outputs": [
    {
     "data": {
      "text/plain": [
       "array([[-1.2629887 , -1.14087094, -0.48977558, -0.62675197,  0.70910209],\n",
       "       [-0.77830112, -0.76624223, -1.04795635,  0.20364287,  0.21733286],\n",
       "       [-0.61607686,  1.8646537 , -0.04532168,  0.17789807, -1.13848649],\n",
       "       [ 0.59137233,  0.15655424, -0.76885404, -0.91391248,  1.98339146],\n",
       "       [ 1.93966376,  1.89616152, -0.34293639,  0.39269392, -0.19399198]])"
      ]
     },
     "execution_count": 18,
     "metadata": {},
     "output_type": "execute_result"
    }
   ],
   "source": [
    "# 22. Normalize a 5x5 random matrix (★☆☆)\n",
    "a = np.random.random((5,5))\n",
    "a_norm = (a - a.mean())/a.std()\n",
    "a_norm"
   ]
  },
  {
   "cell_type": "code",
   "execution_count": 19,
   "metadata": {},
   "outputs": [
    {
     "data": {
      "text/plain": [
       "dtype([('r', 'u1'), ('g', 'u1'), ('b', 'u1'), ('a', 'u1')])"
      ]
     },
     "execution_count": 19,
     "metadata": {},
     "output_type": "execute_result"
    }
   ],
   "source": [
    "a = np.dtype([('r', np.ubyte),\n",
    "              ('g', np.ubyte),\n",
    "              ('b', np.ubyte),\n",
    "              ('a', np.ubyte)])\n",
    "a"
   ]
  },
  {
   "cell_type": "code",
   "execution_count": 24,
   "metadata": {},
   "outputs": [
    {
     "name": "stdout",
     "output_type": "stream",
     "text": [
      "[[-4  9  4]\n",
      " [ 0 -3 -4]\n",
      " [ 8  0  0]\n",
      " [-7 -3 -8]\n",
      " [-9  1 -5]]\n",
      "\n",
      "\n",
      "[[ -9 -10]\n",
      " [  1   1]\n",
      " [  6  -1]]\n",
      "\n",
      "\n"
     ]
    },
    {
     "data": {
      "text/plain": [
       "array([[ 69,  45],\n",
       "       [-27,   1],\n",
       "       [-72, -80],\n",
       "       [ 12,  75],\n",
       "       [ 52,  96]])"
      ]
     },
     "execution_count": 24,
     "metadata": {},
     "output_type": "execute_result"
    }
   ],
   "source": [
    "# 24. Multiply a 5x3 matrix by a 3x2 matrix (real matrix product) \n",
    "\n",
    "np.random.seed(42)\n",
    "M1 = np.random.randint(low= -10, high= 10, size= (5,3))\n",
    "M2 = np.random.randint(low= -10, high= 10, size= (3,2))\n",
    "print(M1)\n",
    "print('\\n')\n",
    "print(M2)\n",
    "print('\\n')\n",
    "M1 @ M2"
   ]
  },
  {
   "cell_type": "code",
   "execution_count": 28,
   "metadata": {},
   "outputs": [
    {
     "name": "stdout",
     "output_type": "stream",
     "text": [
      "[[5 5 9 3 5 1 9 1 9 3]]\n"
     ]
    },
    {
     "data": {
      "text/plain": [
       "array([[-5, -5,  9,  3, -5,  1,  9,  1,  9,  3]])"
      ]
     },
     "execution_count": 28,
     "metadata": {},
     "output_type": "execute_result"
    }
   ],
   "source": [
    "# 25. Given a 1D array, negate all elements which are between 3 and 8, in place\n",
    "arr = np.random.randint(low= 0 , high= 10, size= (1,10))\n",
    "print(arr)\n",
    "condition = (3 < arr) & (arr < 8)\n",
    "\n",
    "np.where(condition,-arr, arr)"
   ]
  },
  {
   "cell_type": "code",
   "execution_count": 32,
   "metadata": {},
   "outputs": [
    {
     "name": "stdout",
     "output_type": "stream",
     "text": [
      "10\n",
      "10\n"
     ]
    }
   ],
   "source": [
    "#26. What is the output of the following script?\n",
    "print(sum(range(5),-1))\n",
    "from numpy import *\n",
    "print(sum(range(5), -1))"
   ]
  },
  {
   "cell_type": "code",
   "execution_count": 42,
   "metadata": {},
   "outputs": [
    {
     "data": {
      "text/plain": [
       "array([1., 1., 2., 3., 4., 3., 2., 1., 9.])"
      ]
     },
     "execution_count": 42,
     "metadata": {},
     "output_type": "execute_result"
    }
   ],
   "source": [
    "# 27. Consider an integer vector Z, which of these expressions are legal? (★☆☆)\n",
    "\n",
    "# Z**Z\n",
    "# 2 << Z >> 2\n",
    "# Z <- Z\n",
    "# 1j*Z\n",
    "# Z/1/1\n",
    "# Z<Z>Z\n",
    "\n",
    "\n",
    "\n",
    "z = np.array([1,1,2,3,4,3,2,1,9])\n",
    "\n",
    "z**z # ok\n",
    "2 << z >> 2 # ok\n",
    "z <- z #ok but false\n",
    "1j*z # ok\n",
    "z/1/1 # ok but no sense\n",
    "#z<z>z# no \n"
   ]
  },
  {
   "cell_type": "code",
   "execution_count": 45,
   "metadata": {},
   "outputs": [
    {
     "name": "stdout",
     "output_type": "stream",
     "text": [
      "nan\n",
      "0\n",
      "[-2.14748365e+09]\n"
     ]
    },
    {
     "name": "stderr",
     "output_type": "stream",
     "text": [
      "C:\\Users\\plane\\AppData\\Local\\Temp\\ipykernel_21712\\4248675537.py:7: RuntimeWarning: invalid value encountered in divide\n",
      "  print(np.array(0)/np.array(0))\n",
      "C:\\Users\\plane\\AppData\\Local\\Temp\\ipykernel_21712\\4248675537.py:8: RuntimeWarning: divide by zero encountered in floor_divide\n",
      "  print(np.array(0)//np.array(0))\n",
      "C:\\Users\\plane\\AppData\\Local\\Temp\\ipykernel_21712\\4248675537.py:9: RuntimeWarning: invalid value encountered in cast\n",
      "  print(np.array([np.nan]).astype(int).astype(float))\n"
     ]
    }
   ],
   "source": [
    "# 28. What are the result of the following expressions? (★☆☆)\n",
    "\n",
    "# np.array(0) / np.array(0)\n",
    "# np.array(0) // np.array(0)\n",
    "# np.array([np.nan]).astype(int).astype(float)\n",
    "\n",
    "print(np.array(0)/np.array(0))\n",
    "print(np.array(0)//np.array(0))\n",
    "print(np.array([np.nan]).astype(int).astype(float))"
   ]
  },
  {
   "cell_type": "code",
   "execution_count": 8,
   "metadata": {},
   "outputs": [
    {
     "name": "stdout",
     "output_type": "stream",
     "text": [
      "[-2.50919762  9.01428613  4.63987884  1.97316968 -6.87962719 -6.88010959\n",
      " -8.83832776  7.32352292  2.02230023  4.16145156]\n",
      "\n",
      "\n",
      "[-3. 10.  5.  2. -7. -7. -9.  8.  3.  5.]\n",
      "[-3. 10.  5.  2. -7. -7. -9.  8.  3.  5.]\n"
     ]
    }
   ],
   "source": [
    "# 29. How to round away from zero a float array ? # es decir, redondear al alza en valor absoluto\n",
    "np.random.seed(42)\n",
    "Z = np.random.uniform(low= -10,high= +10,size= 10) \n",
    "# Draw samples from a uniform distribution.\n",
    "# Samples are uniformly distributed over the half-open interval [low, high) (includes low, but excludes high). \n",
    "# In other words, any value within the given interval is equally likely to be drawn by uniform.\n",
    "print(Z)\n",
    "print('\\n')\n",
    "print(np.copysign(np.ceil(np.abs(Z)), Z)) \n",
    "\n",
    "#np.copysign copia los signos del segundo array que le pasemos al primero\n",
    "# np.ceil redondea hacia arriba los arrais, el problema biene con los arrais negativos que lo redondea que los redondea a valor absoluto mas pequeño\n",
    "\n",
    "# More readable but less efficient\n",
    "print(np.where(Z>0, np.ceil(Z), np.floor(Z)))"
   ]
  },
  {
   "cell_type": "code",
   "execution_count": 25,
   "metadata": {},
   "outputs": [
    {
     "name": "stdout",
     "output_type": "stream",
     "text": [
      "[4 4 6 8 8 2 2 2 3 7]\n",
      "[5 7 0 7 3 0 7 3 5 7]\n",
      "{2.0, 3.0, 4.0, 6.0, 7.0, 8.0}\n"
     ]
    }
   ],
   "source": [
    "# 30. How to find common values between two arrays? \n",
    "\n",
    "arr1 = np.random.randint(low= 0, high= 10, size= 10)\n",
    "arr2 = np.random.randint(low= 0, high= 10, size= 10)\n",
    "\n",
    "print(arr1)\n",
    "print(arr2)\n",
    "\n",
    "arr = set(np.where((arr1 in arr2), arr1, np.nan)) # no\n",
    "print(arr)"
   ]
  },
  {
   "cell_type": "code",
   "execution_count": 27,
   "metadata": {},
   "outputs": [
    {
     "name": "stdout",
     "output_type": "stream",
     "text": [
      "[3 7]\n"
     ]
    }
   ],
   "source": [
    "# este si\n",
    "\n",
    "print(np.intersect1d(arr1, arr2))"
   ]
  },
  {
   "cell_type": "code",
   "execution_count": 31,
   "metadata": {},
   "outputs": [],
   "source": [
    "# How to ignore all numpy warnings (not recommended)?\n",
    "\n",
    "# Suicide mode on\n",
    "defaults = np.seterr(all=\"ignore\")\n",
    "Z = np.ones(1) / 0\n",
    "\n",
    "# Back to sanity\n",
    "_ = np.seterr(**defaults)"
   ]
  },
  {
   "cell_type": "code",
   "execution_count": 34,
   "metadata": {},
   "outputs": [
    {
     "name": "stdout",
     "output_type": "stream",
     "text": [
      "nan\n",
      "1j\n"
     ]
    },
    {
     "name": "stderr",
     "output_type": "stream",
     "text": [
      "C:\\Users\\plane\\AppData\\Local\\Temp\\ipykernel_8848\\923986195.py:4: RuntimeWarning: invalid value encountered in sqrt\n",
      "  print(np.sqrt(-1))\n"
     ]
    }
   ],
   "source": [
    "\n",
    "# 32. Is the following expressions true? (★☆☆)\n",
    "\n",
    "# np.sqrt(-1) == np.emath.sqrt(-1)\n",
    "print(np.sqrt(-1))\n",
    "print(np.emath.sqrt(-1))\n",
    "#np.sqrt(-1) == np.emath.sqrt(-1)"
   ]
  },
  {
   "cell_type": "code",
   "execution_count": null,
   "metadata": {},
   "outputs": [],
   "source": []
  }
 ],
 "metadata": {
  "kernelspec": {
   "display_name": "venv",
   "language": "python",
   "name": "python3"
  },
  "language_info": {
   "codemirror_mode": {
    "name": "ipython",
    "version": 3
   },
   "file_extension": ".py",
   "mimetype": "text/x-python",
   "name": "python",
   "nbconvert_exporter": "python",
   "pygments_lexer": "ipython3",
   "version": "3.10.6"
  },
  "orig_nbformat": 4
 },
 "nbformat": 4,
 "nbformat_minor": 2
}
