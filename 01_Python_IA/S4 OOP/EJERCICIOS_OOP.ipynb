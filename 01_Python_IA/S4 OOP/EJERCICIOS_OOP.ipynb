{
 "cells": [
  {
   "cell_type": "code",
   "execution_count": 2,
   "metadata": {},
   "outputs": [
    {
     "name": "stdout",
     "output_type": "stream",
     "text": [
      "hello world\n"
     ]
    }
   ],
   "source": [
    "print('hello world')"
   ]
  },
  {
   "attachments": {},
   "cell_type": "markdown",
   "metadata": {},
   "source": [
    "### EJERCICIO1.\n",
    "\n",
    "Implementa una jerarquía de clases que representen figuras (por ejemplo, cuadrados, círculos o triángulos). Posteriormente, implementa una función que muestre por pantalla, una a una, todas las áreas de una lista de figuras dada.\n",
    "\n",
    "Las clases base abstractas son una forma de comprobación de interfaz más estricta que las comprobaciones individuales hasattr() para métodos particulares. Al definir una clase base abstracta, se puede establecer una interfaz de programación común para un conjunto de subclases. Esta capacidad es especialmente útil en situaciones en las que alguien menos familiarizado con el origen de una aplicación proporcionará extensiones de complementos, pero también puede ayudar cuando se trabaja en un equipo grande o con una base de código grande donde se realiza un seguimiento de todas las clases al mismo tiempo son difíciles o imposibles."
   ]
  },
  {
   "cell_type": "code",
   "execution_count": 6,
   "metadata": {},
   "outputs": [
    {
     "name": "stdout",
     "output_type": "stream",
     "text": [
      "La figura es de tipo triangulo y tiene un area de 4.0 metros cuadrados\n",
      "La figura es de tipo Circulo y tiene un area de 20.73 metros cuadrados\n",
      "La figura es de tipo triangulo y tiene un area de 12.5 metros cuadrados\n",
      "La figura es de tipo Cuadrado y tiene un area de 1 metros cuadrados\n",
      "La figura es de tipo Cuadrado y tiene un area de 59.29 metros cuadrados\n",
      "La figura es de tipo Circulo y tiene un area de 15.5 metros cuadrados\n"
     ]
    }
   ],
   "source": [
    "from abc import ABC, abstractmethod\n",
    "\n",
    "class Figura(ABC):\n",
    "    def __init__(self,tipo):\n",
    "        self.tipo= tipo\n",
    "\n",
    "    def __str__(self): # str es el metodo especial el cual se ejecutara la siguiente cadena cuando ejecutemos print(objeto_de_mi_clase)\n",
    "        return f'La figura es de tipo  {self.tipo}, y su area es {self.area}'\n",
    "    \n",
    "    @abstractmethod\n",
    "    def area(self):\n",
    "        pass\n",
    "\n",
    "class Triangulo(Figura):\n",
    "    def __init__(self, altura, base):\n",
    "        super().__init__('triangulo')\n",
    "        self.altura = altura\n",
    "        self.base = base\n",
    "\n",
    "    def area(self):\n",
    "        return round((self.base * self.altura)/2, 2)\n",
    "\n",
    "class Cuadrado(Figura):\n",
    "    def __init__(self, lado):\n",
    "        super().__init__('Cuadrado')\n",
    "        self.lado = lado\n",
    "\n",
    "    def area(self):\n",
    "        return round((self.lado)**2, 2)\n",
    "    \n",
    "class Circulo(Figura):\n",
    "    def __init__(self, radio):\n",
    "        super().__init__('Circulo')\n",
    "        self.radio = radio\n",
    "\n",
    "    def area(self):\n",
    "        return round(self.radio*3.1416**2,2)\n",
    "    \n",
    "figuras = [Triangulo(2,4), Circulo(2.1), Triangulo(5,5),Cuadrado(1), Cuadrado(7.7), Circulo(1.57)]\n",
    "\n",
    "def mostrar_areas(figuras):\n",
    "    for figura in figuras:\n",
    "        print(f'La figura es de tipo {figura.tipo} y tiene un area de {figura.area()} metros cuadrados')\n",
    "\n",
    "mostrar_areas(figuras)\n"
   ]
  },
  {
   "attachments": {},
   "cell_type": "markdown",
   "metadata": {},
   "source": [
    "### EJERCICIO 2\n",
    "\n",
    "2. Implementa una clase que represente números racionales y almacene de manera explícita el numerador y el denominador. La clase debe permitir instanciar números racionales, con los cuales se podrá operar a través de los operadores convencionales: +, -, *, /. En caso de error (por ejemplo, división por cero) la clase generará un error apropiado."
   ]
  },
  {
   "cell_type": "code",
   "execution_count": 39,
   "metadata": {},
   "outputs": [],
   "source": [
    "\n",
    "import math\n",
    "\n",
    "class DenominadorCero(Exception):\n",
    "    \"\"\"\n",
    "    El deniminador del número racional es 0    \n",
    "    \"\"\"\n",
    "    pass\n",
    "\n",
    "class NumeradorCero(Exception):\n",
    "    '''\n",
    "    El numerador del numero racional es 0\n",
    "    '''\n",
    "    \n",
    "\n",
    "class NumeroRacional():\n",
    "    def __init__(self, numerador, denominador):\n",
    "        if denominador == 0:\n",
    "            raise DenominadorCero('una division entre 0 da infinito')\n",
    "        self.numerador = numerador\n",
    "        self.denominador = denominador\n",
    "        self.valor = round(numerador/denominador, 2)\n",
    "\n",
    "    def __str__(self):\n",
    "        return f'el número es {self.numerador}/{self.denominador} y su valor real es {self.valor}'\n",
    "\n",
    "    def __add__(self, num2):\n",
    "        minimo_multiplo_comun = math.lcm(self.denominador, num2.denominador)\n",
    "        numerador_final = int((minimo_multiplo_comun/self.denominador)*self.numerador + (minimo_multiplo_comun/num2.denominador)*num2.numerador)\n",
    "        return NumeroRacional(numerador=numerador_final, denominador=minimo_multiplo_comun)\n",
    "    \n",
    "    def __sub__(self, num2):\n",
    "        minimo_multiplo_comun = math.lcm(self.denominador, num2.denominador)\n",
    "        numerador_final= int((minimo_multiplo_comun/self.denominador)*self.numerador - (minimo_multiplo_comun/num2.denominador)*num2.numerador)\n",
    "        return NumeroRacional(numerador=numerador_final, denominador=minimo_multiplo_comun)\n",
    "    \n",
    "    def __mul__(self,num2):\n",
    "        denominador_final = self.denominador*num2.denominador\n",
    "        numerador_final = self.numerador*num2.numerador\n",
    "        return NumeroRacional(numerador=numerador_final, denominador=denominador_final)\n",
    "    \n",
    "    def __truediv__(self, num2):\n",
    "        denominador_final = self.denominador * num2.numerador\n",
    "        numerador_final = self.numerador * num2.denominador\n",
    "        return NumeroRacional(numerador=numerador_final, denominador=denominador_final)\n"
   ]
  },
  {
   "cell_type": "code",
   "execution_count": 42,
   "metadata": {},
   "outputs": [
    {
     "name": "stdout",
     "output_type": "stream",
     "text": [
      "el número es 1/2 y su valor real es 0.5\n",
      "el número es 3/4 y su valor real es 0.75\n",
      "el número es 4/6 y su valor real es 0.67\n"
     ]
    }
   ],
   "source": [
    "a = NumeroRacional(1, 2)\n",
    "b = NumeroRacional(3,4)\n",
    "\n",
    "c = a / b\n",
    "\n",
    "print(a)\n",
    "print(b)\n",
    "print(c)"
   ]
  },
  {
   "attachments": {},
   "cell_type": "markdown",
   "metadata": {},
   "source": [
    "#### como calcular el multiplo mínimo común en python sin numpy"
   ]
  },
  {
   "cell_type": "code",
   "execution_count": 32,
   "metadata": {},
   "outputs": [],
   "source": [
    "def multiplo_com_min(*args):\n",
    "\n",
    "    factores_de_cada_numero = [] # una lista de listas o matriz\n",
    "    for n in args:\n",
    "        divisor_minimo = 2\n",
    "        multiplos_de_n = [] # aqui guardo los factores para n \n",
    "        while n >1: # mientras n sea superior a 1 ejecuta este codigo\n",
    "            if n%divisor_minimo != 0: # si la division con el divisior minimo no es entera, aumenta el divisor de \n",
    "                divisor_minimo+=1\n",
    "            else:\n",
    "                n/= divisor_minimo # n se divide por el divisor y pasa a tener un nuevo valor\n",
    "                multiplos_de_n.append(divisor_minimo) # se añade el factor (divisor) a la lista de factores para ese numero\n",
    "        factores_de_cada_numero.append(multiplos_de_n) # se guarda la lista de factores\n",
    "\n",
    "    numeros_primos = set([factor for numero in factores_de_cada_numero for factor in numero]) # creo un conjunto con todos los factores de todos los numeros\n",
    "    lcm = 1 # least common multiple\n",
    "    for n in numeros_primos: # para cada factor comun voy a el numero que tenga el maximo numero de factores para cada factor p.e el que más 2 es tenga y cuantas veces lo tiene\n",
    "        maximo_numero_de_factores = max([lst.count(n) for lst in factores_de_cada_numero])\n",
    "        lcm*= n**maximo_numero_de_factores # directamente multiplico el numero que estoy analizando por el maximo numero de factores que a tenido para todo el conjunto de args\n",
    "\n",
    "    return lcm"
   ]
  },
  {
   "cell_type": "code",
   "execution_count": 31,
   "metadata": {},
   "outputs": [
    {
     "data": {
      "text/plain": [
       "330"
      ]
     },
     "execution_count": 31,
     "metadata": {},
     "output_type": "execute_result"
    }
   ],
   "source": [
    "multiplo_com_min(3,11,5,2)"
   ]
  },
  {
   "cell_type": "code",
   "execution_count": 11,
   "metadata": {},
   "outputs": [
    {
     "name": "stdout",
     "output_type": "stream",
     "text": [
      "{1, 2, 3, 4, 5, 6}\n"
     ]
    }
   ],
   "source": [
    "# lista = [[1,2,3], [2,3,4],[4,5,6]]\n",
    "# # primos = []\n",
    "# # for lst in lista:\n",
    "# #     for n in lst:\n",
    "# #         primos.append(n)\n",
    "\n",
    "# primos = set([n for lst in lista for n in lst])\n",
    "\n",
    "# print(primos)"
   ]
  },
  {
   "cell_type": "code",
   "execution_count": 3,
   "metadata": {},
   "outputs": [],
   "source": [
    "A = [1,2,6,7,12,13,15]\n",
    "B = [2,3,4,7,13]\n",
    "\n",
    "a = set(A)\n",
    "b = set(B)\n",
    "\n",
    "encomun = a.intersection(b)"
   ]
  },
  {
   "cell_type": "code",
   "execution_count": 2,
   "metadata": {},
   "outputs": [],
   "source": [
    "a = set(A)\n",
    "b = set(B)"
   ]
  },
  {
   "cell_type": "code",
   "execution_count": 4,
   "metadata": {},
   "outputs": [
    {
     "data": {
      "text/plain": [
       "{2, 7, 13}"
      ]
     },
     "execution_count": 4,
     "metadata": {},
     "output_type": "execute_result"
    }
   ],
   "source": [
    "encomun"
   ]
  },
  {
   "cell_type": "code",
   "execution_count": null,
   "metadata": {},
   "outputs": [],
   "source": []
  }
 ],
 "metadata": {
  "kernelspec": {
   "display_name": "venv",
   "language": "python",
   "name": "python3"
  },
  "language_info": {
   "codemirror_mode": {
    "name": "ipython",
    "version": 3
   },
   "file_extension": ".py",
   "mimetype": "text/x-python",
   "name": "python",
   "nbconvert_exporter": "python",
   "pygments_lexer": "ipython3",
   "version": "3.10.6"
  },
  "orig_nbformat": 4
 },
 "nbformat": 4,
 "nbformat_minor": 2
}
