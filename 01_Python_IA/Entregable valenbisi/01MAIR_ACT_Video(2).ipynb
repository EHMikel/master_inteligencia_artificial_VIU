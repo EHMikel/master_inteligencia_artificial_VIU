{
 "cells": [
  {
   "attachments": {},
   "cell_type": "markdown",
   "metadata": {},
   "source": [
    "\n",
    "## 01MIAR - Actividad Video Valenbici\n",
    "\n",
    "## NumPy y Pandas\n",
    "\n",
    "### Objetivos:\n",
    "- Aplicar diferentes técnicas de tratamiento de estructuras numéricas con Numpy y datos estructurados con Pandas.\n",
    "\n",
    "### Instrucciones:\n",
    "- Mantener una estructura limpia, comentando código y secuenciando los apartados con el código correspondiente que resuelva la actividad.\n",
    "- Como criterio de evaluación se tendrá en cuenta el resultado, la consecución del mismo, estilo, comentarios y adecuación. Siempre será tenido en cuenta cualquier detalle técnico avanzado o no visto en clase relacionado con el tema (explicar el porqué y usabilidad).\n",
    "- No está permitido compartir los resultados ni el código en ninguno de los foros.\n",
    "- Revisar los temas 3 y 4, así como las sesiones sobre Numpy y Pandas para aplicar dichos contenidos.\n",
    "- Proponer las respuestas en las celdas a dicho efecto en cada punto, si se necesitan más celdas añadirlas en su sitio correspondiente\n",
    "- Mostrar de manera clara la respuesta a las preguntas, mediante código\n",
    "\n",
    "### Entrega:\n",
    "- Este mismo notebook con las respuetas\n",
    "\n",
    "### Evaluación\n",
    "- Esta actividad corresponde con el 10% de la nota final de la asignatura.\n",
    "\n",
    "### Fecha Realización\n",
    "- Convocatoria 1 - 19/05/2023 al 21/05/2023 hasta las 23:59 UTC+2"
   ]
  },
  {
   "attachments": {},
   "cell_type": "markdown",
   "metadata": {},
   "source": [
    "#### Descripción\n",
    "El conjunto de datos \"estaciones_bici.csv\" (fichero disponible adjunto a la actividad) proviene de una descarga de datos del servicio web de la empresa municipal Valenbici, dedicada al alquiler de bicicletas en Valencia.\n",
    "\n",
    "Los datos recabados de este servicio web son de mediciones cada 10 minutos de las estaciones:\n",
    "\n",
    "https://valencia.opendatasoft.com/explore/dataset/valenbisi-disponibilitat-valenbisi-dsiponibilidad/information/\n",
    "\n",
    "Cada estación está compuesta por un número variable de bornetas (total) donde se pueden anclar las bicicletas. Los datos obtenidos de cada estación (registros) refleja el número de bornetas libres (free) y el número de bicicletas disponibles (available).\n",
    "\n",
    "#### Columnas para trabajar:\n",
    "- number: id de la estación\n",
    "- total: número total de bornetas\n",
    "- updated (updated_at en origen): timestamp del estado en de bicis en la estación\n",
    "- available: número de bicis disponibles"
   ]
  },
  {
   "cell_type": "code",
   "execution_count": null,
   "metadata": {},
   "outputs": [],
   "source": [
    "# Your impots here!!!"
   ]
  },
  {
   "attachments": {},
   "cell_type": "markdown",
   "metadata": {},
   "source": [
    "## 01\n",
    "Carga de datos de csv (estaciones_bici.csv) en un DataFrame y exploración de datos\n",
    "> Nota: los datos y la libreta de jupyter tienen que estar en la misma carpeta\n"
   ]
  },
  {
   "cell_type": "code",
   "execution_count": null,
   "metadata": {},
   "outputs": [],
   "source": [
    "# con = sqlite3.connect('valenbisi.db')\n",
    "\n",
    "# cursor = con.cursor()\n",
    "# cursor.execute(\"SELECT name FROM sqlite_master WHERE type='table';\")\n",
    "# name_table = cursor.fetchall()[0][0]\n",
    "# print(name_table)\n",
    "\n",
    "# df = pd.read_sql_query(f\"SELECT * FROM {name_table}\", con)\n",
    "# con.close()"
   ]
  },
  {
   "cell_type": "code",
   "execution_count": null,
   "metadata": {},
   "outputs": [],
   "source": [
    "# Your answer here!!!"
   ]
  },
  {
   "attachments": {},
   "cell_type": "markdown",
   "metadata": {},
   "source": [
    "## 02\n",
    "Obtención del número de estaciones que tienen un total de 30 bornetas\n",
    "¿Qué estaciones son?"
   ]
  },
  {
   "cell_type": "code",
   "execution_count": null,
   "metadata": {},
   "outputs": [],
   "source": [
    "# Your answer here!!!"
   ]
  },
  {
   "attachments": {},
   "cell_type": "markdown",
   "metadata": {},
   "source": [
    "## 03\n",
    "Número de estación con la media más alta de bicis disponibles"
   ]
  },
  {
   "cell_type": "code",
   "execution_count": null,
   "metadata": {},
   "outputs": [],
   "source": [
    "# Your answer here!!!"
   ]
  },
  {
   "attachments": {},
   "cell_type": "markdown",
   "metadata": {},
   "source": [
    "## 04\n",
    "Realizar el histograma de bicis disponibles de la estación del punto anterior"
   ]
  },
  {
   "cell_type": "code",
   "execution_count": null,
   "metadata": {},
   "outputs": [],
   "source": [
    "# Your answer here!!!"
   ]
  },
  {
   "attachments": {},
   "cell_type": "markdown",
   "metadata": {},
   "source": [
    "## 05\n",
    "Realizar gráfica con  la línea temporal de bicis disponibles de la estación del punto anterior. Pista, es necesario cambiar el índice a uno tipo fecha"
   ]
  },
  {
   "cell_type": "code",
   "execution_count": null,
   "metadata": {},
   "outputs": [],
   "source": [
    "# Your answer here!!!"
   ]
  }
 ],
 "metadata": {
  "kernelspec": {
   "display_name": "Python 3 (ipykernel)",
   "language": "python",
   "name": "python3"
  },
  "language_info": {
   "codemirror_mode": {
    "name": "ipython",
    "version": 3
   },
   "file_extension": ".py",
   "mimetype": "text/x-python",
   "name": "python",
   "nbconvert_exporter": "python",
   "pygments_lexer": "ipython3",
   "version": "3.9.13"
  }
 },
 "nbformat": 4,
 "nbformat_minor": 4
}
