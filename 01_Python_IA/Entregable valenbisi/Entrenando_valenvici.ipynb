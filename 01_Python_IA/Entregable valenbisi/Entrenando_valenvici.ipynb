{
 "cells": [
  {
   "attachments": {},
   "cell_type": "markdown",
   "metadata": {},
   "source": [
    "# Video ValenBici\n",
    "\n",
    "## info sobre el vídeo\n",
    "\n",
    "Nos interesan 3 de los datos que aporta el dataset:\n",
    "\n",
    "- total: el máximo de bicicletas que puede albergar, o cuantas bornetas tiene la estación.\n",
    "- avaliable: Cuantas bicicletas estan disponibles para alquilar en este momento\n",
    "- free: cuantas bornetas estan librees para poder aparcar una bicicleta\n",
    "\n",
    "De los demás campos solo nos interesa el 'update', el cual nos da información sobre la ultima actualización de los datos, fecha y hora.\n",
    "\n",
    "En el mismo video se aporta un csv (ahora no esta disponible) el cual se ha recopilado información actualizada cada 15 minutos en determinado periodo de tiempo. Del csv nos interesan 4 columnas:\n",
    "- station: nos devuelve el identificador de la estación.\n",
    "- total: el numero total de bornetas disponibles en la estación, o el número total de bicicletas que puede albergar la estación.\n",
    "- avaliable: Cuantas de las bicicletas estan disponibles en ese momento.\n",
    "- Download_date: en que estado estaba esa estación en ese momento determinado.\n",
    "\n",
    "## Código de iniciación"
   ]
  },
  {
   "cell_type": "code",
   "execution_count": 2,
   "metadata": {},
   "outputs": [],
   "source": [
    "import pandas as pd\n",
    "import os"
   ]
  },
  {
   "cell_type": "code",
   "execution_count": 4,
   "metadata": {},
   "outputs": [],
   "source": [
    "ruta = os.path.join('res', 'estaciones.csv')"
   ]
  },
  {
   "cell_type": "code",
   "execution_count": 5,
   "metadata": {},
   "outputs": [],
   "source": [
    "# bicis = pd.read_csv(bicis_path, sep= ';')"
   ]
  },
  {
   "cell_type": "code",
   "execution_count": 6,
   "metadata": {},
   "outputs": [],
   "source": [
    "# df = bicis[['station', 'total', 'download_date','avaliable']]"
   ]
  },
  {
   "cell_type": "code",
   "execution_count": 7,
   "metadata": {},
   "outputs": [],
   "source": [
    "# df.head()"
   ]
  },
  {
   "cell_type": "code",
   "execution_count": 8,
   "metadata": {},
   "outputs": [],
   "source": [
    "# df.info()"
   ]
  },
  {
   "cell_type": "code",
   "execution_count": 9,
   "metadata": {},
   "outputs": [],
   "source": [
    "# df.describe()"
   ]
  },
  {
   "attachments": {},
   "cell_type": "markdown",
   "metadata": {},
   "source": [
    "## Ejercicios\n",
    "\n",
    "### obtener el número de estaciones que tienen 30 bornetas en total.\n",
    "\n",
    "### Cual es la estacion que tiene la media de bicicletas disponibles más alta en el tiempo registrado.\n",
    "\n",
    "#### Después se pide conseguir el histograma de bicicletas disponibles de la estación que hemos analizado.\n",
    "\n",
    "#### También conseguir el gráfico temporal de la misma estación. Habrá que cambiar el tipo de dato a tipo fecha.\n",
    "\n"
   ]
  },
  {
   "attachments": {},
   "cell_type": "markdown",
   "metadata": {},
   "source": []
  }
 ],
 "metadata": {
  "kernelspec": {
   "display_name": "venv",
   "language": "python",
   "name": "python3"
  },
  "language_info": {
   "codemirror_mode": {
    "name": "ipython",
    "version": 3
   },
   "file_extension": ".py",
   "mimetype": "text/x-python",
   "name": "python",
   "nbconvert_exporter": "python",
   "pygments_lexer": "ipython3",
   "version": "3.10.6"
  },
  "orig_nbformat": 4
 },
 "nbformat": 4,
 "nbformat_minor": 2
}
