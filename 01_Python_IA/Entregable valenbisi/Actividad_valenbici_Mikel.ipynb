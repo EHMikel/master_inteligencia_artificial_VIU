{
 "cells": [
  {
   "attachments": {},
   "cell_type": "markdown",
   "metadata": {},
   "source": [
    "\n",
    "## 01MIAR - Actividad Video Valenbici\n",
    "\n",
    "## NumPy y Pandas\n",
    "\n",
    "### Objetivos:\n",
    "- Aplicar diferentes técnicas de tratamiento de estructuras numéricas con Numpy y datos estructurados con Pandas.\n",
    "\n",
    "### Instrucciones:\n",
    "- Mantener una estructura limpia, comentando código y secuenciando los apartados con el código correspondiente que resuelva la actividad.\n",
    "- Como criterio de evaluación se tendrá en cuenta el resultado, la consecución del mismo, estilo, comentarios y adecuación. Siempre será tenido en cuenta cualquier detalle técnico avanzado o no visto en clase relacionado con el tema (explicar el porqué y usabilidad).\n",
    "- No está permitido compartir los resultados ni el código en ninguno de los foros.\n",
    "- Revisar los temas 3 y 4, así como las sesiones sobre Numpy y Pandas para aplicar dichos contenidos.\n",
    "- Proponer las respuestas en las celdas a dicho efecto en cada punto, si se necesitan más celdas añadirlas en su sitio correspondiente\n",
    "- Mostrar de manera clara la respuesta a las preguntas, mediante código\n",
    "\n",
    "### Entrega:\n",
    "- Este mismo notebook con las respuetas\n",
    "\n",
    "### Evaluación\n",
    "- Esta actividad corresponde con el 10% de la nota final de la asignatura.\n",
    "\n",
    "### Fecha Realización\n",
    "- Convocatoria 1 - 19/05/2023 al 21/05/2023 hasta las 23:59 UTC+2"
   ]
  },
  {
   "attachments": {},
   "cell_type": "markdown",
   "metadata": {},
   "source": [
    "#### Descripción\n",
    "El conjunto de datos \"estaciones_bici.csv\" (fichero disponible adjunto a la actividad) proviene de una descarga de datos del servicio web de la empresa municipal Valenbici, dedicada al alquiler de bicicletas en Valencia.\n",
    "\n",
    "Los datos recabados de este servicio web son de mediciones cada 10 minutos de las estaciones:\n",
    "\n",
    "https://valencia.opendatasoft.com/explore/dataset/valenbisi-disponibilitat-valenbisi-dsiponibilidad/information/\n",
    "\n",
    "Cada estación está compuesta por un número variable de bornetas (total) donde se pueden anclar las bicicletas. Los datos obtenidos de cada estación (registros) refleja el número de bornetas libres (free) y el número de bicicletas disponibles (available).\n",
    "\n",
    "#### Columnas para trabajar:\n",
    "- number: id de la estación\n",
    "- total: número total de bornetas\n",
    "- updated (updated_at en origen): timestamp del estado en de bicis en la estación\n",
    "- available: número de bicis disponibles"
   ]
  },
  {
   "cell_type": "code",
   "execution_count": 1,
   "metadata": {},
   "outputs": [],
   "source": [
    "# Your impots here!!!\n",
    "import os\n",
    "import numpy as np\n",
    "import pandas as pd\n",
    "import sqlite3\n",
    "from urllib import request\n",
    "import matplotlib.pyplot as plt"
   ]
  },
  {
   "attachments": {},
   "cell_type": "markdown",
   "metadata": {},
   "source": [
    "## 01 Carga de datos de csv (estaciones_bici.csv) en un DataFrame y exploración de datos\n",
    "> Nota: los datos y la libreta de jupyter tienen que estar en la misma carpeta\n"
   ]
  },
  {
   "cell_type": "code",
   "execution_count": 30,
   "metadata": {},
   "outputs": [
    {
     "name": "stdout",
     "output_type": "stream",
     "text": [
      "download\n"
     ]
    }
   ],
   "source": [
    "con = sqlite3.connect('valenbisi.db')\n",
    "\n",
    "cursor = con.cursor()\n",
    "cursor.execute(\"SELECT name FROM sqlite_master WHERE type='table';\")\n",
    "name_table = cursor.fetchall()[0][0]\n",
    "print(name_table)\n",
    "\n",
    "df = pd.read_sql_query(f\"SELECT * FROM {name_table}\", con)\n",
    "con.close()"
   ]
  },
  {
   "cell_type": "code",
   "execution_count": 31,
   "metadata": {},
   "outputs": [
    {
     "data": {
      "text/html": [
       "<div>\n",
       "<style scoped>\n",
       "    .dataframe tbody tr th:only-of-type {\n",
       "        vertical-align: middle;\n",
       "    }\n",
       "\n",
       "    .dataframe tbody tr th {\n",
       "        vertical-align: top;\n",
       "    }\n",
       "\n",
       "    .dataframe thead th {\n",
       "        text-align: right;\n",
       "    }\n",
       "</style>\n",
       "<table border=\"1\" class=\"dataframe\">\n",
       "  <thead>\n",
       "    <tr style=\"text-align: right;\">\n",
       "      <th></th>\n",
       "      <th>updated</th>\n",
       "      <th>address</th>\n",
       "      <th>number</th>\n",
       "      <th>available</th>\n",
       "      <th>lat</th>\n",
       "      <th>lon</th>\n",
       "      <th>total</th>\n",
       "      <th>open</th>\n",
       "      <th>free</th>\n",
       "    </tr>\n",
       "  </thead>\n",
       "  <tbody>\n",
       "    <tr>\n",
       "      <th>0</th>\n",
       "      <td>2023-05-04 16:20:06</td>\n",
       "      <td>Peris y Valero - Cuba</td>\n",
       "      <td>39</td>\n",
       "      <td>5</td>\n",
       "      <td>39.457854</td>\n",
       "      <td>-0.373931</td>\n",
       "      <td>19</td>\n",
       "      <td>T</td>\n",
       "      <td>14</td>\n",
       "    </tr>\n",
       "    <tr>\n",
       "      <th>1</th>\n",
       "      <td>2023-05-04 16:20:06</td>\n",
       "      <td>Pintor Luis Arcas - Inst. Obrero Valenciano</td>\n",
       "      <td>46</td>\n",
       "      <td>4</td>\n",
       "      <td>39.455509</td>\n",
       "      <td>-0.358787</td>\n",
       "      <td>20</td>\n",
       "      <td>T</td>\n",
       "      <td>16</td>\n",
       "    </tr>\n",
       "    <tr>\n",
       "      <th>2</th>\n",
       "      <td>2023-05-04 16:20:06</td>\n",
       "      <td>Alfonso el Magnánimo - Nave</td>\n",
       "      <td>13</td>\n",
       "      <td>15</td>\n",
       "      <td>39.472062</td>\n",
       "      <td>-0.370874</td>\n",
       "      <td>24</td>\n",
       "      <td>T</td>\n",
       "      <td>9</td>\n",
       "    </tr>\n",
       "    <tr>\n",
       "      <th>3</th>\n",
       "      <td>2023-05-04 16:20:06</td>\n",
       "      <td>Angel Guimerá - Juan Llorens</td>\n",
       "      <td>22</td>\n",
       "      <td>4</td>\n",
       "      <td>39.469787</td>\n",
       "      <td>-0.388353</td>\n",
       "      <td>15</td>\n",
       "      <td>T</td>\n",
       "      <td>11</td>\n",
       "    </tr>\n",
       "    <tr>\n",
       "      <th>4</th>\n",
       "      <td>2023-05-04 16:20:06</td>\n",
       "      <td>Fernando el Católico - Cuenca</td>\n",
       "      <td>24</td>\n",
       "      <td>7</td>\n",
       "      <td>39.469077</td>\n",
       "      <td>-0.384027</td>\n",
       "      <td>20</td>\n",
       "      <td>T</td>\n",
       "      <td>11</td>\n",
       "    </tr>\n",
       "  </tbody>\n",
       "</table>\n",
       "</div>"
      ],
      "text/plain": [
       "               updated                                      address  number   \n",
       "0  2023-05-04 16:20:06                        Peris y Valero - Cuba      39  \\\n",
       "1  2023-05-04 16:20:06  Pintor Luis Arcas - Inst. Obrero Valenciano      46   \n",
       "2  2023-05-04 16:20:06                  Alfonso el Magnánimo - Nave      13   \n",
       "3  2023-05-04 16:20:06                 Angel Guimerá - Juan Llorens      22   \n",
       "4  2023-05-04 16:20:06                Fernando el Católico - Cuenca      24   \n",
       "\n",
       "   available        lat       lon  total open  free  \n",
       "0          5  39.457854 -0.373931     19    T    14  \n",
       "1          4  39.455509 -0.358787     20    T    16  \n",
       "2         15  39.472062 -0.370874     24    T     9  \n",
       "3          4  39.469787 -0.388353     15    T    11  \n",
       "4          7  39.469077 -0.384027     20    T    11  "
      ]
     },
     "execution_count": 31,
     "metadata": {},
     "output_type": "execute_result"
    }
   ],
   "source": [
    "# Your answer here!!!\n",
    "df.head() # esto es el df obtenido mediante el código proporcionado por el notebook\n"
   ]
  },
  {
   "cell_type": "code",
   "execution_count": 32,
   "metadata": {},
   "outputs": [
    {
     "name": "stdout",
     "output_type": "stream",
     "text": [
      "<class 'pandas.core.frame.DataFrame'>\n",
      "RangeIndex: 222180 entries, 0 to 222179\n",
      "Data columns (total 9 columns):\n",
      " #   Column     Non-Null Count   Dtype  \n",
      "---  ------     --------------   -----  \n",
      " 0   updated    222180 non-null  object \n",
      " 1   address    222180 non-null  object \n",
      " 2   number     222180 non-null  int64  \n",
      " 3   available  222180 non-null  int64  \n",
      " 4   lat        222180 non-null  float64\n",
      " 5   lon        222180 non-null  float64\n",
      " 6   total      222180 non-null  int64  \n",
      " 7   open       222180 non-null  object \n",
      " 8   free       222180 non-null  int64  \n",
      "dtypes: float64(2), int64(4), object(3)\n",
      "memory usage: 15.3+ MB\n"
     ]
    }
   ],
   "source": [
    "df.info()"
   ]
  },
  {
   "cell_type": "code",
   "execution_count": 33,
   "metadata": {},
   "outputs": [
    {
     "data": {
      "text/html": [
       "<div>\n",
       "<style scoped>\n",
       "    .dataframe tbody tr th:only-of-type {\n",
       "        vertical-align: middle;\n",
       "    }\n",
       "\n",
       "    .dataframe tbody tr th {\n",
       "        vertical-align: top;\n",
       "    }\n",
       "\n",
       "    .dataframe thead th {\n",
       "        text-align: right;\n",
       "    }\n",
       "</style>\n",
       "<table border=\"1\" class=\"dataframe\">\n",
       "  <thead>\n",
       "    <tr style=\"text-align: right;\">\n",
       "      <th></th>\n",
       "      <th>gid</th>\n",
       "      <th>name</th>\n",
       "      <th>number_</th>\n",
       "      <th>address</th>\n",
       "      <th>open</th>\n",
       "      <th>available</th>\n",
       "      <th>free</th>\n",
       "      <th>total</th>\n",
       "      <th>ticket</th>\n",
       "      <th>updated_at</th>\n",
       "      <th>globalid</th>\n",
       "      <th>created_user</th>\n",
       "      <th>created_date</th>\n",
       "      <th>last_edited_user</th>\n",
       "      <th>last_edited_date</th>\n",
       "      <th>geo_shape</th>\n",
       "      <th>geo_point_2d</th>\n",
       "    </tr>\n",
       "  </thead>\n",
       "  <tbody>\n",
       "    <tr>\n",
       "      <th>0</th>\n",
       "      <td>901618</td>\n",
       "      <td>38_AVDA. PERIS Y VALERO</td>\n",
       "      <td>38</td>\n",
       "      <td>Peris y Valero - Cabo Jubi</td>\n",
       "      <td>T</td>\n",
       "      <td>3</td>\n",
       "      <td>17</td>\n",
       "      <td>20</td>\n",
       "      <td>F</td>\n",
       "      <td>19/05/2023 11:30:13</td>\n",
       "      <td>{76A36858-7C93-4958-8A8B-22280B953817}</td>\n",
       "      <td>NaN</td>\n",
       "      <td>NaN</td>\n",
       "      <td>NaN</td>\n",
       "      <td>NaN</td>\n",
       "      <td>{\"coordinates\": [-0.37024937736936264, 39.4594...</td>\n",
       "      <td>39.45940204927687, -0.37024937736936264</td>\n",
       "    </tr>\n",
       "    <tr>\n",
       "      <th>1</th>\n",
       "      <td>901645</td>\n",
       "      <td>065_AVDA. DEL PUERTO III</td>\n",
       "      <td>65</td>\n",
       "      <td>Av. Puerto - Doctor Manuel Candela</td>\n",
       "      <td>T</td>\n",
       "      <td>0</td>\n",
       "      <td>19</td>\n",
       "      <td>19</td>\n",
       "      <td>T</td>\n",
       "      <td>19/05/2023 11:30:13</td>\n",
       "      <td>{77CDBBB8-91C3-4EA5-A8CE-4DC7580DC298}</td>\n",
       "      <td>NaN</td>\n",
       "      <td>NaN</td>\n",
       "      <td>NaN</td>\n",
       "      <td>NaN</td>\n",
       "      <td>{\"coordinates\": [-0.3508373061951808, 39.46551...</td>\n",
       "      <td>39.465516292011046, -0.3508373061951808</td>\n",
       "    </tr>\n",
       "    <tr>\n",
       "      <th>2</th>\n",
       "      <td>901647</td>\n",
       "      <td>067_JUAN VERDEGUER</td>\n",
       "      <td>67</td>\n",
       "      <td>Juan Verdeguer - Toneleros</td>\n",
       "      <td>T</td>\n",
       "      <td>8</td>\n",
       "      <td>6</td>\n",
       "      <td>14</td>\n",
       "      <td>F</td>\n",
       "      <td>19/05/2023 11:30:13</td>\n",
       "      <td>{BBC2961A-677F-47B3-8640-C009D7649F6B}</td>\n",
       "      <td>NaN</td>\n",
       "      <td>NaN</td>\n",
       "      <td>NaN</td>\n",
       "      <td>NaN</td>\n",
       "      <td>{\"coordinates\": [-0.33679826304022287, 39.4588...</td>\n",
       "      <td>39.45886026320377, -0.33679826304022287</td>\n",
       "    </tr>\n",
       "    <tr>\n",
       "      <th>3</th>\n",
       "      <td>901649</td>\n",
       "      <td>069_AVDA. DEL PUERTO</td>\n",
       "      <td>69</td>\n",
       "      <td>Av. Puerto - Serrería</td>\n",
       "      <td>T</td>\n",
       "      <td>5</td>\n",
       "      <td>20</td>\n",
       "      <td>25</td>\n",
       "      <td>F</td>\n",
       "      <td>19/05/2023 11:30:13</td>\n",
       "      <td>{C3BB42AB-6F87-4A30-8FC2-932F2D923480}</td>\n",
       "      <td>NaN</td>\n",
       "      <td>NaN</td>\n",
       "      <td>NaN</td>\n",
       "      <td>NaN</td>\n",
       "      <td>{\"coordinates\": [-0.3387212679875118, 39.46195...</td>\n",
       "      <td>39.46195227384504, -0.3387212679875118</td>\n",
       "    </tr>\n",
       "    <tr>\n",
       "      <th>4</th>\n",
       "      <td>901650</td>\n",
       "      <td>70_CALLE_COLON_ESQ_ALMIRANTE_ROGER_DE_LAURIA</td>\n",
       "      <td>70</td>\n",
       "      <td>Colón, 44</td>\n",
       "      <td>T</td>\n",
       "      <td>11</td>\n",
       "      <td>6</td>\n",
       "      <td>17</td>\n",
       "      <td>F</td>\n",
       "      <td>19/05/2023 11:30:13</td>\n",
       "      <td>{2336F821-77E3-42D0-9215-FC7C69BE4025}</td>\n",
       "      <td>NaN</td>\n",
       "      <td>NaN</td>\n",
       "      <td>NaN</td>\n",
       "      <td>NaN</td>\n",
       "      <td>{\"coordinates\": [-0.3716462894107889, 39.46921...</td>\n",
       "      <td>39.469213221319464, -0.3716462894107889</td>\n",
       "    </tr>\n",
       "  </tbody>\n",
       "</table>\n",
       "</div>"
      ],
      "text/plain": [
       "      gid                                          name  number_   \n",
       "0  901618                       38_AVDA. PERIS Y VALERO       38  \\\n",
       "1  901645                      065_AVDA. DEL PUERTO III       65   \n",
       "2  901647                            067_JUAN VERDEGUER       67   \n",
       "3  901649                          069_AVDA. DEL PUERTO       69   \n",
       "4  901650  70_CALLE_COLON_ESQ_ALMIRANTE_ROGER_DE_LAURIA       70   \n",
       "\n",
       "                              address open  available  free  total ticket   \n",
       "0          Peris y Valero - Cabo Jubi    T          3    17     20      F  \\\n",
       "1  Av. Puerto - Doctor Manuel Candela    T          0    19     19      T   \n",
       "2          Juan Verdeguer - Toneleros    T          8     6     14      F   \n",
       "3               Av. Puerto - Serrería    T          5    20     25      F   \n",
       "4                           Colón, 44    T         11     6     17      F   \n",
       "\n",
       "            updated_at                                globalid  created_user   \n",
       "0  19/05/2023 11:30:13  {76A36858-7C93-4958-8A8B-22280B953817}           NaN  \\\n",
       "1  19/05/2023 11:30:13  {77CDBBB8-91C3-4EA5-A8CE-4DC7580DC298}           NaN   \n",
       "2  19/05/2023 11:30:13  {BBC2961A-677F-47B3-8640-C009D7649F6B}           NaN   \n",
       "3  19/05/2023 11:30:13  {C3BB42AB-6F87-4A30-8FC2-932F2D923480}           NaN   \n",
       "4  19/05/2023 11:30:13  {2336F821-77E3-42D0-9215-FC7C69BE4025}           NaN   \n",
       "\n",
       "   created_date  last_edited_user  last_edited_date   \n",
       "0           NaN               NaN               NaN  \\\n",
       "1           NaN               NaN               NaN   \n",
       "2           NaN               NaN               NaN   \n",
       "3           NaN               NaN               NaN   \n",
       "4           NaN               NaN               NaN   \n",
       "\n",
       "                                           geo_shape   \n",
       "0  {\"coordinates\": [-0.37024937736936264, 39.4594...  \\\n",
       "1  {\"coordinates\": [-0.3508373061951808, 39.46551...   \n",
       "2  {\"coordinates\": [-0.33679826304022287, 39.4588...   \n",
       "3  {\"coordinates\": [-0.3387212679875118, 39.46195...   \n",
       "4  {\"coordinates\": [-0.3716462894107889, 39.46921...   \n",
       "\n",
       "                              geo_point_2d  \n",
       "0  39.45940204927687, -0.37024937736936264  \n",
       "1  39.465516292011046, -0.3508373061951808  \n",
       "2  39.45886026320377, -0.33679826304022287  \n",
       "3   39.46195227384504, -0.3387212679875118  \n",
       "4  39.469213221319464, -0.3716462894107889  "
      ]
     },
     "execution_count": 33,
     "metadata": {},
     "output_type": "execute_result"
    }
   ],
   "source": [
    "df_valebici = pd.read_csv('valenbici.csv', sep= ';') # este dataset es descargado en la página antes proporcionada, en la pestaña exportar ---> csv ---> todo el conjunto de datos\n",
    "df_valebici.head() "
   ]
  },
  {
   "cell_type": "code",
   "execution_count": 34,
   "metadata": {},
   "outputs": [
    {
     "name": "stdout",
     "output_type": "stream",
     "text": [
      "<class 'pandas.core.frame.DataFrame'>\n",
      "RangeIndex: 276 entries, 0 to 275\n",
      "Data columns (total 17 columns):\n",
      " #   Column            Non-Null Count  Dtype  \n",
      "---  ------            --------------  -----  \n",
      " 0   gid               276 non-null    int64  \n",
      " 1   name              276 non-null    object \n",
      " 2   number_           276 non-null    int64  \n",
      " 3   address           276 non-null    object \n",
      " 4   open              276 non-null    object \n",
      " 5   available         276 non-null    int64  \n",
      " 6   free              276 non-null    int64  \n",
      " 7   total             276 non-null    int64  \n",
      " 8   ticket            276 non-null    object \n",
      " 9   updated_at        276 non-null    object \n",
      " 10  globalid          276 non-null    object \n",
      " 11  created_user      0 non-null      float64\n",
      " 12  created_date      0 non-null      float64\n",
      " 13  last_edited_user  0 non-null      float64\n",
      " 14  last_edited_date  0 non-null      float64\n",
      " 15  geo_shape         276 non-null    object \n",
      " 16  geo_point_2d      276 non-null    object \n",
      "dtypes: float64(4), int64(5), object(8)\n",
      "memory usage: 36.8+ KB\n"
     ]
    }
   ],
   "source": [
    "df_valebici.info()"
   ]
  },
  {
   "attachments": {},
   "cell_type": "markdown",
   "metadata": {},
   "source": [
    "Este dataset esta mucho más sucio que el descargado por sqlite3, además de que solo tiene 276 filas, y el primero más de 20000. Por lo tanto, voy a continuar con el notebook descargado de la base de datos de sqlite3.\n",
    "\n",
    "**Nota:** \n",
    "Entiendo que lo que pone en el markdown del notebook de descargar los datos CSV es una errata."
   ]
  },
  {
   "attachments": {},
   "cell_type": "markdown",
   "metadata": {},
   "source": [
    "## 02 Obtención del número de estaciones que tienen un total de 30 bornetas ¿Qué estaciones son?"
   ]
  },
  {
   "cell_type": "code",
   "execution_count": 35,
   "metadata": {},
   "outputs": [
    {
     "data": {
      "text/html": [
       "<div>\n",
       "<style scoped>\n",
       "    .dataframe tbody tr th:only-of-type {\n",
       "        vertical-align: middle;\n",
       "    }\n",
       "\n",
       "    .dataframe tbody tr th {\n",
       "        vertical-align: top;\n",
       "    }\n",
       "\n",
       "    .dataframe thead th {\n",
       "        text-align: right;\n",
       "    }\n",
       "</style>\n",
       "<table border=\"1\" class=\"dataframe\">\n",
       "  <thead>\n",
       "    <tr style=\"text-align: right;\">\n",
       "      <th></th>\n",
       "      <th>updated</th>\n",
       "      <th>address</th>\n",
       "      <th>number</th>\n",
       "      <th>available</th>\n",
       "      <th>lat</th>\n",
       "      <th>lon</th>\n",
       "      <th>total</th>\n",
       "      <th>open</th>\n",
       "      <th>free</th>\n",
       "    </tr>\n",
       "  </thead>\n",
       "  <tbody>\n",
       "    <tr>\n",
       "      <th>186715</th>\n",
       "      <td>2023-05-09 09:49:59</td>\n",
       "      <td>Giorgeta - Roig de Corella</td>\n",
       "      <td>195</td>\n",
       "      <td>4</td>\n",
       "      <td>39.459384</td>\n",
       "      <td>-0.384281</td>\n",
       "      <td>16</td>\n",
       "      <td>T</td>\n",
       "      <td>10</td>\n",
       "    </tr>\n",
       "    <tr>\n",
       "      <th>83222</th>\n",
       "      <td>2023-05-06 19:09:22</td>\n",
       "      <td>Albocácer - Vinaroz</td>\n",
       "      <td>123</td>\n",
       "      <td>11</td>\n",
       "      <td>39.487671</td>\n",
       "      <td>-0.364841</td>\n",
       "      <td>20</td>\n",
       "      <td>T</td>\n",
       "      <td>9</td>\n",
       "    </tr>\n",
       "    <tr>\n",
       "      <th>190147</th>\n",
       "      <td>2023-05-09 12:39:43</td>\n",
       "      <td>Pio IX - Músico Cabanilles</td>\n",
       "      <td>259</td>\n",
       "      <td>17</td>\n",
       "      <td>39.445460</td>\n",
       "      <td>-0.393015</td>\n",
       "      <td>20</td>\n",
       "      <td>T</td>\n",
       "      <td>0</td>\n",
       "    </tr>\n",
       "    <tr>\n",
       "      <th>150743</th>\n",
       "      <td>2023-05-08 12:09:04</td>\n",
       "      <td>Economista Gay - Luis Crumiere</td>\n",
       "      <td>137</td>\n",
       "      <td>5</td>\n",
       "      <td>39.489033</td>\n",
       "      <td>-0.379896</td>\n",
       "      <td>20</td>\n",
       "      <td>T</td>\n",
       "      <td>13</td>\n",
       "    </tr>\n",
       "    <tr>\n",
       "      <th>182402</th>\n",
       "      <td>2023-05-09 07:09:48</td>\n",
       "      <td>Nicasio Benlloch - Amics dels Corpus</td>\n",
       "      <td>205</td>\n",
       "      <td>4</td>\n",
       "      <td>39.489287</td>\n",
       "      <td>-0.393090</td>\n",
       "      <td>24</td>\n",
       "      <td>T</td>\n",
       "      <td>20</td>\n",
       "    </tr>\n",
       "  </tbody>\n",
       "</table>\n",
       "</div>"
      ],
      "text/plain": [
       "                    updated                               address  number   \n",
       "186715  2023-05-09 09:49:59            Giorgeta - Roig de Corella     195  \\\n",
       "83222   2023-05-06 19:09:22                   Albocácer - Vinaroz     123   \n",
       "190147  2023-05-09 12:39:43            Pio IX - Músico Cabanilles     259   \n",
       "150743  2023-05-08 12:09:04        Economista Gay - Luis Crumiere     137   \n",
       "182402  2023-05-09 07:09:48  Nicasio Benlloch - Amics dels Corpus     205   \n",
       "\n",
       "        available        lat       lon  total open  free  \n",
       "186715          4  39.459384 -0.384281     16    T    10  \n",
       "83222          11  39.487671 -0.364841     20    T     9  \n",
       "190147         17  39.445460 -0.393015     20    T     0  \n",
       "150743          5  39.489033 -0.379896     20    T    13  \n",
       "182402          4  39.489287 -0.393090     24    T    20  "
      ]
     },
     "execution_count": 35,
     "metadata": {},
     "output_type": "execute_result"
    }
   ],
   "source": [
    "df.sample(5)"
   ]
  },
  {
   "cell_type": "code",
   "execution_count": 36,
   "metadata": {},
   "outputs": [
    {
     "name": "stdout",
     "output_type": "stream",
     "text": [
      "el numero total de estaciones con más de 30 bornetas son 9660\n"
     ]
    }
   ],
   "source": [
    "# Your answer here!!!\n",
    "mask = df['total'] > 30\n",
    "\n",
    "print(f'el numero total de estaciones con más de 30 bornetas son {len(df[mask])}')"
   ]
  },
  {
   "cell_type": "code",
   "execution_count": 40,
   "metadata": {},
   "outputs": [
    {
     "name": "stdout",
     "output_type": "stream",
     "text": [
      "las estaciones con mas de 30 bornas son estan en las siguiente calles: \n"
     ]
    },
    {
     "data": {
      "text/plain": [
       "array(['Blasco Ibañez - Poeta Durán Tortajada', 'Naranjos (Magisterio)',\n",
       "       'UPV Caminos', 'Manuel Broseta i Pont - Naranjos',\n",
       "       'Estación AVE Joaquín Sorolla',\n",
       "       'Autopista del Saler - Antonio Ferrandis (C.C. El Saler)',\n",
       "       'Ribera - Plaza Ayuntamiento',\n",
       "       'Hospital Nueva Fe (consultas externas)', 'C/Xàtiva 30-32',\n",
       "       'Blasco Ibañez, 28 (F. Geografía e Historia)',\n",
       "       'Blasco Ibañez, 32 (F. Filología)',\n",
       "       'Blasco Ibañez - Doctor Gómez Ferrer (Clínico)'], dtype=object)"
      ]
     },
     "metadata": {},
     "output_type": "display_data"
    },
    {
     "name": "stdout",
     "output_type": "stream",
     "text": [
      "\n",
      "\n",
      "y tienen los siguientes números: \n"
     ]
    },
    {
     "data": {
      "text/plain": [
       "array([ 93,  95, 113, 112, 194,  50,  15, 188, 148,  88,  90,  87],\n",
       "      dtype=int64)"
      ]
     },
     "execution_count": 40,
     "metadata": {},
     "output_type": "execute_result"
    }
   ],
   "source": [
    "#df.loc[mask, 'address'].unique()\n",
    "\n",
    "print('las estaciones con mas de 30 bornas son estan en las siguiente calles: ')\n",
    "# for n in df.loc[mask, 'address'].unique():\n",
    "#     print(n)\n",
    "display(df.loc[mask, 'address'].unique())\n",
    "print('\\n')\n",
    "print('y tienen los siguientes números: ')\n",
    "df.loc[mask, 'number'].unique()"
   ]
  },
  {
   "attachments": {},
   "cell_type": "markdown",
   "metadata": {},
   "source": [
    "## 03 Número de estación con la media más alta de bicis disponibles"
   ]
  },
  {
   "cell_type": "code",
   "execution_count": 41,
   "metadata": {},
   "outputs": [
    {
     "name": "stdout",
     "output_type": "stream",
     "text": [
      "        available\n",
      "number           \n",
      "101     22.859627\n",
      "\n",
      "\n",
      "La estación con el numero 101 es la que más bicicletas disponibles tiene con una media de 22.86\n"
     ]
    }
   ],
   "source": [
    "# Your answer here!!!\n",
    "df_0 = df[['number', 'available']]\n",
    "mean_of_available = df_0.groupby('number').mean().sort_values('available', ascending=False)\n",
    " #mean_of_available\n",
    "print(mean_of_available.head(1))\n",
    "print('\\n')\n",
    "print(f'La estación con el numero {mean_of_available.index[0]} es la que más bicicletas disponibles tiene con una media de {round(mean_of_available.iloc[0,0], 2)}')\n"
   ]
  },
  {
   "attachments": {},
   "cell_type": "markdown",
   "metadata": {},
   "source": [
    "## 04 Realizar el histograma de bicis disponibles de la estación del punto anterior"
   ]
  },
  {
   "cell_type": "code",
   "execution_count": 42,
   "metadata": {},
   "outputs": [
    {
     "data": {
      "image/png": "[encoded data removed]",
      "text/plain": [
       "<Figure size 700x500 with 1 Axes>"
      ]
     },
     "metadata": {},
     "output_type": "display_data"
    }
   ],
   "source": [
    "# Your answer here!!!\n",
    "mask = df['number'] == 101\n",
    "\n",
    "df.loc[mask, 'available'].hist(figsize=(7,5), bins= 30)\n",
    "plt.show()"
   ]
  },
  {
   "attachments": {},
   "cell_type": "markdown",
   "metadata": {},
   "source": [
    "## 05 Realizar gráfica con  la línea temporal de bicis disponibles de la estación del punto anterior. Pista, es necesario cambiar el índice a uno tipo fecha"
   ]
  },
  {
   "cell_type": "code",
   "execution_count": 43,
   "metadata": {},
   "outputs": [
    {
     "data": {
      "text/html": [
       "<div>\n",
       "<style scoped>\n",
       "    .dataframe tbody tr th:only-of-type {\n",
       "        vertical-align: middle;\n",
       "    }\n",
       "\n",
       "    .dataframe tbody tr th {\n",
       "        vertical-align: top;\n",
       "    }\n",
       "\n",
       "    .dataframe thead th {\n",
       "        text-align: right;\n",
       "    }\n",
       "</style>\n",
       "<table border=\"1\" class=\"dataframe\">\n",
       "  <thead>\n",
       "    <tr style=\"text-align: right;\">\n",
       "      <th></th>\n",
       "      <th>updated</th>\n",
       "      <th>address</th>\n",
       "      <th>number</th>\n",
       "      <th>available</th>\n",
       "      <th>lat</th>\n",
       "      <th>lon</th>\n",
       "      <th>total</th>\n",
       "      <th>open</th>\n",
       "      <th>free</th>\n",
       "    </tr>\n",
       "  </thead>\n",
       "  <tbody>\n",
       "    <tr>\n",
       "      <th>0</th>\n",
       "      <td>2023-05-04 16:20:06</td>\n",
       "      <td>Peris y Valero - Cuba</td>\n",
       "      <td>39</td>\n",
       "      <td>5</td>\n",
       "      <td>39.457854</td>\n",
       "      <td>-0.373931</td>\n",
       "      <td>19</td>\n",
       "      <td>T</td>\n",
       "      <td>14</td>\n",
       "    </tr>\n",
       "    <tr>\n",
       "      <th>1</th>\n",
       "      <td>2023-05-04 16:20:06</td>\n",
       "      <td>Pintor Luis Arcas - Inst. Obrero Valenciano</td>\n",
       "      <td>46</td>\n",
       "      <td>4</td>\n",
       "      <td>39.455509</td>\n",
       "      <td>-0.358787</td>\n",
       "      <td>20</td>\n",
       "      <td>T</td>\n",
       "      <td>16</td>\n",
       "    </tr>\n",
       "    <tr>\n",
       "      <th>2</th>\n",
       "      <td>2023-05-04 16:20:06</td>\n",
       "      <td>Alfonso el Magnánimo - Nave</td>\n",
       "      <td>13</td>\n",
       "      <td>15</td>\n",
       "      <td>39.472062</td>\n",
       "      <td>-0.370874</td>\n",
       "      <td>24</td>\n",
       "      <td>T</td>\n",
       "      <td>9</td>\n",
       "    </tr>\n",
       "    <tr>\n",
       "      <th>3</th>\n",
       "      <td>2023-05-04 16:20:06</td>\n",
       "      <td>Angel Guimerá - Juan Llorens</td>\n",
       "      <td>22</td>\n",
       "      <td>4</td>\n",
       "      <td>39.469787</td>\n",
       "      <td>-0.388353</td>\n",
       "      <td>15</td>\n",
       "      <td>T</td>\n",
       "      <td>11</td>\n",
       "    </tr>\n",
       "    <tr>\n",
       "      <th>4</th>\n",
       "      <td>2023-05-04 16:20:06</td>\n",
       "      <td>Fernando el Católico - Cuenca</td>\n",
       "      <td>24</td>\n",
       "      <td>7</td>\n",
       "      <td>39.469077</td>\n",
       "      <td>-0.384027</td>\n",
       "      <td>20</td>\n",
       "      <td>T</td>\n",
       "      <td>11</td>\n",
       "    </tr>\n",
       "  </tbody>\n",
       "</table>\n",
       "</div>"
      ],
      "text/plain": [
       "               updated                                      address  number   \n",
       "0  2023-05-04 16:20:06                        Peris y Valero - Cuba      39  \\\n",
       "1  2023-05-04 16:20:06  Pintor Luis Arcas - Inst. Obrero Valenciano      46   \n",
       "2  2023-05-04 16:20:06                  Alfonso el Magnánimo - Nave      13   \n",
       "3  2023-05-04 16:20:06                 Angel Guimerá - Juan Llorens      22   \n",
       "4  2023-05-04 16:20:06                Fernando el Católico - Cuenca      24   \n",
       "\n",
       "   available        lat       lon  total open  free  \n",
       "0          5  39.457854 -0.373931     19    T    14  \n",
       "1          4  39.455509 -0.358787     20    T    16  \n",
       "2         15  39.472062 -0.370874     24    T     9  \n",
       "3          4  39.469787 -0.388353     15    T    11  \n",
       "4          7  39.469077 -0.384027     20    T    11  "
      ]
     },
     "execution_count": 43,
     "metadata": {},
     "output_type": "execute_result"
    }
   ],
   "source": [
    "df.head()"
   ]
  },
  {
   "cell_type": "code",
   "execution_count": 44,
   "metadata": {},
   "outputs": [
    {
     "name": "stdout",
     "output_type": "stream",
     "text": [
      "<class 'pandas.core.series.Series'>\n",
      "RangeIndex: 222180 entries, 0 to 222179\n",
      "Series name: updated\n",
      "Non-Null Count   Dtype         \n",
      "--------------   -----         \n",
      "222180 non-null  datetime64[ns]\n",
      "dtypes: datetime64[ns](1)\n",
      "memory usage: 1.7 MB\n"
     ]
    }
   ],
   "source": [
    "# Your answer here!!!\n",
    "\n",
    "df['updated'] = pd.to_datetime(df['updated'])\n",
    "\n",
    "df['updated'].info()"
   ]
  },
  {
   "attachments": {},
   "cell_type": "markdown",
   "metadata": {},
   "source": [
    "Ahora se puede observar como la columna ya no es object, si no, datetime64[ns]"
   ]
  },
  {
   "cell_type": "code",
   "execution_count": 45,
   "metadata": {},
   "outputs": [
    {
     "data": {
      "image/png": "[encoded data removed]",
      "text/plain": [
       "<Figure size 1500x700 with 1 Axes>"
      ]
     },
     "metadata": {},
     "output_type": "display_data"
    }
   ],
   "source": [
    "mask = df['number'] == 101\n",
    "\n",
    "df[mask].plot(kind= 'line',\n",
    "        x= 'updated',\n",
    "        y = 'available',\n",
    "        figsize=(15,7),\n",
    "         grid= True,\n",
    "         legend=True,\n",
    "         rot=10,\n",
    "         fontsize=10)\n",
    "\n",
    "plt.title('Grafico cronológico de las bicicletas disponibles, de la estación número 101',fontdict={'fontsize':18})\n",
    "plt.xlabel('Fecha y hora', fontdict={'fontsize':14})\n",
    "plt.ylabel('bicicletas disponibles', fontdict={'fontsize':14})\n",
    "plt.show()"
   ]
  },
  {
   "cell_type": "code",
   "execution_count": null,
   "metadata": {},
   "outputs": [],
   "source": []
  }
 ],
 "metadata": {
  "kernelspec": {
   "display_name": "Python 3 (ipykernel)",
   "language": "python",
   "name": "python3"
  },
  "language_info": {
   "codemirror_mode": {
    "name": "ipython",
    "version": 3
   },
   "file_extension": ".py",
   "mimetype": "text/x-python",
   "name": "python",
   "nbconvert_exporter": "python",
   "pygments_lexer": "ipython3",
   "version": "3.10.6"
  }
 },
 "nbformat": 4,
 "nbformat_minor": 4
}
