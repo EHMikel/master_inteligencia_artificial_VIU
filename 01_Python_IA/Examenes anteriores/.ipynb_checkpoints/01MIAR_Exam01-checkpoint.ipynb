{
 "cells": [
  {
   "cell_type": "markdown",
   "id": "43115e44-f75d-465a-ad62-9b2be737a6e6",
   "metadata": {},
   "source": [
    "# Examen Primera Convocatoria"
   ]
  },
  {
   "cell_type": "code",
   "execution_count": 1,
   "id": "eb8ba270-b03c-49f8-b092-8de37baa3bfe",
   "metadata": {},
   "outputs": [],
   "source": [
    "# Your imports HERE !!!!\n",
    "import pandas as pd\n",
    "import numpy as np\n",
    "import matplotlib.pyplot as plt"
   ]
  },
  {
   "cell_type": "markdown",
   "id": "2206adbd-c8e0-4665-a20b-bb6a1503d388",
   "metadata": {
    "tags": []
   },
   "source": [
    "## 01 - 1 pt\n",
    "- Dado un array de elementos, escribir una función, que reciba dicho array como parámetro de entrada y devuelva el elemento repetido. Usando plain Python, sin ninguna librería."
   ]
  },
  {
   "cell_type": "code",
   "execution_count": 2,
   "id": "fcafcaed",
   "metadata": {},
   "outputs": [],
   "source": [
    "def repeated_element(lst): # no considera que haya dos o más elementos repetidos, no lo especifiica\n",
    "    for n in lst:\n",
    "        if lst.count(n)>1:\n",
    "            return n"
   ]
  },
  {
   "cell_type": "code",
   "execution_count": 3,
   "id": "748595ea-d6b6-4f35-a824-ea3631d7e15a",
   "metadata": {},
   "outputs": [],
   "source": [
    "array_src = [4, 8, 0, 3, 6, 2, 1, 5, 3, 9, 7]\n",
    "expected_rep_element = 3\n",
    "rep_element = repeated_element(array_src) # This calls your function repeated_element\n",
    "assert(expected_rep_element == rep_element)  # This will fail if the element is not found correctly"
   ]
  },
  {
   "cell_type": "code",
   "execution_count": 4,
   "id": "3b6d4855-e751-4f45-8382-1291885aef0c",
   "metadata": {},
   "outputs": [],
   "source": [
    "# Your solution HERE !!!!"
   ]
  },
  {
   "cell_type": "markdown",
   "id": "5161decf-e061-44a9-a413-8d3921a10058",
   "metadata": {
    "tags": []
   },
   "source": [
    "## 02 - 1pt\n",
    "- Genera una matriz con valores aleatorios de 0 a 100 de dimensiones 16x16\n",
    "- Calcula los siguentes estadísticos en la matriz anterior, por fila (el resultado de cada uno debe ser un array de dimensiones 1x16)\n",
    "  - Suma de los elementos de cada fila\n",
    "  - Media de los elementos de cada fila\n",
    "  - Valores mínimos de cada fila\n",
    "  - Valores máximos de cada fila"
   ]
  },
  {
   "cell_type": "code",
   "execution_count": 5,
   "id": "2e7bfe3c-253f-4287-8d85-fb7e5163e6c0",
   "metadata": {},
   "outputs": [
    {
     "name": "stdout",
     "output_type": "stream",
     "text": [
      "[[51 92 14 71 60 20 82 86 74 74 87 99 23  2 21 52]\n",
      " [ 1 87 29 37  1 63 59 20 32 75 57 21 88 48 90 58]\n",
      " [41 91 59 79 14 61 61 46 61 50 54 63  2 50  6 20]\n",
      " [72 38 17  3 88 59 13  8 89 52  1 83 91 59 70 43]\n",
      " [ 7 46 34 77 80 35 49  3  1  5 53  3 53 92 62 17]\n",
      " [89 43 33 73 61 99 13 94 47 14 71 77 86 61 39 84]\n",
      " [79 81 52 23 25 88 59 40 28 14 44 64 88 70  8 87]\n",
      " [ 0  7 87 62 10 80  7 34 34 32  4 40 27  6 72 71]\n",
      " [11 33 32 47 22 61 87 36 98 43 85 90 34 64 98 46]\n",
      " [77  2  0  4 89 13 26  8 78 14 89 41 76 50 62 95]\n",
      " [51 95  3 93 22 14 42 28 35 12 31 70 58 85 27 65]\n",
      " [41 44 61 56  5 27 27 43 83 29 61 74 91 88 61 96]\n",
      " [ 0 26 61 76  2 69 71 26  8 61 36 96 50 43 23 78]\n",
      " [58 31 95 87 51 61 57 51 11 38  1  2 55 80 58  1]\n",
      " [ 1 91 53 86 95 96  0 18  1 52 43 89 31 69 31 67]\n",
      " [54 74 55 16 37 23 68 97 69 85 10 15 96 72 58 69]]\n",
      "\n",
      "\n",
      "[908 766 758 786 617 984 850 573 887 724 731 887 726 737 823 898]\n",
      "\n",
      "\n",
      "[56.75   47.875  47.375  49.125  38.5625 61.5    53.125  35.8125 55.4375\n",
      " 45.25   45.6875 55.4375 45.375  46.0625 51.4375 56.125 ]\n",
      "\n",
      "\n",
      "[99 90 91 91 92 99 88 87 98 95 95 96 96 95 96 97]\n",
      "\n",
      "\n",
      "[ 2  1  2  1  1 13  8  0 11  0  3  5  0  1  0 10]\n"
     ]
    }
   ],
   "source": [
    "np.random.seed(42)\n",
    "m = np.random.randint(low= 0, high= 100, size= (16,16))\n",
    "print(m)\n",
    "print('\\n')\n",
    "\n",
    "print(m.sum(axis=1))\n",
    "print('\\n')\n",
    "print(m.mean(axis=1))\n",
    "print('\\n')\n",
    "print(m.max(axis=1))\n",
    "print('\\n')\n",
    "print(m.min(axis=1))"
   ]
  },
  {
   "cell_type": "markdown",
   "id": "9986c32f-299d-4ce7-809e-db01ee851764",
   "metadata": {
    "tags": []
   },
   "source": [
    "## 03 - 1pt\n",
    "\n",
    "- Generar un dataframe de 3x4 dimensiones con valores númericos aleatorios [0,10]\n",
    "- Darle un índice semántico alfanumérico\n",
    "- Aplicarle una función lambda que obtenga la diferencia entre el máximo y mínimo de cada fila"
   ]
  },
  {
   "cell_type": "code",
   "execution_count": 6,
   "id": "18ff9dbf-9ba4-4513-8a73-d0328b689dc9",
   "metadata": {},
   "outputs": [
    {
     "name": "stdout",
     "output_type": "stream",
     "text": [
      "[[2.94665003 5.30586756 1.91520787 0.67900358]\n",
      " [7.8698546  6.56333522 6.37520896 5.75602894]\n",
      " [0.39062916 3.57813604 9.45683187 0.6004468 ]]\n",
      "\n",
      "\n"
     ]
    },
    {
     "data": {
      "text/html": [
       "<div>\n",
       "<style scoped>\n",
       "    .dataframe tbody tr th:only-of-type {\n",
       "        vertical-align: middle;\n",
       "    }\n",
       "\n",
       "    .dataframe tbody tr th {\n",
       "        vertical-align: top;\n",
       "    }\n",
       "\n",
       "    .dataframe thead th {\n",
       "        text-align: right;\n",
       "    }\n",
       "</style>\n",
       "<table border=\"1\" class=\"dataframe\">\n",
       "  <thead>\n",
       "    <tr style=\"text-align: right;\">\n",
       "      <th></th>\n",
       "      <th>0</th>\n",
       "      <th>1</th>\n",
       "      <th>2</th>\n",
       "      <th>3</th>\n",
       "    </tr>\n",
       "  </thead>\n",
       "  <tbody>\n",
       "    <tr>\n",
       "      <th>a</th>\n",
       "      <td>2.946650</td>\n",
       "      <td>5.305868</td>\n",
       "      <td>1.915208</td>\n",
       "      <td>0.679004</td>\n",
       "    </tr>\n",
       "    <tr>\n",
       "      <th>b</th>\n",
       "      <td>7.869855</td>\n",
       "      <td>6.563335</td>\n",
       "      <td>6.375209</td>\n",
       "      <td>5.756029</td>\n",
       "    </tr>\n",
       "    <tr>\n",
       "      <th>c</th>\n",
       "      <td>0.390629</td>\n",
       "      <td>3.578136</td>\n",
       "      <td>9.456832</td>\n",
       "      <td>0.600447</td>\n",
       "    </tr>\n",
       "  </tbody>\n",
       "</table>\n",
       "</div>"
      ],
      "text/plain": [
       "          0         1         2         3\n",
       "a  2.946650  5.305868  1.915208  0.679004\n",
       "b  7.869855  6.563335  6.375209  5.756029\n",
       "c  0.390629  3.578136  9.456832  0.600447"
      ]
     },
     "metadata": {},
     "output_type": "display_data"
    },
    {
     "data": {
      "text/html": [
       "<div>\n",
       "<style scoped>\n",
       "    .dataframe tbody tr th:only-of-type {\n",
       "        vertical-align: middle;\n",
       "    }\n",
       "\n",
       "    .dataframe tbody tr th {\n",
       "        vertical-align: top;\n",
       "    }\n",
       "\n",
       "    .dataframe thead th {\n",
       "        text-align: right;\n",
       "    }\n",
       "</style>\n",
       "<table border=\"1\" class=\"dataframe\">\n",
       "  <thead>\n",
       "    <tr style=\"text-align: right;\">\n",
       "      <th></th>\n",
       "      <th>0</th>\n",
       "      <th>1</th>\n",
       "      <th>2</th>\n",
       "      <th>3</th>\n",
       "      <th>max-min_dif</th>\n",
       "    </tr>\n",
       "  </thead>\n",
       "  <tbody>\n",
       "    <tr>\n",
       "      <th>a</th>\n",
       "      <td>2.946650</td>\n",
       "      <td>5.305868</td>\n",
       "      <td>1.915208</td>\n",
       "      <td>0.679004</td>\n",
       "      <td>4.626864</td>\n",
       "    </tr>\n",
       "    <tr>\n",
       "      <th>b</th>\n",
       "      <td>7.869855</td>\n",
       "      <td>6.563335</td>\n",
       "      <td>6.375209</td>\n",
       "      <td>5.756029</td>\n",
       "      <td>2.113826</td>\n",
       "    </tr>\n",
       "    <tr>\n",
       "      <th>c</th>\n",
       "      <td>0.390629</td>\n",
       "      <td>3.578136</td>\n",
       "      <td>9.456832</td>\n",
       "      <td>0.600447</td>\n",
       "      <td>9.066203</td>\n",
       "    </tr>\n",
       "  </tbody>\n",
       "</table>\n",
       "</div>"
      ],
      "text/plain": [
       "          0         1         2         3  max-min_dif\n",
       "a  2.946650  5.305868  1.915208  0.679004     4.626864\n",
       "b  7.869855  6.563335  6.375209  5.756029     2.113826\n",
       "c  0.390629  3.578136  9.456832  0.600447     9.066203"
      ]
     },
     "metadata": {},
     "output_type": "display_data"
    }
   ],
   "source": [
    "# Your solution HERE !!!!\n",
    "np.random.seed(17)\n",
    "r = np.random.uniform(low= 0.0, high=10.0, size= (3,4))\n",
    "print(r)\n",
    "print('\\n')\n",
    "random_df = pd.DataFrame(r, index= ['a','b', 'c'])\n",
    "display(random_df)\n",
    "random_df['max-min_dif'] = random_df.apply(lambda x: x.max()-x.min(), axis=1)\n",
    "display(random_df)"
   ]
  },
  {
   "cell_type": "code",
   "execution_count": 7,
   "id": "f05f79b7",
   "metadata": {},
   "outputs": [
    {
     "data": {
      "text/plain": [
       "4.6268639741400275"
      ]
     },
     "execution_count": 7,
     "metadata": {},
     "output_type": "execute_result"
    }
   ],
   "source": [
    "random_df.loc['a',:].max()-random_df.loc['a',:].min()"
   ]
  },
  {
   "cell_type": "markdown",
   "id": "1dc73e21-7283-4cd5-92e8-3a7e1e70fd02",
   "metadata": {
    "tags": []
   },
   "source": [
    "## 04 - 1pt\n",
    "- Crear un array de NumPy de dimensiones 8x5, con números enteros aleatorios en el rango [-100, 100]\n",
    "- Ejecutar en este orden\n",
    "  - Reemplazar valores  \n",
    "    - Reemplazar los valores de todos aquellos números múltiplos de 5 por 100\n",
    "    - Reemplazar los valores de todos aquellos números múltiplos de 3 por Nan\n",
    "   \n",
    "  - Averiguar cuantos elementos tienen Nan por fila\n",
    "  - Reemplazar los valores de Nan por 0"
   ]
  },
  {
   "cell_type": "code",
   "execution_count": 8,
   "id": "2fd83be4-8626-4eaa-9ead-6f951d5ebbfb",
   "metadata": {},
   "outputs": [
    {
     "name": "stdout",
     "output_type": "stream",
     "text": [
      "[[  2  79  -8 -86   6]\n",
      " [-29  88 -80   2  21]\n",
      " [-26 -13  16  -1   3]\n",
      " [ 51  30  49 -48 -99]\n",
      " [-13  57 -63  29  91]\n",
      " [ 87 -80  60 -43 -79]\n",
      " [-12 -52 -42  69  87]\n",
      " [-86  89  89  74  89]]\n",
      "\n",
      "\n",
      "[[  2  79  -8 -86   6]\n",
      " [-29  88 100   2  21]\n",
      " [-26 -13  16  -1   3]\n",
      " [ 51 100  49 -48 -99]\n",
      " [-13  57 -63  29  91]\n",
      " [ 87 100 100 -43 -79]\n",
      " [-12 -52 -42  69  87]\n",
      " [-86  89  89  74  89]]\n",
      "\n",
      "\n",
      "[[  2.  79.  -8. -86.  nan]\n",
      " [-29.  88. 100.   2.  nan]\n",
      " [-26. -13.  16.  -1.  nan]\n",
      " [ nan  nan  49.  nan  nan]\n",
      " [-13.  nan  nan  29.  91.]\n",
      " [ nan 100.  nan -43. -79.]\n",
      " [ nan -52.  nan  nan  nan]\n",
      " [-86.  89.  89.  74.  89.]]\n",
      "[1 1 1 4 2 2 4 0]\n"
     ]
    }
   ],
   "source": [
    "# Your solution HERE !!!!\n",
    "np.random.seed(42)\n",
    "arr = np.random.randint(low= -100,high=101, size=(8,5))\n",
    "print(arr)\n",
    "print('\\n')\n",
    "\n",
    "mask1 = arr % 5 == 0\n",
    "mask2 = arr % 3 == 0\n",
    "\n",
    "arr[mask1] = 100\n",
    "print(arr)\n",
    "print('\\n')\n",
    "\n",
    "arr = np.where(mask2, np.nan, arr)\n",
    "print(arr)\n",
    "print(np.isnan(arr).sum(axis= 1))"
   ]
  },
  {
   "cell_type": "markdown",
   "id": "45fe9b96-168d-4bdc-a472-fb41c9031c0d",
   "metadata": {
    "tags": []
   },
   "source": [
    "## 05 - 1pt\n",
    "- Crear una función que reciba una lista de strings y devuelva una serie de pandas, y convierta el primer y último carácter de la palabra de cada elemento de la serie a mayúsculas"
   ]
  },
  {
   "cell_type": "code",
   "execution_count": 9,
   "id": "ac2e3885",
   "metadata": {},
   "outputs": [
    {
     "data": {
      "text/plain": [
       "0        PythoN\n",
       "1           PhP\n",
       "2          JavA\n",
       "3    JavascripT\n",
       "4           C++\n",
       "5           SqL\n",
       "dtype: object"
      ]
     },
     "execution_count": 9,
     "metadata": {},
     "output_type": "execute_result"
    }
   ],
   "source": [
    "def first_last_uppercase(lst):\n",
    "    lista_final = []\n",
    "    for string in lst:\n",
    "        string = string.capitalize()\n",
    "        string = string[:-1] + string[-1].upper()\n",
    "        lista_final.append(string)\n",
    "    serie = pd.Series(lista_final)\n",
    "    return serie\n",
    "\n",
    "first_last_uppercase(['python', 'php', 'java', 'javascript', 'c++', 'sql'])"
   ]
  },
  {
   "cell_type": "code",
   "execution_count": 10,
   "id": "19fab47f-5fbe-4baa-93af-fc6776d748d1",
   "metadata": {},
   "outputs": [],
   "source": [
    "languages = ['python', 'php', 'java', 'javascript', 'c++', 'sql']\n",
    "expected_output = pd.Series(['PythoN', 'PhP', 'JavA', 'JavascripT', 'C++', 'SqL'])\n",
    "output = first_last_uppercase(languages)  # This calls your function first_last_uppercase\n",
    "assert(expected_output.equals(output))  # This will fail if the two lists are different"
   ]
  },
  {
   "cell_type": "code",
   "execution_count": 11,
   "id": "b6b5696b-71fd-4dc4-8536-18eb2d69a8fa",
   "metadata": {},
   "outputs": [],
   "source": [
    "# Your solution HERE !!!!"
   ]
  },
  {
   "cell_type": "markdown",
   "id": "2b191602-365c-42d3-81af-f877089f0f20",
   "metadata": {
    "tags": []
   },
   "source": [
    "## 06 - 3 pt\n",
    "- Se tienen cuatro datasets, se adjuntan sus datos como diccionarios\n",
    "  - Orders, representa un conjunto de pedidos, con sus fechas, su cantidad, y el cliente y vendedor asociados al mismo\n",
    "  - Customers, conjunto de clientes, con su nombre y su ciudad\n",
    "  - Salesman, conjunto de vendedores, con su nombre, ciudad y porcentaje de comisión por venta\n",
    "  - Cities, conjunto de ciudades con sus nombres\n",
    "- Obtener la siguiente información usando Pandas\n",
    "  - El nombre del vendedor con la mejor venta, y a que cliente ha sido\n",
    "  - Dinero de la comisión otorgada para cada pedido, ordenado por fechas\n",
    "  - Media del dinero de los pedidos de los clientes de Tokyo\n",
    "  - Total del dinero de las comisiones del vendedor Ikuzu Midoriya en el mes de Agosto\n",
    "- Representar graficamente\n",
    "  - Media del total de cada pedido para cada cliente agrupado por ciudad\n",
    "  - Línea temporal del total de los pedidos"
   ]
  },
  {
   "cell_type": "code",
   "execution_count": 12,
   "id": "e14a9877-d29f-49e9-ab82-a8c89dc59081",
   "metadata": {},
   "outputs": [],
   "source": [
    "orders = {'OrderId': [1,2,3,4,5,6], 'OrderDate': ['2021-07-23', '2021-08-06', '2021-07-28', '2021-08-04', '2021-08-03', '2021-07-30'], 'Amount': [1500.5,2000.65,1550.2,1900.75,2205.4, 1208.22], 'CustomerId': [3,4,2,2,1,4], 'SalesmanId': [3,3,2,1,3,2]}\n",
    "customers = {'CustomerId': [1,2,3,4], 'Name': ['Brad Davis', 'Julian Green', 'Geoff Cameron', 'Fabian Johnson'], 'CityId': [2,1,2,3]}\n",
    "salesmans = {'SalesmanId': [1,2,3], 'Name': ['James Knite', 'Reinhardt Wilhelm', 'Ikuzu Midoriya'], 'CityId': [1,3,2], 'Comission': [0.15,0.11,0.09]}\n",
    "cities = {'CityId': [1,2,3], 'Name': ['New York', 'Tokyo', 'Berlin']}"
   ]
  },
  {
   "cell_type": "code",
   "execution_count": 13,
   "id": "95b15246-4019-4073-ae6c-6c32321cb5dd",
   "metadata": {},
   "outputs": [
    {
     "data": {
      "text/html": [
       "<div>\n",
       "<style scoped>\n",
       "    .dataframe tbody tr th:only-of-type {\n",
       "        vertical-align: middle;\n",
       "    }\n",
       "\n",
       "    .dataframe tbody tr th {\n",
       "        vertical-align: top;\n",
       "    }\n",
       "\n",
       "    .dataframe thead th {\n",
       "        text-align: right;\n",
       "    }\n",
       "</style>\n",
       "<table border=\"1\" class=\"dataframe\">\n",
       "  <thead>\n",
       "    <tr style=\"text-align: right;\">\n",
       "      <th></th>\n",
       "      <th>OrderId</th>\n",
       "      <th>OrderDate</th>\n",
       "      <th>Amount</th>\n",
       "      <th>CustomerId</th>\n",
       "      <th>SalesmanId</th>\n",
       "    </tr>\n",
       "  </thead>\n",
       "  <tbody>\n",
       "    <tr>\n",
       "      <th>0</th>\n",
       "      <td>1</td>\n",
       "      <td>2021-07-23</td>\n",
       "      <td>1500.50</td>\n",
       "      <td>3</td>\n",
       "      <td>3</td>\n",
       "    </tr>\n",
       "    <tr>\n",
       "      <th>1</th>\n",
       "      <td>2</td>\n",
       "      <td>2021-08-06</td>\n",
       "      <td>2000.65</td>\n",
       "      <td>4</td>\n",
       "      <td>3</td>\n",
       "    </tr>\n",
       "    <tr>\n",
       "      <th>2</th>\n",
       "      <td>3</td>\n",
       "      <td>2021-07-28</td>\n",
       "      <td>1550.20</td>\n",
       "      <td>2</td>\n",
       "      <td>2</td>\n",
       "    </tr>\n",
       "    <tr>\n",
       "      <th>3</th>\n",
       "      <td>4</td>\n",
       "      <td>2021-08-04</td>\n",
       "      <td>1900.75</td>\n",
       "      <td>2</td>\n",
       "      <td>1</td>\n",
       "    </tr>\n",
       "    <tr>\n",
       "      <th>4</th>\n",
       "      <td>5</td>\n",
       "      <td>2021-08-03</td>\n",
       "      <td>2205.40</td>\n",
       "      <td>1</td>\n",
       "      <td>3</td>\n",
       "    </tr>\n",
       "    <tr>\n",
       "      <th>5</th>\n",
       "      <td>6</td>\n",
       "      <td>2021-07-30</td>\n",
       "      <td>1208.22</td>\n",
       "      <td>4</td>\n",
       "      <td>2</td>\n",
       "    </tr>\n",
       "  </tbody>\n",
       "</table>\n",
       "</div>"
      ],
      "text/plain": [
       "   OrderId   OrderDate   Amount  CustomerId  SalesmanId\n",
       "0        1  2021-07-23  1500.50           3           3\n",
       "1        2  2021-08-06  2000.65           4           3\n",
       "2        3  2021-07-28  1550.20           2           2\n",
       "3        4  2021-08-04  1900.75           2           1\n",
       "4        5  2021-08-03  2205.40           1           3\n",
       "5        6  2021-07-30  1208.22           4           2"
      ]
     },
     "metadata": {},
     "output_type": "display_data"
    },
    {
     "data": {
      "text/html": [
       "<div>\n",
       "<style scoped>\n",
       "    .dataframe tbody tr th:only-of-type {\n",
       "        vertical-align: middle;\n",
       "    }\n",
       "\n",
       "    .dataframe tbody tr th {\n",
       "        vertical-align: top;\n",
       "    }\n",
       "\n",
       "    .dataframe thead th {\n",
       "        text-align: right;\n",
       "    }\n",
       "</style>\n",
       "<table border=\"1\" class=\"dataframe\">\n",
       "  <thead>\n",
       "    <tr style=\"text-align: right;\">\n",
       "      <th></th>\n",
       "      <th>CustomerId</th>\n",
       "      <th>Name</th>\n",
       "      <th>CityId</th>\n",
       "    </tr>\n",
       "  </thead>\n",
       "  <tbody>\n",
       "    <tr>\n",
       "      <th>0</th>\n",
       "      <td>1</td>\n",
       "      <td>Brad Davis</td>\n",
       "      <td>2</td>\n",
       "    </tr>\n",
       "    <tr>\n",
       "      <th>1</th>\n",
       "      <td>2</td>\n",
       "      <td>Julian Green</td>\n",
       "      <td>1</td>\n",
       "    </tr>\n",
       "    <tr>\n",
       "      <th>2</th>\n",
       "      <td>3</td>\n",
       "      <td>Geoff Cameron</td>\n",
       "      <td>2</td>\n",
       "    </tr>\n",
       "    <tr>\n",
       "      <th>3</th>\n",
       "      <td>4</td>\n",
       "      <td>Fabian Johnson</td>\n",
       "      <td>3</td>\n",
       "    </tr>\n",
       "  </tbody>\n",
       "</table>\n",
       "</div>"
      ],
      "text/plain": [
       "   CustomerId            Name  CityId\n",
       "0           1      Brad Davis       2\n",
       "1           2    Julian Green       1\n",
       "2           3   Geoff Cameron       2\n",
       "3           4  Fabian Johnson       3"
      ]
     },
     "metadata": {},
     "output_type": "display_data"
    },
    {
     "data": {
      "text/html": [
       "<div>\n",
       "<style scoped>\n",
       "    .dataframe tbody tr th:only-of-type {\n",
       "        vertical-align: middle;\n",
       "    }\n",
       "\n",
       "    .dataframe tbody tr th {\n",
       "        vertical-align: top;\n",
       "    }\n",
       "\n",
       "    .dataframe thead th {\n",
       "        text-align: right;\n",
       "    }\n",
       "</style>\n",
       "<table border=\"1\" class=\"dataframe\">\n",
       "  <thead>\n",
       "    <tr style=\"text-align: right;\">\n",
       "      <th></th>\n",
       "      <th>SalesmanId</th>\n",
       "      <th>Name</th>\n",
       "      <th>CityId</th>\n",
       "      <th>Comission</th>\n",
       "    </tr>\n",
       "  </thead>\n",
       "  <tbody>\n",
       "    <tr>\n",
       "      <th>0</th>\n",
       "      <td>1</td>\n",
       "      <td>James Knite</td>\n",
       "      <td>1</td>\n",
       "      <td>0.15</td>\n",
       "    </tr>\n",
       "    <tr>\n",
       "      <th>1</th>\n",
       "      <td>2</td>\n",
       "      <td>Reinhardt Wilhelm</td>\n",
       "      <td>3</td>\n",
       "      <td>0.11</td>\n",
       "    </tr>\n",
       "    <tr>\n",
       "      <th>2</th>\n",
       "      <td>3</td>\n",
       "      <td>Ikuzu Midoriya</td>\n",
       "      <td>2</td>\n",
       "      <td>0.09</td>\n",
       "    </tr>\n",
       "  </tbody>\n",
       "</table>\n",
       "</div>"
      ],
      "text/plain": [
       "   SalesmanId               Name  CityId  Comission\n",
       "0           1        James Knite       1       0.15\n",
       "1           2  Reinhardt Wilhelm       3       0.11\n",
       "2           3     Ikuzu Midoriya       2       0.09"
      ]
     },
     "metadata": {},
     "output_type": "display_data"
    },
    {
     "data": {
      "text/html": [
       "<div>\n",
       "<style scoped>\n",
       "    .dataframe tbody tr th:only-of-type {\n",
       "        vertical-align: middle;\n",
       "    }\n",
       "\n",
       "    .dataframe tbody tr th {\n",
       "        vertical-align: top;\n",
       "    }\n",
       "\n",
       "    .dataframe thead th {\n",
       "        text-align: right;\n",
       "    }\n",
       "</style>\n",
       "<table border=\"1\" class=\"dataframe\">\n",
       "  <thead>\n",
       "    <tr style=\"text-align: right;\">\n",
       "      <th></th>\n",
       "      <th>CityId</th>\n",
       "      <th>Name</th>\n",
       "    </tr>\n",
       "  </thead>\n",
       "  <tbody>\n",
       "    <tr>\n",
       "      <th>0</th>\n",
       "      <td>1</td>\n",
       "      <td>New York</td>\n",
       "    </tr>\n",
       "    <tr>\n",
       "      <th>1</th>\n",
       "      <td>2</td>\n",
       "      <td>Tokyo</td>\n",
       "    </tr>\n",
       "    <tr>\n",
       "      <th>2</th>\n",
       "      <td>3</td>\n",
       "      <td>Berlin</td>\n",
       "    </tr>\n",
       "  </tbody>\n",
       "</table>\n",
       "</div>"
      ],
      "text/plain": [
       "   CityId      Name\n",
       "0       1  New York\n",
       "1       2     Tokyo\n",
       "2       3    Berlin"
      ]
     },
     "metadata": {},
     "output_type": "display_data"
    }
   ],
   "source": [
    "# Your solution HERE !!!!\n",
    "\n",
    "orders = pd.DataFrame(orders)\n",
    "customers = pd.DataFrame(customers )\n",
    "salesmans = pd.DataFrame(salesmans )\n",
    "cities = pd.DataFrame(cities)\n",
    "display(orders)\n",
    "display(customers)\n",
    "display(salesmans)\n",
    "display(cities)"
   ]
  },
  {
   "cell_type": "code",
   "execution_count": 15,
   "id": "37cb7789",
   "metadata": {},
   "outputs": [
    {
     "data": {
      "text/html": [
       "<div>\n",
       "<style scoped>\n",
       "    .dataframe tbody tr th:only-of-type {\n",
       "        vertical-align: middle;\n",
       "    }\n",
       "\n",
       "    .dataframe tbody tr th {\n",
       "        vertical-align: top;\n",
       "    }\n",
       "\n",
       "    .dataframe thead th {\n",
       "        text-align: right;\n",
       "    }\n",
       "</style>\n",
       "<table border=\"1\" class=\"dataframe\">\n",
       "  <thead>\n",
       "    <tr style=\"text-align: right;\">\n",
       "      <th></th>\n",
       "      <th>CustomerId</th>\n",
       "      <th>Name_x</th>\n",
       "      <th>CityId_x</th>\n",
       "      <th>Name_y</th>\n",
       "      <th>CityId_y</th>\n",
       "    </tr>\n",
       "  </thead>\n",
       "  <tbody>\n",
       "    <tr>\n",
       "      <th>0</th>\n",
       "      <td>1</td>\n",
       "      <td>Brad Davis</td>\n",
       "      <td>2</td>\n",
       "      <td>Brad Davis</td>\n",
       "      <td>2</td>\n",
       "    </tr>\n",
       "    <tr>\n",
       "      <th>1</th>\n",
       "      <td>2</td>\n",
       "      <td>Julian Green</td>\n",
       "      <td>1</td>\n",
       "      <td>Julian Green</td>\n",
       "      <td>1</td>\n",
       "    </tr>\n",
       "    <tr>\n",
       "      <th>2</th>\n",
       "      <td>3</td>\n",
       "      <td>Geoff Cameron</td>\n",
       "      <td>2</td>\n",
       "      <td>Geoff Cameron</td>\n",
       "      <td>2</td>\n",
       "    </tr>\n",
       "    <tr>\n",
       "      <th>3</th>\n",
       "      <td>4</td>\n",
       "      <td>Fabian Johnson</td>\n",
       "      <td>3</td>\n",
       "      <td>Fabian Johnson</td>\n",
       "      <td>3</td>\n",
       "    </tr>\n",
       "  </tbody>\n",
       "</table>\n",
       "</div>"
      ],
      "text/plain": [
       "   CustomerId          Name_x  CityId_x          Name_y  CityId_y\n",
       "0           1      Brad Davis         2      Brad Davis         2\n",
       "1           2    Julian Green         1    Julian Green         1\n",
       "2           3   Geoff Cameron         2   Geoff Cameron         2\n",
       "3           4  Fabian Johnson         3  Fabian Johnson         3"
      ]
     },
     "execution_count": 15,
     "metadata": {},
     "output_type": "execute_result"
    }
   ],
   "source": [
    "ord_cust = customers.merge(right= customers, on = 'CustomerId', how= 'inner')\n",
    "ord_cust"
   ]
  },
  {
   "cell_type": "code",
   "execution_count": null,
   "id": "c4cc9034",
   "metadata": {},
   "outputs": [],
   "source": []
  },
  {
   "cell_type": "code",
   "execution_count": null,
   "id": "69b2f9c0",
   "metadata": {},
   "outputs": [],
   "source": []
  },
  {
   "cell_type": "code",
   "execution_count": null,
   "id": "83107180",
   "metadata": {},
   "outputs": [],
   "source": []
  },
  {
   "cell_type": "code",
   "execution_count": null,
   "id": "c3081a82",
   "metadata": {},
   "outputs": [],
   "source": []
  },
  {
   "cell_type": "code",
   "execution_count": null,
   "id": "22d88b26",
   "metadata": {},
   "outputs": [],
   "source": []
  },
  {
   "cell_type": "code",
   "execution_count": null,
   "id": "421fa31c",
   "metadata": {},
   "outputs": [],
   "source": []
  },
  {
   "cell_type": "code",
   "execution_count": null,
   "id": "47a27d59",
   "metadata": {},
   "outputs": [],
   "source": []
  },
  {
   "cell_type": "code",
   "execution_count": null,
   "id": "b00895cd",
   "metadata": {},
   "outputs": [],
   "source": []
  },
  {
   "cell_type": "code",
   "execution_count": 28,
   "id": "8ff32b2b",
   "metadata": {},
   "outputs": [
    {
     "data": {
      "text/plain": [
       "2    Ikuzu Midoriya\n",
       "Name: Name, dtype: object"
      ]
     },
     "execution_count": 28,
     "metadata": {},
     "output_type": "execute_result"
    }
   ],
   "source": [
    "condicion = orders['Amount'] == orders['Amount'].max()\n",
    "best_salesman = orders.loc[condicion, 'SalesmanId'].values\n",
    "\n",
    "#best_salesman[0]\n",
    "condicion2 = salesmans['SalesmanId'] == best_salesman[0]\n",
    "salesmans.loc[condicion2, 'Name']"
   ]
  },
  {
   "cell_type": "code",
   "execution_count": 33,
   "id": "0a7bc50d",
   "metadata": {},
   "outputs": [
    {
     "data": {
      "text/html": [
       "<div>\n",
       "<style scoped>\n",
       "    .dataframe tbody tr th:only-of-type {\n",
       "        vertical-align: middle;\n",
       "    }\n",
       "\n",
       "    .dataframe tbody tr th {\n",
       "        vertical-align: top;\n",
       "    }\n",
       "\n",
       "    .dataframe thead th {\n",
       "        text-align: right;\n",
       "    }\n",
       "</style>\n",
       "<table border=\"1\" class=\"dataframe\">\n",
       "  <thead>\n",
       "    <tr style=\"text-align: right;\">\n",
       "      <th></th>\n",
       "      <th>OrderDate</th>\n",
       "      <th>Amount</th>\n",
       "    </tr>\n",
       "  </thead>\n",
       "  <tbody>\n",
       "    <tr>\n",
       "      <th>0</th>\n",
       "      <td>2021-07-23</td>\n",
       "      <td>1500.50</td>\n",
       "    </tr>\n",
       "    <tr>\n",
       "      <th>2</th>\n",
       "      <td>2021-07-28</td>\n",
       "      <td>1550.20</td>\n",
       "    </tr>\n",
       "    <tr>\n",
       "      <th>5</th>\n",
       "      <td>2021-07-30</td>\n",
       "      <td>1208.22</td>\n",
       "    </tr>\n",
       "    <tr>\n",
       "      <th>4</th>\n",
       "      <td>2021-08-03</td>\n",
       "      <td>2205.40</td>\n",
       "    </tr>\n",
       "    <tr>\n",
       "      <th>3</th>\n",
       "      <td>2021-08-04</td>\n",
       "      <td>1900.75</td>\n",
       "    </tr>\n",
       "    <tr>\n",
       "      <th>1</th>\n",
       "      <td>2021-08-06</td>\n",
       "      <td>2000.65</td>\n",
       "    </tr>\n",
       "  </tbody>\n",
       "</table>\n",
       "</div>"
      ],
      "text/plain": [
       "   OrderDate   Amount\n",
       "0 2021-07-23  1500.50\n",
       "2 2021-07-28  1550.20\n",
       "5 2021-07-30  1208.22\n",
       "4 2021-08-03  2205.40\n",
       "3 2021-08-04  1900.75\n",
       "1 2021-08-06  2000.65"
      ]
     },
     "execution_count": 33,
     "metadata": {},
     "output_type": "execute_result"
    }
   ],
   "source": [
    "orders['OrderDate'] = pd.to_datetime(orders['OrderDate'])\n",
    "orders.loc[:, ['OrderDate','Amount']].sort_values(by= 'OrderDate')"
   ]
  },
  {
   "cell_type": "code",
   "execution_count": 43,
   "id": "5a7992e0",
   "metadata": {},
   "outputs": [
    {
     "data": {
      "text/html": [
       "<div>\n",
       "<style scoped>\n",
       "    .dataframe tbody tr th:only-of-type {\n",
       "        vertical-align: middle;\n",
       "    }\n",
       "\n",
       "    .dataframe tbody tr th {\n",
       "        vertical-align: top;\n",
       "    }\n",
       "\n",
       "    .dataframe thead th {\n",
       "        text-align: right;\n",
       "    }\n",
       "</style>\n",
       "<table border=\"1\" class=\"dataframe\">\n",
       "  <thead>\n",
       "    <tr style=\"text-align: right;\">\n",
       "      <th></th>\n",
       "      <th>OrderId</th>\n",
       "      <th>OrderDate</th>\n",
       "      <th>Amount</th>\n",
       "      <th>CustomerId</th>\n",
       "      <th>SalesmanId</th>\n",
       "    </tr>\n",
       "  </thead>\n",
       "  <tbody>\n",
       "    <tr>\n",
       "      <th>0</th>\n",
       "      <td>1</td>\n",
       "      <td>2021-07-23</td>\n",
       "      <td>1500.50</td>\n",
       "      <td>3</td>\n",
       "      <td>3</td>\n",
       "    </tr>\n",
       "    <tr>\n",
       "      <th>1</th>\n",
       "      <td>2</td>\n",
       "      <td>2021-08-06</td>\n",
       "      <td>2000.65</td>\n",
       "      <td>4</td>\n",
       "      <td>3</td>\n",
       "    </tr>\n",
       "    <tr>\n",
       "      <th>2</th>\n",
       "      <td>3</td>\n",
       "      <td>2021-07-28</td>\n",
       "      <td>1550.20</td>\n",
       "      <td>2</td>\n",
       "      <td>2</td>\n",
       "    </tr>\n",
       "    <tr>\n",
       "      <th>3</th>\n",
       "      <td>4</td>\n",
       "      <td>2021-08-04</td>\n",
       "      <td>1900.75</td>\n",
       "      <td>2</td>\n",
       "      <td>1</td>\n",
       "    </tr>\n",
       "    <tr>\n",
       "      <th>4</th>\n",
       "      <td>5</td>\n",
       "      <td>2021-08-03</td>\n",
       "      <td>2205.40</td>\n",
       "      <td>1</td>\n",
       "      <td>3</td>\n",
       "    </tr>\n",
       "    <tr>\n",
       "      <th>5</th>\n",
       "      <td>6</td>\n",
       "      <td>2021-07-30</td>\n",
       "      <td>1208.22</td>\n",
       "      <td>4</td>\n",
       "      <td>2</td>\n",
       "    </tr>\n",
       "  </tbody>\n",
       "</table>\n",
       "</div>"
      ],
      "text/plain": [
       "   OrderId  OrderDate   Amount  CustomerId  SalesmanId\n",
       "0        1 2021-07-23  1500.50           3           3\n",
       "1        2 2021-08-06  2000.65           4           3\n",
       "2        3 2021-07-28  1550.20           2           2\n",
       "3        4 2021-08-04  1900.75           2           1\n",
       "4        5 2021-08-03  2205.40           1           3\n",
       "5        6 2021-07-30  1208.22           4           2"
      ]
     },
     "metadata": {},
     "output_type": "display_data"
    }
   ],
   "source": [
    "display(orders)"
   ]
  },
  {
   "cell_type": "code",
   "execution_count": 36,
   "id": "0667d92b",
   "metadata": {},
   "outputs": [
    {
     "data": {
      "text/plain": [
       "2"
      ]
     },
     "execution_count": 36,
     "metadata": {},
     "output_type": "execute_result"
    }
   ],
   "source": [
    "mask = cities['Name'] == 'Tokyo'\n",
    "tokyo_id = cities.loc[mask, 'CityId'].values[0]\n",
    "tokyo_id"
   ]
  },
  {
   "cell_type": "code",
   "execution_count": 44,
   "id": "68d4c0f5",
   "metadata": {},
   "outputs": [
    {
     "data": {
      "text/plain": [
       "array([1, 3], dtype=int64)"
      ]
     },
     "execution_count": 44,
     "metadata": {},
     "output_type": "execute_result"
    }
   ],
   "source": [
    "mask = customers['CityId'] == tokyo_id\n",
    "clientes_tokyo = customers.loc[mask,'CustomerId'].values\n",
    "clientes_tokyo"
   ]
  },
  {
   "cell_type": "code",
   "execution_count": 51,
   "id": "af1edaef",
   "metadata": {},
   "outputs": [
    {
     "data": {
      "text/plain": [
       "1852.95"
      ]
     },
     "execution_count": 51,
     "metadata": {},
     "output_type": "execute_result"
    }
   ],
   "source": [
    "mask = orders['CustomerId'] == clientes_tokyo[0]\n",
    "mask2 = orders['CustomerId'] == clientes_tokyo[1]\n",
    "\n",
    "dinero_clientes_tokyo = orders.loc[mask | mask2, 'Amount']\n",
    "dinero_clientes_tokyo.mean()\n",
    "# orders.groupby('CustomerId')['Amount'].mean()"
   ]
  },
  {
   "cell_type": "markdown",
   "id": "8193738a-9028-4ec5-ba4e-bd9de74c9f1f",
   "metadata": {},
   "source": [
    "## 07 - 1pt\n",
    "- Escribir un generador `frange` que simule el comportamiento de la función `arange` de NumPy\n",
    "- Esta función cada vez que se invoque debe devolver valores espaciados uniformemente a partir de un valor inicial. Se debe proveer a dicha función un valor inicial para la secuencia de números y un valor para el step\n",
    "- Debe soportar valores númericos en coma flotante\n",
    "- La función potencialmente se puede llamar un número infinito de veces\n",
    "- Usando plain Python, sin ninguna librería"
   ]
  },
  {
   "cell_type": "code",
   "execution_count": 64,
   "id": "089aea28",
   "metadata": {},
   "outputs": [],
   "source": [
    "def frange(init, step):\n",
    "    while True:\n",
    "        yield init\n",
    "        init += step"
   ]
  },
  {
   "cell_type": "code",
   "execution_count": 65,
   "id": "bbe212e9-d422-408d-8037-ce6d0e416d25",
   "metadata": {},
   "outputs": [],
   "source": [
    "import math\n",
    "\n",
    "init = 10.6\n",
    "step = 0.8\n",
    "g = frange(init, step)  # This calls your function frange\n",
    "\n",
    "iters = 10\n",
    "numbers = [next(g) for n in range(iters)]\n",
    "for i, n in enumerate(numbers):\n",
    "    assert(math.isclose(n, init + (step * i)))  # This will fail if the range is not properly created"
   ]
  },
  {
   "cell_type": "code",
   "execution_count": 52,
   "id": "8092c7c1-c1c8-4492-b08c-489f8767ed73",
   "metadata": {},
   "outputs": [
    {
     "name": "stdout",
     "output_type": "stream",
     "text": [
      "range(0, 10)\n"
     ]
    }
   ],
   "source": [
    "# Yourlution HERE !!!!\n",
    "\n",
    "print(range(10))"
   ]
  },
  {
   "cell_type": "markdown",
   "id": "202c6c38-649d-4991-b118-12e6364d8ab0",
   "metadata": {},
   "source": [
    "## 08 - 1pt\n",
    "- Crear una lista de meses de Enero a Diciembre (eje X)\n",
    "- Generar datos aleatorios para el eje Y, hacerlo 3 veces distintas (Y0, Y1 e Y2)\n",
    "- Representar las 3 secuencias de datos aleatorios en una sola figura usando matplotlib\n",
    "- Añadir una leyenda para poder identificar cada secuencia\n",
    "- Nombrar las 3 secuencias de la siguiente manera (\"Facebook\", \"Twitter\", \"Instagram\")\n",
    "- Añadir un título y nombres a los dos ejes\n",
    "- Añadir una anotación (texto y flecha) a uno de los gráficos"
   ]
  },
  {
   "cell_type": "code",
   "execution_count": 59,
   "id": "b0dfefef-66a5-4804-af34-810fcaf25b5e",
   "metadata": {},
   "outputs": [
    {
     "data": {
      "image/png": "[encoded data removed]",
      "text/plain": [
       "<Figure size 1200x800 with 1 Axes>"
      ]
     },
     "metadata": {},
     "output_type": "display_data"
    }
   ],
   "source": [
    "# Your solution HERE !!!!\n",
    "meses = ['enero', 'febrero', 'marzo', 'abril', 'mayo', 'junio', 'julio', 'agosto', 'septiembre', 'octubre', 'noviembre', 'diciembre']\n",
    "\n",
    "fig = plt.figure(figsize= (12,8))\n",
    "\n",
    "np.random.seed(42)\n",
    "y0 = np.random.randint(0,10, size= 12)\n",
    "y1 = np.random.randint(0,10, size= 12)\n",
    "y2 = np.random.randint(0,10, size = 12)\n",
    "\n",
    "plt.plot(meses, y0, color = 'green', label = 'green', alpha = 0.6)\n",
    "plt.plot(meses, y1, color = 'blue', label = 'blue', alpha = 0.6)\n",
    "plt.plot(meses, y2, color = 'red', label = 'red', alpha = 0.6)\n",
    "\n",
    "plt.title('tres gráficas aleatorias', fontdict={'fontsize':16})\n",
    "plt.legend(loc= 'best')\n",
    "plt.xlabel('meses')\n",
    "plt.xticks(rotation= 20)\n",
    "plt.grid()\n",
    "\n",
    "plt.show()"
   ]
  },
  {
   "cell_type": "code",
   "execution_count": null,
   "id": "ee510435",
   "metadata": {},
   "outputs": [],
   "source": []
  }
 ],
 "metadata": {
  "kernelspec": {
   "display_name": "Python 3 (ipykernel)",
   "language": "python",
   "name": "python3"
  },
  "language_info": {
   "codemirror_mode": {
    "name": "ipython",
    "version": 3
   },
   "file_extension": ".py",
   "mimetype": "text/x-python",
   "name": "python",
   "nbconvert_exporter": "python",
   "pygments_lexer": "ipython3",
   "version": "3.10.6"
  },
  "toc": {
   "base_numbering": 1,
   "nav_menu": {},
   "number_sections": true,
   "sideBar": true,
   "skip_h1_title": false,
   "title_cell": "Table of Contents",
   "title_sidebar": "Contents",
   "toc_cell": false,
   "toc_position": {},
   "toc_section_display": true,
   "toc_window_display": false
  }
 },
 "nbformat": 4,
 "nbformat_minor": 5
}
