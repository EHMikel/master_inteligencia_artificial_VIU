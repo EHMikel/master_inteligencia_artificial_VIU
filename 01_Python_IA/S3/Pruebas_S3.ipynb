{
 "cells": [
  {
   "cell_type": "code",
   "execution_count": 1,
   "metadata": {},
   "outputs": [
    {
     "name": "stdout",
     "output_type": "stream",
     "text": [
      "hola\n"
     ]
    }
   ],
   "source": [
    "print('hola')"
   ]
  },
  {
   "cell_type": "code",
   "execution_count": 1,
   "metadata": {},
   "outputs": [
    {
     "name": "stdout",
     "output_type": "stream",
     "text": [
      "se ha proporcionado a\n",
      "se ha proporcionado b\n",
      "Se ha proporcionado c\n"
     ]
    }
   ],
   "source": [
    "def f(a, b= None, c= None):\n",
    "    if a is not None:\n",
    "        print('se ha proporcionado a')\n",
    "    if b is not None:\n",
    "        print('se ha proporcionado b')\n",
    "\n",
    "    if c is not None:\n",
    "        print('Se ha proporcionado c')\n",
    "\n",
    "    return None\n",
    "\n",
    "f(a= 1, b= 2, c= 34)"
   ]
  },
  {
   "attachments": {},
   "cell_type": "markdown",
   "metadata": {},
   "source": [
    "## procesamiento de datos "
   ]
  },
  {
   "cell_type": "code",
   "execution_count": 4,
   "metadata": {},
   "outputs": [
    {
     "name": "stdout",
     "output_type": "stream",
     "text": [
      "['Donostia', 'Lezo', 'San juan']\n"
     ]
    }
   ],
   "source": [
    "def clean_strings(strings, ops): # a una serie de strings le voy a ir pasando una serie de funciones \n",
    "    result = []\n",
    "    for value in strings: # para cada string dentro de la coleccion de strings\n",
    "        for function in ops: # le paso unas funciones a cada string\n",
    "            value= function(value)\n",
    "        result.append(value)\n",
    "    return result\n",
    "\n",
    "strings= ['   donostia   ', '   lezo   ', '   san juan   ']\n",
    "operaciones= [str.strip, str.capitalize] # el strip le quita los espacios al final y al inicio , y el title pone la primera letra de cada palabra en mayusculas\n",
    "print(clean_strings(strings,operaciones))\n"
   ]
  },
  {
   "attachments": {},
   "cell_type": "markdown",
   "metadata": {},
   "source": [
    "## ejercicio cosulta sql"
   ]
  },
  {
   "cell_type": "code",
   "execution_count": 14,
   "metadata": {},
   "outputs": [],
   "source": [
    "def consulta_sql(**kwargs):\n",
    "    sql_sel= 'SELECT * FROM bicis'\n",
    "    sql_sel += ' WHERE '\n",
    "    LST= []\n",
    "    for key, value in kwargs.items():\n",
    "        LST.append( f'{key} = {value}')\n",
    "\n",
    "    return sql_sel + (' AND '.join(LST))"
   ]
  },
  {
   "cell_type": "code",
   "execution_count": 15,
   "metadata": {},
   "outputs": [
    {
     "data": {
      "text/plain": [
       "'SELECT * FROM bicis WHERE station = alameda AND free = 10'"
      ]
     },
     "execution_count": 15,
     "metadata": {},
     "output_type": "execute_result"
    },
    {
     "ename": "",
     "evalue": "",
     "output_type": "error",
     "traceback": [
      "\u001b[1;31mThe Kernel crashed while executing code in the the current cell or a previous cell. Please review the code in the cell(s) to identify a possible cause of the failure. Click <a href='https://aka.ms/vscodeJupyterKernelCrash'>here</a> for more info. View Jupyter <a href='command:jupyter.viewOutput'>log</a> for further details."
     ]
    }
   ],
   "source": [
    "consulta_sql(station= 'alameda', free= 10)"
   ]
  },
  {
   "attachments": {},
   "cell_type": "markdown",
   "metadata": {},
   "source": [
    "## pruebas con ficheros\n"
   ]
  },
  {
   "cell_type": "code",
   "execution_count": 1,
   "metadata": {},
   "outputs": [],
   "source": [
    "import os"
   ]
  },
  {
   "attachments": {},
   "cell_type": "markdown",
   "metadata": {},
   "source": [
    "### estructura no recomendada pero válida "
   ]
  },
  {
   "cell_type": "code",
   "execution_count": 11,
   "metadata": {},
   "outputs": [
    {
     "name": "stdout",
     "output_type": "stream",
     "text": [
      "C:/Users/plane/OneDrive/Escritorio/COMPUTING SCIENCE/MASTER Inteligencia artificial/python para IA/data\\listacompra.txt\n",
      "peras\n",
      "cafe\n",
      "pan\n",
      "patata\n",
      "manzana\n",
      "platano\n"
     ]
    }
   ],
   "source": [
    "ruta = os.path.join(\"C:/Users/plane/OneDrive/Escritorio/COMPUTING SCIENCE/MASTER Inteligencia artificial/python para IA/data\",'listacompra.txt') # hay que grabarlo a fuego esto\n",
    "\n",
    "# es buena práctica utilizar el método join de la libreria os\n",
    "#print(ruta)\n",
    "fichero= open(ruta)\n",
    "for line in fichero:\n",
    "    print(line.strip())\n",
    "\n",
    "fichero.close() # importante"
   ]
  },
  {
   "attachments": {},
   "cell_type": "markdown",
   "metadata": {},
   "source": [
    "### estructura recomendada por python"
   ]
  },
  {
   "cell_type": "code",
   "execution_count": 7,
   "metadata": {},
   "outputs": [
    {
     "name": "stdout",
     "output_type": "stream",
     "text": [
      "peras\n",
      "cafe\n",
      "pan\n",
      "patata\n",
      "manzana\n",
      "platano\n"
     ]
    }
   ],
   "source": [
    "with open(ruta) as f:\n",
    "    for line in f:\n",
    "        print(line.strip()) # el strip es para quitarles el espacio entre ellas"
   ]
  },
  {
   "cell_type": "code",
   "execution_count": 8,
   "metadata": {},
   "outputs": [
    {
     "name": "stdout",
     "output_type": "stream",
     "text": [
      "['peras\\n', 'cafe\\n', 'pan\\n', 'patata\\n', 'manzana\\n', 'platano']\n",
      "['peras\\n', 'cafe\\n', 'pan\\n', 'patata\\n', 'manzana\\n', 'platano']\n"
     ]
    }
   ],
   "source": [
    "# abrir varios ficheros al mismo tiempo\n",
    "with open(ruta) as f1, open(ruta) as f2:\n",
    "    print(f1.readlines())\n",
    "    print(f2.readlines())"
   ]
  },
  {
   "cell_type": "code",
   "execution_count": 10,
   "metadata": {},
   "outputs": [
    {
     "name": "stdout",
     "output_type": "stream",
     "text": [
      "['peras\\n', 'cafe\\n', 'pan\\n', 'patata\\n', 'manzana\\n', 'platano']\n",
      "['peras', 'cafe', 'pan', 'patata', 'manzana', 'platano']\n"
     ]
    }
   ],
   "source": [
    "# leer todas las lineas a la vez\n",
    "\n",
    "with open(ruta) as f1:\n",
    "    lines= f1.readlines()\n",
    "    print(lines)\n",
    "\n",
    "    lines_clean= [x.rstrip() for x in lines] # para quitar los espacios de la derecha\n",
    "    print(lines_clean)\n"
   ]
  },
  {
   "cell_type": "code",
   "execution_count": null,
   "metadata": {},
   "outputs": [],
   "source": []
  }
 ],
 "metadata": {
  "kernelspec": {
   "display_name": "venv",
   "language": "python",
   "name": "python3"
  },
  "language_info": {
   "codemirror_mode": {
    "name": "ipython",
    "version": 3
   },
   "file_extension": ".py",
   "mimetype": "text/x-python",
   "name": "python",
   "nbconvert_exporter": "python",
   "pygments_lexer": "ipython3",
   "version": "3.10.6"
  },
  "orig_nbformat": 4
 },
 "nbformat": 4,
 "nbformat_minor": 2
}
