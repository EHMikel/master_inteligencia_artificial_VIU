{
 "cells": [
  {
   "attachments": {},
   "cell_type": "markdown",
   "metadata": {
    "slideshow": {
     "slide_type": "slide"
    }
   },
   "source": [
    "<img src=\"img/viu_logo.png\" width=\"200\">\n",
    "\n",
    "## 01MIAR - Introducción a Python 102\n",
    "\n",
    "![logo](img/python_logo.png)\n",
    "\n",
    "*Ivan Fuertes*\n",
    "\n",
    "*Benjamin Arroquia Cuadros*"
   ]
  },
  {
   "attachments": {},
   "cell_type": "markdown",
   "metadata": {
    "slideshow": {
     "slide_type": "slide"
    }
   },
   "source": [
    "# En la clase anterior...\n",
    "- Sintaxis básica de Python\n",
    "- Loops\n",
    "- Condicionales\n",
    "- Colecciones (tuplas, listas y secuencias)"
   ]
  },
  {
   "attachments": {},
   "cell_type": "markdown",
   "metadata": {
    "slideshow": {
     "slide_type": "subslide"
    }
   },
   "source": [
    "# Sumario\n",
    "- Colecciones: diccionarios y sets\n",
    "- Funciones\n",
    "- Escribir y leer archivos"
   ]
  },
  {
   "attachments": {},
   "cell_type": "markdown",
   "metadata": {
    "slideshow": {
     "slide_type": "slide"
    }
   },
   "source": [
    "## Diccionarios\n",
    "- Son mutables\n",
    "- Colección de parejas clave : valor. [JSON specification](https://www.json.org/)\n",
    " - claves --> cualquier objeto inmutable\n",
    "- Desde la versión 3.6 están ordenados.\n",
    " - https://mail.python.org/pipermail/python-dev/2017-December/151283.html\n",
    " - https://pymotw.com/2/collections/ordereddict.html\n",
    "- Libreria Json. https://docs.python.org/3/library/json.html"
   ]
  },
  {
   "cell_type": "code",
   "execution_count": 1,
   "metadata": {
    "slideshow": {
     "slide_type": "fragment"
    }
   },
   "outputs": [
    {
     "name": "stdout",
     "output_type": "stream",
     "text": [
      "{'ID': 'XCSDe1194', 'Nombre': 'Carlos', 'Edad': 34}\n",
      "{'ID': ['XCSDe1194', 'GTIM11'], 'Nombre': ['Carlos', 'Mark'], 'Edad': [34, 21]}\n"
     ]
    }
   ],
   "source": [
    "# crear un diccionario\n",
    "dict_simple = {'ID' : 'XCSDe1194', 'Nombre' : 'Carlos', 'Edad' : 34}\n",
    "print(dict_simple)\n",
    "\n",
    "# los valores pueden ser una lista. Pensar en excel o csv\n",
    "dict_columnas = {'ID' : ['XCSDe1194','GTIM11'], 'Nombre' : ['Carlos','Mark'], 'Edad' : [34,21]}\n",
    "print(dict_columnas)"
   ]
  },
  {
   "cell_type": "code",
   "execution_count": 2,
   "metadata": {
    "slideshow": {
     "slide_type": "fragment"
    }
   },
   "outputs": [
    {
     "name": "stdout",
     "output_type": "stream",
     "text": [
      "{(1, 2): 'carlos'}\n"
     ]
    }
   ],
   "source": [
    "# y una lista?\n",
    "# dict1 = { [1,2] : 'dato'}\n",
    "dict_simple = {(1,2) : 'carlos'} # una tupla puede utilizarse como clave porque es inmutable\n",
    "print(dict_simple)"
   ]
  },
  {
   "cell_type": "code",
   "execution_count": 3,
   "metadata": {
    "slideshow": {
     "slide_type": "fragment"
    }
   },
   "outputs": [
    {
     "name": "stdout",
     "output_type": "stream",
     "text": [
      "{'Marie': 98, 'Augusto': 76, 'Domingo': 65}\n"
     ]
    }
   ],
   "source": [
    "# Crear diccionarios uniendo dos colecciones\n",
    "nombres = ['Marie','Augusto','Domingo']\n",
    "edades = [98,76,65]\n",
    "\n",
    "datos = dict(zip(nombres,edades))\n",
    "print(datos)"
   ]
  },
  {
   "cell_type": "code",
   "execution_count": 4,
   "metadata": {
    "slideshow": {
     "slide_type": "fragment"
    }
   },
   "outputs": [
    {
     "name": "stdout",
     "output_type": "stream",
     "text": [
      "{'Marie': 98, 'Augusto': 76, 'Domingo': 65}\n"
     ]
    }
   ],
   "source": [
    "# Crear diccionarios uniendo dos colecciones (comprehension list)\n",
    "nombres = ['Marie','Augusto','Domingo']\n",
    "edades = [98,76,65]\n",
    "\n",
    "datos = {k:v for k,v in zip(nombres,edades)}\n",
    "print(datos)"
   ]
  },
  {
   "cell_type": "code",
   "execution_count": 5,
   "metadata": {
    "slideshow": {
     "slide_type": "subslide"
    }
   },
   "outputs": [
    {
     "name": "stdout",
     "output_type": "stream",
     "text": [
      "Carlos\n"
     ]
    }
   ],
   "source": [
    "dict_simple = {'ID' : 4, 'Nombre' : 'Carlos', 'Edad' : 34}\n",
    "# acceso a un valor a traves de la clave\n",
    "nombre = dict_simple['Nombre']\n",
    "print(nombre)\n",
    "\n",
    "# dict_simple = {}\n",
    "# # añadir un valor a traves de la clave, asignacion valor\n",
    "# dict_simple['Usuario'] = 'bundenth'\n",
    "# print(dict_simple)\n",
    "\n",
    "# dict_simple['Nombre'] = 'Manolo'\n",
    "# print(dict_simple)\n",
    "\n",
    "# dict_simple['Nombre'] = 'Pepe'\n",
    "# print(dict_simple)\n",
    "\n",
    "# # eliminar un valor a traves de la clave\n",
    "# del dict_simple['Usuario']\n",
    "# value = dict_simple.pop('Nombre')\n",
    "# print(dict_simple)\n",
    "# print(value)"
   ]
  },
  {
   "cell_type": "code",
   "execution_count": 6,
   "metadata": {},
   "outputs": [
    {
     "name": "stdout",
     "output_type": "stream",
     "text": [
      "None\n"
     ]
    }
   ],
   "source": [
    "s = dict_simple.get('IDs')\n",
    "print(s)"
   ]
  },
  {
   "cell_type": "code",
   "execution_count": 7,
   "metadata": {},
   "outputs": [
    {
     "name": "stdout",
     "output_type": "stream",
     "text": [
      "The Zen of Python, by Tim Peters\n",
      "\n",
      "Beautiful is better than ugly.\n",
      "Explicit is better than implicit.\n",
      "Simple is better than complex.\n",
      "Complex is better than complicated.\n",
      "Flat is better than nested.\n",
      "Sparse is better than dense.\n",
      "Readability counts.\n",
      "Special cases aren't special enough to break the rules.\n",
      "Although practicality beats purity.\n",
      "Errors should never pass silently.\n",
      "Unless explicitly silenced.\n",
      "In the face of ambiguity, refuse the temptation to guess.\n",
      "There should be one-- and preferably only one --obvious way to do it.\n",
      "Although that way may not be obvious at first unless you're Dutch.\n",
      "Now is better than never.\n",
      "Although never is often better than *right* now.\n",
      "If the implementation is hard to explain, it's a bad idea.\n",
      "If the implementation is easy to explain, it may be a good idea.\n",
      "Namespaces are one honking great idea -- let's do more of those!\n"
     ]
    }
   ],
   "source": [
    "import this"
   ]
  },
  {
   "cell_type": "code",
   "execution_count": 8,
   "metadata": {
    "slideshow": {
     "slide_type": "subslide"
    },
    "tags": []
   },
   "outputs": [
    {
     "name": "stdout",
     "output_type": "stream",
     "text": [
      "\u001b[1;31mInit signature:\u001b[0m \u001b[0mdict\u001b[0m\u001b[1;33m(\u001b[0m\u001b[0mself\u001b[0m\u001b[1;33m,\u001b[0m \u001b[1;33m/\u001b[0m\u001b[1;33m,\u001b[0m \u001b[1;33m*\u001b[0m\u001b[0margs\u001b[0m\u001b[1;33m,\u001b[0m \u001b[1;33m**\u001b[0m\u001b[0mkwargs\u001b[0m\u001b[1;33m)\u001b[0m\u001b[1;33m\u001b[0m\u001b[1;33m\u001b[0m\u001b[0m\n",
      "\u001b[1;31mDocstring:\u001b[0m     \n",
      "dict() -> new empty dictionary\n",
      "dict(mapping) -> new dictionary initialized from a mapping object's\n",
      "    (key, value) pairs\n",
      "dict(iterable) -> new dictionary initialized as if via:\n",
      "    d = {}\n",
      "    for k, v in iterable:\n",
      "        d[k] = v\n",
      "dict(**kwargs) -> new dictionary initialized with the name=value pairs\n",
      "    in the keyword argument list.  For example:  dict(one=1, two=2)\n",
      "\u001b[1;31mType:\u001b[0m           type\n",
      "\u001b[1;31mSubclasses:\u001b[0m     OrderedDict, defaultdict, Counter, _EnumDict, Bunch, ObjectDict, StgDict, ConvertingDict, Config, _DefaultOptionDict, ..."
     ]
    }
   ],
   "source": [
    "# Declarar una lista mediante dict, key, value\n",
    "dict?"
   ]
  },
  {
   "cell_type": "code",
   "execution_count": 9,
   "metadata": {
    "slideshow": {
     "slide_type": "subslide"
    }
   },
   "outputs": [
    {
     "name": "stdout",
     "output_type": "stream",
     "text": [
      "{'ciudad': 'Valencia', 'habitantes': 800000}\n",
      "{'ciudad': 'Valencia', 'habitantes': 800000}\n"
     ]
    }
   ],
   "source": [
    "# Pasando un iterador\n",
    "dict_simple = dict([['ciudad', 'Valencia'], ['habitantes', 800000]])\n",
    "print(dict_simple)\n",
    "# Pasando claves y valores\n",
    "dict_simple = dict(ciudad='Valencia', habitantes=800000)\n",
    "print(dict_simple)"
   ]
  },
  {
   "cell_type": "code",
   "execution_count": 10,
   "metadata": {
    "slideshow": {
     "slide_type": "fragment"
    }
   },
   "outputs": [
    {
     "name": "stdout",
     "output_type": "stream",
     "text": [
      "{0: 'a', 1: 's', 2: 'd', 3: 'b', 4: 'g'}\n"
     ]
    }
   ],
   "source": [
    "# a partir de una lista y un enumerate, comprehension\n",
    "dict_simple = {k:v for k, v in enumerate(list('asdbg'))}\n",
    "print(dict_simple)"
   ]
  },
  {
   "cell_type": "code",
   "execution_count": 11,
   "metadata": {},
   "outputs": [
    {
     "name": "stdout",
     "output_type": "stream",
     "text": [
      "{0: 'a', 1: 's', 2: 'd', 3: 'b', 4: 'g'}\n"
     ]
    }
   ],
   "source": [
    "dict_simple=dict(enumerate(list('asdbg')))\n",
    "print(dict_simple)"
   ]
  },
  {
   "cell_type": "code",
   "execution_count": 12,
   "metadata": {
    "slideshow": {
     "slide_type": "fragment"
    }
   },
   "outputs": [
    {
     "name": "stdout",
     "output_type": "stream",
     "text": [
      "{'a': 0, 's': 1, 'd': 2, 'b': 3, 'g': 4}\n"
     ]
    }
   ],
   "source": [
    "# mantiene el orden a partir de 3.6\n",
    "dict_simple = {value:index for index, value in enumerate(list('asdbg'))}\n",
    "print(dict_simple)\n",
    "# en 2.7 {'a': 0, 'b': 3, 'd': 2, 'g': 4, 's': 1}"
   ]
  },
  {
   "attachments": {},
   "cell_type": "markdown",
   "metadata": {
    "slideshow": {
     "slide_type": "subslide"
    }
   },
   "source": [
    "### Iterar sobre un diccionario"
   ]
  },
  {
   "cell_type": "code",
   "execution_count": 13,
   "metadata": {
    "slideshow": {
     "slide_type": "fragment"
    }
   },
   "outputs": [
    {
     "name": "stdout",
     "output_type": "stream",
     "text": [
      "Claves\n",
      "\n",
      "ID\n",
      "Nombre\n",
      "Edad\n",
      "\n",
      "Valores\n",
      "\n",
      "XCSDe1194\n",
      "Carlos\n",
      "34\n"
     ]
    }
   ],
   "source": [
    "dict_simple = {'ID' : 'XCSDe1194', \n",
    "               'Nombre' : 'Carlos', \n",
    "               'Edad' : 34\n",
    "               }\n",
    "# iterar sobre las claves\n",
    "print('Claves\\n')\n",
    "for k in dict_simple.keys(): # o dict_simple\n",
    "    print(k)\n",
    "    \n",
    "print('\\nValores\\n')\n",
    "# iterar sobre los valores\n",
    "for value in dict_simple.values():\n",
    "    print(value)"
   ]
  },
  {
   "cell_type": "code",
   "execution_count": 14,
   "metadata": {
    "slideshow": {
     "slide_type": "fragment"
    }
   },
   "outputs": [
    {
     "name": "stdout",
     "output_type": "stream",
     "text": [
      "Clave: ID, valor: XCSDe1194\n",
      "Clave: Nombre, valor: Carlos\n",
      "Clave: Edad, valor: 34\n",
      "Item: ('ID', 'XCSDe1194')\n",
      "Item: ('Nombre', 'Carlos')\n",
      "Item: ('Edad', 34)\n",
      "Clave: ID, valor: XCSDe1194\n",
      "Clave: Nombre, valor: Carlos\n",
      "Clave: Edad, valor: 34\n"
     ]
    }
   ],
   "source": [
    "dict_simple = {'ID' : 'XCSDe1194', 'Nombre' : 'Carlos', 'Edad' : 34}\n",
    "# iterar sobre ambos, directamente con items().\n",
    "for key, value in dict_simple.items():\n",
    "    print('Clave: ' + str(key) + ', valor: ' + str(value))\n",
    "    \n",
    "for item in dict_simple.items():  # devuelve tuplas\n",
    "    print('Item: ' + str(item))\n",
    "\n",
    "# usar zip para iterar sobre Clave-Valor\n",
    "for key, value in zip(dict_simple.keys(), dict_simple.values()):\n",
    "    print('Clave: ' + str(key) + ', valor: ' + str(value))"
   ]
  },
  {
   "attachments": {},
   "cell_type": "markdown",
   "metadata": {
    "slideshow": {
     "slide_type": "subslide"
    }
   },
   "source": [
    "- Diccionarios se pueden utilizar como 'switch' en otros lenguajes\n",
    "- Ideal para escoger entre varias opciones"
   ]
  },
  {
   "cell_type": "code",
   "execution_count": 15,
   "metadata": {},
   "outputs": [
    {
     "data": {
      "text/plain": [
       "<function __main__.<lambda>()>"
      ]
     },
     "execution_count": 15,
     "metadata": {},
     "output_type": "execute_result"
    }
   ],
   "source": [
    "dc_ops = {\n",
    "    'add': lambda: x + y,\n",
    "    'sub': lambda: x - y,\n",
    "    'mul': lambda: x * y,\n",
    "    'div': lambda: x / y,\n",
    "    }.get('add')\n",
    "\n",
    "dc_ops"
   ]
  },
  {
   "cell_type": "code",
   "execution_count": 16,
   "metadata": {
    "slideshow": {
     "slide_type": "fragment"
    }
   },
   "outputs": [
    {
     "name": "stdout",
     "output_type": "stream",
     "text": [
      "4\n",
      "5.0\n",
      "None\n"
     ]
    }
   ],
   "source": [
    "def switch_dict(operator, x, y):\n",
    "    # crea un diccionario de opciones y selecciona 'operator'\n",
    "    return {\n",
    "        'add': lambda: x + y,\n",
    "        'sub': lambda: x - y,\n",
    "        'mul': lambda: x * y,\n",
    "        'div': lambda: x / y,\n",
    "    }.get(operator, lambda: None)() # devuelve None si no encuentra 'operator'\n",
    "\n",
    "print(switch_dict('add',2,2))\n",
    "print(switch_dict('div',10,2))\n",
    "print(switch_dict('mod',17,3))"
   ]
  },
  {
   "cell_type": "code",
   "execution_count": 17,
   "metadata": {},
   "outputs": [
    {
     "name": "stdout",
     "output_type": "stream",
     "text": [
      "XCSDe1194\n",
      "34\n"
     ]
    }
   ],
   "source": [
    "dict_simple = {'ID' : 'XCSDe1194', 'Nombre' : 'Carlos', 'Edad' : 34}\n",
    "print(dict_simple['ID'])\n",
    "print(dict_simple.get('ID_s', 34))"
   ]
  },
  {
   "attachments": {},
   "cell_type": "markdown",
   "metadata": {
    "slideshow": {
     "slide_type": "subslide"
    }
   },
   "source": [
    "## Sets (conjuntos)\n",
    "\n",
    "- Son mutables\n",
    "- Colecciones de elementos únicos\n",
    "- Son diccionarios sin valores (solo claves)\n",
    " - Contiene objetos inmutables"
   ]
  },
  {
   "cell_type": "code",
   "execution_count": 18,
   "metadata": {
    "slideshow": {
     "slide_type": "fragment"
    }
   },
   "outputs": [
    {
     "name": "stdout",
     "output_type": "stream",
     "text": [
      "{0, 1, 2, 3, 4, 5, 8, 13, 21}\n",
      "{'user1', 2, (1, 2), 12}\n",
      "{0, 1, 2, 3, 4, 5, 6, 7, 8, 9}\n",
      "{0, 1, 2, 3, 4}\n"
     ]
    }
   ],
   "source": [
    "# Crear un set\n",
    "set1 = {0,1,1,1,1,1,2,3,4,5,8,13,21}\n",
    "print(set1)\n",
    "\n",
    "set2 = {'user1',12, 2, (1,2),'user1'}\n",
    "print(set2)\n",
    "\n",
    "set3 = set(range(10))\n",
    "print(set3)\n",
    "\n",
    "set4 = set([0,1,2, 3, 3,4,0])\n",
    "print(set4)"
   ]
  },
  {
   "attachments": {},
   "cell_type": "markdown",
   "metadata": {
    "slideshow": {
     "slide_type": "subslide"
    }
   },
   "source": [
    "- Basados en sets matemáticos\n",
    "- Operaciones con sets"
   ]
  },
  {
   "cell_type": "code",
   "execution_count": 19,
   "metadata": {
    "slideshow": {
     "slide_type": "fragment"
    }
   },
   "outputs": [
    {
     "name": "stdout",
     "output_type": "stream",
     "text": [
      "{0, 1, 2, 3, 4, 5, 8, 42, 13, 21}\n",
      "{0, 1, 2, 3, 4}\n",
      "frozenset({42})\n",
      "{8, 13, 21, 5}\n"
     ]
    }
   ],
   "source": [
    "set1 = {0,1,1,2,3,4,5,8,13,21}\n",
    "# frozenset\n",
    "set2 = frozenset([0,1,2,3,4,42])\n",
    "\n",
    "# union\n",
    "print(set1 | set2)\n",
    "\n",
    "# intersección\n",
    "print(set1 & set2)\n",
    "\n",
    "# diferencia\n",
    "print(set2 - set1)\n",
    "print(set1 - set2)"
   ]
  },
  {
   "cell_type": "code",
   "execution_count": 20,
   "metadata": {
    "slideshow": {
     "slide_type": "fragment"
    }
   },
   "outputs": [
    {
     "name": "stdout",
     "output_type": "stream",
     "text": [
      "True\n",
      "True\n",
      "False\n"
     ]
    }
   ],
   "source": [
    "set1 = {0,1,1,2,3,4,5,8,13,21}\n",
    "set2 = set([0,1,2,3,4])\n",
    "\n",
    "# funciones para la comparación de sets\n",
    "print(set2.issubset(set1)) # True\n",
    "print(set1.issuperset(set2)) # True\n",
    "\n",
    "# Nada comun entre conjuntos\n",
    "print(set1.isdisjoint(set2)) # False"
   ]
  },
  {
   "cell_type": "code",
   "execution_count": 21,
   "metadata": {
    "slideshow": {
     "slide_type": "fragment"
    }
   },
   "outputs": [
    {
     "name": "stdout",
     "output_type": "stream",
     "text": [
      "True\n"
     ]
    }
   ],
   "source": [
    "# para comprobar si una clave está presente en un set (o elemento en set)\n",
    "words = {'calm', 'balm'}\n",
    "print('calm' in words)"
   ]
  },
  {
   "attachments": {},
   "cell_type": "markdown",
   "metadata": {
    "slideshow": {
     "slide_type": "slide"
    }
   },
   "source": [
    "# Funciones\n",
    "- Fragmentos de código\n",
    "- Reutilizable \n",
    "\n",
    "Partes de la función:\n",
    "- cabecera\n",
    "- cuerpo\n",
    "- parámetros\n",
    "- invocación\n",
    "- argumentos o valores de entrada\n",
    "- devolución"
   ]
  },
  {
   "cell_type": "code",
   "execution_count": 1,
   "metadata": {
    "slideshow": {
     "slide_type": "fragment"
    }
   },
   "outputs": [],
   "source": [
    "def print_add(x,y):\n",
    "    return(x+y)\n",
    "\n",
    "\n",
    "\n",
    "# print(add(2, 4))\n",
    "\n",
    "resultado = print_add(2, 4)"
   ]
  },
  {
   "cell_type": "code",
   "execution_count": 2,
   "metadata": {},
   "outputs": [
    {
     "data": {
      "text/plain": [
       "6"
      ]
     },
     "execution_count": 2,
     "metadata": {},
     "output_type": "execute_result"
    }
   ],
   "source": [
    "resultado"
   ]
  },
  {
   "cell_type": "code",
   "execution_count": 3,
   "metadata": {
    "slideshow": {
     "slide_type": "fragment"
    }
   },
   "outputs": [
    {
     "name": "stdout",
     "output_type": "stream",
     "text": [
      "{'Alfred': 87, 'James': 43, 'Peter': 19, 'Harvey': 16}\n"
     ]
    }
   ],
   "source": [
    "# definir la función primero\n",
    "def create_dict(keys,values): # argumentos (opcional)\n",
    "    return dict(zip(keys,values)) # valor de retorno (opcional)\n",
    "\n",
    "#utilizar la función después\n",
    "names = ['Alfred','James','Peter','Harvey']\n",
    "ages = [87,43,19,16]\n",
    "users = create_dict(names, ages)\n",
    "print(users)"
   ]
  },
  {
   "attachments": {},
   "cell_type": "markdown",
   "metadata": {
    "slideshow": {
     "slide_type": "subslide"
    }
   },
   "source": [
    "Las funciones pueden tener argumentos (0 o más) y retornar valores (0 o más)"
   ]
  },
  {
   "cell_type": "code",
   "execution_count": 25,
   "metadata": {
    "slideshow": {
     "slide_type": "fragment"
    }
   },
   "outputs": [
    {
     "name": "stdout",
     "output_type": "stream",
     "text": [
      "Program version 0.78a\n"
     ]
    }
   ],
   "source": [
    "# función sin valor de retorno ni argumentos\n",
    "def print_version():\n",
    "    print('Program version 0.78a')\n",
    "    # return None # es opcional pero mejora la legibilidad\n",
    "\n",
    "print_version()"
   ]
  },
  {
   "cell_type": "code",
   "execution_count": 27,
   "metadata": {},
   "outputs": [
    {
     "name": "stdout",
     "output_type": "stream",
     "text": [
      "3.0\n",
      "0\n"
     ]
    }
   ],
   "source": [
    "# varios returns\n",
    "def div_safe(x,y):\n",
    "    resultado = 0\n",
    "    if y != 0:\n",
    "        resultado = x/y\n",
    "    return resultado\n",
    "\n",
    "print(div_safe(6,2))\n",
    "print(div_safe(6,0))"
   ]
  },
  {
   "cell_type": "code",
   "execution_count": null,
   "metadata": {
    "slideshow": {
     "slide_type": "fragment"
    }
   },
   "outputs": [],
   "source": [
    "# función con varios valores de retorno\n",
    "def get_first_second(collection):\n",
    "    return collection[0], collection[1] # devuelve tupla\n",
    "\n",
    "\n",
    "names = ['Alfred','James','Peter','Harvey']\n",
    "first, second = get_first_second(names)\n",
    "print(first)\n",
    "print(second)"
   ]
  },
  {
   "cell_type": "code",
   "execution_count": 28,
   "metadata": {},
   "outputs": [
    {
     "name": "stdout",
     "output_type": "stream",
     "text": [
      "6\n",
      "aaee\n"
     ]
    }
   ],
   "source": [
    "# Hint\n",
    "def add2(x:int, y:int) -> int:\n",
    "    return x + y\n",
    "\n",
    "print(add2(4,2))\n",
    "print(add2(\"aa\",\"ee\"))"
   ]
  },
  {
   "attachments": {},
   "cell_type": "markdown",
   "metadata": {
    "slideshow": {
     "slide_type": "subslide"
    }
   },
   "source": [
    "[Python funtions hints](https://peps.python.org/pep-0484/)\n",
    "\n",
    "Los argumentos pueden tener valores por defecto (siempre al final)"
   ]
  },
  {
   "cell_type": "code",
   "execution_count": 29,
   "metadata": {
    "slideshow": {
     "slide_type": "fragment"
    }
   },
   "outputs": [
    {
     "name": "stdout",
     "output_type": "stream",
     "text": [
      "Se ha proporcionado a\n",
      "Se ha proporcionado gini\n",
      "Se ha proporcionado 100\n"
     ]
    }
   ],
   "source": [
    "# Cuidado con el orden de los valores por defecto\n",
    "def f(a, b='gini', c=100):\n",
    "    if a is not None:\n",
    "        print('Se ha proporcionado a')\n",
    "    if b is not None:\n",
    "        print(f'Se ha proporcionado {b}')\n",
    "    if c is not None:\n",
    "        print(f'Se ha proporcionado {c}')\n",
    "    return\n",
    "        \n",
    "f(1)"
   ]
  },
  {
   "attachments": {},
   "cell_type": "markdown",
   "metadata": {
    "slideshow": {
     "slide_type": "subslide"
    }
   },
   "source": [
    "Named values, si al llamar se especifica el nombre de los argumentos se puede alterar el orden"
   ]
  },
  {
   "cell_type": "code",
   "execution_count": 30,
   "metadata": {
    "slideshow": {
     "slide_type": "fragment"
    }
   },
   "outputs": [
    {
     "name": "stdout",
     "output_type": "stream",
     "text": [
      "-1\n",
      "-1\n"
     ]
    }
   ],
   "source": [
    "def minus(minuendo, sustraendo):\n",
    "    return minuendo - sustraendo\n",
    "\n",
    "print(minus(3,4))\n",
    "print(minus(sustraendo=4, minuendo=3))"
   ]
  },
  {
   "attachments": {},
   "cell_type": "markdown",
   "metadata": {
    "slideshow": {
     "slide_type": "subslide"
    }
   },
   "source": [
    "- En python las funciones son first class citizens\n",
    "- Como cualquier otro objeto en Python, se puede guardar una función (o referencia) en una variable"
   ]
  },
  {
   "cell_type": "code",
   "execution_count": 31,
   "metadata": {
    "slideshow": {
     "slide_type": "fragment"
    }
   },
   "outputs": [
    {
     "name": "stdout",
     "output_type": "stream",
     "text": [
      "['Valencia', 'Barcelona', 'Bilbao']\n"
     ]
    }
   ],
   "source": [
    "# procesar strings aplicando funciones en 'ops'\n",
    "def clean_strings(strings, ops):\n",
    "    result = []\n",
    "    for value in strings:\n",
    "        for function in ops:\n",
    "            value = function(value) # le aplica una lista de funciones\n",
    "        result.append(value)\n",
    "    return result\n",
    "\n",
    "strings = ['  valencia   ', '   barcelona', ' bilbao ']\n",
    "operations = [str.strip, str.title]\n",
    "print(clean_strings(strings,operations))"
   ]
  },
  {
   "attachments": {},
   "cell_type": "markdown",
   "metadata": {
    "slideshow": {
     "slide_type": "subslide"
    }
   },
   "source": [
    "### Paso de Parámetros\n",
    "- Tipos simples por valor, int, float, string\n",
    " - Se crea una copia dentro de la función\n",
    "- Tipos complejos por referencia, list, set, dictionary\n",
    " - Se maneja directamente la variable externa, los cambios le afectan"
   ]
  },
  {
   "cell_type": "code",
   "execution_count": 32,
   "metadata": {
    "slideshow": {
     "slide_type": "fragment"
    }
   },
   "outputs": [
    {
     "name": "stdout",
     "output_type": "stream",
     "text": [
      "59\n",
      "2\n"
     ]
    }
   ],
   "source": [
    "# paso por valor\n",
    "def pow2(y, operador):    \n",
    "    y *= y\n",
    "    print(y+operador)\n",
    "    return\n",
    "\n",
    "a = 2\n",
    "pow2(a, 55)\n",
    "print(a)"
   ]
  },
  {
   "cell_type": "code",
   "execution_count": 33,
   "metadata": {
    "slideshow": {
     "slide_type": "fragment"
    }
   },
   "outputs": [
    {
     "name": "stdout",
     "output_type": "stream",
     "text": [
      "[0, 1]\n",
      "[0, 1] [0, 1, 2]\n"
     ]
    }
   ],
   "source": [
    "# paso por referencia con listas\n",
    "def add2(x: list) -> None:\n",
    "    print(x)\n",
    "    x.append(2)\n",
    "    return x\n",
    "    \n",
    "lista = [0, 1]\n",
    "ls2 = add2(lista.copy())\n",
    "print(lista, ls2)"
   ]
  },
  {
   "cell_type": "code",
   "execution_count": 34,
   "metadata": {
    "scrolled": true,
    "slideshow": {
     "slide_type": "fragment"
    }
   },
   "outputs": [
    {
     "name": "stdout",
     "output_type": "stream",
     "text": [
      "4\n"
     ]
    }
   ],
   "source": [
    "# paso por valor modificando, devolver el valor\n",
    "def pow2(x):\n",
    "    x *= x\n",
    "    return x\n",
    "\n",
    "a = 2\n",
    "a = pow2(a)\n",
    "print(a)"
   ]
  },
  {
   "cell_type": "code",
   "execution_count": 35,
   "metadata": {
    "slideshow": {
     "slide_type": "fragment"
    }
   },
   "outputs": [
    {
     "name": "stdout",
     "output_type": "stream",
     "text": [
      "[0, 1, [30, 4], 2]\n",
      "[0, 1, [30, 4]]\n"
     ]
    }
   ],
   "source": [
    "# paso por referencia sin modificar, enviando copia\n",
    "def add2(x):\n",
    "    x.append(2)\n",
    "    x[2][0] = 30\n",
    "    print(x) # solo se modifica x dentro de la funcion pero como no se retorna \n",
    "    return\n",
    "    \n",
    "lista = [0, 1, [3,4]]\n",
    "add2(lista.copy())\n",
    "print(lista)"
   ]
  },
  {
   "cell_type": "code",
   "execution_count": 36,
   "metadata": {},
   "outputs": [
    {
     "name": "stdout",
     "output_type": "stream",
     "text": [
      "[0, 1, 2]\n"
     ]
    }
   ],
   "source": [
    "lista = [0,1]\n",
    "\n",
    "def add2():\n",
    "    lista.append(2)\n",
    "    \n",
    "add2()\n",
    "print(lista)"
   ]
  },
  {
   "attachments": {},
   "cell_type": "markdown",
   "metadata": {
    "slideshow": {
     "slide_type": "subslide"
    }
   },
   "source": [
    "### Argumentos arbitrarios\n",
    "- No se sabe a priori cuantos elementos se reciben\n",
    "- Se reciben como una tupla"
   ]
  },
  {
   "cell_type": "code",
   "execution_count": 42,
   "metadata": {
    "slideshow": {
     "slide_type": "fragment"
    }
   },
   "outputs": [
    {
     "name": "stdout",
     "output_type": "stream",
     "text": [
      "<class 'tuple'>\n",
      "Hola Manolo\n",
      "Hola Pepe\n",
      "Hola Luis\n",
      "Hola Alex\n"
     ]
    }
   ],
   "source": [
    "# con *\n",
    "def saludar(*names): # names es args\n",
    "    print(type(names))\n",
    "    for name in names:\n",
    "        print(\"Hola \" + name)\n",
    "\n",
    "saludar(*(\"Manolo\", \"Pepe\", \"Luis\", \"Alex\"))\n"
   ]
  },
  {
   "cell_type": "code",
   "execution_count": null,
   "metadata": {},
   "outputs": [],
   "source": [
    "def consulta_sql(**kwargs):\n",
    "\n",
    "  sql_sel = \"SELECT * FROM bicis\"\n",
    "\n",
    "  for k,v in kwargs.items():\n",
    "    sql_sel += k + \"=\" + int(v)\n",
    "  return sql_sel\n",
    "\n",
    "\n",
    "consulta_sql(station=10, free=10)"
   ]
  },
  {
   "cell_type": "code",
   "execution_count": null,
   "metadata": {},
   "outputs": [],
   "source": [
    "\"SELECT * FROM bicis WHERE station=10 AND free=10\""
   ]
  },
  {
   "cell_type": "code",
   "execution_count": null,
   "metadata": {},
   "outputs": [],
   "source": [
    "def consulta_sql(**kwargs):\n",
    "\n",
    "    sql = \"SELECT * FROM bicis WHERE \"\n",
    "\n",
    "    args = [f\"{key}={value}\" for key, value in kwargs.items()]\n",
    "\n",
    "    sql += \" AND \".join((args))\n",
    "\n",
    "\n",
    "\n",
    "    return sql\n",
    "\n",
    "consulta_sql(station='alameda', free=10)"
   ]
  },
  {
   "cell_type": "code",
   "execution_count": null,
   "metadata": {},
   "outputs": [],
   "source": [
    "def consulta_sql(**kwargs):\n",
    "\n",
    "    sql_sel = \"SELECT * FROM bicis\"\n",
    "\n",
    "    where = \" WHERE\"\n",
    "\n",
    "    for key,value in kwargs.items():\n",
    "\n",
    "        where += f\" AND {key}={value}\"\n",
    "\n",
    "\n",
    "\n",
    "    return sql_sel + where\n",
    "consulta_sql(station='alameda', free=10)"
   ]
  },
  {
   "cell_type": "code",
   "execution_count": null,
   "metadata": {},
   "outputs": [],
   "source": [
    "def consulta_sql(**kwargs):\n",
    "    slq_sel = \"SELECT * FROM bicis\"\n",
    "    for...\n",
    "\n",
    "    return slq_sel\n",
    "    #TODO: trabajar cómo hacer un string tipo consulta SQL\n",
    "\n",
    "consulta_sql(station='alameda', free=10)"
   ]
  },
  {
   "cell_type": "code",
   "execution_count": null,
   "metadata": {},
   "outputs": [],
   "source": [
    "def consulta_sql(**kwargs):\n",
    "    sql = \"SELECT * FROM bicis WHERE \"\n",
    "    ls_and = []\n",
    "    for k, v in kwargs.items():\n",
    "        sel_where = f\"{k}={v}\"\n",
    "        ls_and.append(sel_where)\n",
    "    return sql + ' AND '.join(ls_and)\n",
    "\n",
    "consulta_sql(number=43, free=10, station='alameda')"
   ]
  },
  {
   "attachments": {},
   "cell_type": "markdown",
   "metadata": {},
   "source": [
    "### Desempaquetado en funciones"
   ]
  },
  {
   "cell_type": "code",
   "execution_count": 43,
   "metadata": {},
   "outputs": [
    {
     "name": "stdout",
     "output_type": "stream",
     "text": [
      "Hola Benjamin, te quiere saludar, mira esto: args\n"
     ]
    }
   ],
   "source": [
    "def saludar(quien, mensaje, gesto):\n",
    "    print(f\"Hola {quien}, {mensaje}, mira esto: {gesto}\")\n",
    "\n",
    "ls_saludo = ['Benjamin', 'te quiere saludar', 'args']\n",
    "\n",
    "saludar(*ls_saludo) # los args sen empaquetan/desempaquetan en forma de tuplas\n",
    "\n",
    "# desempaqueta la lista en los argumentos de la funcion"
   ]
  },
  {
   "cell_type": "code",
   "execution_count": null,
   "metadata": {},
   "outputs": [],
   "source": [
    "def saludar(quien, mensaje, gesto):\n",
    "    print(f\"Hola {quien}, {mensaje}, mira esto: {gesto}\")\n",
    "\n",
    "dc_saludo = {\n",
    "    'quien': [12, 12, 3,4 , 5,3],\n",
    "    'mensaje': 'te quiere enseñar esto',\n",
    "    'gesto': 'guiño'\n",
    "}\n",
    "\n",
    "saludar(**dc_saludo) # los kwargs se desempaquetan en forma de diccionario\n",
    "\n",
    "# se desempaqueta el diccionario en forma de clave el nombre de argumentos, y el valor es el mismo argumento\n",
    "# practica habitual en machine larning"
   ]
  },
  {
   "attachments": {},
   "cell_type": "markdown",
   "metadata": {
    "slideshow": {
     "slide_type": "subslide"
    }
   },
   "source": [
    "### Recursividad"
   ]
  },
  {
   "cell_type": "code",
   "execution_count": null,
   "metadata": {
    "slideshow": {
     "slide_type": "fragment"
    }
   },
   "outputs": [],
   "source": [
    "# funcion recursiva, se llama a si misma\n",
    "def factorial(n):      \n",
    "    if n == 1:\n",
    "        return n\n",
    "    else:\n",
    "        return n * factorial(n-1)\n",
    "    \n",
    "print(factorial(1))"
   ]
  },
  {
   "attachments": {},
   "cell_type": "markdown",
   "metadata": {
    "slideshow": {
     "slide_type": "subslide"
    }
   },
   "source": [
    "## Funciones lambda\n",
    "- Es posible definir funciones anónimas\n",
    "- Declaración en el mismo lugar en donde se utilizan\n",
    "- Útiles cuando se quiere pasar una función como argumento a otra"
   ]
  },
  {
   "cell_type": "code",
   "execution_count": 5,
   "metadata": {
    "slideshow": {
     "slide_type": "fragment"
    }
   },
   "outputs": [
    {
     "name": "stdout",
     "output_type": "stream",
     "text": [
      "['Constantinopla', 'Barcelona', 'Valencia', 'Madrid', 'Lezo']\n"
     ]
    }
   ],
   "source": [
    "# forma general: lambda <lista de argumentos> : <valor a retornar>\n",
    "cities = ['Valencia', 'Barcelona', 'Madrid', 'Constantinopla', 'Lezo']\n",
    "cities.sort(key = lambda x : len(x), reverse= True)\n",
    "print(cities)"
   ]
  },
  {
   "cell_type": "code",
   "execution_count": 6,
   "metadata": {},
   "outputs": [
    {
     "data": {
      "text/plain": [
       "['Lezo', 'Madrid', 'Valencia', 'Barcelona', 'Constantinopla']"
      ]
     },
     "execution_count": 6,
     "metadata": {},
     "output_type": "execute_result"
    }
   ],
   "source": [
    "cities.reverse()\n",
    "cities"
   ]
  },
  {
   "cell_type": "code",
   "execution_count": null,
   "metadata": {},
   "outputs": [],
   "source": [
    "len('Madrid')"
   ]
  },
  {
   "cell_type": "code",
   "execution_count": null,
   "metadata": {
    "slideshow": {
     "slide_type": "subslide"
    }
   },
   "outputs": [],
   "source": [
    "# sin lambda\n",
    "cities = ['Valencia', 'Barcelona', 'Madrid']\n",
    "\n",
    "def cuenta(string):\n",
    "    return len(string)\n",
    "\n",
    "cities.sort(key = cuenta)\n",
    "print(cities)"
   ]
  },
  {
   "cell_type": "code",
   "execution_count": null,
   "metadata": {
    "slideshow": {
     "slide_type": "subslide"
    }
   },
   "outputs": [],
   "source": [
    "# se puede guardar una referencia para utilización repetida\n",
    "cities = ['Valencia', 'Barcelona', 'Madrid']\n",
    "\n",
    "f = lambda x : len(x)\n",
    "\n",
    "cities.sort(key = f)\n",
    "print(cities)"
   ]
  },
  {
   "attachments": {},
   "cell_type": "markdown",
   "metadata": {
    "slideshow": {
     "slide_type": "subslide"
    }
   },
   "source": [
    "### Placeholders\n",
    "- pass"
   ]
  },
  {
   "cell_type": "code",
   "execution_count": null,
   "metadata": {},
   "outputs": [],
   "source": [
    "def my_function():\n",
    "    pass\n",
    "\n",
    "my_function()"
   ]
  },
  {
   "attachments": {},
   "cell_type": "markdown",
   "metadata": {
    "slideshow": {
     "slide_type": "slide"
    }
   },
   "source": [
    "# Lectura y escritura de archivos\n",
    "- Importante para almacenar datos y para guardar progreso\n",
    "- 'Streams' para lectura y escritura\n",
    " - Nombre de archivo\n",
    " - Lectura / escritura\n",
    " - Modo de acceso"
   ]
  },
  {
   "cell_type": "code",
   "execution_count": 7,
   "metadata": {},
   "outputs": [],
   "source": [
    "import os\n",
    "import pathlib #TODO"
   ]
  },
  {
   "cell_type": "code",
   "execution_count": 16,
   "metadata": {
    "slideshow": {
     "slide_type": "fragment"
    }
   },
   "outputs": [
    {
     "name": "stdout",
     "output_type": "stream",
     "text": [
      "Carne\n",
      "\n",
      "Fruta\n",
      "\n",
      "Pescado\n",
      "\n",
      "Manzana\n",
      "\n",
      "Pera\n"
     ]
    }
   ],
   "source": [
    "# leer de un archivo\n",
    "ruta = os.path.join(\"../res\", \"lista_compra.txt\")\n",
    "# print(ruta)\n",
    "fichero = open(ruta)\n",
    "for line in fichero:\n",
    "    print(line)\n",
    "fichero.close()"
   ]
  },
  {
   "cell_type": "code",
   "execution_count": 12,
   "metadata": {
    "slideshow": {
     "slide_type": "fragment"
    }
   },
   "outputs": [
    {
     "name": "stdout",
     "output_type": "stream",
     "text": [
      "['Carne\\n', 'Fruta\\n', 'Pescado\\n', 'Manzana\\n', 'Pera']\n",
      "['Carne\\n', 'Fruta\\n', 'Pescado\\n', 'Manzana\\n', 'Pera']\n"
     ]
    }
   ],
   "source": [
    "# leer de un archivo, a una lista, todo fichero en memoria\n",
    "ruta = os.path.join(\"../res\", \"lista_compra.txt\")\n",
    "fichero = open(ruta)\n",
    "lines = fichero.readlines()\n",
    "fichero.close()\n",
    "\n",
    "print(lines)\n",
    "\n",
    "lines = open(ruta).readlines()\n",
    "print(lines)"
   ]
  },
  {
   "cell_type": "code",
   "execution_count": 17,
   "metadata": {
    "slideshow": {
     "slide_type": "fragment"
    }
   },
   "outputs": [
    {
     "name": "stdout",
     "output_type": "stream",
     "text": [
      "Carne\n",
      "Fruta\n",
      "Pescado\n",
      "Manzana\n",
      "Pera\n"
     ]
    }
   ],
   "source": [
    "# leer de un archivo, pythonic way, recomendado\n",
    "with open(ruta) as f:\n",
    "    for line in f:\n",
    "        print(line.strip())"
   ]
  },
  {
   "cell_type": "code",
   "execution_count": 18,
   "metadata": {
    "slideshow": {
     "slide_type": "fragment"
    }
   },
   "outputs": [
    {
     "name": "stdout",
     "output_type": "stream",
     "text": [
      "['Carne\\n', 'Fruta\\n', 'Pescado\\n', 'Manzana\\n', 'Pera']\n",
      "['Carne\\n', 'Fruta\\n', 'Pescado\\n', 'Manzana\\n', 'Pera']\n"
     ]
    }
   ],
   "source": [
    "#abrir varios ficheros en el mismo with\n",
    "with open(ruta) as f1, open(ruta) as f2:\n",
    "    print(f1.readlines())\n",
    "    print(f2.readlines())"
   ]
  },
  {
   "cell_type": "code",
   "execution_count": 19,
   "metadata": {
    "slideshow": {
     "slide_type": "fragment"
    }
   },
   "outputs": [
    {
     "name": "stdout",
     "output_type": "stream",
     "text": [
      "['Carne\\n', 'Fruta\\n', 'Pescado\\n', 'Manzana\\n', 'Pera']\n",
      "['Carne', 'Fruta', 'Pescado', 'Manzana', 'Pera']\n"
     ]
    }
   ],
   "source": [
    "with open(ruta) as f:\n",
    "    # leer todas las líneas de una vez, y eliminar cr\n",
    "    lines = f.readlines()\n",
    "    print(lines)\n",
    "    \n",
    "    lines_clean = [x.rstrip() for x in lines] # elimina caracter terminación de línea (\\n)\n",
    "    print(lines_clean)"
   ]
  },
  {
   "attachments": {},
   "cell_type": "markdown",
   "metadata": {
    "slideshow": {
     "slide_type": "subslide"
    }
   },
   "source": [
    "### Elegir entre escritura y lectura con modo de acceso\n",
    "\n",
    "| Modo Acceso | Desc |\n",
    "|:---------|:-----|\n",
    "| r | Solo Lectura |\n",
    "| w | Solo Escritura (Borra si el archivo ya existe) |\n",
    "| x | Solo Escritura (Falla si el archivo ya existe) |\n",
    "| a | Crea Fichero (Si existe lo abre y se añade al final) |\n",
    "| r+ | Lectura y Escritura |\n",
    "| b | Se puede añadir a otros modos para acceso binario\n",
    "| t | Acceso para archivos de texto (default) |"
   ]
  },
  {
   "cell_type": "code",
   "execution_count": null,
   "metadata": {
    "slideshow": {
     "slide_type": "fragment"
    }
   },
   "outputs": [],
   "source": [
    "# escritura a archivo\n",
    "ruta = os.path.join(\"tmp\", \"o_dummy.txt\")\n",
    "with open(ruta,'wt') as f:\n",
    "    f.write('Cabecera\\n')\n",
    "    sequence = [str(x) + '\\n' for x in range(10)] # +cr\n",
    "    f.writelines(sequence)"
   ]
  },
  {
   "attachments": {},
   "cell_type": "markdown",
   "metadata": {},
   "source": [
    "### Buffering\n",
    "- Por defecto, el texto que transfieres desde tu programa a un fichero no se guarda en disco inmediatamente. Se almacena un buffer.\n",
    "- Acciones como cerrar un fichero o invocar el método flush fuerzan a que se transfiera el contenido del buffer a disco."
   ]
  },
  {
   "cell_type": "code",
   "execution_count": null,
   "metadata": {
    "slideshow": {
     "slide_type": "fragment"
    }
   },
   "outputs": [],
   "source": [
    "# flush\n",
    "ruta = os.path.join(\"tmp\", \"o_dummy.txt\")\n",
    "\n",
    "fichero_write = open(ruta, \"wt\")\n",
    "fichero_write.write('foobar')\n",
    "\n",
    "fichero_read = open(ruta, \"rt\")\n",
    "print(fichero_read.readlines())\n",
    "\n",
    "# fichero_write.flush() # el metodo flush guarda en el bufering que esta generando para ejecutar un fichero, y ejecuta el volcado de datos a disco\n",
    "\n",
    "# print(fichero_read.readlines())\n",
    "\n",
    "fichero_write.close()\n",
    "fichero_read.close()"
   ]
  },
  {
   "attachments": {},
   "cell_type": "markdown",
   "metadata": {
    "slideshow": {
     "slide_type": "subslide"
    }
   },
   "source": [
    "## Lectura y escritura de archivos 'CSV'\n",
    "- Python permite interpretar datos CSV\n",
    "- Popular formato en ciencia de datos"
   ]
  },
  {
   "cell_type": "code",
   "execution_count": 23,
   "metadata": {
    "slideshow": {
     "slide_type": "fragment"
    }
   },
   "outputs": [
    {
     "name": "stdout",
     "output_type": "stream",
     "text": [
      "['OperaciÃ³n', 'DescripciÃ³n']\n",
      "['a + b', 'suma a y b']\n",
      "['a - b', 'resta a menos b']\n",
      "['a / b', 'a dividido']\n",
      "['a // b', 'a dividido entre b (quitando decimales)']\n",
      "['a % b', 'devuelve el resto de la divisiÃ³n a/b (modulus)']\n",
      "['a * b', 'a multiplicado por b']\n",
      "['a ** b', 'a elevado a b']\n"
     ]
    }
   ],
   "source": [
    "# Tabla1.csv contiene la Tabla 1 del manual, con valores separados por comas (u otro delimitador)\n",
    "import os\n",
    "import csv\n",
    "ruta = os.path.join(\"../res\", \"tabla_operaciones.csv\")\n",
    "f = open(ruta)\n",
    "data_reader = csv.reader(f, delimiter = ',')\n",
    "\n",
    "# el delimitador en csv es coma, pero puede ser un tabular, punto y coma, etc.\n",
    "# se debe indicar el delimitador siempre\n",
    "# copiar los valores de Tabla1\n",
    "ruta_o = os.path.join(\"../res\", \"o_tabla_operaciones.csv\")\n",
    "with open(ruta_o, 'w') as f2:\n",
    "    csv_writer = csv.writer(f2, delimiter = '|')\n",
    "    for line in data_reader:\n",
    "        print(line)\n",
    "        csv_writer.writerow(line)\n",
    "        \n",
    "f.close()"
   ]
  },
  {
   "attachments": {},
   "cell_type": "markdown",
   "metadata": {},
   "source": [
    "# Docstrings\n"
   ]
  },
  {
   "attachments": {},
   "cell_type": "markdown",
   "metadata": {},
   "source": [
    "# Excepciones"
   ]
  },
  {
   "attachments": {},
   "cell_type": "markdown",
   "metadata": {},
   "source": [
    "* Las excepciones son eventos que representan situaciones excepcionales.\n",
    "* Alteran el flujo de ejecución convencional.\n",
    "* Python lanza excepciones automáticamente cuando se producen errores.\n",
    "* El programador puede lanzar excepciones de manera explícita y también capturar excepciones para actuar como se crea conveniente."
   ]
  },
  {
   "attachments": {},
   "cell_type": "markdown",
   "metadata": {},
   "source": [
    "#### Try/except\n",
    "\n",
    "* Permite capturar excepciones y actuar en consecuencia.\n",
    "* Ideales en casos en que no sabemos qué entrada puede haber.\n",
    "\n",
    "Ejemplo: error de acceso fuera de rango."
   ]
  },
  {
   "cell_type": "code",
   "execution_count": null,
   "metadata": {},
   "outputs": [],
   "source": [
    "lista = [6, 1, 0, 5]\n",
    "print(lista[4])\n",
    "print('Unreachable Code')"
   ]
  },
  {
   "cell_type": "code",
   "execution_count": null,
   "metadata": {},
   "outputs": [],
   "source": [
    "lista = [6, 1, 0, 5]\n",
    "try:\n",
    "    print(lista[4])\n",
    "except IndexError:\n",
    "    print('Exception IndexError Captured')\n",
    "    \n",
    "print('Reacheable Code')"
   ]
  },
  {
   "attachments": {},
   "cell_type": "markdown",
   "metadata": {},
   "source": [
    "* Normalmente, al capturar excepciones, querremos ser lo más específicos posible, pero también se puedes usar una sentencia *try-except* que capture cualquier error."
   ]
  },
  {
   "cell_type": "code",
   "execution_count": null,
   "metadata": {},
   "outputs": [],
   "source": [
    "try:\n",
    "    4/0\n",
    "except:\n",
    "    print('Division By Zero Captured')"
   ]
  },
  {
   "attachments": {},
   "cell_type": "markdown",
   "metadata": {},
   "source": [
    "#### Try/finally\n",
    "\n",
    "* A través de *finally* podemos especificar código que queremos que se ejecute siempre (independientemente de si se produce la excepción o no).\n",
    "* Se suele usar para liberar recursos."
   ]
  },
  {
   "cell_type": "code",
   "execution_count": null,
   "metadata": {},
   "outputs": [],
   "source": [
    "lista = [6, 1, 0, 5]\n",
    "\n",
    "try:\n",
    "    lista[4]\n",
    "except IndexError:\n",
    "    print('Exception IndexError Captured')    \n",
    "finally:\n",
    "    print('Finally Block')\n",
    "\n",
    "print('Reacheable Code')"
   ]
  },
  {
   "attachments": {},
   "cell_type": "markdown",
   "metadata": {},
   "source": [
    "- Recoger la excepción e imprimir el mensaje de error"
   ]
  },
  {
   "cell_type": "code",
   "execution_count": null,
   "metadata": {},
   "outputs": [],
   "source": [
    "lista = [6, 1, 0, 5]\n",
    "try:\n",
    "    print(lista[4])\n",
    "except Exception as e:\n",
    "    print(\"Error = \" + str(e))\n",
    "    \n",
    "print('Reacheable Code')"
   ]
  },
  {
   "attachments": {},
   "cell_type": "markdown",
   "metadata": {},
   "source": [
    "#### raise\n",
    "\n",
    "* La sentencia *raise* nos permite lanzar excepciones de manera explícita."
   ]
  },
  {
   "cell_type": "code",
   "execution_count": null,
   "metadata": {},
   "outputs": [],
   "source": [
    "lista = [6, 1, 0, 5]\n",
    "indice = 4\n",
    "\n",
    "try:\n",
    "    if indice >= len(lista):\n",
    "        raise IndexError('Index Out of Range')\n",
    "except IndexError:\n",
    "    print('Exception IndexError Captured')  "
   ]
  },
  {
   "attachments": {},
   "cell_type": "markdown",
   "metadata": {
    "slideshow": {
     "slide_type": "slide"
    }
   },
   "source": [
    "# Ejercicios\n",
    "- Errores de sintaxis, corrige el código para que sea ejecutable\n",
    "- NO comentar resultados en el foro"
   ]
  },
  {
   "cell_type": "code",
   "execution_count": 2,
   "metadata": {
    "slideshow": {
     "slide_type": "fragment"
    }
   },
   "outputs": [],
   "source": [
    "# dict1 = ['name' : ['Munir','Carles','Dorian'], ages : [9,27,87]]\n",
    "\n",
    "dict1 = {'name' : ['Munir','Carles','Dorian'], 'ages' : [9,27,87]}"
   ]
  },
  {
   "cell_type": "code",
   "execution_count": 3,
   "metadata": {
    "slideshow": {
     "slide_type": "fragment"
    }
   },
   "outputs": [
    {
     "data": {
      "text/plain": [
       "{'PS4': 1.2, 'iOS': 1.2, 'Android': 1.1, 'PC': 1.0}"
      ]
     },
     "execution_count": 3,
     "metadata": {},
     "output_type": "execute_result"
    }
   ],
   "source": [
    "platforms = ['PS4', 'iOS', 'Android','PC']\n",
    "versions = [1.2,1.2,1.1,1.0]\n",
    "# database = dict{platforms : versions}\n",
    "\n",
    "database = dict(zip(platforms,versions))\n",
    "database"
   ]
  },
  {
   "cell_type": "code",
   "execution_count": 5,
   "metadata": {
    "slideshow": {
     "slide_type": "fragment"
    }
   },
   "outputs": [
    {
     "data": {
      "text/plain": [
       "{'username': ['lamb018', 'xix112']}"
      ]
     },
     "execution_count": 5,
     "metadata": {},
     "output_type": "execute_result"
    }
   ],
   "source": [
    "users = {'ID' : [123321,8976321], 'username': ['lamb018','xix112']}\n",
    "# drop users['ID']\n",
    "\n",
    "del users['ID']\n",
    "users"
   ]
  },
  {
   "cell_type": "code",
   "execution_count": 7,
   "metadata": {
    "slideshow": {
     "slide_type": "fragment"
    }
   },
   "outputs": [
    {
     "data": {
      "text/plain": [
       "True"
      ]
     },
     "execution_count": 7,
     "metadata": {},
     "output_type": "execute_result"
    }
   ],
   "source": [
    "integer_numbers = {-5,-4,-3,-2,-1,0,1,2,3,4,5}\n",
    "positive_numbers = {1,2,3,4,5}\n",
    "negative_numbers = {-5,-4,-3,-2,-1}\n",
    "integer_numbers.issuperset(positive_numbers)"
   ]
  },
  {
   "cell_type": "code",
   "execution_count": 9,
   "metadata": {
    "slideshow": {
     "slide_type": "fragment"
    }
   },
   "outputs": [
    {
     "data": {
      "text/plain": [
       "True"
      ]
     },
     "execution_count": 9,
     "metadata": {},
     "output_type": "execute_result"
    }
   ],
   "source": [
    "# -5 is in integer_numbers\n",
    "\n",
    "-5 in integer_numbers"
   ]
  },
  {
   "cell_type": "code",
   "execution_count": 11,
   "metadata": {
    "slideshow": {
     "slide_type": "fragment"
    }
   },
   "outputs": [
    {
     "name": "stdout",
     "output_type": "stream",
     "text": [
      "[0, 1, 2, 3, 4, 5, 6, 7, 8, 9]\n"
     ]
    }
   ],
   "source": [
    "# numbers = x for x in range(10)\n",
    "\n",
    "numers = [x for x in range(10)]\n",
    "print(numers)"
   ]
  },
  {
   "cell_type": "code",
   "execution_count": 13,
   "metadata": {
    "slideshow": {
     "slide_type": "fragment"
    }
   },
   "outputs": [
    {
     "name": "stdout",
     "output_type": "stream",
     "text": [
      "this is a function\n"
     ]
    }
   ],
   "source": [
    "# def function:\n",
    "#     print('This is a function')\n",
    "\n",
    "def function():\n",
    "    print('this is a function')\n",
    "\n",
    "function()"
   ]
  },
  {
   "cell_type": "code",
   "execution_count": 15,
   "metadata": {
    "slideshow": {
     "slide_type": "fragment"
    }
   },
   "outputs": [
    {
     "data": {
      "text/plain": [
       "3"
      ]
     },
     "execution_count": 15,
     "metadata": {},
     "output_type": "execute_result"
    }
   ],
   "source": [
    "# def sum(a,b=0,c):\n",
    "#     return a+b+c\n",
    "\n",
    "def sum(a,c,b= 0):\n",
    "    return a +b+c\n",
    "\n",
    "sum(1,2,)"
   ]
  },
  {
   "cell_type": "code",
   "execution_count": 22,
   "metadata": {
    "slideshow": {
     "slide_type": "fragment"
    }
   },
   "outputs": [
    {
     "data": {
      "text/plain": [
       "4"
      ]
     },
     "execution_count": 22,
     "metadata": {},
     "output_type": "execute_result"
    }
   ],
   "source": [
    "#f = lambda : len(x)\n",
    "# f(['PS4', 'iOS', 'Android','PC'])\n",
    "\n",
    "f = lambda x: len(x)\n",
    "f(['PS4', 'iOS', 'Android','PC'])"
   ]
  },
  {
   "cell_type": "code",
   "execution_count": 23,
   "metadata": {
    "slideshow": {
     "slide_type": "fragment"
    }
   },
   "outputs": [
    {
     "name": "stdout",
     "output_type": "stream",
     "text": [
      "peras\n",
      "cafe\n",
      "pan\n",
      "patata\n",
      "manzana\n",
      "platano\n"
     ]
    }
   ],
   "source": [
    "# asumir que existe un archivo 'lista_compra.txt' en donde reside el notebook\n",
    "# open('lista_compra.txt') as f:\n",
    "# for line in f:\n",
    "#     print(line)\n",
    "\n",
    "import os\n",
    "ruta = os.path.join(\"C:/Users/plane/OneDrive/Escritorio/COMPUTING SCIENCE/MASTER Inteligencia artificial/python para IA/data\",'listacompra.txt')\n",
    "fichero = open(ruta)\n",
    "\n",
    "for line in fichero:\n",
    "    print(line.strip())"
   ]
  },
  {
   "cell_type": "code",
   "execution_count": 25,
   "metadata": {
    "slideshow": {
     "slide_type": "fragment"
    }
   },
   "outputs": [],
   "source": [
    "# asumir que existe un archivo 'lista_compra.txt' en donde reside el notebook\n",
    "# names = ['Alfred','James','Peter','Harvey']\n",
    "# with open('lista_compra.txt','r') as f:\n",
    "#     for name in names:\n",
    "#         f.write(name)\n",
    "\n",
    "names= ['Alfred','James','Peter','Harvey']\n",
    "with open(ruta, 'wt') as f:\n",
    "    for name in names:\n",
    "        f.write(name)\n"
   ]
  },
  {
   "cell_type": "code",
   "execution_count": null,
   "metadata": {},
   "outputs": [],
   "source": []
  }
 ],
 "metadata": {
  "celltoolbar": "Slideshow",
  "kernelspec": {
   "display_name": "Python 3 (ipykernel)",
   "language": "python",
   "name": "python3"
  },
  "language_info": {
   "codemirror_mode": {
    "name": "ipython",
    "version": 3
   },
   "file_extension": ".py",
   "mimetype": "text/x-python",
   "name": "python",
   "nbconvert_exporter": "python",
   "pygments_lexer": "ipython3",
   "version": "3.10.6"
  }
 },
 "nbformat": 4,
 "nbformat_minor": 4
}
