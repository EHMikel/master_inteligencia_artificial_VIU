{
 "cells": [
  {
   "cell_type": "code",
   "execution_count": 1,
   "metadata": {},
   "outputs": [],
   "source": [
    "# Creación aleatoria de datos\n",
    "import numpy as np\n",
    "X = np.array([0.5, 23, 0.3, 4.5, 0.3, 0.5,\n",
    "              -28, -50, 60, -100, -10, -11, 13, 19, 1, 9])"
   ]
  },
  {
   "cell_type": "code",
   "execution_count": 3,
   "metadata": {},
   "outputs": [
    {
     "name": "stdout",
     "output_type": "stream",
     "text": [
      "media:  -4.24375\n",
      "mediana:  0.5\n",
      "moda : 0.3\n"
     ]
    }
   ],
   "source": [
    "# Medidas de tendencia central\n",
    "from scipy import stats\n",
    "media = np.mean(X)\n",
    "mediana = np.median(X)\n",
    "moda, _ = stats.mode(X, keepdims= True)\n",
    "print('media: ', media)\n",
    "print('mediana: ', mediana)\n",
    "print('moda :', moda[0])"
   ]
  },
  {
   "cell_type": "code",
   "execution_count": 4,
   "metadata": {},
   "outputs": [
    {
     "name": "stdout",
     "output_type": "stream",
     "text": [
      "RIC : 20.25\n",
      "limite inferior : -40.625\n",
      "limite superior : 40.375\n"
     ]
    }
   ],
   "source": [
    "# Medidas de posición\n",
    "import numpy as np\n",
    "import matplotlib.pyplot as plt\n",
    "\n",
    "Q1 = np.percentile(X, 25)\n",
    "Q3 = np.percentile(X, 75)\n",
    "RIC = Q3 - Q1\n",
    "lim_inf = Q1 - 1.5*RIC\n",
    "lim_sup = Q3 + 1.5*RIC\n",
    "\n",
    "print('RIC :', RIC)\n",
    "print('limite inferior :', lim_inf)\n",
    "print('limite superior :', lim_sup)"
   ]
  },
  {
   "cell_type": "code",
   "execution_count": 11,
   "metadata": {},
   "outputs": [
    {
     "data": {
      "image/png": "[encoded data removed]",
      "text/plain": [
       "<Figure size 400x600 with 1 Axes>"
      ]
     },
     "metadata": {},
     "output_type": "display_data"
    }
   ],
   "source": [
    "# Dibuja el diagrama de box and whiskers y determina visualmente el número de outliers\n",
    "\n",
    "plt.figure(figsize = (4,6))\n",
    "\n",
    "plt.boxplot(X, whis= 1.5)\n",
    "plt.grid()\n",
    "plt.title('Diarama de cajas')\n",
    "plt.show()"
   ]
  },
  {
   "cell_type": "code",
   "execution_count": 12,
   "metadata": {},
   "outputs": [
    {
     "name": "stdout",
     "output_type": "stream",
     "text": [
      "Desviación típica:  33.521242681880096\n",
      "Varianza:  1123.6737109375\n"
     ]
    }
   ],
   "source": [
    "# Medidas de dispersión\n",
    "desvest = np.std(X)\n",
    "print('Desviación típica: ', desvest)\n",
    "print('Varianza: ', desvest**2)"
   ]
  },
  {
   "cell_type": "code",
   "execution_count": 13,
   "metadata": {},
   "outputs": [
    {
     "name": "stdout",
     "output_type": "stream",
     "text": [
      "Asimetría  -1.1302\n",
      "Curtosis  2.2858\n",
      "Distribución Leptocúrtica\n"
     ]
    }
   ],
   "source": [
    "# Medidas de distribución\n",
    "asimetria = stats.skew(X)\n",
    "curtosis = stats.kurtosis(X, fisher=True) # https://docs.scipy.org/doc/scipy/reference/generated/scipy.stats.kurtosis.html\n",
    "print('Asimetría ', np.round(asimetria, 4))\n",
    "print('Curtosis ', np.round(curtosis, 4))\n",
    "\n",
    "if curtosis>0:\n",
    "    print('Distribución Leptocúrtica')\n",
    "elif curtosis<0:\n",
    "    print('Distribución Platicúrtica')\n",
    "else:\n",
    "    print('Distribución Mesocúrtica')"
   ]
  },
  {
   "cell_type": "code",
   "execution_count": 28,
   "metadata": {},
   "outputs": [
    {
     "name": "stdout",
     "output_type": "stream",
     "text": [
      "['sepal length (cm)', 'sepal width (cm)', 'petal length (cm)', 'petal width (cm)']\n",
      "Asimetría  -0.2721\n",
      "Curtosis  -1.3955\n",
      "Distribución Platicúrtica\n",
      "\n",
      "\n",
      "la curtosis de la anchura del sepalo es 0.18097631752246768\n"
     ]
    },
    {
     "data": {
      "image/png": "[encoded data removed]",
      "text/plain": [
       "<Figure size 640x480 with 1 Axes>"
      ]
     },
     "metadata": {},
     "output_type": "display_data"
    }
   ],
   "source": [
    "# Cargar el set de datos de Iris\n",
    "from sklearn import datasets\n",
    "from pprint import pprint\n",
    "iris = datasets.load_iris()\n",
    "#pprint(iris)\n",
    "X = iris.data\n",
    "y = iris.target\n",
    "\n",
    "print(iris.feature_names)\n",
    "# ¿Qué tipo de asimetría se observa en la variable \"longitud del pétalo\"?\n",
    "asimetria = stats.skew(X[:,2])\n",
    "curtosis = stats.kurtosis(X[:,2], fisher=True)\n",
    "\n",
    "print('Asimetría ', np.round(asimetria, 4))\n",
    "print('Curtosis ', np.round(curtosis, 4))\n",
    "\n",
    "\n",
    "if curtosis>0:\n",
    "    print('Distribución Leptocúrtica')\n",
    "elif curtosis<0:\n",
    "    print('Distribución Platicúrtica')\n",
    "else:\n",
    "    print('Distribución Mesocúrtica')\n",
    "\n",
    "# ¿A qué tipo de distribución se ajusta la variable \"ancho del sépalo\", según su curtosis?\n",
    "print('\\n')\n",
    "\n",
    "curtosis = stats.kurtosis(X[:,1])\n",
    "print(f'la curtosis de la anchura del sepalo es {curtosis}')\n",
    "plt.hist(X[:,1], bins= 20)\n",
    "plt.show()\n"
   ]
  },
  {
   "cell_type": "code",
   "execution_count": null,
   "metadata": {},
   "outputs": [],
   "source": [
    "# EJERCICIO EXTRA SOBRE EL DATASET DE IRIS\n",
    "# Extraer la media y la desviación típica de cada variable en función de la clase y representarlo en un gráfico (plt.errorbar)\n",
    "\n"
   ]
  },
  {
   "cell_type": "markdown",
   "metadata": {},
   "source": [
    "El resultado debería ser algo como esto:\n",
    "<img src=\"images/errorbar.png\">"
   ]
  },
  {
   "cell_type": "code",
   "execution_count": null,
   "metadata": {},
   "outputs": [],
   "source": []
  }
 ],
 "metadata": {
  "kernelspec": {
   "display_name": "Python 3",
   "language": "python",
   "name": "python3"
  },
  "language_info": {
   "codemirror_mode": {
    "name": "ipython",
    "version": 3
   },
   "file_extension": ".py",
   "mimetype": "text/x-python",
   "name": "python",
   "nbconvert_exporter": "python",
   "pygments_lexer": "ipython3",
   "version": "3.10.6"
  }
 },
 "nbformat": 4,
 "nbformat_minor": 4
}
