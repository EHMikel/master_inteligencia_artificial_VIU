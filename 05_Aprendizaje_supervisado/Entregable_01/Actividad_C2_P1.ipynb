{
 "cells": [
  {
   "cell_type": "markdown",
   "metadata": {},
   "source": [
    "#### 0) Lectura de datos"
   ]
  },
  {
   "cell_type": "code",
   "execution_count": null,
   "metadata": {},
   "outputs": [],
   "source": [
    "# Cargar la imagen 'auto_1.jpg' con opencv\n",
    "\n",
    "# Convertir la imagen a formato RGB\n",
    "\n",
    "# Redimensionar la imagen mediante el método de opencv \"resize()\" a un tamaño de (768,512)\n",
    "\n",
    "# Visualizar la imagen\n"
   ]
  },
  {
   "cell_type": "markdown",
   "metadata": {},
   "source": [
    "#### 1) Detección de bordes con Canny"
   ]
  },
  {
   "cell_type": "code",
   "execution_count": null,
   "metadata": {},
   "outputs": [],
   "source": [
    "# Aplicar un filtro gaussiano con un kernel de 3x3\n",
    "\n",
    "# Aplicar el método de Canny para la detección de bordes\n",
    "\n",
    "# Aplicar una dilatación con un kernel de 2x2 y 1 iteración\n",
    "\n",
    "# Visualizar la máscara resultante\n"
   ]
  },
  {
   "cell_type": "markdown",
   "metadata": {},
   "source": [
    "#### 2) Procesamiento mediante operaciones morfológicas"
   ]
  },
  {
   "cell_type": "code",
   "execution_count": null,
   "metadata": {},
   "outputs": [],
   "source": [
    "# Aplicar el comando \"binary_fill_holes\" sobre los bordes detectados.\n",
    "# Nota: convertir la imagen a formato \"uint8\"\n",
    "\n",
    "# Aplicar una apertura en el eje vertical con un kernel de 20x1 y 1 iteración para eliminar bordes verticales. \n",
    "# Nota: Aplicar el método de opencv \"mophologyEx()\" con cv2.MORPH_OPEN. \n",
    "\n",
    "# Aplicar una apertura en el eje horizontal con un kernel de 1x20 y 1 iteración para eliminar bordes horizontales\n",
    "\n",
    "# Eliminar artefactos, es decir, objetos cuya área tenga menos de 1000 píxeles con una connectivity=8.  \n",
    "# Nota: utilizar el método \"remove_small_objects()\" sobre la máscara anterior en formato booleano. \n",
    "\n",
    "# Convertir la máscara resultante a formato uint8\n",
    "\n",
    "# Visualizar la máscara resultante\n"
   ]
  },
  {
   "cell_type": "markdown",
   "metadata": {},
   "source": [
    "#### 3) Detección automática de la región de interés correspondiente a la matrícula"
   ]
  },
  {
   "cell_type": "code",
   "execution_count": null,
   "metadata": {},
   "outputs": [],
   "source": [
    "# Crear una imagen de etiquetas mediante el comando \"label\"\n",
    "\n",
    "# Calcular la proporción (cociente) entre el minor_axis_length y el major_axis_length para cada objeto de la imagen de etiquetas\n",
    "\n",
    "# Generar una máscara que contenga únicamente el objeto de la menor proporción. \n",
    "\n",
    "# Dibujar los contornos de la máscara sobre la imagen original y visualizar el resultado\n"
   ]
  },
  {
   "cell_type": "markdown",
   "metadata": {},
   "source": [
    "#### 4) Procesamiento de la región de interés"
   ]
  },
  {
   "cell_type": "code",
   "execution_count": null,
   "metadata": {},
   "outputs": [],
   "source": [
    "# Calcular la boundingbox de la máscara\n",
    "\n",
    "# Hacer un crop de la imagen original a partir de las coordenadas de la boundingbox\n",
    "\n",
    "# Calcular la orientación de la máscara. \n",
    "\n",
    "# Hacer una conversión mediante la siguiente fórmula:\n",
    "    # angle = (orientation*90)/(math.pi/2). Nota: utilizar \"import math\"\n",
    "    # Si 'angle' es mayor que 0, la orientación será igual a 90-angle\n",
    "    # Si no, la orientación será igual a -(90+angle)\n",
    "\n",
    "# Aplicar una transformación geométrica de rotación para orientar horizontalmente el crop de la imagen obtenido anteriormente\n",
    "\n",
    "# Aumentar el contraste 100 unidades de acuerdo a la fórmula vista en clase. \n",
    "\n",
    "# Visualizar el resultado la matrícula con el contraste aumentado\n"
   ]
  },
  {
   "cell_type": "markdown",
   "metadata": {},
   "source": [
    "#### 5) Convertir el contenido de la imagen en un string mediante la librería 'pytesseract'\n",
    "Para instalar la librería pytesseract:\n",
    "    \n",
    "    Descargar el ejecutable en -->  https://github.com/UB-Mannheim/tesseract/wiki\n",
    "    Instalar la librería haciendo --> pip install pytesseract\n",
    "\n",
    "Si se tienen dudas, consultar el siguiente vídeo:\n",
    "\n",
    "    https://www.youtube.com/watch?v=_j6o2rBkhhg"
   ]
  },
  {
   "cell_type": "code",
   "execution_count": null,
   "metadata": {},
   "outputs": [],
   "source": [
    "# Crear la ruta de pytesseract que contenga el ejecutable\n",
    "\n",
    "# Convertir el contenido de la imagen en una variable de tipo string.\n",
    "# Importante: utiliza la opción --> config='--psm 10'\n",
    "\n",
    "# Eliminar del string los caracteres especiales mediante la siguiente línea de código:\n",
    "# string = ''.join(filter(str.isalnum, string))\n",
    "\n",
    "# Visualizar la imagen original y ponle el título extraído automáticamente mediante la librería \"pytesseract\"\n"
   ]
  }
 ],
 "metadata": {
  "kernelspec": {
   "display_name": "Python 3 (ipykernel)",
   "language": "python",
   "name": "python3"
  },
  "language_info": {
   "codemirror_mode": {
    "name": "ipython",
    "version": 3
   },
   "file_extension": ".py",
   "mimetype": "text/x-python",
   "name": "python",
   "nbconvert_exporter": "python",
   "pygments_lexer": "ipython3",
   "version": "3.9.13"
  }
 },
 "nbformat": 4,
 "nbformat_minor": 4
}
