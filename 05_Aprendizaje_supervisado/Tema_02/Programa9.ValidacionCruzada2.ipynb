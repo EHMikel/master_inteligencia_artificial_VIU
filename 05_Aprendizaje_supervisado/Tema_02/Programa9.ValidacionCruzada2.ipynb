{
 "cells": [
  {
   "cell_type": "code",
   "execution_count": 1,
   "metadata": {},
   "outputs": [],
   "source": [
    "import numpy as np\n",
    "from sklearn import datasets\n",
    "from sklearn.dummy import DummyClassifier\n",
    "from sklearn.model_selection import cross_val_score\n",
    "from sklearn.model_selection import KFold\n",
    "from sklearn.model_selection import train_test_split\n",
    "from sklearn.preprocessing import StandardScaler"
   ]
  },
  {
   "cell_type": "code",
   "execution_count": 2,
   "metadata": {},
   "outputs": [
    {
     "name": "stdout",
     "output_type": "stream",
     "text": [
      "['setosa' 'versicolor' 'virginica']\n"
     ]
    }
   ],
   "source": [
    "# Carga de datos.\n",
    "iris = datasets.load_iris()\n",
    "print(iris.target_names)"
   ]
  },
  {
   "cell_type": "code",
   "execution_count": 3,
   "metadata": {},
   "outputs": [
    {
     "name": "stdout",
     "output_type": "stream",
     "text": [
      "Tabla de datos: 150 instancias y 4 atributos\n",
      "Valores de la clase: {0, 1, 2}\n"
     ]
    }
   ],
   "source": [
    "# Mostrar características de la tabla de datos.\n",
    "print(\"Tabla de datos: %d instancias y %d atributos\" % (iris.data.shape[0], iris.data.shape[1]))\n",
    "print(\"Valores de la clase:\", set(iris.target))"
   ]
  },
  {
   "cell_type": "code",
   "execution_count": 4,
   "metadata": {},
   "outputs": [
    {
     "name": "stdout",
     "output_type": "stream",
     "text": [
      "Test: clases : [0 1 2], ocurrencias: [10  9 11]\n",
      "TRAIN: clases : [0 1 2], ocurrencias: [40 41 39]\n"
     ]
    }
   ],
   "source": [
    "# Test: hold-out split 80-20%. PARTICIÓN EXTERNA\n",
    "# ???\n",
    "\n",
    "X_train, X_test,  y_train, y_test = train_test_split(iris.data, iris.target, test_size=0.2, random_state=42)\n",
    "\n",
    "\n",
    "Valores_train, ocur_train = np.unique(y_train, return_counts=True)\n",
    "valores_test, ocur_test = np.unique(y_test, return_counts = True)\n",
    "\n",
    "print(f'Test: clases : {valores_test}, ocurrencias: {ocur_test}')\n",
    "print(f'TRAIN: clases : {Valores_train}, ocurrencias: {ocur_train}')\n"
   ]
  },
  {
   "cell_type": "code",
   "execution_count": 5,
   "metadata": {},
   "outputs": [],
   "source": [
    "# Estandarizar las características de entrenamiento y de test\n",
    "standardizer = StandardScaler()\n",
    "X_train = standardizer.fit_transform(X_train)\n",
    "X_test = standardizer.transform(X_test)"
   ]
  },
  {
   "cell_type": "code",
   "execution_count": 6,
   "metadata": {},
   "outputs": [
    {
     "name": "stdout",
     "output_type": "stream",
     "text": [
      "Resultados por bolsa:  [0.95833333 1.         0.875      0.95833333 0.95833333]\n",
      "Accuracy (media +/- desv.): 0.9500 +/- 0.0408\n"
     ]
    }
   ],
   "source": [
    "# Definimos el algoritmo SVM para clasificación\n",
    "from sklearn.svm import SVC\n",
    "svc = SVC(C=1, gamma='auto')\n",
    "\n",
    "# Hacemos el cross-validation interno para seleccionar los mejores hiperparámetros\n",
    "results = cross_val_score(svc, X_train, y_train, cv = KFold(n_splits=5))\n",
    "print(\"Resultados por bolsa: \", results)\n",
    "print(\"Accuracy (media +/- desv.): %0.4f +/- %0.4f\" % (results.mean(), results.std()))"
   ]
  },
  {
   "cell_type": "markdown",
   "metadata": {},
   "source": [
    "### MI SOLUCIÓN\n",
    "\n",
    "- gamma: gamma{‘scale’, ‘auto’}\n",
    "\n",
    "- kernel{‘linear’, ‘poly’, ‘rbf’, ‘sigmoid’, ‘precomputed’}"
   ]
  },
  {
   "cell_type": "code",
   "execution_count": 7,
   "metadata": {},
   "outputs": [
    {
     "name": "stdout",
     "output_type": "stream",
     "text": [
      "C = 0.1\n",
      "Resultados por bolsa:  [0.875      0.83333333 0.875      0.95833333 0.79166667]\n",
      "Accuracy (media +/- desv.): 0.8667 +/- 0.0553\n",
      "C = 0.01\n",
      "Resultados por bolsa:  [0.33333333 0.33333333 0.29166667 0.25       0.20833333]\n",
      "Accuracy (media +/- desv.): 0.2833 +/- 0.0486\n",
      "C = 5\n",
      "Resultados por bolsa:  [0.95833333 1.         0.83333333 0.95833333 0.95833333]\n",
      "Accuracy (media +/- desv.): 0.9417 +/- 0.0565\n",
      "C = 1\n",
      "Resultados por bolsa:  [0.95833333 1.         0.875      0.95833333 0.95833333]\n",
      "Accuracy (media +/- desv.): 0.9500 +/- 0.0408\n",
      "C = 10\n",
      "Resultados por bolsa:  [0.95833333 1.         0.83333333 0.95833333 0.95833333]\n",
      "Accuracy (media +/- desv.): 0.9417 +/- 0.0565\n",
      "C = 50\n",
      "Resultados por bolsa:  [0.95833333 0.95833333 0.83333333 0.95833333 0.95833333]\n",
      "Accuracy (media +/- desv.): 0.9333 +/- 0.0500\n",
      "C = 100\n",
      "Resultados por bolsa:  [0.95833333 0.95833333 0.83333333 0.95833333 0.91666667]\n",
      "Accuracy (media +/- desv.): 0.9250 +/- 0.0486\n"
     ]
    }
   ],
   "source": [
    "# Una vez entrenado y validado el modelo para seleccionar los mejores hyperparameters, utilizamos todos los datos de \n",
    "# \"train\" y \"val\" para entrenar el modelo definitivo\n",
    "\n",
    "# svc = ???\n",
    "\n",
    "C_list = [0.1, 0.01, 5, 1, 10, 50, 100]\n",
    "param_result = {}\n",
    "\n",
    "for C in C_list:\n",
    "    svc = SVC(C=C, gamma='auto')\n",
    "    print(f'C = {C}')\n",
    "    results = cross_val_score(svc, X_train, y_train, cv = KFold(n_splits=5))\n",
    "    print(\"Resultados por bolsa: \", results)\n",
    "    print(\"Accuracy (media +/- desv.): %0.4f +/- %0.4f\" % (results.mean(), results.std()))\n",
    "    result = results.mean()\n",
    "    param_result[C] = round(result, 4)\n",
    "\n"
   ]
  },
  {
   "cell_type": "code",
   "execution_count": 8,
   "metadata": {},
   "outputs": [
    {
     "name": "stdout",
     "output_type": "stream",
     "text": [
      "El valor de c que da mejores resultaados es 1, con un resutlado de 0.95\n"
     ]
    }
   ],
   "source": [
    "# print('\\n', param_result)\n",
    "mejor_c = 0\n",
    "mejor_resultado = 0\n",
    "\n",
    "for key, value in param_result.items():\n",
    "\n",
    "    if value > mejor_resultado:\n",
    "        mejor_resultado = value\n",
    "        mejor_c = key\n",
    "\n",
    "print(f'El valor de c que da mejores resultaados es {mejor_c}, con un resutlado de {mejor_resultado}')"
   ]
  },
  {
   "cell_type": "code",
   "execution_count": 9,
   "metadata": {},
   "outputs": [
    {
     "data": {
      "text/html": [
       "<style>#sk-container-id-1 {color: black;}#sk-container-id-1 pre{padding: 0;}#sk-container-id-1 div.sk-toggleable {background-color: white;}#sk-container-id-1 label.sk-toggleable__label {cursor: pointer;display: block;width: 100%;margin-bottom: 0;padding: 0.3em;box-sizing: border-box;text-align: center;}#sk-container-id-1 label.sk-toggleable__label-arrow:before {content: \"▸\";float: left;margin-right: 0.25em;color: #696969;}#sk-container-id-1 label.sk-toggleable__label-arrow:hover:before {color: black;}#sk-container-id-1 div.sk-estimator:hover label.sk-toggleable__label-arrow:before {color: black;}#sk-container-id-1 div.sk-toggleable__content {max-height: 0;max-width: 0;overflow: hidden;text-align: left;background-color: #f0f8ff;}#sk-container-id-1 div.sk-toggleable__content pre {margin: 0.2em;color: black;border-radius: 0.25em;background-color: #f0f8ff;}#sk-container-id-1 input.sk-toggleable__control:checked~div.sk-toggleable__content {max-height: 200px;max-width: 100%;overflow: auto;}#sk-container-id-1 input.sk-toggleable__control:checked~label.sk-toggleable__label-arrow:before {content: \"▾\";}#sk-container-id-1 div.sk-estimator input.sk-toggleable__control:checked~label.sk-toggleable__label {background-color: #d4ebff;}#sk-container-id-1 div.sk-label input.sk-toggleable__control:checked~label.sk-toggleable__label {background-color: #d4ebff;}#sk-container-id-1 input.sk-hidden--visually {border: 0;clip: rect(1px 1px 1px 1px);clip: rect(1px, 1px, 1px, 1px);height: 1px;margin: -1px;overflow: hidden;padding: 0;position: absolute;width: 1px;}#sk-container-id-1 div.sk-estimator {font-family: monospace;background-color: #f0f8ff;border: 1px dotted black;border-radius: 0.25em;box-sizing: border-box;margin-bottom: 0.5em;}#sk-container-id-1 div.sk-estimator:hover {background-color: #d4ebff;}#sk-container-id-1 div.sk-parallel-item::after {content: \"\";width: 100%;border-bottom: 1px solid gray;flex-grow: 1;}#sk-container-id-1 div.sk-label:hover label.sk-toggleable__label {background-color: #d4ebff;}#sk-container-id-1 div.sk-serial::before {content: \"\";position: absolute;border-left: 1px solid gray;box-sizing: border-box;top: 0;bottom: 0;left: 50%;z-index: 0;}#sk-container-id-1 div.sk-serial {display: flex;flex-direction: column;align-items: center;background-color: white;padding-right: 0.2em;padding-left: 0.2em;position: relative;}#sk-container-id-1 div.sk-item {position: relative;z-index: 1;}#sk-container-id-1 div.sk-parallel {display: flex;align-items: stretch;justify-content: center;background-color: white;position: relative;}#sk-container-id-1 div.sk-item::before, #sk-container-id-1 div.sk-parallel-item::before {content: \"\";position: absolute;border-left: 1px solid gray;box-sizing: border-box;top: 0;bottom: 0;left: 50%;z-index: -1;}#sk-container-id-1 div.sk-parallel-item {display: flex;flex-direction: column;z-index: 1;position: relative;background-color: white;}#sk-container-id-1 div.sk-parallel-item:first-child::after {align-self: flex-end;width: 50%;}#sk-container-id-1 div.sk-parallel-item:last-child::after {align-self: flex-start;width: 50%;}#sk-container-id-1 div.sk-parallel-item:only-child::after {width: 0;}#sk-container-id-1 div.sk-dashed-wrapped {border: 1px dashed gray;margin: 0 0.4em 0.5em 0.4em;box-sizing: border-box;padding-bottom: 0.4em;background-color: white;}#sk-container-id-1 div.sk-label label {font-family: monospace;font-weight: bold;display: inline-block;line-height: 1.2em;}#sk-container-id-1 div.sk-label-container {text-align: center;}#sk-container-id-1 div.sk-container {/* jupyter's `normalize.less` sets `[hidden] { display: none; }` but bootstrap.min.css set `[hidden] { display: none !important; }` so we also need the `!important` here to be able to override the default hidden behavior on the sphinx rendered scikit-learn.org. See: https://github.com/scikit-learn/scikit-learn/issues/21755 */display: inline-block !important;position: relative;}#sk-container-id-1 div.sk-text-repr-fallback {display: none;}</style><div id=\"sk-container-id-1\" class=\"sk-top-container\"><div class=\"sk-text-repr-fallback\"><pre>SVC(C=1, gamma=&#x27;auto&#x27;)</pre><b>In a Jupyter environment, please rerun this cell to show the HTML representation or trust the notebook. <br />On GitHub, the HTML representation is unable to render, please try loading this page with nbviewer.org.</b></div><div class=\"sk-container\" hidden><div class=\"sk-item\"><div class=\"sk-estimator sk-toggleable\"><input class=\"sk-toggleable__control sk-hidden--visually\" id=\"sk-estimator-id-1\" type=\"checkbox\" checked><label for=\"sk-estimator-id-1\" class=\"sk-toggleable__label sk-toggleable__label-arrow\">SVC</label><div class=\"sk-toggleable__content\"><pre>SVC(C=1, gamma=&#x27;auto&#x27;)</pre></div></div></div></div></div>"
      ],
      "text/plain": [
       "SVC(C=1, gamma='auto')"
      ]
     },
     "execution_count": 9,
     "metadata": {},
     "output_type": "execute_result"
    }
   ],
   "source": [
    "svc = SVC(C= 1, gamma= 'auto')\n",
    "svc.fit(X_train, y_train)"
   ]
  },
  {
   "cell_type": "code",
   "execution_count": 10,
   "metadata": {},
   "outputs": [],
   "source": [
    "test_results = svc.score(X_test, y_test)"
   ]
  },
  {
   "cell_type": "code",
   "execution_count": 11,
   "metadata": {},
   "outputs": [
    {
     "name": "stdout",
     "output_type": "stream",
     "text": [
      "Exactitud en test:  100.0 %\n"
     ]
    }
   ],
   "source": [
    "# Calcular la accuracy del conjunto de test\n",
    "# test_results = ???\n",
    "print('Exactitud en test: ', test_results*100, '%')"
   ]
  },
  {
   "cell_type": "code",
   "execution_count": 12,
   "metadata": {},
   "outputs": [
    {
     "name": "stdout",
     "output_type": "stream",
     "text": [
      "Predicciones:      [1 0 2 1 1 0 1 2 1 1 2 0 0 0 0 1 2 1 1 2 0 2 0 2 2 2 2 2 0 0]\n",
      "Etiquetas reales:  [1 0 2 1 1 0 1 2 1 1 2 0 0 0 0 1 2 1 1 2 0 2 0 2 2 2 2 2 0 0]\n"
     ]
    }
   ],
   "source": [
    "# Extraer las predicciones, en lugar de directamente la accuracy\n",
    "# y_pred = ???\n",
    "\n",
    "y_pred = svc.predict(X_test)\n",
    "print('Predicciones:     ', y_pred)\n",
    "print('Etiquetas reales: ', y_test)"
   ]
  },
  {
   "cell_type": "code",
   "execution_count": 13,
   "metadata": {},
   "outputs": [
    {
     "name": "stdout",
     "output_type": "stream",
     "text": [
      "1.0\n"
     ]
    }
   ],
   "source": [
    "# sacamos exactitud manualmente\n",
    "\n",
    "accuracy_test_2 = np.sum(y_test == y_pred)/len(y_test)\n",
    "print(accuracy_test_2)"
   ]
  }
 ],
 "metadata": {
  "kernelspec": {
   "display_name": "Python 3",
   "language": "python",
   "name": "python3"
  },
  "language_info": {
   "codemirror_mode": {
    "name": "ipython",
    "version": 3
   },
   "file_extension": ".py",
   "mimetype": "text/x-python",
   "name": "python",
   "nbconvert_exporter": "python",
   "pygments_lexer": "ipython3",
   "version": "3.10.6"
  }
 },
 "nbformat": 4,
 "nbformat_minor": 2
}
