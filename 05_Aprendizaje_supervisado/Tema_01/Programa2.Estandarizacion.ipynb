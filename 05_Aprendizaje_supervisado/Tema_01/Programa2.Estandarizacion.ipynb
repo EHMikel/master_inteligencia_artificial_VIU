{
 "cells": [
  {
   "cell_type": "code",
   "execution_count": 1,
   "metadata": {},
   "outputs": [],
   "source": [
    "from sklearn import preprocessing\n",
    "import numpy as np"
   ]
  },
  {
   "cell_type": "code",
   "execution_count": 6,
   "metadata": {},
   "outputs": [
    {
     "name": "stdout",
     "output_type": "stream",
     "text": [
      "[[ 1. -1.  2.]\n",
      " [ 2.  0.  0.]\n",
      " [ 0.  1. -1.]]\n",
      "\n",
      "\n",
      "[[-4  9  4]\n",
      " [ 0 -3 10]\n",
      " [-4  8  0]]\n"
     ]
    }
   ],
   "source": [
    "# Carga de datos.\n",
    "X_train = np.array([[ 1., -1.,  2.],\n",
    "                    [ 2.,  0.,  0.],\n",
    "                    [ 0.,  1., -1.]])\n",
    "np.random.seed(42)\n",
    "X2_train = np.random.randint(low= -10, high=11, size= (3,3))\n",
    "\n",
    "print(X_train)\n",
    "print('\\n')\n",
    "print(X2_train)"
   ]
  },
  {
   "cell_type": "code",
   "execution_count": 7,
   "metadata": {},
   "outputs": [
    {
     "name": "stdout",
     "output_type": "stream",
     "text": [
      "[[ 0.         -1.22474487  1.33630621]\n",
      " [ 1.22474487  0.         -0.26726124]\n",
      " [-1.22474487  1.22474487 -1.06904497]]\n",
      "\n",
      "\n",
      "[[-0.70710678  0.79708114 -0.16222142]\n",
      " [ 1.41421356 -1.41022048  1.29777137]\n",
      " [-0.70710678  0.61313934 -1.13554995]]\n"
     ]
    }
   ],
   "source": [
    "# Limpieza de datos: estandarización.\n",
    "standardizer = preprocessing.StandardScaler()       # create\n",
    "scaler_2 = preprocessing.StandardScaler()\n",
    "\n",
    "# Estandarizamos los datos de entrenamiento\n",
    "# ???\n",
    "\n",
    "standardizer.fit(X_train)                           # fit   \n",
    "scaler_2.fit(X2_train)\n",
    "\n",
    "X_train_scaled = standardizer.transform(X_train)    # transform\n",
    "X2_train_scl = scaler_2.transform(X2_train)\n",
    "\n",
    "print(X_train_scaled)\n",
    "print('\\n')\n",
    "print(X2_train_scl)"
   ]
  },
  {
   "cell_type": "code",
   "execution_count": 8,
   "metadata": {},
   "outputs": [],
   "source": [
    "X_train_2 = np.array([[ 1., -1.,  2.],\n",
    "                    [ 2.,  0.,  0.],\n",
    "                    [ 0.,  1., -1.]])"
   ]
  },
  {
   "cell_type": "code",
   "execution_count": 9,
   "metadata": {},
   "outputs": [
    {
     "name": "stdout",
     "output_type": "stream",
     "text": [
      "[[ 0.         -1.22474487  1.33630621]\n",
      " [ 1.22474487  0.         -0.26726124]\n",
      " [-1.22474487  1.22474487 -1.06904497]]\n"
     ]
    }
   ],
   "source": [
    "# Aplicamos los métodos \"fit\" y \"transform\" por separado\n",
    "# ???\n",
    "# ???\n",
    "\n",
    "X_train_scaled_2 = standardizer.fit_transform(X_train_2)\n",
    "\n",
    "print(X_train_scaled_2)"
   ]
  },
  {
   "cell_type": "code",
   "execution_count": 10,
   "metadata": {},
   "outputs": [
    {
     "name": "stdout",
     "output_type": "stream",
     "text": [
      "[[ True  True  True]\n",
      " [ True  True  True]\n",
      " [ True  True  True]]\n",
      "True\n"
     ]
    }
   ],
   "source": [
    "# Comprobar si las matrices estandarizadas son iguales\n",
    "# ???\n",
    "\n",
    "print(X_train_scaled_2 == X_train_scaled)\n",
    "\n",
    "print(np.array_equal(X_train_scaled, X_train_scaled_2))"
   ]
  },
  {
   "cell_type": "code",
   "execution_count": null,
   "metadata": {},
   "outputs": [],
   "source": []
  }
 ],
 "metadata": {
  "kernelspec": {
   "display_name": "Python 3",
   "language": "python",
   "name": "python3"
  },
  "language_info": {
   "codemirror_mode": {
    "name": "ipython",
    "version": 3
   },
   "file_extension": ".py",
   "mimetype": "text/x-python",
   "name": "python",
   "nbconvert_exporter": "python",
   "pygments_lexer": "ipython3",
   "version": "3.10.6"
  }
 },
 "nbformat": 4,
 "nbformat_minor": 2
}
