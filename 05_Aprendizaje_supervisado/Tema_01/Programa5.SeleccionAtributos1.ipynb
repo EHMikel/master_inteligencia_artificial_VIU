{
 "cells": [
  {
   "cell_type": "code",
   "execution_count": 1,
   "metadata": {},
   "outputs": [],
   "source": [
    "import numpy as np\n",
    "from sklearn.feature_selection import VarianceThreshold"
   ]
  },
  {
   "cell_type": "code",
   "execution_count": 3,
   "metadata": {},
   "outputs": [
    {
     "name": "stdout",
     "output_type": "stream",
     "text": [
      "[[0 0 1]\n",
      " [0 1 0]\n",
      " [1 0 0]\n",
      " [0 1 1]\n",
      " [0 1 0]\n",
      " [0 1 1]]\n"
     ]
    }
   ],
   "source": [
    "# Carga de datos.\n",
    "X = np.array(\n",
    "    [[0, 0, 1],\n",
    "     [0, 1, 0],\n",
    "     [1, 0, 0],\n",
    "     [0, 1, 1], \n",
    "     [0, 1, 0], \n",
    "     [0, 1, 1]]\n",
    ")\n",
    "print(X)"
   ]
  },
  {
   "cell_type": "code",
   "execution_count": 14,
   "metadata": {},
   "outputs": [
    {
     "name": "stdout",
     "output_type": "stream",
     "text": [
      "la varianza de la columna zero 0.14\n",
      "la varianza de la columna uno 0.22\n",
      "la varianza de la columna dos 0.25\n",
      "\n",
      "[[0 0 1]\n",
      " [0 1 0]\n",
      " [1 0 0]\n",
      " [0 1 1]\n",
      " [0 1 0]\n",
      " [0 1 1]]\n",
      "\n",
      " [[0 1]\n",
      " [1 0]\n",
      " [0 0]\n",
      " [1 1]\n",
      " [1 0]\n",
      " [1 1]]\n",
      "\n",
      " [[1]\n",
      " [0]\n",
      " [0]\n",
      " [1]\n",
      " [0]\n",
      " [1]]\n"
     ]
    }
   ],
   "source": [
    "# Limpieza de datos: selección de atributos.\n",
    "\n",
    "# fijamos un umbral (th) para decidir qué porcentaje mínimo deben variar los valores de una columna para considerarse \n",
    "# una columna relevante a la hora de mantenerla en nuestro estudio\n",
    "th_1 = 0.1\n",
    "th_2 = 0.2\n",
    "th_3 = 0.23\n",
    "print(f'la varianza de la columna zero {round(X[:,0].var(), 2)}')\n",
    "print(f'la varianza de la columna uno {round(X[:,1].var(), 2)}')\n",
    "print(f'la varianza de la columna dos {round(X[:,2].var(), 2)}\\n')\n",
    "sel_1 = VarianceThreshold(th_1)\n",
    "sel_2 = VarianceThreshold(th_2)\n",
    "sel_3 = VarianceThreshold(th_3)\n",
    "print(sel_1.fit_transform(X))\n",
    "print('\\n',  sel_2.fit_transform(X),)\n",
    "print('\\n',  sel_3.fit_transform(X),)"
   ]
  },
  {
   "cell_type": "code",
   "execution_count": null,
   "metadata": {},
   "outputs": [],
   "source": []
  }
 ],
 "metadata": {
  "kernelspec": {
   "display_name": "Python 3",
   "language": "python",
   "name": "python3"
  },
  "language_info": {
   "codemirror_mode": {
    "name": "ipython",
    "version": 3
   },
   "file_extension": ".py",
   "mimetype": "text/x-python",
   "name": "python",
   "nbconvert_exporter": "python",
   "pygments_lexer": "ipython3",
   "version": "3.10.6"
  }
 },
 "nbformat": 4,
 "nbformat_minor": 2
}
